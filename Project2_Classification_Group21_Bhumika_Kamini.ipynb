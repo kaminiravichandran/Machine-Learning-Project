{
 "cells": [
  {
   "cell_type": "markdown",
   "metadata": {},
   "source": [
    "### Classification \n",
    "\n",
    " Link to source file : https://www.kaggle.com/iabhishekofficial/mobile-price-classification#train.csv\n",
    " \n",
    " 1) We have considered the train.csv file for our classification project.\n",
    " \n",
    " 2) The test.csv file did not have the target columns which would make it difficult to find the accuracy of the models.\n",
    " \n",
    " 3) Our aim is to predict the price intensity of the Mobile phones based on its features.\n",
    " \n",
    " 4) We built KNN classification, Logistic Regression, Linear Support Vector Machine, Kerenilzed Support Vector Machine (rbf, poly, and linear), Decision Tree models on our dataset.\n",
    " \n",
    "5) Grid SearchCv was used to find the best hyperparameters for the given model.\n",
    "\n",
    "6) Average Train and Test score was calculated using the cross- validation.\n",
    "\n",
    "7) Lastly, all the models were compared to find the best model for the given dataset."
   ]
  },
  {
   "cell_type": "markdown",
   "metadata": {},
   "source": [
    "#### Importing Libraries and Reading File"
   ]
  },
  {
   "cell_type": "code",
   "execution_count": 1,
   "metadata": {},
   "outputs": [],
   "source": [
    "import numpy as np\n",
    "import pandas as pd\n",
    "import matplotlib.pyplot as plt\n",
    "import seaborn as sns\n",
    "import warnings\n",
    "warnings.filterwarnings('ignore')"
   ]
  },
  {
   "cell_type": "code",
   "execution_count": 2,
   "metadata": {},
   "outputs": [
    {
     "data": {
      "text/html": [
       "<div>\n",
       "<style scoped>\n",
       "    .dataframe tbody tr th:only-of-type {\n",
       "        vertical-align: middle;\n",
       "    }\n",
       "\n",
       "    .dataframe tbody tr th {\n",
       "        vertical-align: top;\n",
       "    }\n",
       "\n",
       "    .dataframe thead th {\n",
       "        text-align: right;\n",
       "    }\n",
       "</style>\n",
       "<table border=\"1\" class=\"dataframe\">\n",
       "  <thead>\n",
       "    <tr style=\"text-align: right;\">\n",
       "      <th></th>\n",
       "      <th>battery_power</th>\n",
       "      <th>blue</th>\n",
       "      <th>clock_speed</th>\n",
       "      <th>dual_sim</th>\n",
       "      <th>fc</th>\n",
       "      <th>four_g</th>\n",
       "      <th>int_memory</th>\n",
       "      <th>m_dep</th>\n",
       "      <th>mobile_wt</th>\n",
       "      <th>n_cores</th>\n",
       "      <th>...</th>\n",
       "      <th>px_height</th>\n",
       "      <th>px_width</th>\n",
       "      <th>ram</th>\n",
       "      <th>sc_h</th>\n",
       "      <th>sc_w</th>\n",
       "      <th>talk_time</th>\n",
       "      <th>three_g</th>\n",
       "      <th>touch_screen</th>\n",
       "      <th>wifi</th>\n",
       "      <th>price_range</th>\n",
       "    </tr>\n",
       "  </thead>\n",
       "  <tbody>\n",
       "    <tr>\n",
       "      <td>0</td>\n",
       "      <td>842</td>\n",
       "      <td>0</td>\n",
       "      <td>2.2</td>\n",
       "      <td>0</td>\n",
       "      <td>1</td>\n",
       "      <td>0</td>\n",
       "      <td>7</td>\n",
       "      <td>0.6</td>\n",
       "      <td>188</td>\n",
       "      <td>2</td>\n",
       "      <td>...</td>\n",
       "      <td>20.0</td>\n",
       "      <td>756</td>\n",
       "      <td>2549</td>\n",
       "      <td>9</td>\n",
       "      <td>7</td>\n",
       "      <td>19</td>\n",
       "      <td>0</td>\n",
       "      <td>0</td>\n",
       "      <td>1</td>\n",
       "      <td>1</td>\n",
       "    </tr>\n",
       "    <tr>\n",
       "      <td>1</td>\n",
       "      <td>1021</td>\n",
       "      <td>1</td>\n",
       "      <td>0.5</td>\n",
       "      <td>1</td>\n",
       "      <td>0</td>\n",
       "      <td>1</td>\n",
       "      <td>53</td>\n",
       "      <td>0.7</td>\n",
       "      <td>136</td>\n",
       "      <td>3</td>\n",
       "      <td>...</td>\n",
       "      <td>905.0</td>\n",
       "      <td>1988</td>\n",
       "      <td>2631</td>\n",
       "      <td>17</td>\n",
       "      <td>3</td>\n",
       "      <td>7</td>\n",
       "      <td>1</td>\n",
       "      <td>1</td>\n",
       "      <td>0</td>\n",
       "      <td>2</td>\n",
       "    </tr>\n",
       "    <tr>\n",
       "      <td>2</td>\n",
       "      <td>563</td>\n",
       "      <td>1</td>\n",
       "      <td>0.5</td>\n",
       "      <td>1</td>\n",
       "      <td>2</td>\n",
       "      <td>1</td>\n",
       "      <td>41</td>\n",
       "      <td>0.9</td>\n",
       "      <td>145</td>\n",
       "      <td>5</td>\n",
       "      <td>...</td>\n",
       "      <td>1263.0</td>\n",
       "      <td>1716</td>\n",
       "      <td>2603</td>\n",
       "      <td>11</td>\n",
       "      <td>2</td>\n",
       "      <td>9</td>\n",
       "      <td>1</td>\n",
       "      <td>1</td>\n",
       "      <td>0</td>\n",
       "      <td>2</td>\n",
       "    </tr>\n",
       "    <tr>\n",
       "      <td>3</td>\n",
       "      <td>615</td>\n",
       "      <td>1</td>\n",
       "      <td>2.5</td>\n",
       "      <td>0</td>\n",
       "      <td>0</td>\n",
       "      <td>0</td>\n",
       "      <td>10</td>\n",
       "      <td>0.8</td>\n",
       "      <td>131</td>\n",
       "      <td>6</td>\n",
       "      <td>...</td>\n",
       "      <td>NaN</td>\n",
       "      <td>1786</td>\n",
       "      <td>2769</td>\n",
       "      <td>16</td>\n",
       "      <td>8</td>\n",
       "      <td>11</td>\n",
       "      <td>1</td>\n",
       "      <td>0</td>\n",
       "      <td>0</td>\n",
       "      <td>2</td>\n",
       "    </tr>\n",
       "    <tr>\n",
       "      <td>4</td>\n",
       "      <td>1821</td>\n",
       "      <td>1</td>\n",
       "      <td>1.2</td>\n",
       "      <td>0</td>\n",
       "      <td>13</td>\n",
       "      <td>1</td>\n",
       "      <td>44</td>\n",
       "      <td>0.6</td>\n",
       "      <td>141</td>\n",
       "      <td>2</td>\n",
       "      <td>...</td>\n",
       "      <td>1208.0</td>\n",
       "      <td>1212</td>\n",
       "      <td>1411</td>\n",
       "      <td>8</td>\n",
       "      <td>2</td>\n",
       "      <td>15</td>\n",
       "      <td>1</td>\n",
       "      <td>1</td>\n",
       "      <td>0</td>\n",
       "      <td>1</td>\n",
       "    </tr>\n",
       "  </tbody>\n",
       "</table>\n",
       "<p>5 rows × 21 columns</p>\n",
       "</div>"
      ],
      "text/plain": [
       "   battery_power  blue  clock_speed  dual_sim  fc  four_g  int_memory  m_dep  \\\n",
       "0            842     0          2.2         0   1       0           7    0.6   \n",
       "1           1021     1          0.5         1   0       1          53    0.7   \n",
       "2            563     1          0.5         1   2       1          41    0.9   \n",
       "3            615     1          2.5         0   0       0          10    0.8   \n",
       "4           1821     1          1.2         0  13       1          44    0.6   \n",
       "\n",
       "   mobile_wt  n_cores  ...  px_height  px_width   ram  sc_h  sc_w  talk_time  \\\n",
       "0        188        2  ...       20.0       756  2549     9     7         19   \n",
       "1        136        3  ...      905.0      1988  2631    17     3          7   \n",
       "2        145        5  ...     1263.0      1716  2603    11     2          9   \n",
       "3        131        6  ...        NaN      1786  2769    16     8         11   \n",
       "4        141        2  ...     1208.0      1212  1411     8     2         15   \n",
       "\n",
       "   three_g  touch_screen  wifi  price_range  \n",
       "0        0             0     1            1  \n",
       "1        1             1     0            2  \n",
       "2        1             1     0            2  \n",
       "3        1             0     0            2  \n",
       "4        1             1     0            1  \n",
       "\n",
       "[5 rows x 21 columns]"
      ]
     },
     "execution_count": 2,
     "metadata": {},
     "output_type": "execute_result"
    }
   ],
   "source": [
    "mb = pd.read_csv('Mobile_price_classification.csv')\n",
    "mb.head()"
   ]
  },
  {
   "cell_type": "code",
   "execution_count": 4,
   "metadata": {},
   "outputs": [
    {
     "data": {
      "text/plain": [
       "(2000, 21)"
      ]
     },
     "execution_count": 4,
     "metadata": {},
     "output_type": "execute_result"
    }
   ],
   "source": [
    "mb.shape"
   ]
  },
  {
   "cell_type": "code",
   "execution_count": 5,
   "metadata": {
    "scrolled": true
   },
   "outputs": [
    {
     "data": {
      "text/html": [
       "<div>\n",
       "<style scoped>\n",
       "    .dataframe tbody tr th:only-of-type {\n",
       "        vertical-align: middle;\n",
       "    }\n",
       "\n",
       "    .dataframe tbody tr th {\n",
       "        vertical-align: top;\n",
       "    }\n",
       "\n",
       "    .dataframe thead th {\n",
       "        text-align: right;\n",
       "    }\n",
       "</style>\n",
       "<table border=\"1\" class=\"dataframe\">\n",
       "  <thead>\n",
       "    <tr style=\"text-align: right;\">\n",
       "      <th></th>\n",
       "      <th>battery_power</th>\n",
       "      <th>blue</th>\n",
       "      <th>clock_speed</th>\n",
       "      <th>dual_sim</th>\n",
       "      <th>fc</th>\n",
       "      <th>four_g</th>\n",
       "      <th>int_memory</th>\n",
       "      <th>m_dep</th>\n",
       "      <th>mobile_wt</th>\n",
       "      <th>n_cores</th>\n",
       "      <th>...</th>\n",
       "      <th>px_height</th>\n",
       "      <th>px_width</th>\n",
       "      <th>ram</th>\n",
       "      <th>sc_h</th>\n",
       "      <th>sc_w</th>\n",
       "      <th>talk_time</th>\n",
       "      <th>three_g</th>\n",
       "      <th>touch_screen</th>\n",
       "      <th>wifi</th>\n",
       "      <th>price_range</th>\n",
       "    </tr>\n",
       "  </thead>\n",
       "  <tbody>\n",
       "    <tr>\n",
       "      <td>count</td>\n",
       "      <td>2000.000000</td>\n",
       "      <td>2000.0000</td>\n",
       "      <td>2000.000000</td>\n",
       "      <td>2000.000000</td>\n",
       "      <td>2000.000000</td>\n",
       "      <td>2000.000000</td>\n",
       "      <td>2000.000000</td>\n",
       "      <td>2000.000000</td>\n",
       "      <td>2000.000000</td>\n",
       "      <td>2000.000000</td>\n",
       "      <td>...</td>\n",
       "      <td>1980.000000</td>\n",
       "      <td>2000.000000</td>\n",
       "      <td>2000.000000</td>\n",
       "      <td>2000.000000</td>\n",
       "      <td>2000.000000</td>\n",
       "      <td>2000.000000</td>\n",
       "      <td>2000.000000</td>\n",
       "      <td>2000.000000</td>\n",
       "      <td>2000.000000</td>\n",
       "      <td>2000.000000</td>\n",
       "    </tr>\n",
       "    <tr>\n",
       "      <td>mean</td>\n",
       "      <td>1238.518500</td>\n",
       "      <td>0.4950</td>\n",
       "      <td>1.522250</td>\n",
       "      <td>0.509500</td>\n",
       "      <td>4.309500</td>\n",
       "      <td>0.521500</td>\n",
       "      <td>32.046500</td>\n",
       "      <td>0.501750</td>\n",
       "      <td>140.249000</td>\n",
       "      <td>4.520500</td>\n",
       "      <td>...</td>\n",
       "      <td>645.570202</td>\n",
       "      <td>1251.515500</td>\n",
       "      <td>2124.213000</td>\n",
       "      <td>12.306500</td>\n",
       "      <td>5.767000</td>\n",
       "      <td>11.011000</td>\n",
       "      <td>0.761500</td>\n",
       "      <td>0.503000</td>\n",
       "      <td>0.507000</td>\n",
       "      <td>1.500000</td>\n",
       "    </tr>\n",
       "    <tr>\n",
       "      <td>std</td>\n",
       "      <td>439.418206</td>\n",
       "      <td>0.5001</td>\n",
       "      <td>0.816004</td>\n",
       "      <td>0.500035</td>\n",
       "      <td>4.341444</td>\n",
       "      <td>0.499662</td>\n",
       "      <td>18.145715</td>\n",
       "      <td>0.288416</td>\n",
       "      <td>35.399655</td>\n",
       "      <td>2.287837</td>\n",
       "      <td>...</td>\n",
       "      <td>444.037051</td>\n",
       "      <td>432.199447</td>\n",
       "      <td>1084.732044</td>\n",
       "      <td>4.213245</td>\n",
       "      <td>4.356398</td>\n",
       "      <td>5.463955</td>\n",
       "      <td>0.426273</td>\n",
       "      <td>0.500116</td>\n",
       "      <td>0.500076</td>\n",
       "      <td>1.118314</td>\n",
       "    </tr>\n",
       "    <tr>\n",
       "      <td>min</td>\n",
       "      <td>501.000000</td>\n",
       "      <td>0.0000</td>\n",
       "      <td>0.500000</td>\n",
       "      <td>0.000000</td>\n",
       "      <td>0.000000</td>\n",
       "      <td>0.000000</td>\n",
       "      <td>2.000000</td>\n",
       "      <td>0.100000</td>\n",
       "      <td>80.000000</td>\n",
       "      <td>1.000000</td>\n",
       "      <td>...</td>\n",
       "      <td>0.000000</td>\n",
       "      <td>500.000000</td>\n",
       "      <td>256.000000</td>\n",
       "      <td>5.000000</td>\n",
       "      <td>0.000000</td>\n",
       "      <td>2.000000</td>\n",
       "      <td>0.000000</td>\n",
       "      <td>0.000000</td>\n",
       "      <td>0.000000</td>\n",
       "      <td>0.000000</td>\n",
       "    </tr>\n",
       "    <tr>\n",
       "      <td>25%</td>\n",
       "      <td>851.750000</td>\n",
       "      <td>0.0000</td>\n",
       "      <td>0.700000</td>\n",
       "      <td>0.000000</td>\n",
       "      <td>1.000000</td>\n",
       "      <td>0.000000</td>\n",
       "      <td>16.000000</td>\n",
       "      <td>0.200000</td>\n",
       "      <td>109.000000</td>\n",
       "      <td>3.000000</td>\n",
       "      <td>...</td>\n",
       "      <td>282.750000</td>\n",
       "      <td>874.750000</td>\n",
       "      <td>1207.500000</td>\n",
       "      <td>9.000000</td>\n",
       "      <td>2.000000</td>\n",
       "      <td>6.000000</td>\n",
       "      <td>1.000000</td>\n",
       "      <td>0.000000</td>\n",
       "      <td>0.000000</td>\n",
       "      <td>0.750000</td>\n",
       "    </tr>\n",
       "    <tr>\n",
       "      <td>50%</td>\n",
       "      <td>1226.000000</td>\n",
       "      <td>0.0000</td>\n",
       "      <td>1.500000</td>\n",
       "      <td>1.000000</td>\n",
       "      <td>3.000000</td>\n",
       "      <td>1.000000</td>\n",
       "      <td>32.000000</td>\n",
       "      <td>0.500000</td>\n",
       "      <td>141.000000</td>\n",
       "      <td>4.000000</td>\n",
       "      <td>...</td>\n",
       "      <td>565.500000</td>\n",
       "      <td>1247.000000</td>\n",
       "      <td>2146.500000</td>\n",
       "      <td>12.000000</td>\n",
       "      <td>5.000000</td>\n",
       "      <td>11.000000</td>\n",
       "      <td>1.000000</td>\n",
       "      <td>1.000000</td>\n",
       "      <td>1.000000</td>\n",
       "      <td>1.500000</td>\n",
       "    </tr>\n",
       "    <tr>\n",
       "      <td>75%</td>\n",
       "      <td>1615.250000</td>\n",
       "      <td>1.0000</td>\n",
       "      <td>2.200000</td>\n",
       "      <td>1.000000</td>\n",
       "      <td>7.000000</td>\n",
       "      <td>1.000000</td>\n",
       "      <td>48.000000</td>\n",
       "      <td>0.800000</td>\n",
       "      <td>170.000000</td>\n",
       "      <td>7.000000</td>\n",
       "      <td>...</td>\n",
       "      <td>948.000000</td>\n",
       "      <td>1633.000000</td>\n",
       "      <td>3064.500000</td>\n",
       "      <td>16.000000</td>\n",
       "      <td>9.000000</td>\n",
       "      <td>16.000000</td>\n",
       "      <td>1.000000</td>\n",
       "      <td>1.000000</td>\n",
       "      <td>1.000000</td>\n",
       "      <td>2.250000</td>\n",
       "    </tr>\n",
       "    <tr>\n",
       "      <td>max</td>\n",
       "      <td>1998.000000</td>\n",
       "      <td>1.0000</td>\n",
       "      <td>3.000000</td>\n",
       "      <td>1.000000</td>\n",
       "      <td>19.000000</td>\n",
       "      <td>1.000000</td>\n",
       "      <td>64.000000</td>\n",
       "      <td>1.000000</td>\n",
       "      <td>200.000000</td>\n",
       "      <td>8.000000</td>\n",
       "      <td>...</td>\n",
       "      <td>1960.000000</td>\n",
       "      <td>1998.000000</td>\n",
       "      <td>3998.000000</td>\n",
       "      <td>19.000000</td>\n",
       "      <td>18.000000</td>\n",
       "      <td>20.000000</td>\n",
       "      <td>1.000000</td>\n",
       "      <td>1.000000</td>\n",
       "      <td>1.000000</td>\n",
       "      <td>3.000000</td>\n",
       "    </tr>\n",
       "  </tbody>\n",
       "</table>\n",
       "<p>8 rows × 21 columns</p>\n",
       "</div>"
      ],
      "text/plain": [
       "       battery_power       blue  clock_speed     dual_sim           fc  \\\n",
       "count    2000.000000  2000.0000  2000.000000  2000.000000  2000.000000   \n",
       "mean     1238.518500     0.4950     1.522250     0.509500     4.309500   \n",
       "std       439.418206     0.5001     0.816004     0.500035     4.341444   \n",
       "min       501.000000     0.0000     0.500000     0.000000     0.000000   \n",
       "25%       851.750000     0.0000     0.700000     0.000000     1.000000   \n",
       "50%      1226.000000     0.0000     1.500000     1.000000     3.000000   \n",
       "75%      1615.250000     1.0000     2.200000     1.000000     7.000000   \n",
       "max      1998.000000     1.0000     3.000000     1.000000    19.000000   \n",
       "\n",
       "            four_g   int_memory        m_dep    mobile_wt      n_cores  ...  \\\n",
       "count  2000.000000  2000.000000  2000.000000  2000.000000  2000.000000  ...   \n",
       "mean      0.521500    32.046500     0.501750   140.249000     4.520500  ...   \n",
       "std       0.499662    18.145715     0.288416    35.399655     2.287837  ...   \n",
       "min       0.000000     2.000000     0.100000    80.000000     1.000000  ...   \n",
       "25%       0.000000    16.000000     0.200000   109.000000     3.000000  ...   \n",
       "50%       1.000000    32.000000     0.500000   141.000000     4.000000  ...   \n",
       "75%       1.000000    48.000000     0.800000   170.000000     7.000000  ...   \n",
       "max       1.000000    64.000000     1.000000   200.000000     8.000000  ...   \n",
       "\n",
       "         px_height     px_width          ram         sc_h         sc_w  \\\n",
       "count  1980.000000  2000.000000  2000.000000  2000.000000  2000.000000   \n",
       "mean    645.570202  1251.515500  2124.213000    12.306500     5.767000   \n",
       "std     444.037051   432.199447  1084.732044     4.213245     4.356398   \n",
       "min       0.000000   500.000000   256.000000     5.000000     0.000000   \n",
       "25%     282.750000   874.750000  1207.500000     9.000000     2.000000   \n",
       "50%     565.500000  1247.000000  2146.500000    12.000000     5.000000   \n",
       "75%     948.000000  1633.000000  3064.500000    16.000000     9.000000   \n",
       "max    1960.000000  1998.000000  3998.000000    19.000000    18.000000   \n",
       "\n",
       "         talk_time      three_g  touch_screen         wifi  price_range  \n",
       "count  2000.000000  2000.000000   2000.000000  2000.000000  2000.000000  \n",
       "mean     11.011000     0.761500      0.503000     0.507000     1.500000  \n",
       "std       5.463955     0.426273      0.500116     0.500076     1.118314  \n",
       "min       2.000000     0.000000      0.000000     0.000000     0.000000  \n",
       "25%       6.000000     1.000000      0.000000     0.000000     0.750000  \n",
       "50%      11.000000     1.000000      1.000000     1.000000     1.500000  \n",
       "75%      16.000000     1.000000      1.000000     1.000000     2.250000  \n",
       "max      20.000000     1.000000      1.000000     1.000000     3.000000  \n",
       "\n",
       "[8 rows x 21 columns]"
      ]
     },
     "execution_count": 5,
     "metadata": {},
     "output_type": "execute_result"
    }
   ],
   "source": [
    "mb.describe()"
   ]
  },
  {
   "cell_type": "code",
   "execution_count": 6,
   "metadata": {},
   "outputs": [
    {
     "data": {
      "text/plain": [
       "<matplotlib.axes._subplots.AxesSubplot at 0x29a7ecb2508>"
      ]
     },
     "execution_count": 6,
     "metadata": {},
     "output_type": "execute_result"
    },
    {
     "data": {
      "image/png": "[encoded data removed]",
      "text/plain": [
       "<Figure size 864x864 with 2 Axes>"
      ]
     },
     "metadata": {
      "needs_background": "light"
     },
     "output_type": "display_data"
    }
   ],
   "source": [
    "a= mb.corr()\n",
    "fig=plt.figure(figsize=(12,12))\n",
    "sns.heatmap(a,annot= True,linewidths=3)"
   ]
  },
  {
   "cell_type": "code",
   "execution_count": 7,
   "metadata": {},
   "outputs": [
    {
     "data": {
      "text/html": [
       "<div>\n",
       "<style scoped>\n",
       "    .dataframe tbody tr th:only-of-type {\n",
       "        vertical-align: middle;\n",
       "    }\n",
       "\n",
       "    .dataframe tbody tr th {\n",
       "        vertical-align: top;\n",
       "    }\n",
       "\n",
       "    .dataframe thead th {\n",
       "        text-align: right;\n",
       "    }\n",
       "</style>\n",
       "<table border=\"1\" class=\"dataframe\">\n",
       "  <thead>\n",
       "    <tr style=\"text-align: right;\">\n",
       "      <th></th>\n",
       "      <th>battery_power</th>\n",
       "      <th>blue</th>\n",
       "      <th>clock_speed</th>\n",
       "      <th>dual_sim</th>\n",
       "      <th>fc</th>\n",
       "      <th>four_g</th>\n",
       "      <th>int_memory</th>\n",
       "      <th>m_dep</th>\n",
       "      <th>mobile_wt</th>\n",
       "      <th>n_cores</th>\n",
       "      <th>...</th>\n",
       "      <th>px_height</th>\n",
       "      <th>px_width</th>\n",
       "      <th>ram</th>\n",
       "      <th>sc_h</th>\n",
       "      <th>sc_w</th>\n",
       "      <th>talk_time</th>\n",
       "      <th>three_g</th>\n",
       "      <th>touch_screen</th>\n",
       "      <th>wifi</th>\n",
       "      <th>price_range</th>\n",
       "    </tr>\n",
       "  </thead>\n",
       "  <tbody>\n",
       "    <tr>\n",
       "      <td>battery_power</td>\n",
       "      <td>1.000000</td>\n",
       "      <td>0.011252</td>\n",
       "      <td>0.011482</td>\n",
       "      <td>-0.041847</td>\n",
       "      <td>0.033334</td>\n",
       "      <td>0.015665</td>\n",
       "      <td>-0.004004</td>\n",
       "      <td>0.034085</td>\n",
       "      <td>0.001844</td>\n",
       "      <td>-0.029727</td>\n",
       "      <td>...</td>\n",
       "      <td>0.017185</td>\n",
       "      <td>-0.008402</td>\n",
       "      <td>-0.000653</td>\n",
       "      <td>-0.029959</td>\n",
       "      <td>-0.021421</td>\n",
       "      <td>0.052510</td>\n",
       "      <td>0.011522</td>\n",
       "      <td>-0.010516</td>\n",
       "      <td>-0.008343</td>\n",
       "      <td>0.200723</td>\n",
       "    </tr>\n",
       "    <tr>\n",
       "      <td>blue</td>\n",
       "      <td>0.011252</td>\n",
       "      <td>1.000000</td>\n",
       "      <td>0.021419</td>\n",
       "      <td>0.035198</td>\n",
       "      <td>0.003593</td>\n",
       "      <td>0.013443</td>\n",
       "      <td>0.041177</td>\n",
       "      <td>0.004049</td>\n",
       "      <td>-0.008605</td>\n",
       "      <td>0.036161</td>\n",
       "      <td>...</td>\n",
       "      <td>-0.005568</td>\n",
       "      <td>-0.041533</td>\n",
       "      <td>0.026351</td>\n",
       "      <td>-0.002952</td>\n",
       "      <td>0.000613</td>\n",
       "      <td>0.013934</td>\n",
       "      <td>-0.030236</td>\n",
       "      <td>0.010061</td>\n",
       "      <td>-0.021863</td>\n",
       "      <td>0.020573</td>\n",
       "    </tr>\n",
       "    <tr>\n",
       "      <td>clock_speed</td>\n",
       "      <td>0.011482</td>\n",
       "      <td>0.021419</td>\n",
       "      <td>1.000000</td>\n",
       "      <td>-0.001315</td>\n",
       "      <td>-0.000434</td>\n",
       "      <td>-0.043073</td>\n",
       "      <td>0.006545</td>\n",
       "      <td>-0.014364</td>\n",
       "      <td>0.012350</td>\n",
       "      <td>-0.005724</td>\n",
       "      <td>...</td>\n",
       "      <td>-0.017244</td>\n",
       "      <td>-0.009476</td>\n",
       "      <td>0.003443</td>\n",
       "      <td>-0.029078</td>\n",
       "      <td>-0.007378</td>\n",
       "      <td>-0.011432</td>\n",
       "      <td>-0.046433</td>\n",
       "      <td>0.019756</td>\n",
       "      <td>-0.024471</td>\n",
       "      <td>-0.006606</td>\n",
       "    </tr>\n",
       "    <tr>\n",
       "      <td>dual_sim</td>\n",
       "      <td>-0.041847</td>\n",
       "      <td>0.035198</td>\n",
       "      <td>-0.001315</td>\n",
       "      <td>1.000000</td>\n",
       "      <td>-0.029123</td>\n",
       "      <td>0.003187</td>\n",
       "      <td>-0.015679</td>\n",
       "      <td>-0.022142</td>\n",
       "      <td>-0.008979</td>\n",
       "      <td>-0.024658</td>\n",
       "      <td>...</td>\n",
       "      <td>-0.018372</td>\n",
       "      <td>0.014291</td>\n",
       "      <td>0.041072</td>\n",
       "      <td>-0.011949</td>\n",
       "      <td>-0.016666</td>\n",
       "      <td>-0.039404</td>\n",
       "      <td>-0.014008</td>\n",
       "      <td>-0.017117</td>\n",
       "      <td>0.022740</td>\n",
       "      <td>0.017444</td>\n",
       "    </tr>\n",
       "    <tr>\n",
       "      <td>fc</td>\n",
       "      <td>0.033334</td>\n",
       "      <td>0.003593</td>\n",
       "      <td>-0.000434</td>\n",
       "      <td>-0.029123</td>\n",
       "      <td>1.000000</td>\n",
       "      <td>-0.016560</td>\n",
       "      <td>-0.029133</td>\n",
       "      <td>-0.001791</td>\n",
       "      <td>0.023618</td>\n",
       "      <td>-0.013356</td>\n",
       "      <td>...</td>\n",
       "      <td>-0.006322</td>\n",
       "      <td>-0.005176</td>\n",
       "      <td>0.015099</td>\n",
       "      <td>-0.011014</td>\n",
       "      <td>-0.012373</td>\n",
       "      <td>-0.006829</td>\n",
       "      <td>0.001793</td>\n",
       "      <td>-0.014828</td>\n",
       "      <td>0.020085</td>\n",
       "      <td>0.021998</td>\n",
       "    </tr>\n",
       "    <tr>\n",
       "      <td>four_g</td>\n",
       "      <td>0.015665</td>\n",
       "      <td>0.013443</td>\n",
       "      <td>-0.043073</td>\n",
       "      <td>0.003187</td>\n",
       "      <td>-0.016560</td>\n",
       "      <td>1.000000</td>\n",
       "      <td>0.008690</td>\n",
       "      <td>-0.001823</td>\n",
       "      <td>-0.016537</td>\n",
       "      <td>-0.029706</td>\n",
       "      <td>...</td>\n",
       "      <td>-0.015827</td>\n",
       "      <td>0.007448</td>\n",
       "      <td>0.007313</td>\n",
       "      <td>0.027166</td>\n",
       "      <td>0.037005</td>\n",
       "      <td>-0.046628</td>\n",
       "      <td>0.584246</td>\n",
       "      <td>0.016758</td>\n",
       "      <td>-0.017620</td>\n",
       "      <td>0.014772</td>\n",
       "    </tr>\n",
       "    <tr>\n",
       "      <td>int_memory</td>\n",
       "      <td>-0.004004</td>\n",
       "      <td>0.041177</td>\n",
       "      <td>0.006545</td>\n",
       "      <td>-0.015679</td>\n",
       "      <td>-0.029133</td>\n",
       "      <td>0.008690</td>\n",
       "      <td>1.000000</td>\n",
       "      <td>0.006886</td>\n",
       "      <td>-0.034214</td>\n",
       "      <td>-0.028310</td>\n",
       "      <td>...</td>\n",
       "      <td>0.009138</td>\n",
       "      <td>-0.008335</td>\n",
       "      <td>0.032813</td>\n",
       "      <td>0.037771</td>\n",
       "      <td>0.011731</td>\n",
       "      <td>-0.002790</td>\n",
       "      <td>-0.009366</td>\n",
       "      <td>-0.026999</td>\n",
       "      <td>0.006993</td>\n",
       "      <td>0.044435</td>\n",
       "    </tr>\n",
       "    <tr>\n",
       "      <td>m_dep</td>\n",
       "      <td>0.034085</td>\n",
       "      <td>0.004049</td>\n",
       "      <td>-0.014364</td>\n",
       "      <td>-0.022142</td>\n",
       "      <td>-0.001791</td>\n",
       "      <td>-0.001823</td>\n",
       "      <td>0.006886</td>\n",
       "      <td>1.000000</td>\n",
       "      <td>0.021756</td>\n",
       "      <td>-0.003504</td>\n",
       "      <td>...</td>\n",
       "      <td>0.024794</td>\n",
       "      <td>0.023566</td>\n",
       "      <td>-0.009434</td>\n",
       "      <td>-0.025348</td>\n",
       "      <td>-0.018388</td>\n",
       "      <td>0.017003</td>\n",
       "      <td>-0.012065</td>\n",
       "      <td>-0.002638</td>\n",
       "      <td>-0.028353</td>\n",
       "      <td>0.000853</td>\n",
       "    </tr>\n",
       "    <tr>\n",
       "      <td>mobile_wt</td>\n",
       "      <td>0.001844</td>\n",
       "      <td>-0.008605</td>\n",
       "      <td>0.012350</td>\n",
       "      <td>-0.008979</td>\n",
       "      <td>0.023618</td>\n",
       "      <td>-0.016537</td>\n",
       "      <td>-0.034214</td>\n",
       "      <td>0.021756</td>\n",
       "      <td>1.000000</td>\n",
       "      <td>-0.018989</td>\n",
       "      <td>...</td>\n",
       "      <td>0.000876</td>\n",
       "      <td>0.000090</td>\n",
       "      <td>-0.002581</td>\n",
       "      <td>-0.033855</td>\n",
       "      <td>-0.020761</td>\n",
       "      <td>0.006209</td>\n",
       "      <td>0.001551</td>\n",
       "      <td>-0.014368</td>\n",
       "      <td>-0.000409</td>\n",
       "      <td>-0.030302</td>\n",
       "    </tr>\n",
       "    <tr>\n",
       "      <td>n_cores</td>\n",
       "      <td>-0.029727</td>\n",
       "      <td>0.036161</td>\n",
       "      <td>-0.005724</td>\n",
       "      <td>-0.024658</td>\n",
       "      <td>-0.013356</td>\n",
       "      <td>-0.029706</td>\n",
       "      <td>-0.028310</td>\n",
       "      <td>-0.003504</td>\n",
       "      <td>-0.018989</td>\n",
       "      <td>1.000000</td>\n",
       "      <td>...</td>\n",
       "      <td>-0.005603</td>\n",
       "      <td>0.024480</td>\n",
       "      <td>0.004868</td>\n",
       "      <td>-0.000315</td>\n",
       "      <td>0.025826</td>\n",
       "      <td>0.013148</td>\n",
       "      <td>-0.014733</td>\n",
       "      <td>0.023774</td>\n",
       "      <td>-0.009964</td>\n",
       "      <td>0.004399</td>\n",
       "    </tr>\n",
       "    <tr>\n",
       "      <td>pc</td>\n",
       "      <td>0.029165</td>\n",
       "      <td>-0.023896</td>\n",
       "      <td>-0.001192</td>\n",
       "      <td>-0.020339</td>\n",
       "      <td>0.637348</td>\n",
       "      <td>-0.000226</td>\n",
       "      <td>-0.035234</td>\n",
       "      <td>0.033499</td>\n",
       "      <td>0.012597</td>\n",
       "      <td>0.004369</td>\n",
       "      <td>...</td>\n",
       "      <td>-0.021903</td>\n",
       "      <td>0.009914</td>\n",
       "      <td>0.031632</td>\n",
       "      <td>-0.000751</td>\n",
       "      <td>-0.024371</td>\n",
       "      <td>0.011695</td>\n",
       "      <td>0.002423</td>\n",
       "      <td>0.002502</td>\n",
       "      <td>0.003230</td>\n",
       "      <td>0.034910</td>\n",
       "    </tr>\n",
       "    <tr>\n",
       "      <td>px_height</td>\n",
       "      <td>0.017185</td>\n",
       "      <td>-0.005568</td>\n",
       "      <td>-0.017244</td>\n",
       "      <td>-0.018372</td>\n",
       "      <td>-0.006322</td>\n",
       "      <td>-0.015827</td>\n",
       "      <td>0.009138</td>\n",
       "      <td>0.024794</td>\n",
       "      <td>0.000876</td>\n",
       "      <td>-0.005603</td>\n",
       "      <td>...</td>\n",
       "      <td>1.000000</td>\n",
       "      <td>0.510447</td>\n",
       "      <td>-0.017722</td>\n",
       "      <td>0.061015</td>\n",
       "      <td>0.041000</td>\n",
       "      <td>-0.007820</td>\n",
       "      <td>-0.032708</td>\n",
       "      <td>0.020196</td>\n",
       "      <td>0.051695</td>\n",
       "      <td>0.152206</td>\n",
       "    </tr>\n",
       "    <tr>\n",
       "      <td>px_width</td>\n",
       "      <td>-0.008402</td>\n",
       "      <td>-0.041533</td>\n",
       "      <td>-0.009476</td>\n",
       "      <td>0.014291</td>\n",
       "      <td>-0.005176</td>\n",
       "      <td>0.007448</td>\n",
       "      <td>-0.008335</td>\n",
       "      <td>0.023566</td>\n",
       "      <td>0.000090</td>\n",
       "      <td>0.024480</td>\n",
       "      <td>...</td>\n",
       "      <td>0.510447</td>\n",
       "      <td>1.000000</td>\n",
       "      <td>0.004105</td>\n",
       "      <td>0.021599</td>\n",
       "      <td>0.034699</td>\n",
       "      <td>0.006720</td>\n",
       "      <td>0.000350</td>\n",
       "      <td>-0.001628</td>\n",
       "      <td>0.030319</td>\n",
       "      <td>0.165818</td>\n",
       "    </tr>\n",
       "    <tr>\n",
       "      <td>ram</td>\n",
       "      <td>-0.000653</td>\n",
       "      <td>0.026351</td>\n",
       "      <td>0.003443</td>\n",
       "      <td>0.041072</td>\n",
       "      <td>0.015099</td>\n",
       "      <td>0.007313</td>\n",
       "      <td>0.032813</td>\n",
       "      <td>-0.009434</td>\n",
       "      <td>-0.002581</td>\n",
       "      <td>0.004868</td>\n",
       "      <td>...</td>\n",
       "      <td>-0.017722</td>\n",
       "      <td>0.004105</td>\n",
       "      <td>1.000000</td>\n",
       "      <td>0.015996</td>\n",
       "      <td>0.035576</td>\n",
       "      <td>0.010820</td>\n",
       "      <td>0.015795</td>\n",
       "      <td>-0.030455</td>\n",
       "      <td>0.022669</td>\n",
       "      <td>0.917046</td>\n",
       "    </tr>\n",
       "    <tr>\n",
       "      <td>sc_h</td>\n",
       "      <td>-0.029959</td>\n",
       "      <td>-0.002952</td>\n",
       "      <td>-0.029078</td>\n",
       "      <td>-0.011949</td>\n",
       "      <td>-0.011014</td>\n",
       "      <td>0.027166</td>\n",
       "      <td>0.037771</td>\n",
       "      <td>-0.025348</td>\n",
       "      <td>-0.033855</td>\n",
       "      <td>-0.000315</td>\n",
       "      <td>...</td>\n",
       "      <td>0.061015</td>\n",
       "      <td>0.021599</td>\n",
       "      <td>0.015996</td>\n",
       "      <td>1.000000</td>\n",
       "      <td>0.506144</td>\n",
       "      <td>-0.017335</td>\n",
       "      <td>0.012033</td>\n",
       "      <td>-0.020023</td>\n",
       "      <td>0.025929</td>\n",
       "      <td>0.022986</td>\n",
       "    </tr>\n",
       "    <tr>\n",
       "      <td>sc_w</td>\n",
       "      <td>-0.021421</td>\n",
       "      <td>0.000613</td>\n",
       "      <td>-0.007378</td>\n",
       "      <td>-0.016666</td>\n",
       "      <td>-0.012373</td>\n",
       "      <td>0.037005</td>\n",
       "      <td>0.011731</td>\n",
       "      <td>-0.018388</td>\n",
       "      <td>-0.020761</td>\n",
       "      <td>0.025826</td>\n",
       "      <td>...</td>\n",
       "      <td>0.041000</td>\n",
       "      <td>0.034699</td>\n",
       "      <td>0.035576</td>\n",
       "      <td>0.506144</td>\n",
       "      <td>1.000000</td>\n",
       "      <td>-0.022821</td>\n",
       "      <td>0.030941</td>\n",
       "      <td>0.012720</td>\n",
       "      <td>0.035423</td>\n",
       "      <td>0.038711</td>\n",
       "    </tr>\n",
       "    <tr>\n",
       "      <td>talk_time</td>\n",
       "      <td>0.052510</td>\n",
       "      <td>0.013934</td>\n",
       "      <td>-0.011432</td>\n",
       "      <td>-0.039404</td>\n",
       "      <td>-0.006829</td>\n",
       "      <td>-0.046628</td>\n",
       "      <td>-0.002790</td>\n",
       "      <td>0.017003</td>\n",
       "      <td>0.006209</td>\n",
       "      <td>0.013148</td>\n",
       "      <td>...</td>\n",
       "      <td>-0.007820</td>\n",
       "      <td>0.006720</td>\n",
       "      <td>0.010820</td>\n",
       "      <td>-0.017335</td>\n",
       "      <td>-0.022821</td>\n",
       "      <td>1.000000</td>\n",
       "      <td>-0.042688</td>\n",
       "      <td>0.017196</td>\n",
       "      <td>-0.029504</td>\n",
       "      <td>0.021859</td>\n",
       "    </tr>\n",
       "    <tr>\n",
       "      <td>three_g</td>\n",
       "      <td>0.011522</td>\n",
       "      <td>-0.030236</td>\n",
       "      <td>-0.046433</td>\n",
       "      <td>-0.014008</td>\n",
       "      <td>0.001793</td>\n",
       "      <td>0.584246</td>\n",
       "      <td>-0.009366</td>\n",
       "      <td>-0.012065</td>\n",
       "      <td>0.001551</td>\n",
       "      <td>-0.014733</td>\n",
       "      <td>...</td>\n",
       "      <td>-0.032708</td>\n",
       "      <td>0.000350</td>\n",
       "      <td>0.015795</td>\n",
       "      <td>0.012033</td>\n",
       "      <td>0.030941</td>\n",
       "      <td>-0.042688</td>\n",
       "      <td>1.000000</td>\n",
       "      <td>0.013917</td>\n",
       "      <td>0.004316</td>\n",
       "      <td>0.023611</td>\n",
       "    </tr>\n",
       "    <tr>\n",
       "      <td>touch_screen</td>\n",
       "      <td>-0.010516</td>\n",
       "      <td>0.010061</td>\n",
       "      <td>0.019756</td>\n",
       "      <td>-0.017117</td>\n",
       "      <td>-0.014828</td>\n",
       "      <td>0.016758</td>\n",
       "      <td>-0.026999</td>\n",
       "      <td>-0.002638</td>\n",
       "      <td>-0.014368</td>\n",
       "      <td>0.023774</td>\n",
       "      <td>...</td>\n",
       "      <td>0.020196</td>\n",
       "      <td>-0.001628</td>\n",
       "      <td>-0.030455</td>\n",
       "      <td>-0.020023</td>\n",
       "      <td>0.012720</td>\n",
       "      <td>0.017196</td>\n",
       "      <td>0.013917</td>\n",
       "      <td>1.000000</td>\n",
       "      <td>0.011917</td>\n",
       "      <td>-0.030411</td>\n",
       "    </tr>\n",
       "    <tr>\n",
       "      <td>wifi</td>\n",
       "      <td>-0.008343</td>\n",
       "      <td>-0.021863</td>\n",
       "      <td>-0.024471</td>\n",
       "      <td>0.022740</td>\n",
       "      <td>0.020085</td>\n",
       "      <td>-0.017620</td>\n",
       "      <td>0.006993</td>\n",
       "      <td>-0.028353</td>\n",
       "      <td>-0.000409</td>\n",
       "      <td>-0.009964</td>\n",
       "      <td>...</td>\n",
       "      <td>0.051695</td>\n",
       "      <td>0.030319</td>\n",
       "      <td>0.022669</td>\n",
       "      <td>0.025929</td>\n",
       "      <td>0.035423</td>\n",
       "      <td>-0.029504</td>\n",
       "      <td>0.004316</td>\n",
       "      <td>0.011917</td>\n",
       "      <td>1.000000</td>\n",
       "      <td>0.018785</td>\n",
       "    </tr>\n",
       "    <tr>\n",
       "      <td>price_range</td>\n",
       "      <td>0.200723</td>\n",
       "      <td>0.020573</td>\n",
       "      <td>-0.006606</td>\n",
       "      <td>0.017444</td>\n",
       "      <td>0.021998</td>\n",
       "      <td>0.014772</td>\n",
       "      <td>0.044435</td>\n",
       "      <td>0.000853</td>\n",
       "      <td>-0.030302</td>\n",
       "      <td>0.004399</td>\n",
       "      <td>...</td>\n",
       "      <td>0.152206</td>\n",
       "      <td>0.165818</td>\n",
       "      <td>0.917046</td>\n",
       "      <td>0.022986</td>\n",
       "      <td>0.038711</td>\n",
       "      <td>0.021859</td>\n",
       "      <td>0.023611</td>\n",
       "      <td>-0.030411</td>\n",
       "      <td>0.018785</td>\n",
       "      <td>1.000000</td>\n",
       "    </tr>\n",
       "  </tbody>\n",
       "</table>\n",
       "<p>21 rows × 21 columns</p>\n",
       "</div>"
      ],
      "text/plain": [
       "               battery_power      blue  clock_speed  dual_sim        fc  \\\n",
       "battery_power       1.000000  0.011252     0.011482 -0.041847  0.033334   \n",
       "blue                0.011252  1.000000     0.021419  0.035198  0.003593   \n",
       "clock_speed         0.011482  0.021419     1.000000 -0.001315 -0.000434   \n",
       "dual_sim           -0.041847  0.035198    -0.001315  1.000000 -0.029123   \n",
       "fc                  0.033334  0.003593    -0.000434 -0.029123  1.000000   \n",
       "four_g              0.015665  0.013443    -0.043073  0.003187 -0.016560   \n",
       "int_memory         -0.004004  0.041177     0.006545 -0.015679 -0.029133   \n",
       "m_dep               0.034085  0.004049    -0.014364 -0.022142 -0.001791   \n",
       "mobile_wt           0.001844 -0.008605     0.012350 -0.008979  0.023618   \n",
       "n_cores            -0.029727  0.036161    -0.005724 -0.024658 -0.013356   \n",
       "pc                  0.029165 -0.023896    -0.001192 -0.020339  0.637348   \n",
       "px_height           0.017185 -0.005568    -0.017244 -0.018372 -0.006322   \n",
       "px_width           -0.008402 -0.041533    -0.009476  0.014291 -0.005176   \n",
       "ram                -0.000653  0.026351     0.003443  0.041072  0.015099   \n",
       "sc_h               -0.029959 -0.002952    -0.029078 -0.011949 -0.011014   \n",
       "sc_w               -0.021421  0.000613    -0.007378 -0.016666 -0.012373   \n",
       "talk_time           0.052510  0.013934    -0.011432 -0.039404 -0.006829   \n",
       "three_g             0.011522 -0.030236    -0.046433 -0.014008  0.001793   \n",
       "touch_screen       -0.010516  0.010061     0.019756 -0.017117 -0.014828   \n",
       "wifi               -0.008343 -0.021863    -0.024471  0.022740  0.020085   \n",
       "price_range         0.200723  0.020573    -0.006606  0.017444  0.021998   \n",
       "\n",
       "                 four_g  int_memory     m_dep  mobile_wt   n_cores  ...  \\\n",
       "battery_power  0.015665   -0.004004  0.034085   0.001844 -0.029727  ...   \n",
       "blue           0.013443    0.041177  0.004049  -0.008605  0.036161  ...   \n",
       "clock_speed   -0.043073    0.006545 -0.014364   0.012350 -0.005724  ...   \n",
       "dual_sim       0.003187   -0.015679 -0.022142  -0.008979 -0.024658  ...   \n",
       "fc            -0.016560   -0.029133 -0.001791   0.023618 -0.013356  ...   \n",
       "four_g         1.000000    0.008690 -0.001823  -0.016537 -0.029706  ...   \n",
       "int_memory     0.008690    1.000000  0.006886  -0.034214 -0.028310  ...   \n",
       "m_dep         -0.001823    0.006886  1.000000   0.021756 -0.003504  ...   \n",
       "mobile_wt     -0.016537   -0.034214  0.021756   1.000000 -0.018989  ...   \n",
       "n_cores       -0.029706   -0.028310 -0.003504  -0.018989  1.000000  ...   \n",
       "pc            -0.000226   -0.035234  0.033499   0.012597  0.004369  ...   \n",
       "px_height     -0.015827    0.009138  0.024794   0.000876 -0.005603  ...   \n",
       "px_width       0.007448   -0.008335  0.023566   0.000090  0.024480  ...   \n",
       "ram            0.007313    0.032813 -0.009434  -0.002581  0.004868  ...   \n",
       "sc_h           0.027166    0.037771 -0.025348  -0.033855 -0.000315  ...   \n",
       "sc_w           0.037005    0.011731 -0.018388  -0.020761  0.025826  ...   \n",
       "talk_time     -0.046628   -0.002790  0.017003   0.006209  0.013148  ...   \n",
       "three_g        0.584246   -0.009366 -0.012065   0.001551 -0.014733  ...   \n",
       "touch_screen   0.016758   -0.026999 -0.002638  -0.014368  0.023774  ...   \n",
       "wifi          -0.017620    0.006993 -0.028353  -0.000409 -0.009964  ...   \n",
       "price_range    0.014772    0.044435  0.000853  -0.030302  0.004399  ...   \n",
       "\n",
       "               px_height  px_width       ram      sc_h      sc_w  talk_time  \\\n",
       "battery_power   0.017185 -0.008402 -0.000653 -0.029959 -0.021421   0.052510   \n",
       "blue           -0.005568 -0.041533  0.026351 -0.002952  0.000613   0.013934   \n",
       "clock_speed    -0.017244 -0.009476  0.003443 -0.029078 -0.007378  -0.011432   \n",
       "dual_sim       -0.018372  0.014291  0.041072 -0.011949 -0.016666  -0.039404   \n",
       "fc             -0.006322 -0.005176  0.015099 -0.011014 -0.012373  -0.006829   \n",
       "four_g         -0.015827  0.007448  0.007313  0.027166  0.037005  -0.046628   \n",
       "int_memory      0.009138 -0.008335  0.032813  0.037771  0.011731  -0.002790   \n",
       "m_dep           0.024794  0.023566 -0.009434 -0.025348 -0.018388   0.017003   \n",
       "mobile_wt       0.000876  0.000090 -0.002581 -0.033855 -0.020761   0.006209   \n",
       "n_cores        -0.005603  0.024480  0.004868 -0.000315  0.025826   0.013148   \n",
       "pc             -0.021903  0.009914  0.031632 -0.000751 -0.024371   0.011695   \n",
       "px_height       1.000000  0.510447 -0.017722  0.061015  0.041000  -0.007820   \n",
       "px_width        0.510447  1.000000  0.004105  0.021599  0.034699   0.006720   \n",
       "ram            -0.017722  0.004105  1.000000  0.015996  0.035576   0.010820   \n",
       "sc_h            0.061015  0.021599  0.015996  1.000000  0.506144  -0.017335   \n",
       "sc_w            0.041000  0.034699  0.035576  0.506144  1.000000  -0.022821   \n",
       "talk_time      -0.007820  0.006720  0.010820 -0.017335 -0.022821   1.000000   \n",
       "three_g        -0.032708  0.000350  0.015795  0.012033  0.030941  -0.042688   \n",
       "touch_screen    0.020196 -0.001628 -0.030455 -0.020023  0.012720   0.017196   \n",
       "wifi            0.051695  0.030319  0.022669  0.025929  0.035423  -0.029504   \n",
       "price_range     0.152206  0.165818  0.917046  0.022986  0.038711   0.021859   \n",
       "\n",
       "                three_g  touch_screen      wifi  price_range  \n",
       "battery_power  0.011522     -0.010516 -0.008343     0.200723  \n",
       "blue          -0.030236      0.010061 -0.021863     0.020573  \n",
       "clock_speed   -0.046433      0.019756 -0.024471    -0.006606  \n",
       "dual_sim      -0.014008     -0.017117  0.022740     0.017444  \n",
       "fc             0.001793     -0.014828  0.020085     0.021998  \n",
       "four_g         0.584246      0.016758 -0.017620     0.014772  \n",
       "int_memory    -0.009366     -0.026999  0.006993     0.044435  \n",
       "m_dep         -0.012065     -0.002638 -0.028353     0.000853  \n",
       "mobile_wt      0.001551     -0.014368 -0.000409    -0.030302  \n",
       "n_cores       -0.014733      0.023774 -0.009964     0.004399  \n",
       "pc             0.002423      0.002502  0.003230     0.034910  \n",
       "px_height     -0.032708      0.020196  0.051695     0.152206  \n",
       "px_width       0.000350     -0.001628  0.030319     0.165818  \n",
       "ram            0.015795     -0.030455  0.022669     0.917046  \n",
       "sc_h           0.012033     -0.020023  0.025929     0.022986  \n",
       "sc_w           0.030941      0.012720  0.035423     0.038711  \n",
       "talk_time     -0.042688      0.017196 -0.029504     0.021859  \n",
       "three_g        1.000000      0.013917  0.004316     0.023611  \n",
       "touch_screen   0.013917      1.000000  0.011917    -0.030411  \n",
       "wifi           0.004316      0.011917  1.000000     0.018785  \n",
       "price_range    0.023611     -0.030411  0.018785     1.000000  \n",
       "\n",
       "[21 rows x 21 columns]"
      ]
     },
     "execution_count": 7,
     "metadata": {},
     "output_type": "execute_result"
    }
   ],
   "source": [
    "a"
   ]
  },
  {
   "cell_type": "markdown",
   "metadata": {},
   "source": [
    "#### Imputing the null values with the median of the column"
   ]
  },
  {
   "cell_type": "code",
   "execution_count": 8,
   "metadata": {
    "scrolled": true
   },
   "outputs": [
    {
     "data": {
      "text/plain": [
       "battery_power      0\n",
       "blue               0\n",
       "clock_speed        0\n",
       "dual_sim           0\n",
       "fc                 0\n",
       "four_g             0\n",
       "int_memory         0\n",
       "m_dep              0\n",
       "mobile_wt          0\n",
       "n_cores            0\n",
       "pc               102\n",
       "px_height         20\n",
       "px_width           0\n",
       "ram                0\n",
       "sc_h               0\n",
       "sc_w               0\n",
       "talk_time          0\n",
       "three_g            0\n",
       "touch_screen       0\n",
       "wifi               0\n",
       "price_range        0\n",
       "dtype: int64"
      ]
     },
     "execution_count": 8,
     "metadata": {},
     "output_type": "execute_result"
    }
   ],
   "source": [
    "mb.isna().sum()"
   ]
  },
  {
   "cell_type": "code",
   "execution_count": 9,
   "metadata": {},
   "outputs": [],
   "source": [
    "mb['pc'].fillna(mb['pc'].median(), inplace = True) "
   ]
  },
  {
   "cell_type": "code",
   "execution_count": 10,
   "metadata": {},
   "outputs": [],
   "source": [
    "mb['px_height'].fillna(mb['px_height'].median(), inplace = True) "
   ]
  },
  {
   "cell_type": "code",
   "execution_count": 11,
   "metadata": {},
   "outputs": [
    {
     "name": "stdout",
     "output_type": "stream",
     "text": [
      "<class 'pandas.core.frame.DataFrame'>\n",
      "RangeIndex: 2000 entries, 0 to 1999\n",
      "Data columns (total 21 columns):\n",
      "battery_power    2000 non-null int64\n",
      "blue             2000 non-null int64\n",
      "clock_speed      2000 non-null float64\n",
      "dual_sim         2000 non-null int64\n",
      "fc               2000 non-null int64\n",
      "four_g           2000 non-null int64\n",
      "int_memory       2000 non-null int64\n",
      "m_dep            2000 non-null float64\n",
      "mobile_wt        2000 non-null int64\n",
      "n_cores          2000 non-null int64\n",
      "pc               2000 non-null float64\n",
      "px_height        2000 non-null float64\n",
      "px_width         2000 non-null int64\n",
      "ram              2000 non-null int64\n",
      "sc_h             2000 non-null int64\n",
      "sc_w             2000 non-null int64\n",
      "talk_time        2000 non-null int64\n",
      "three_g          2000 non-null int64\n",
      "touch_screen     2000 non-null int64\n",
      "wifi             2000 non-null int64\n",
      "price_range      2000 non-null int64\n",
      "dtypes: float64(4), int64(17)\n",
      "memory usage: 328.2 KB\n"
     ]
    }
   ],
   "source": [
    "mb.info()"
   ]
  },
  {
   "cell_type": "markdown",
   "metadata": {},
   "source": [
    "#### Splitting the datset into train and test"
   ]
  },
  {
   "cell_type": "code",
   "execution_count": 12,
   "metadata": {},
   "outputs": [],
   "source": [
    "from sklearn.model_selection import train_test_split\n",
    "X = mb.drop('price_range',axis=1)\n",
    "y = mb['price_range']\n",
    "X_train, X_test, y_train, y_test = train_test_split(X, y, test_size = 0.20, random_state = 5)"
   ]
  },
  {
   "cell_type": "markdown",
   "metadata": {},
   "source": [
    "##### Using Scaled data, the algorithm gave us the perfect model(Train Score:1.00, Test Score:1.00). \n",
    "It was difficult for us to study the model and do some analyze. So we used the unscaled data. "
   ]
  },
  {
   "cell_type": "markdown",
   "metadata": {},
   "source": [
    "### 1) KNN Classifier"
   ]
  },
  {
   "cell_type": "code",
   "execution_count": 12,
   "metadata": {},
   "outputs": [
    {
     "name": "stdout",
     "output_type": "stream",
     "text": [
      "Train score: 0.9531\n",
      "Test score: 0.9225\n",
      "r_square: 0.9387 \n"
     ]
    }
   ],
   "source": [
    "from sklearn.neighbors import KNeighborsClassifier\n",
    "from sklearn import metrics\n",
    "knn = KNeighborsClassifier()\n",
    "knn.fit(X_train, y_train)\n",
    "prediction = knn.predict(X_test)\n",
    "print('Train score: {:.4f}'.format(knn.score(X_train, y_train)))\n",
    "print('Test score: {:.4f}'.format(knn.score(X_test, y_test)))\n",
    "print(\"r_square: {:.4f} \".format(metrics.r2_score(prediction,y_test)))"
   ]
  },
  {
   "cell_type": "markdown",
   "metadata": {},
   "source": [
    "#### Grid Search for KNN"
   ]
  },
  {
   "cell_type": "code",
   "execution_count": 13,
   "metadata": {},
   "outputs": [
    {
     "data": {
      "text/plain": [
       "{'algorithm': 'auto', 'leaf_size': 1, 'n_jobs': -1, 'n_neighbors': 11}"
      ]
     },
     "execution_count": 13,
     "metadata": {},
     "output_type": "execute_result"
    }
   ],
   "source": [
    "from sklearn.model_selection import GridSearchCV\n",
    "knn = KNeighborsClassifier()\n",
    "\n",
    "parameters = {'n_neighbors':[2,3,4,5,6,7,8,9,10,11,12,13,14,15,16,17,18,19,20],\n",
    "              'leaf_size':[1,3,5],\n",
    "              'algorithm':['auto', 'kd_tree'],\n",
    "              'n_jobs':[-1]}\n",
    "\n",
    "knn = GridSearchCV(knn, param_grid=parameters)\n",
    "knn = knn.fit(X_train, y_train)\n",
    "knn.best_params_"
   ]
  },
  {
   "cell_type": "code",
   "execution_count": 14,
   "metadata": {},
   "outputs": [
    {
     "name": "stdout",
     "output_type": "stream",
     "text": [
      "Train score: 0.9487\n",
      "Test score: 0.9500\n",
      "r_square: 0.9606 \n"
     ]
    }
   ],
   "source": [
    "prediction = knn.predict(X_test)\n",
    "print('Train score: {:.4f}'.format(knn.score(X_train, y_train)))\n",
    "print('Test score: {:.4f}'.format(knn.score(X_test, y_test)))\n",
    "print(\"r_square: {:.4f} \".format(metrics.r2_score(prediction,y_test)))"
   ]
  },
  {
   "cell_type": "markdown",
   "metadata": {},
   "source": [
    "#### Fitting the model with best parameters"
   ]
  },
  {
   "cell_type": "code",
   "execution_count": 15,
   "metadata": {},
   "outputs": [
    {
     "name": "stdout",
     "output_type": "stream",
     "text": [
      "Train score: 0.9487\n",
      "Test score: 0.9500\n",
      "r_square: 0.9606 \n"
     ]
    }
   ],
   "source": [
    "from sklearn.neighbors import KNeighborsClassifier\n",
    "\n",
    "knn = KNeighborsClassifier(algorithm= 'auto', leaf_size = 1, n_jobs = -1, n_neighbors = 11)\n",
    "knn.fit(X_train, y_train)\n",
    "prediction = knn.predict(X_test)\n",
    "print('Train score: {:.4f}'.format(knn.score(X_train, y_train)))\n",
    "print('Test score: {:.4f}'.format(knn.score(X_test, y_test)))\n",
    "print(\"r_square: {:.4f} \".format(metrics.r2_score(prediction,y_test)))"
   ]
  },
  {
   "cell_type": "markdown",
   "metadata": {},
   "source": [
    "#### Cross validation of KNN Model"
   ]
  },
  {
   "cell_type": "code",
   "execution_count": 16,
   "metadata": {},
   "outputs": [
    {
     "name": "stdout",
     "output_type": "stream",
     "text": [
      "Avg Train Score:0.9319\n",
      "Avg Test Score:0.9150\n"
     ]
    }
   ],
   "source": [
    "from sklearn.model_selection import cross_val_score\n",
    "train_score_list = cross_val_score(knn,X_train,y_train,cv=5)\n",
    "test_score_list = cross_val_score(knn,X_test,y_test,cv=5)\n",
    "print(\"Avg Train Score:%.4f\"%train_score_list.mean())\n",
    "print(\"Avg Test Score:%.4f\"%test_score_list.mean())"
   ]
  },
  {
   "cell_type": "markdown",
   "metadata": {},
   "source": [
    "#### KNN Visualization"
   ]
  },
  {
   "cell_type": "code",
   "execution_count": 17,
   "metadata": {},
   "outputs": [],
   "source": [
    "from sklearn.neighbors import KNeighborsClassifier\n",
    "\n",
    "train_score_array = []\n",
    "test_score_array = []\n",
    "\n",
    "for k in range(1,20):\n",
    "    knn = KNeighborsClassifier(k)\n",
    "    knn.fit(X_train, y_train)\n",
    "    train_score_array.append(knn.score(X_train, y_train))\n",
    "    test_score_array.append(knn.score(X_test, y_test))"
   ]
  },
  {
   "cell_type": "code",
   "execution_count": 18,
   "metadata": {},
   "outputs": [
    {
     "data": {
      "text/plain": [
       "<matplotlib.legend.Legend at 0x219a1edf358>"
      ]
     },
     "execution_count": 18,
     "metadata": {},
     "output_type": "execute_result"
    },
    {
     "data": {
      "image/png": "[encoded data removed]",
      "text/plain": [
       "<Figure size 432x288 with 1 Axes>"
      ]
     },
     "metadata": {
      "needs_background": "light"
     },
     "output_type": "display_data"
    }
   ],
   "source": [
    "x_axis = range(1,20)\n",
    "%matplotlib inline\n",
    "plt.plot(x_axis, train_score_array, label = 'Train Score', c = 'g')\n",
    "plt.plot(x_axis, test_score_array, label = 'Test Score', c='b')\n",
    "plt.xlabel('k')\n",
    "plt.ylabel('Accuracy')\n",
    "plt.legend()"
   ]
  },
  {
   "cell_type": "markdown",
   "metadata": {},
   "source": [
    "### 2) Linear SVC"
   ]
  },
  {
   "cell_type": "code",
   "execution_count": 19,
   "metadata": {},
   "outputs": [
    {
     "name": "stdout",
     "output_type": "stream",
     "text": [
      "Train score: 0.7944\n",
      "Test score: 0.7775\n",
      "r_square: 0.8386 \n"
     ]
    }
   ],
   "source": [
    "from sklearn.svm import LinearSVC\n",
    "\n",
    "linearsvc = LinearSVC(dual = False)\n",
    "linearsvc.fit(X_train,y_train)\n",
    "print('Train score: {:.4f}'.format(linearsvc.score(X_train, y_train)))\n",
    "print('Test score: {:.4f}'.format(linearsvc.score(X_test, y_test)))\n",
    "prediction = linearsvc.predict(X_test)\n",
    "print(\"r_square: {:.4f} \".format(metrics.r2_score(prediction,y_test)))"
   ]
  },
  {
   "cell_type": "markdown",
   "metadata": {},
   "source": [
    "#### Grid Search for LinearSVC"
   ]
  },
  {
   "cell_type": "code",
   "execution_count": 20,
   "metadata": {},
   "outputs": [
    {
     "data": {
      "text/plain": [
       "{'C': 10, 'penalty': 'l1'}"
      ]
     },
     "execution_count": 20,
     "metadata": {},
     "output_type": "execute_result"
    }
   ],
   "source": [
    "from sklearn.model_selection import GridSearchCV\n",
    "parameters = [{'C': [0.001, 0.01, 0.1, 1, 10, 100], 'penalty': ['l1','l2']}]\n",
    "grid_search = GridSearchCV(estimator = linearsvc,\n",
    "                           param_grid = parameters,\n",
    "                           scoring = 'accuracy')\n",
    "grid_search = grid_search.fit(X_train, y_train)\n",
    "grid_search.best_params_"
   ]
  },
  {
   "cell_type": "markdown",
   "metadata": {},
   "source": [
    "#### Fitting the model with best parameters"
   ]
  },
  {
   "cell_type": "code",
   "execution_count": 21,
   "metadata": {},
   "outputs": [
    {
     "name": "stdout",
     "output_type": "stream",
     "text": [
      "Train score: 0.8731\n",
      "Test score: 0.8250\n",
      "r_square: 0.8703 \n"
     ]
    }
   ],
   "source": [
    "from sklearn.svm import LinearSVC\n",
    "\n",
    "linearsvc = LinearSVC(penalty = 'l1', C= 10, dual=False)\n",
    "linearsvc.fit(X_train,y_train)\n",
    "print('Train score: {:.4f}'.format(linearsvc.score(X_train, y_train)))\n",
    "print('Test score: {:.4f}'.format(linearsvc.score(X_test, y_test)))\n",
    "prediction = linearsvc.predict(X_test)\n",
    "print(\"r_square: {:.4f} \".format(metrics.r2_score(prediction,y_test)))"
   ]
  },
  {
   "cell_type": "markdown",
   "metadata": {},
   "source": [
    "#### Cross Validation for linearSVC"
   ]
  },
  {
   "cell_type": "code",
   "execution_count": 22,
   "metadata": {},
   "outputs": [
    {
     "name": "stdout",
     "output_type": "stream",
     "text": [
      "Avg Train Score:0.8413\n",
      "Avg Test Score:0.7624\n"
     ]
    }
   ],
   "source": [
    "from sklearn.model_selection import cross_val_score\n",
    "train_score_list = cross_val_score(linearsvc,X_train,y_train,cv=5)\n",
    "test_score_list = cross_val_score(linearsvc,X_test,y_test,cv=5)\n",
    "print(\"Avg Train Score:%.4f\"%train_score_list.mean())\n",
    "print(\"Avg Test Score:%.4f\"%test_score_list.mean())"
   ]
  },
  {
   "cell_type": "markdown",
   "metadata": {},
   "source": [
    "### 3) Logistic Regression"
   ]
  },
  {
   "cell_type": "code",
   "execution_count": 23,
   "metadata": {},
   "outputs": [
    {
     "name": "stdout",
     "output_type": "stream",
     "text": [
      "Train score: 0.7863\n",
      "Test score: 0.7625\n",
      "r_square: 0.8142 \n"
     ]
    }
   ],
   "source": [
    "# Fitting logistic regression to the Training set\n",
    "from sklearn.linear_model import LogisticRegression\n",
    "Log = LogisticRegression()\n",
    "Log.fit(X_train, y_train)\n",
    "print('Train score: {:.4f}'.format(Log.score(X_train, y_train)))\n",
    "print('Test score: {:.4f}'.format(Log.score(X_test, y_test)))\n",
    "prediction = Log.predict(X_test)\n",
    "print(\"r_square: {:.4f} \".format(metrics.r2_score(prediction,y_test)))"
   ]
  },
  {
   "cell_type": "markdown",
   "metadata": {},
   "source": [
    "#### Grid Search for logistic Regression"
   ]
  },
  {
   "cell_type": "code",
   "execution_count": 24,
   "metadata": {},
   "outputs": [
    {
     "data": {
      "text/plain": [
       "{'C': 10, 'penalty': 'l1'}"
      ]
     },
     "execution_count": 24,
     "metadata": {},
     "output_type": "execute_result"
    }
   ],
   "source": [
    "from sklearn.model_selection import GridSearchCV\n",
    "parameters = [{'C': [0.001, 0.01, 0.1, 1, 10, 100,1000], 'penalty': ['l2','l1']}]\n",
    "grid_search = GridSearchCV(estimator = Log,\n",
    "                           param_grid = parameters,\n",
    "                           scoring = 'accuracy', cv=5, n_jobs = -1)\n",
    "grid_search = grid_search.fit(X_train, y_train)\n",
    "grid_search.best_params_"
   ]
  },
  {
   "cell_type": "markdown",
   "metadata": {},
   "source": [
    "#### Fitting model with best parameters"
   ]
  },
  {
   "cell_type": "code",
   "execution_count": 25,
   "metadata": {},
   "outputs": [
    {
     "name": "stdout",
     "output_type": "stream",
     "text": [
      "Train score: 0.8925\n",
      "Test score: 0.8375\n",
      "r_square: 0.8750 \n"
     ]
    }
   ],
   "source": [
    "from sklearn.linear_model import LogisticRegression\n",
    "Log = LogisticRegression(penalty = 'l1', C = 100)\n",
    "Log.fit(X_train, y_train)\n",
    "print('Train score: {:.4f}'.format(Log.score(X_train, y_train)))\n",
    "print('Test score: {:.4f}'.format(Log.score(X_test, y_test)))\n",
    "prediction = Log.predict(X_test)\n",
    "print(\"r_square: {:.4f} \".format(metrics.r2_score(prediction,y_test)))"
   ]
  },
  {
   "cell_type": "markdown",
   "metadata": {},
   "source": [
    "#### Cross Validation for logistic Regression"
   ]
  },
  {
   "cell_type": "code",
   "execution_count": 26,
   "metadata": {},
   "outputs": [
    {
     "name": "stdout",
     "output_type": "stream",
     "text": [
      "Avg Train Score:0.8563\n",
      "Avg Test Score:0.7924\n"
     ]
    }
   ],
   "source": [
    "from sklearn.model_selection import cross_val_score\n",
    "train_score_list = cross_val_score(Log,X_train,y_train,cv=5)\n",
    "test_score_list = cross_val_score(Log,X_test,y_test,cv=5)\n",
    "print(\"Avg Train Score:%.4f\"%train_score_list.mean())\n",
    "print(\"Avg Test Score:%.4f\"%test_score_list.mean())"
   ]
  },
  {
   "cell_type": "markdown",
   "metadata": {},
   "source": [
    "#### Logistic Visualization"
   ]
  },
  {
   "cell_type": "code",
   "execution_count": 27,
   "metadata": {},
   "outputs": [],
   "source": [
    "from sklearn.linear_model import LogisticRegression\n",
    "\n",
    "c_range = [0.001, 0.01, 0.1, 1, 10, 100, 1000]\n",
    "train_score_l1 = []\n",
    "train_score_l2 = []\n",
    "test_score_l1 = []\n",
    "test_score_l2 = []\n",
    "\n",
    "for c in c_range:\n",
    "    log_l1 = LogisticRegression(penalty = 'l1', C = c)\n",
    "    log_l2 = LogisticRegression(penalty = 'l2', C = c)\n",
    "    log_l1.fit(X_train, y_train)\n",
    "    log_l2.fit(X_train, y_train)\n",
    "    train_score_l1.append(log_l1.score(X_train, y_train))\n",
    "    train_score_l2.append(log_l2.score(X_train, y_train))\n",
    "    test_score_l1.append(log_l1.score(X_test, y_test))\n",
    "    test_score_l2.append(log_l2.score(X_test, y_test))"
   ]
  },
  {
   "cell_type": "code",
   "execution_count": 28,
   "metadata": {},
   "outputs": [
    {
     "data": {
      "image/png": "[encoded data removed]",
      "text/plain": [
       "<Figure size 432x288 with 1 Axes>"
      ]
     },
     "metadata": {
      "needs_background": "light"
     },
     "output_type": "display_data"
    }
   ],
   "source": [
    "import matplotlib.pyplot as plt\n",
    "%matplotlib inline\n",
    "\n",
    "plt.plot(c_range, train_score_l1, label = 'Train score, penalty = l1')\n",
    "plt.plot(c_range, test_score_l1, label = 'Test score, penalty = l1')\n",
    "plt.plot(c_range, train_score_l2, label = 'Train score, penalty = l2')\n",
    "plt.plot(c_range, test_score_l2, label = 'Test score, penalty = l2')\n",
    "plt.legend()\n",
    "plt.xlabel('Regularization parameter: C')\n",
    "plt.ylabel('Accuracy')\n",
    "plt.xscale('log')"
   ]
  },
  {
   "cell_type": "markdown",
   "metadata": {},
   "source": [
    "### 4) SVC"
   ]
  },
  {
   "cell_type": "code",
   "execution_count": 29,
   "metadata": {},
   "outputs": [
    {
     "name": "stdout",
     "output_type": "stream",
     "text": [
      "Train score: 1.0000\n",
      "Test score: 0.2300\n",
      "r_square: 0.0000 \n"
     ]
    }
   ],
   "source": [
    "from sklearn.svm import SVC\n",
    "svc = SVC()\n",
    "svc.fit(X_train, y_train)\n",
    "print('Train score: {:.4f}'.format(svc.score(X_train, y_train)))\n",
    "print('Test score: {:.4f}'.format(svc.score(X_test, y_test)))\n",
    "prediction = svc.predict(X_test)\n",
    "print(\"r_square: {:.4f} \".format(metrics.r2_score(prediction,y_test)))"
   ]
  },
  {
   "cell_type": "markdown",
   "metadata": {},
   "source": [
    "Perfect train score with the lower test score shows that the model is highly overfitting and not suitable for this dataset"
   ]
  },
  {
   "cell_type": "markdown",
   "metadata": {},
   "source": [
    "#### GridSearch for SVC"
   ]
  },
  {
   "cell_type": "code",
   "execution_count": 30,
   "metadata": {},
   "outputs": [
    {
     "data": {
      "text/plain": [
       "{'C': 1, 'kernel': 'linear'}"
      ]
     },
     "execution_count": 30,
     "metadata": {},
     "output_type": "execute_result"
    }
   ],
   "source": [
    "from sklearn.model_selection import GridSearchCV\n",
    "parameters = [{'C': [1, 10, 100], 'kernel': ['linear']},\n",
    "              {'C': [1, 10, 100], 'kernel': ['rbf'], 'gamma': [0.1, 0.2, 0.3, 0.4, 0.5, 0.6, 0.7, 0.8, 0.9]},\n",
    "            {'C': [1, 10, 100], 'kernel': ['poly'], 'degree': [0, 1, 2, 3, 4, 5, 6]}]\n",
    "grid_search = GridSearchCV(estimator = svc,\n",
    "                           param_grid = parameters,\n",
    "                           scoring = 'accuracy')\n",
    "grid_search = grid_search.fit(X_train, y_train)\n",
    "grid_search.best_params_"
   ]
  },
  {
   "cell_type": "markdown",
   "metadata": {},
   "source": [
    "#### Fitting the model with best parameters"
   ]
  },
  {
   "cell_type": "code",
   "execution_count": 31,
   "metadata": {},
   "outputs": [
    {
     "name": "stdout",
     "output_type": "stream",
     "text": [
      "Train score: 0.9912\n",
      "Test score: 0.9800\n",
      "r_square: 0.9841 \n"
     ]
    }
   ],
   "source": [
    "from sklearn.svm import SVC\n",
    "svc = SVC(kernel = 'linear', C = 1)\n",
    "svc.fit(X_train, y_train)\n",
    "print('Train score: {:.4f}'.format(svc.score(X_train, y_train)))\n",
    "print('Test score: {:.4f}'.format(svc.score(X_test, y_test)))\n",
    "prediction = svc.predict(X_test)\n",
    "print(\"r_square: {:.4f} \".format(metrics.r2_score(prediction,y_test)))"
   ]
  },
  {
   "cell_type": "markdown",
   "metadata": {},
   "source": [
    "#### Cross Validation for SVC"
   ]
  },
  {
   "cell_type": "code",
   "execution_count": 32,
   "metadata": {},
   "outputs": [
    {
     "name": "stdout",
     "output_type": "stream",
     "text": [
      "Avg Train Score:0.9725\n",
      "Avg Test Score:0.9675\n"
     ]
    }
   ],
   "source": [
    "from sklearn.model_selection import cross_val_score\n",
    "train_score_list = cross_val_score(svc,X_train,y_train,cv=5)\n",
    "test_score_list = cross_val_score(svc,X_test,y_test,cv=5)\n",
    "print(\"Avg Train Score:%.4f\"%train_score_list.mean())\n",
    "print(\"Avg Test Score:%.4f\"%test_score_list.mean())\n"
   ]
  },
  {
   "cell_type": "markdown",
   "metadata": {},
   "source": [
    "### 5) Decision Tree"
   ]
  },
  {
   "cell_type": "code",
   "execution_count": 33,
   "metadata": {},
   "outputs": [
    {
     "name": "stdout",
     "output_type": "stream",
     "text": [
      "Train score: 1.0000\n",
      "Test score: 0.8400\n",
      "r_square: 0.8769 \n"
     ]
    }
   ],
   "source": [
    "from sklearn.tree import DecisionTreeClassifier\n",
    "decisiontree = DecisionTreeClassifier()\n",
    "decisiontree.fit(X_train, y_train)\n",
    "print('Train score: {:.4f}'.format(decisiontree.score(X_train, y_train)))\n",
    "print('Test score: {:.4f}'.format(decisiontree.score(X_test, y_test)))\n",
    "prediction = decisiontree.predict(X_test)\n",
    "print(\"r_square: {:.4f} \".format(metrics.r2_score(prediction,y_test)))"
   ]
  },
  {
   "cell_type": "markdown",
   "metadata": {},
   "source": [
    "This model seems overfitting"
   ]
  },
  {
   "cell_type": "markdown",
   "metadata": {},
   "source": [
    "#### Grid Search for Decision Tree"
   ]
  },
  {
   "cell_type": "code",
   "execution_count": 34,
   "metadata": {},
   "outputs": [
    {
     "data": {
      "text/plain": [
       "{'criterion': 'entropy', 'max_depth': 7}"
      ]
     },
     "execution_count": 34,
     "metadata": {},
     "output_type": "execute_result"
    }
   ],
   "source": [
    "from sklearn.model_selection import GridSearchCV\n",
    "parameters = [{\"max_depth\": [1,2,3,4,5,6,7], \"criterion\": [\"gini\", \"entropy\"]}]\n",
    "grid_search = GridSearchCV(estimator = decisiontree,\n",
    "                           param_grid = parameters,\n",
    "                           scoring = 'accuracy')\n",
    "grid_search = grid_search.fit(X_train, y_train)\n",
    "grid_search.best_params_"
   ]
  },
  {
   "cell_type": "markdown",
   "metadata": {},
   "source": [
    "#### Fitting the model with best parameters"
   ]
  },
  {
   "cell_type": "code",
   "execution_count": 35,
   "metadata": {},
   "outputs": [
    {
     "name": "stdout",
     "output_type": "stream",
     "text": [
      "Train score: 0.9556\n",
      "Test score: 0.8850\n",
      "r_square: 0.9139 \n"
     ]
    }
   ],
   "source": [
    "from sklearn.tree import DecisionTreeClassifier\n",
    "decisiontree = DecisionTreeClassifier(criterion = 'entropy', max_depth = 7)\n",
    "decisiontree.fit(X_train, y_train)\n",
    "print('Train score: {:.4f}'.format(decisiontree.score(X_train, y_train)))\n",
    "print('Test score: {:.4f}'.format(decisiontree.score(X_test, y_test)))\n",
    "prediction = decisiontree.predict(X_test)\n",
    "print(\"r_square: {:.4f} \".format(metrics.r2_score(prediction,y_test)))"
   ]
  },
  {
   "cell_type": "markdown",
   "metadata": {},
   "source": [
    "#### Cross Validation for Decision Tree"
   ]
  },
  {
   "cell_type": "code",
   "execution_count": 36,
   "metadata": {},
   "outputs": [
    {
     "name": "stdout",
     "output_type": "stream",
     "text": [
      "Avg Train Score:0.8394\n",
      "Avg Test Score:0.8077\n"
     ]
    }
   ],
   "source": [
    "from sklearn.model_selection import cross_val_score\n",
    "train_score_list = cross_val_score(decisiontree,X_train,y_train,cv=5)\n",
    "test_score_list = cross_val_score(decisiontree,X_test,y_test,cv=5)\n",
    "print(\"Avg Train Score:%.4f\"%train_score_list.mean())\n",
    "print(\"Avg Test Score:%.4f\"%test_score_list.mean())"
   ]
  },
  {
   "cell_type": "markdown",
   "metadata": {},
   "source": [
    "Conclusion:The best model for classification dataset is the Support Vector Classifier with linear Kernel and C value as 1."
   ]
  },
  {
   "cell_type": "markdown",
   "metadata": {},
   "source": [
    "## Project Part 2"
   ]
  },
  {
   "cell_type": "markdown",
   "metadata": {},
   "source": [
    "### Applying Voting Classifiers"
   ]
  },
  {
   "cell_type": "markdown",
   "metadata": {},
   "source": [
    "#### Hard voting taking into consideration the best scenarios from the individual models"
   ]
  },
  {
   "cell_type": "code",
   "execution_count": 37,
   "metadata": {},
   "outputs": [],
   "source": [
    "from sklearn.neighbors import KNeighborsClassifier\n",
    "from sklearn.ensemble import VotingClassifier\n",
    "from sklearn.linear_model import LogisticRegression\n",
    "from sklearn.svm import SVC"
   ]
  },
  {
   "cell_type": "code",
   "execution_count": 38,
   "metadata": {},
   "outputs": [
    {
     "name": "stdout",
     "output_type": "stream",
     "text": [
      "LogisticRegression 0.7625\n",
      "KNeighborsClassifier 0.95\n",
      "SVC 0.23\n",
      "VotingClassifier 0.845\n"
     ]
    }
   ],
   "source": [
    "log_clf = LogisticRegression()\n",
    "log_clf.fit(X_train, y_train)\n",
    "knn_clf = KNeighborsClassifier(11)\n",
    "knn_clf.fit(X_train, y_train)\n",
    "svm_clf = SVC(C = 1, probability = True)\n",
    "svm_clf.fit(X_train, y_train)\n",
    "\n",
    "voting_clf = VotingClassifier(estimators=[('lr', log_clf), ('knn', knn_clf), ('svc', svm_clf)], voting='hard')\n",
    "voting_clf.fit(X_train, y_train)\n",
    "\n",
    "from sklearn.metrics import accuracy_score\n",
    "for clf in (log_clf, knn_clf, svm_clf, voting_clf):\n",
    "    clf.fit(X_train, y_train)\n",
    "    y_pred = clf.predict(X_test)\n",
    "    print(clf.__class__.__name__, accuracy_score(y_test, y_pred))"
   ]
  },
  {
   "cell_type": "markdown",
   "metadata": {},
   "source": [
    "#### Soft voting taking into consideration the best scenarios from the individual models\n"
   ]
  },
  {
   "cell_type": "code",
   "execution_count": 39,
   "metadata": {},
   "outputs": [
    {
     "name": "stdout",
     "output_type": "stream",
     "text": [
      "LogisticRegression 0.7625\n",
      "KNeighborsClassifier 0.95\n",
      "SVC 0.23\n",
      "VotingClassifier 0.9325\n"
     ]
    }
   ],
   "source": [
    "log_clf = LogisticRegression()\n",
    "log_clf.fit(X_train, y_train)\n",
    "knn_clf = KNeighborsClassifier(11)\n",
    "knn_clf.fit(X_train, y_train)\n",
    "svm_clf = SVC(C = 1, probability = True)\n",
    "svm_clf.fit(X_train, y_train)\n",
    "\n",
    "voting_clf = VotingClassifier(estimators=[('lr', log_clf), ('knn', knn_clf), ('svc', svm_clf)], voting='soft')\n",
    "voting_clf.fit(X_train, y_train)\n",
    "\n",
    "from sklearn.metrics import accuracy_score\n",
    "for clf in (log_clf, knn_clf, svm_clf, voting_clf):\n",
    "    clf.fit(X_train, y_train)\n",
    "    y_pred = clf.predict(X_test)\n",
    "    print(clf.__class__.__name__, accuracy_score(y_test, y_pred))"
   ]
  },
  {
   "cell_type": "markdown",
   "metadata": {},
   "source": [
    "### BaggingClassifier with KNN\n",
    "\n",
    "KNN with Bagging gives the accuracy lower than without applying  bagging. It can be concluded from the result that the model promises stability with bagging."
   ]
  },
  {
   "cell_type": "code",
   "execution_count": 40,
   "metadata": {},
   "outputs": [
    {
     "name": "stdout",
     "output_type": "stream",
     "text": [
      "Train score: 0.8875\n",
      "Test score: 0.8950\n",
      "0.88625\n"
     ]
    }
   ],
   "source": [
    "from sklearn.ensemble import BaggingClassifier\n",
    "from sklearn.neighbors import KNeighborsClassifier\n",
    "\n",
    "knn = KNeighborsClassifier(algorithm= 'auto', leaf_size = 1, n_jobs = -1, n_neighbors = 11)\n",
    "bag_clf = BaggingClassifier(knn, n_estimators=500, max_samples=100, bootstrap=True, random_state=0, oob_score=True)\n",
    "bag_clf.fit(X_train, y_train)\n",
    "prediction = bag_clf.predict(X_test)\n",
    "print('Train score: {:.4f}'.format(bag_clf.score(X_train, y_train)))\n",
    "print('Test score: {:.4f}'.format(bag_clf.score(X_test, y_test)))\n",
    "print(bag_clf.oob_score_)"
   ]
  },
  {
   "cell_type": "code",
   "execution_count": 41,
   "metadata": {},
   "outputs": [
    {
     "name": "stdout",
     "output_type": "stream",
     "text": [
      "0.895\n"
     ]
    }
   ],
   "source": [
    "from  sklearn.metrics import accuracy_score\n",
    "print(accuracy_score(y_test, prediction))"
   ]
  },
  {
   "cell_type": "markdown",
   "metadata": {},
   "source": [
    "### BaggingClassifier with LogisticRegression\n",
    "\n",
    "LogisticRegression with Bagging improved the accuracy as well as both the train and test score."
   ]
  },
  {
   "cell_type": "code",
   "execution_count": 42,
   "metadata": {},
   "outputs": [
    {
     "name": "stdout",
     "output_type": "stream",
     "text": [
      "Train score: 0.8644\n",
      "Test score: 0.8325\n",
      "0.8325\n",
      "0.835625\n"
     ]
    }
   ],
   "source": [
    "from sklearn.linear_model import LogisticRegression\n",
    "from  sklearn.metrics import accuracy_score \n",
    "\n",
    "Log = LogisticRegression(penalty = 'l1', C = 100)\n",
    "bag_clf = BaggingClassifier(Log, n_estimators=55, max_samples=200, bootstrap=True, random_state=0, oob_score=True)\n",
    "bag_clf.fit(X_train, y_train)\n",
    "print('Train score: {:.4f}'.format(bag_clf.score(X_train, y_train)))\n",
    "print('Test score: {:.4f}'.format(bag_clf.score(X_test, y_test)))\n",
    "prediction = bag_clf.predict(X_test)\n",
    "print(accuracy_score(y_test, prediction))\n",
    "print(bag_clf.oob_score_)"
   ]
  },
  {
   "cell_type": "markdown",
   "metadata": {},
   "source": [
    "### Pasting with Logistic Regression using best logistic regression parameters\n",
    "\n",
    "Comparing the results of bagging and pasting, the model with pasting seems to be more accurate and acts as more overfitting"
   ]
  },
  {
   "cell_type": "code",
   "execution_count": 43,
   "metadata": {},
   "outputs": [
    {
     "name": "stdout",
     "output_type": "stream",
     "text": [
      "Train score: 0.8800\n",
      "Test score: 0.8450\n",
      "0.845\n"
     ]
    }
   ],
   "source": [
    "Log = LogisticRegression(penalty = 'l1', C = 100)\n",
    "bag_clf = BaggingClassifier(Log, n_estimators=55, max_samples=200, bootstrap=False, random_state=0)\n",
    "bag_clf.fit(X_train, y_train)\n",
    "print('Train score: {:.4f}'.format(bag_clf.score(X_train, y_train)))\n",
    "print('Test score: {:.4f}'.format(bag_clf.score(X_test, y_test)))\n",
    "prediction = bag_clf.predict(X_test)\n",
    "print(accuracy_score(y_test, prediction))"
   ]
  },
  {
   "cell_type": "markdown",
   "metadata": {},
   "source": [
    "### Pasting with Support Vector Classifier\n",
    "The SVC Model improved by applying pasting ensemble method to the linear SVC."
   ]
  },
  {
   "cell_type": "code",
   "execution_count": 44,
   "metadata": {},
   "outputs": [
    {
     "name": "stdout",
     "output_type": "stream",
     "text": [
      "Train score: 0.9775\n",
      "Test score: 0.9775\n",
      "0.9775\n"
     ]
    }
   ],
   "source": [
    "from sklearn.svm import SVC\n",
    "svc = SVC(kernel = 'linear', C = 1)\n",
    "bag_clf = BaggingClassifier(svc, n_estimators=70, max_samples=200, bootstrap=False, random_state=0)\n",
    "bag_clf.fit(X_train, y_train)\n",
    "print('Train score: {:.4f}'.format(bag_clf.score(X_train, y_train)))\n",
    "print('Test score: {:.4f}'.format(bag_clf.score(X_test, y_test)))\n",
    "prediction = bag_clf.predict(X_test)\n",
    "print(accuracy_score(y_test, prediction))"
   ]
  },
  {
   "cell_type": "markdown",
   "metadata": {},
   "source": [
    "### Adaboost Boosting with Decision Tree\n",
    "Decision Tree with adaboosting didn't perform well as the accuracy of the model is decreased. The nest n_estimator is 200.\n",
    "From the feature_importance parameter, ram, battery_power, px_width and px_height are the most important features in predictin the price of the mobile phone "
   ]
  },
  {
   "cell_type": "code",
   "execution_count": 45,
   "metadata": {},
   "outputs": [
    {
     "name": "stdout",
     "output_type": "stream",
     "text": [
      "Train score: 0.5050\n",
      "Test score: 0.4725\n",
      "0.4725\n"
     ]
    }
   ],
   "source": [
    "from sklearn.ensemble import AdaBoostClassifier\n",
    "from sklearn.tree import DecisionTreeClassifier\n",
    "\n",
    "ada_clf = AdaBoostClassifier(DecisionTreeClassifier(max_depth=1), n_estimators=200, algorithm=\"SAMME.R\", learning_rate=0.5, random_state=0)\n",
    "ada_clf.fit(X_train, y_train)\n",
    "print('Train score: {:.4f}'.format(ada_clf.score(X_train, y_train)))\n",
    "print('Test score: {:.4f}'.format(ada_clf.score(X_test, y_test)))\n",
    "prediction = ada_clf.predict(X_test)\n",
    "print(accuracy_score(y_test, prediction))\n"
   ]
  },
  {
   "cell_type": "code",
   "execution_count": 17,
   "metadata": {},
   "outputs": [
    {
     "name": "stdout",
     "output_type": "stream",
     "text": [
      "Train score: 0.4981\n",
      "Test score: 0.4875\n",
      "0.4875\n"
     ]
    }
   ],
   "source": [
    "from sklearn.ensemble import AdaBoostClassifier\n",
    "from sklearn.linear_model import LogisticRegression\n",
    "from  sklearn.metrics import accuracy_score \n",
    "\n",
    "Log = LogisticRegression(penalty = 'l1', C = 100)\n",
    "ada_clf = AdaBoostClassifier(Log, n_estimators=200, algorithm=\"SAMME.R\", learning_rate=0.5, random_state=0)\n",
    "ada_clf.fit(X_train, y_train)\n",
    "print('Train score: {:.4f}'.format(ada_clf.score(X_train, y_train)))\n",
    "print('Test score: {:.4f}'.format(ada_clf.score(X_test, y_test)))\n",
    "prediction = ada_clf.predict(X_test)\n",
    "print(accuracy_score(y_test, prediction))"
   ]
  },
  {
   "cell_type": "markdown",
   "metadata": {},
   "source": [
    "### Gradient Boosting: comapring learning rate\n",
    "On changing the learning rate for gradient boosting, the slower learning rate gives better accuracy with the model.\n",
    "Lower learning rate is overfitting the model."
   ]
  },
  {
   "cell_type": "code",
   "execution_count": 47,
   "metadata": {},
   "outputs": [
    {
     "name": "stdout",
     "output_type": "stream",
     "text": [
      "Train score: 0.8575\n",
      "Test score: 0.8175\n",
      "0.8175\n"
     ]
    }
   ],
   "source": [
    "from  sklearn.ensemble import GradientBoostingClassifier\n",
    "\n",
    "gbrt = GradientBoostingClassifier(max_depth=2, n_estimators=3, learning_rate=1.0, random_state=0)\n",
    "gbrt.fit(X_train, y_train)\n",
    "print('Train score: {:.4f}'.format(gbrt.score(X_train, y_train)))\n",
    "print('Test score: {:.4f}'.format(gbrt.score(X_test, y_test)))\n",
    "prediction = gbrt.predict(X_test)\n",
    "print(accuracy_score(y_test, prediction))"
   ]
  },
  {
   "cell_type": "code",
   "execution_count": 48,
   "metadata": {},
   "outputs": [
    {
     "name": "stdout",
     "output_type": "stream",
     "text": [
      "Train score: 0.9975\n",
      "Test score: 0.9225\n",
      "0.9225\n"
     ]
    }
   ],
   "source": [
    "gbrt_slow = GradientBoostingClassifier(max_depth=2, n_estimators=200, learning_rate=0.1, random_state=0)\n",
    "gbrt_slow.fit(X_train, y_train)\n",
    "print('Train score: {:.4f}'.format(gbrt_slow.score(X_train, y_train)))\n",
    "print('Test score: {:.4f}'.format(gbrt_slow.score(X_test, y_test)))\n",
    "prediction = gbrt_slow.predict(X_test)\n",
    "print(accuracy_score(y_test, prediction))"
   ]
  },
  {
   "cell_type": "markdown",
   "metadata": {},
   "source": [
    " # PCA Analysis"
   ]
  },
  {
   "cell_type": "code",
   "execution_count": 18,
   "metadata": {},
   "outputs": [],
   "source": [
    "from sklearn.decomposition import PCA\n"
   ]
  },
  {
   "cell_type": "code",
   "execution_count": 19,
   "metadata": {},
   "outputs": [
    {
     "data": {
      "text/plain": [
       "PCA(copy=True, iterated_power='auto', n_components=None, random_state=None,\n",
       "    svd_solver='auto', tol=0.0, whiten=False)"
      ]
     },
     "execution_count": 19,
     "metadata": {},
     "output_type": "execute_result"
    }
   ],
   "source": [
    "pca = PCA()\n",
    "pca.fit(X_train)"
   ]
  },
  {
   "cell_type": "code",
   "execution_count": 20,
   "metadata": {},
   "outputs": [],
   "source": [
    "cumsum = np.cumsum(pca.explained_variance_ratio_)\n",
    "d = np.argmax(cumsum >= 0.95) + 1"
   ]
  },
  {
   "cell_type": "code",
   "execution_count": 21,
   "metadata": {},
   "outputs": [
    {
     "data": {
      "text/plain": [
       "4"
      ]
     },
     "execution_count": 21,
     "metadata": {},
     "output_type": "execute_result"
    }
   ],
   "source": [
    "d"
   ]
  },
  {
   "cell_type": "code",
   "execution_count": 22,
   "metadata": {},
   "outputs": [],
   "source": [
    "pca = PCA(n_components = 4)\n",
    "X_PCA_train = pca.fit_transform(X_train)\n",
    "X_PCA_test = pca.transform(X_test)"
   ]
  },
  {
   "cell_type": "markdown",
   "metadata": {},
   "source": [
    "### 1) KNN Classifier after PCA"
   ]
  },
  {
   "cell_type": "code",
   "execution_count": 23,
   "metadata": {},
   "outputs": [
    {
     "name": "stdout",
     "output_type": "stream",
     "text": [
      "Train score: 0.9550\n",
      "Test score: 0.9250\n",
      "r_square: 0.9407 \n"
     ]
    }
   ],
   "source": [
    "from sklearn.neighbors import KNeighborsClassifier\n",
    "from sklearn import metrics\n",
    "knn = KNeighborsClassifier()\n",
    "knn.fit(X_PCA_train, y_train)\n",
    "prediction = knn.predict(X_PCA_test)\n",
    "print('Train score: {:.4f}'.format(knn.score(X_PCA_train, y_train)))\n",
    "print('Test score: {:.4f}'.format(knn.score(X_PCA_test, y_test)))\n",
    "print(\"r_square: {:.4f} \".format(metrics.r2_score(prediction,y_test)))"
   ]
  },
  {
   "cell_type": "markdown",
   "metadata": {},
   "source": [
    "#### Grid Search for KNN after PCA"
   ]
  },
  {
   "cell_type": "code",
   "execution_count": 55,
   "metadata": {},
   "outputs": [
    {
     "data": {
      "text/plain": [
       "{'algorithm': 'auto', 'leaf_size': 1, 'n_jobs': -1, 'n_neighbors': 9}"
      ]
     },
     "execution_count": 55,
     "metadata": {},
     "output_type": "execute_result"
    }
   ],
   "source": [
    "from sklearn.model_selection import GridSearchCV\n",
    "knn = KNeighborsClassifier()\n",
    "\n",
    "parameters = {'n_neighbors':[2,3,4,5,6,7,8,9,10,11,12,13,14,15,16,17,18,19,20],\n",
    "              'leaf_size':[1,3,5],\n",
    "              'algorithm':['auto', 'kd_tree'],\n",
    "              'n_jobs':[-1]}\n",
    "\n",
    "knn = GridSearchCV(knn, param_grid=parameters)\n",
    "knn = knn.fit(X_PCA_train, y_train)\n",
    "knn.best_params_"
   ]
  },
  {
   "cell_type": "code",
   "execution_count": 56,
   "metadata": {},
   "outputs": [
    {
     "name": "stdout",
     "output_type": "stream",
     "text": [
      "Train score: 0.9556\n",
      "Test score: 0.9375\n",
      "r_square: 0.9512 \n"
     ]
    }
   ],
   "source": [
    "prediction = knn.predict(X_PCA_test)\n",
    "print('Train score: {:.4f}'.format(knn.score(X_PCA_train, y_train)))\n",
    "print('Test score: {:.4f}'.format(knn.score(X_PCA_test, y_test)))\n",
    "print(\"r_square: {:.4f} \".format(metrics.r2_score(prediction,y_test)))"
   ]
  },
  {
   "cell_type": "markdown",
   "metadata": {},
   "source": [
    "#### Fitting the model with best parameters after PCA"
   ]
  },
  {
   "cell_type": "code",
   "execution_count": 57,
   "metadata": {},
   "outputs": [
    {
     "name": "stdout",
     "output_type": "stream",
     "text": [
      "Train score: 0.9519\n",
      "Test score: 0.9475\n",
      "r_square: 0.9587 \n"
     ]
    }
   ],
   "source": [
    "from sklearn.neighbors import KNeighborsClassifier\n",
    "\n",
    "knn = KNeighborsClassifier(algorithm= 'auto', leaf_size = 1, n_jobs = -1, n_neighbors = 11)\n",
    "knn.fit(X_PCA_train, y_train)\n",
    "prediction = knn.predict(X_PCA_test)\n",
    "print('Train score: {:.4f}'.format(knn.score(X_PCA_train, y_train)))\n",
    "print('Test score: {:.4f}'.format(knn.score(X_PCA_test, y_test)))\n",
    "print(\"r_square: {:.4f} \".format(metrics.r2_score(prediction,y_test)))"
   ]
  },
  {
   "cell_type": "markdown",
   "metadata": {},
   "source": [
    "#### Cross validation of KNN Model with PCA"
   ]
  },
  {
   "cell_type": "code",
   "execution_count": 58,
   "metadata": {},
   "outputs": [
    {
     "name": "stdout",
     "output_type": "stream",
     "text": [
      "Avg Train Score:0.9325\n",
      "Avg Test Score:0.9126\n"
     ]
    }
   ],
   "source": [
    "from sklearn.model_selection import cross_val_score\n",
    "train_score_list = cross_val_score(knn,X_PCA_train,y_train,cv=5)\n",
    "test_score_list = cross_val_score(knn,X_PCA_test,y_test,cv=5)\n",
    "print(\"Avg Train Score:%.4f\"%train_score_list.mean())\n",
    "print(\"Avg Test Score:%.4f\"%test_score_list.mean())"
   ]
  },
  {
   "cell_type": "markdown",
   "metadata": {},
   "source": [
    "#### KNN Visualization with PCA"
   ]
  },
  {
   "cell_type": "code",
   "execution_count": 24,
   "metadata": {},
   "outputs": [],
   "source": [
    "from sklearn.neighbors import KNeighborsClassifier\n",
    "\n",
    "train_score_array = []\n",
    "test_score_array = []\n",
    "\n",
    "for k in range(1,20):\n",
    "    knn = KNeighborsClassifier(k)\n",
    "    knn.fit(X_PCA_train, y_train)\n",
    "    train_score_array.append(knn.score(X_PCA_train, y_train))\n",
    "    test_score_array.append(knn.score(X_PCA_test, y_test))"
   ]
  },
  {
   "cell_type": "code",
   "execution_count": 25,
   "metadata": {},
   "outputs": [
    {
     "data": {
      "text/plain": [
       "<matplotlib.legend.Legend at 0x29a04418508>"
      ]
     },
     "execution_count": 25,
     "metadata": {},
     "output_type": "execute_result"
    },
    {
     "data": {
      "image/png": "[encoded data removed]",
      "text/plain": [
       "<Figure size 432x288 with 1 Axes>"
      ]
     },
     "metadata": {
      "needs_background": "light"
     },
     "output_type": "display_data"
    }
   ],
   "source": [
    "x_axis = range(1,20)\n",
    "%matplotlib inline\n",
    "plt.plot(x_axis, train_score_array, label = 'Train Score', c = 'g')\n",
    "plt.plot(x_axis, test_score_array, label = 'Test Score', c='b')\n",
    "plt.xlabel('k')\n",
    "plt.ylabel('Accuracy')\n",
    "plt.legend()"
   ]
  },
  {
   "cell_type": "markdown",
   "metadata": {},
   "source": [
    "### 2) Linear SVC with PCA"
   ]
  },
  {
   "cell_type": "code",
   "execution_count": 61,
   "metadata": {},
   "outputs": [
    {
     "name": "stdout",
     "output_type": "stream",
     "text": [
      "Train score: 0.8375\n",
      "Test score: 0.8375\n",
      "r_square: 0.8813 \n"
     ]
    }
   ],
   "source": [
    "from sklearn.svm import LinearSVC\n",
    "\n",
    "linearsvc = LinearSVC(dual = False)\n",
    "linearsvc.fit(X_PCA_train,y_train)\n",
    "print('Train score: {:.4f}'.format(linearsvc.score(X_PCA_train, y_train)))\n",
    "print('Test score: {:.4f}'.format(linearsvc.score(X_PCA_test, y_test)))\n",
    "prediction = linearsvc.predict(X_PCA_test)\n",
    "print(\"r_square: {:.4f} \".format(metrics.r2_score(prediction,y_test)))"
   ]
  },
  {
   "cell_type": "markdown",
   "metadata": {},
   "source": [
    "#### Grid Search for LinearSVC with PCA"
   ]
  },
  {
   "cell_type": "code",
   "execution_count": 62,
   "metadata": {},
   "outputs": [
    {
     "data": {
      "text/plain": [
       "{'C': 10, 'penalty': 'l1'}"
      ]
     },
     "execution_count": 62,
     "metadata": {},
     "output_type": "execute_result"
    }
   ],
   "source": [
    "from sklearn.model_selection import GridSearchCV\n",
    "parameters = [{'C': [0.001, 0.01, 0.1, 1, 10, 100], 'penalty': ['l1','l2']}]\n",
    "grid_search = GridSearchCV(estimator = linearsvc,\n",
    "                           param_grid = parameters,\n",
    "                           scoring = 'accuracy')\n",
    "grid_search = grid_search.fit(X_PCA_train, y_train)\n",
    "grid_search.best_params_"
   ]
  },
  {
   "cell_type": "markdown",
   "metadata": {},
   "source": [
    "#### Fitting the model with best parameters with PCA"
   ]
  },
  {
   "cell_type": "code",
   "execution_count": 63,
   "metadata": {},
   "outputs": [
    {
     "name": "stdout",
     "output_type": "stream",
     "text": [
      "Train score: 0.8606\n",
      "Test score: 0.8600\n",
      "r_square: 0.8927 \n"
     ]
    }
   ],
   "source": [
    "from sklearn.svm import LinearSVC\n",
    "\n",
    "linearsvc = LinearSVC(penalty = 'l1', C= 10, dual=False)\n",
    "linearsvc.fit(X_PCA_train,y_train)\n",
    "print('Train score: {:.4f}'.format(linearsvc.score(X_PCA_train, y_train)))\n",
    "print('Test score: {:.4f}'.format(linearsvc.score(X_PCA_test, y_test)))\n",
    "prediction = linearsvc.predict(X_PCA_test)\n",
    "print(\"r_square: {:.4f} \".format(metrics.r2_score(prediction,y_test)))"
   ]
  },
  {
   "cell_type": "markdown",
   "metadata": {},
   "source": [
    "#### Cross Validation for linearSVC with PCA"
   ]
  },
  {
   "cell_type": "code",
   "execution_count": 64,
   "metadata": {},
   "outputs": [
    {
     "name": "stdout",
     "output_type": "stream",
     "text": [
      "Avg Train Score:0.8575\n",
      "Avg Test Score:0.8623\n"
     ]
    }
   ],
   "source": [
    "from sklearn.model_selection import cross_val_score\n",
    "train_score_list = cross_val_score(linearsvc,X_PCA_train,y_train,cv=5)\n",
    "test_score_list = cross_val_score(linearsvc,X_PCA_test,y_test,cv=5)\n",
    "print(\"Avg Train Score:%.4f\"%train_score_list.mean())\n",
    "print(\"Avg Test Score:%.4f\"%test_score_list.mean())"
   ]
  },
  {
   "cell_type": "markdown",
   "metadata": {},
   "source": [
    "### 3) Logistic Regression with PCA"
   ]
  },
  {
   "cell_type": "code",
   "execution_count": 65,
   "metadata": {},
   "outputs": [
    {
     "name": "stdout",
     "output_type": "stream",
     "text": [
      "Train score: 0.8387\n",
      "Test score: 0.8400\n",
      "r_square: 0.8823 \n"
     ]
    }
   ],
   "source": [
    "# Fitting logistic regression to the Training set\n",
    "from sklearn.linear_model import LogisticRegression\n",
    "Log = LogisticRegression()\n",
    "Log.fit(X_PCA_train, y_train)\n",
    "print('Train score: {:.4f}'.format(Log.score(X_PCA_train, y_train)))\n",
    "print('Test score: {:.4f}'.format(Log.score(X_PCA_test, y_test)))\n",
    "prediction = Log.predict(X_PCA_test)\n",
    "print(\"r_square: {:.4f} \".format(metrics.r2_score(prediction,y_test)))"
   ]
  },
  {
   "cell_type": "markdown",
   "metadata": {},
   "source": [
    "#### Grid Search for logistic Regression with PCA"
   ]
  },
  {
   "cell_type": "code",
   "execution_count": 66,
   "metadata": {},
   "outputs": [
    {
     "data": {
      "text/plain": [
       "{'C': 10, 'penalty': 'l1'}"
      ]
     },
     "execution_count": 66,
     "metadata": {},
     "output_type": "execute_result"
    }
   ],
   "source": [
    "from sklearn.model_selection import GridSearchCV\n",
    "parameters = [{'C': [0.001, 0.01, 0.1, 1, 10, 100,1000], 'penalty': ['l2','l1']}]\n",
    "grid_search = GridSearchCV(estimator = Log,\n",
    "                           param_grid = parameters,\n",
    "                           scoring = 'accuracy', cv=5, n_jobs = -1)\n",
    "grid_search = grid_search.fit(X_PCA_train, y_train)\n",
    "grid_search.best_params_"
   ]
  },
  {
   "cell_type": "markdown",
   "metadata": {},
   "source": [
    "#### Fitting model with best parameters with PCA"
   ]
  },
  {
   "cell_type": "code",
   "execution_count": 67,
   "metadata": {},
   "outputs": [
    {
     "name": "stdout",
     "output_type": "stream",
     "text": [
      "Train score: 0.8631\n",
      "Test score: 0.8600\n",
      "r_square: 0.8923 \n"
     ]
    }
   ],
   "source": [
    "from sklearn.linear_model import LogisticRegression\n",
    "Log = LogisticRegression(penalty = 'l1', C = 100)\n",
    "Log.fit(X_PCA_train, y_train)\n",
    "print('Train score: {:.4f}'.format(Log.score(X_PCA_train, y_train)))\n",
    "print('Test score: {:.4f}'.format(Log.score(X_PCA_test, y_test)))\n",
    "prediction = Log.predict(X_PCA_test)\n",
    "print(\"r_square: {:.4f} \".format(metrics.r2_score(prediction,y_test)))"
   ]
  },
  {
   "cell_type": "markdown",
   "metadata": {},
   "source": [
    "#### Cross Validation for logistic Regression with PCA"
   ]
  },
  {
   "cell_type": "code",
   "execution_count": 68,
   "metadata": {},
   "outputs": [
    {
     "name": "stdout",
     "output_type": "stream",
     "text": [
      "Avg Train Score:0.8606\n",
      "Avg Test Score:0.8525\n"
     ]
    }
   ],
   "source": [
    "from sklearn.model_selection import cross_val_score\n",
    "train_score_list = cross_val_score(Log,X_PCA_train,y_train,cv=5)\n",
    "test_score_list = cross_val_score(Log,X_PCA_test,y_test,cv=5)\n",
    "print(\"Avg Train Score:%.4f\"%train_score_list.mean())\n",
    "print(\"Avg Test Score:%.4f\"%test_score_list.mean())"
   ]
  },
  {
   "cell_type": "markdown",
   "metadata": {},
   "source": [
    "#### Logistic Visualization with PCA"
   ]
  },
  {
   "cell_type": "code",
   "execution_count": 69,
   "metadata": {},
   "outputs": [],
   "source": [
    "from sklearn.linear_model import LogisticRegression\n",
    "\n",
    "c_range = [0.001, 0.01, 0.1, 1, 10, 100, 1000]\n",
    "train_score_l1 = []\n",
    "train_score_l2 = []\n",
    "test_score_l1 = []\n",
    "test_score_l2 = []\n",
    "\n",
    "for c in c_range:\n",
    "    log_l1 = LogisticRegression(penalty = 'l1', C = c)\n",
    "    log_l2 = LogisticRegression(penalty = 'l2', C = c)\n",
    "    log_l1.fit(X_PCA_train, y_train)\n",
    "    log_l2.fit(X_PCA_train, y_train)\n",
    "    train_score_l1.append(log_l1.score(X_PCA_train, y_train))\n",
    "    train_score_l2.append(log_l2.score(X_PCA_train, y_train))\n",
    "    test_score_l1.append(log_l1.score(X_PCA_test, y_test))\n",
    "    test_score_l2.append(log_l2.score(X_PCA_test, y_test))"
   ]
  },
  {
   "cell_type": "code",
   "execution_count": 70,
   "metadata": {},
   "outputs": [
    {
     "data": {
      "image/png": "[encoded data removed]",
      "text/plain": [
       "<Figure size 432x288 with 1 Axes>"
      ]
     },
     "metadata": {
      "needs_background": "light"
     },
     "output_type": "display_data"
    }
   ],
   "source": [
    "import matplotlib.pyplot as plt\n",
    "%matplotlib inline\n",
    "\n",
    "plt.plot(c_range, train_score_l1, label = 'Train score, penalty = l1')\n",
    "plt.plot(c_range, test_score_l1, label = 'Test score, penalty = l1')\n",
    "plt.plot(c_range, train_score_l2, label = 'Train score, penalty = l2')\n",
    "plt.plot(c_range, test_score_l2, label = 'Test score, penalty = l2')\n",
    "plt.legend()\n",
    "plt.xlabel('Regularization parameter: C')\n",
    "plt.ylabel('Accuracy')\n",
    "plt.xscale('log')"
   ]
  },
  {
   "cell_type": "markdown",
   "metadata": {},
   "source": [
    "### 4) SVC with PCA"
   ]
  },
  {
   "cell_type": "code",
   "execution_count": 48,
   "metadata": {},
   "outputs": [
    {
     "name": "stdout",
     "output_type": "stream",
     "text": [
      "Train score: 1.0000\n",
      "Test score: 0.2300\n",
      "r_square: 0.0000 \n"
     ]
    }
   ],
   "source": [
    "from sklearn.svm import SVC\n",
    "svc = SVC()\n",
    "svc.fit(X_PCA_train, y_train)\n",
    "print('Train score: {:.4f}'.format(svc.score(X_PCA_train, y_train)))\n",
    "print('Test score: {:.4f}'.format(svc.score(X_PCA_test, y_test)))\n",
    "prediction = svc.predict(X_PCA_test)\n",
    "print(\"r_square: {:.4f} \".format(metrics.r2_score(prediction,y_test)))"
   ]
  },
  {
   "cell_type": "markdown",
   "metadata": {},
   "source": [
    "#### Fitting the model with best parameters with PCA"
   ]
  },
  {
   "cell_type": "code",
   "execution_count": 29,
   "metadata": {},
   "outputs": [
    {
     "name": "stdout",
     "output_type": "stream",
     "text": [
      "Train score: 0.9625\n",
      "Test score: 0.9650\n",
      "r_square: 0.9723 \n"
     ]
    }
   ],
   "source": [
    "from sklearn.svm import SVC\n",
    "svc = SVC(kernel = 'linear', C = 1)\n",
    "svc.fit(X_PCA_train, y_train)\n",
    "print('Train score: {:.4f}'.format(svc.score(X_PCA_train, y_train)))\n",
    "print('Test score: {:.4f}'.format(svc.score(X_PCA_test, y_test)))\n",
    "prediction = svc.predict(X_PCA_test)\n",
    "print(\"r_square: {:.4f} \".format(metrics.r2_score(prediction,y_test)))"
   ]
  },
  {
   "cell_type": "markdown",
   "metadata": {},
   "source": [
    "#### Cross Validation for SVC with PCA"
   ]
  },
  {
   "cell_type": "code",
   "execution_count": 30,
   "metadata": {},
   "outputs": [
    {
     "name": "stdout",
     "output_type": "stream",
     "text": [
      "Avg Train Score:0.9588\n",
      "Avg Test Score:0.9424\n"
     ]
    }
   ],
   "source": [
    "from sklearn.model_selection import cross_val_score\n",
    "train_score_list = cross_val_score(svc,X_PCA_train,y_train,cv=5)\n",
    "test_score_list = cross_val_score(svc,X_PCA_test,y_test,cv=5)\n",
    "print(\"Avg Train Score:%.4f\"%train_score_list.mean())\n",
    "print(\"Avg Test Score:%.4f\"%test_score_list.mean())\n"
   ]
  },
  {
   "cell_type": "markdown",
   "metadata": {},
   "source": [
    "### 5) Decision Tree with PCA"
   ]
  },
  {
   "cell_type": "code",
   "execution_count": 31,
   "metadata": {},
   "outputs": [
    {
     "name": "stdout",
     "output_type": "stream",
     "text": [
      "Train score: 1.0000\n",
      "Test score: 0.9000\n",
      "r_square: 0.9203 \n"
     ]
    }
   ],
   "source": [
    "from sklearn.tree import DecisionTreeClassifier\n",
    "decisiontree = DecisionTreeClassifier()\n",
    "decisiontree.fit(X_PCA_train, y_train)\n",
    "print('Train score: {:.4f}'.format(decisiontree.score(X_PCA_train, y_train)))\n",
    "print('Test score: {:.4f}'.format(decisiontree.score(X_PCA_test, y_test)))\n",
    "prediction = decisiontree.predict(X_PCA_test)\n",
    "print(\"r_square: {:.4f} \".format(metrics.r2_score(prediction,y_test)))"
   ]
  },
  {
   "cell_type": "markdown",
   "metadata": {},
   "source": [
    "#### Grid Search for Decision Tree with PCA"
   ]
  },
  {
   "cell_type": "code",
   "execution_count": 32,
   "metadata": {},
   "outputs": [
    {
     "data": {
      "text/plain": [
       "{'criterion': 'gini', 'max_depth': 7}"
      ]
     },
     "execution_count": 32,
     "metadata": {},
     "output_type": "execute_result"
    }
   ],
   "source": [
    "from sklearn.model_selection import GridSearchCV\n",
    "parameters = [{\"max_depth\": [1,2,3,4,5,6,7], \"criterion\": [\"gini\", \"entropy\"]}]\n",
    "grid_search = GridSearchCV(estimator = decisiontree,\n",
    "                           param_grid = parameters,\n",
    "                           scoring = 'accuracy')\n",
    "grid_search = grid_search.fit(X_PCA_train, y_train)\n",
    "grid_search.best_params_"
   ]
  },
  {
   "cell_type": "markdown",
   "metadata": {},
   "source": [
    "#### Fitting the model with best parameters with PCA"
   ]
  },
  {
   "cell_type": "code",
   "execution_count": 33,
   "metadata": {},
   "outputs": [
    {
     "name": "stdout",
     "output_type": "stream",
     "text": [
      "Train score: 0.9606\n",
      "Test score: 0.8850\n",
      "r_square: 0.9091 \n"
     ]
    }
   ],
   "source": [
    "from sklearn.tree import DecisionTreeClassifier\n",
    "decisiontree = DecisionTreeClassifier(criterion = 'gini', max_depth = 7)\n",
    "decisiontree.fit(X_PCA_train, y_train)\n",
    "print('Train score: {:.4f}'.format(decisiontree.score(X_PCA_train, y_train)))\n",
    "print('Test score: {:.4f}'.format(decisiontree.score(X_PCA_test, y_test)))\n",
    "prediction = decisiontree.predict(X_PCA_test)\n",
    "print(\"r_square: {:.4f} \".format(metrics.r2_score(prediction,y_test)))"
   ]
  },
  {
   "cell_type": "markdown",
   "metadata": {},
   "source": [
    "#### Cross Validation for Decision Tree with PCA"
   ]
  },
  {
   "cell_type": "code",
   "execution_count": 34,
   "metadata": {},
   "outputs": [
    {
     "name": "stdout",
     "output_type": "stream",
     "text": [
      "Avg Train Score:0.8851\n",
      "Avg Test Score:0.8153\n"
     ]
    }
   ],
   "source": [
    "from sklearn.model_selection import cross_val_score\n",
    "train_score_list = cross_val_score(decisiontree,X_PCA_train,y_train,cv=5)\n",
    "test_score_list = cross_val_score(decisiontree,X_PCA_test,y_test,cv=5)\n",
    "print(\"Avg Train Score:%.4f\"%train_score_list.mean())\n",
    "print(\"Avg Test Score:%.4f\"%test_score_list.mean())"
   ]
  },
  {
   "cell_type": "markdown",
   "metadata": {},
   "source": [
    "Conclusion: All the models are showing a better performance after PCA Analysis. "
   ]
  },
  {
   "cell_type": "markdown",
   "metadata": {},
   "source": [
    "The train score is better with PCA as the model complexity reduces with reducing the number of features.\n",
    "The test score reduces with PCA as the model will lose information during compression.\n",
    "Except SVC without the best parameter, all the models performed better with PCA"
   ]
  },
  {
   "cell_type": "markdown",
   "metadata": {},
   "source": [
    "# Deep Learning"
   ]
  },
  {
   "cell_type": "code",
   "execution_count": 35,
   "metadata": {},
   "outputs": [
    {
     "name": "stderr",
     "output_type": "stream",
     "text": [
      "Using TensorFlow backend.\n"
     ]
    }
   ],
   "source": [
    "from keras.models import Sequential\n",
    "from keras.layers import Dense"
   ]
  },
  {
   "cell_type": "code",
   "execution_count": 38,
   "metadata": {},
   "outputs": [
    {
     "data": {
      "text/plain": [
       "(1600, 20)"
      ]
     },
     "execution_count": 38,
     "metadata": {},
     "output_type": "execute_result"
    }
   ],
   "source": [
    "X_train.shape"
   ]
  },
  {
   "cell_type": "markdown",
   "metadata": {},
   "source": [
    "### Model Creation"
   ]
  },
  {
   "cell_type": "code",
   "execution_count": 44,
   "metadata": {},
   "outputs": [],
   "source": [
    "model = Sequential()\n",
    "model.add(Dense(20, input_dim=20, activation='relu'))\n",
    "model.add(Dense(12, activation='relu'))\n",
    "model.add(Dense(1, activation='sigmoid'))"
   ]
  },
  {
   "cell_type": "code",
   "execution_count": 45,
   "metadata": {},
   "outputs": [],
   "source": [
    "model.compile(loss='binary_crossentropy', optimizer='adam', metrics=['accuracy'])"
   ]
  },
  {
   "cell_type": "code",
   "execution_count": 46,
   "metadata": {},
   "outputs": [
    {
     "name": "stdout",
     "output_type": "stream",
     "text": [
      "Epoch 1/150\n",
      "1600/1600 [==============================] - 0s 140us/step - loss: -1566.1994 - accuracy: 0.2625\n",
      "Epoch 2/150\n",
      "1600/1600 [==============================] - 0s 94us/step - loss: -8351.4203 - accuracy: 0.2550\n",
      "Epoch 3/150\n",
      "1600/1600 [==============================] - 0s 89us/step - loss: -27855.2809 - accuracy: 0.2550\n",
      "Epoch 4/150\n",
      "1600/1600 [==============================] - 0s 105us/step - loss: -71741.1289 - accuracy: 0.2550\n",
      "Epoch 5/150\n",
      "1600/1600 [==============================] - 0s 83us/step - loss: -153972.8158 - accuracy: 0.2550\n",
      "Epoch 6/150\n",
      "1600/1600 [==============================] - 0s 90us/step - loss: -285336.6974 - accuracy: 0.2550\n",
      "Epoch 7/150\n",
      "1600/1600 [==============================] - 0s 86us/step - loss: -469801.0108 - accuracy: 0.2550\n",
      "Epoch 8/150\n",
      "1600/1600 [==============================] - 0s 83us/step - loss: -710748.7427 - accuracy: 0.2550\n",
      "Epoch 9/150\n",
      "1600/1600 [==============================] - 0s 94us/step - loss: -1013016.4251 - accuracy: 0.2550\n",
      "Epoch 10/150\n",
      "1600/1600 [==============================] - 0s 82us/step - loss: -1381420.9434 - accuracy: 0.2550\n",
      "Epoch 11/150\n",
      "1600/1600 [==============================] - 0s 89us/step - loss: -1818570.5042 - accuracy: 0.2550\n",
      "Epoch 12/150\n",
      "1600/1600 [==============================] - 0s 107us/step - loss: -2322058.6969 - accuracy: 0.2550\n",
      "Epoch 13/150\n",
      "1600/1600 [==============================] - 0s 89us/step - loss: -2900158.1815 - accuracy: 0.2550\n",
      "Epoch 14/150\n",
      "1600/1600 [==============================] - 0s 90us/step - loss: -3557015.3660 - accuracy: 0.2550\n",
      "Epoch 15/150\n",
      "1600/1600 [==============================] - 0s 87us/step - loss: -4290949.9353 - accuracy: 0.2550\n",
      "Epoch 16/150\n",
      "1600/1600 [==============================] - 0s 82us/step - loss: -5103553.7096 - accuracy: 0.2550\n",
      "Epoch 17/150\n",
      "1600/1600 [==============================] - 0s 92us/step - loss: -5993747.8787 - accuracy: 0.2550\n",
      "Epoch 18/150\n",
      "1600/1600 [==============================] - 0s 90us/step - loss: -6970271.5386 - accuracy: 0.2550\n",
      "Epoch 19/150\n",
      "1600/1600 [==============================] - 0s 85us/step - loss: -8036610.0477 - accuracy: 0.2550\n",
      "Epoch 20/150\n",
      "1600/1600 [==============================] - 0s 160us/step - loss: -9188468.5728 - accuracy: 0.2550\n",
      "Epoch 21/150\n",
      "1600/1600 [==============================] - 0s 121us/step - loss: -10430535.7289 - accuracy: 0.2550\n",
      "Epoch 22/150\n",
      "1600/1600 [==============================] - 0s 95us/step - loss: -11770147.4152 - accuracy: 0.2550\n",
      "Epoch 23/150\n",
      "1600/1600 [==============================] - 0s 122us/step - loss: -13204588.0137 - accuracy: 0.2550\n",
      "Epoch 24/150\n",
      "1600/1600 [==============================] - 0s 130us/step - loss: -14730577.7599 - accuracy: 0.2550\n",
      "Epoch 25/150\n",
      "1600/1600 [==============================] - 0s 112us/step - loss: -16350708.2238 - accuracy: 0.2550\n",
      "Epoch 26/150\n",
      "1600/1600 [==============================] - 0s 159us/step - loss: -18070256.0375 - accuracy: 0.2550\n",
      "Epoch 27/150\n",
      "1600/1600 [==============================] - 0s 101us/step - loss: -19876516.6294 - accuracy: 0.2550\n",
      "Epoch 28/150\n",
      "1600/1600 [==============================] - 0s 126us/step - loss: -21783534.5535 - accuracy: 0.2550\n",
      "Epoch 29/150\n",
      "1600/1600 [==============================] - 0s 114us/step - loss: -23781935.2979 - accuracy: 0.2550\n",
      "Epoch 30/150\n",
      "1600/1600 [==============================] - 0s 102us/step - loss: -25877741.4203 - accuracy: 0.2550\n",
      "Epoch 31/150\n",
      "1600/1600 [==============================] - 0s 83us/step - loss: -28079000.0904 - accuracy: 0.2550\n",
      "Epoch 32/150\n",
      "1600/1600 [==============================] - 0s 85us/step - loss: -30383353.9381 - accuracy: 0.2550\n",
      "Epoch 33/150\n",
      "1600/1600 [==============================] - 0s 116us/step - loss: -32785950.7587 - accuracy: 0.2550\n",
      "Epoch 34/150\n",
      "1600/1600 [==============================] - 0s 101us/step - loss: -35299814.0656 - accuracy: 0.2550\n",
      "Epoch 35/150\n",
      "1600/1600 [==============================] - 0s 89us/step - loss: -37917557.3570 - accuracy: 0.2550\n",
      "Epoch 36/150\n",
      "1600/1600 [==============================] - 0s 89us/step - loss: -40647604.8723 - accuracy: 0.2550\n",
      "Epoch 37/150\n",
      "1600/1600 [==============================] - 0s 86us/step - loss: -43496863.4699 - accuracy: 0.2550\n",
      "Epoch 38/150\n",
      "1600/1600 [==============================] - 0s 83us/step - loss: -46459809.5125 - accuracy: 0.2550\n",
      "Epoch 39/150\n",
      "1600/1600 [==============================] - 0s 92us/step - loss: -49549349.3534 - accuracy: 0.2550\n",
      "Epoch 40/150\n",
      "1600/1600 [==============================] - 0s 105us/step - loss: -52761040.5832 - accuracy: 0.2550\n",
      "Epoch 41/150\n",
      "1600/1600 [==============================] - 0s 123us/step - loss: -56099680.6812 - accuracy: 0.2550\n",
      "Epoch 42/150\n",
      "1600/1600 [==============================] - 0s 107us/step - loss: -59548341.2812 - accuracy: 0.2550\n",
      "Epoch 43/150\n",
      "1600/1600 [==============================] - 0s 115us/step - loss: -63125537.2332 - accuracy: 0.2550\n",
      "Epoch 44/150\n",
      "1600/1600 [==============================] - 0s 118us/step - loss: -66818121.1656 - accuracy: 0.2550\n",
      "Epoch 45/150\n",
      "1600/1600 [==============================] - 0s 127us/step - loss: -70617431.2297 - accuracy: 0.2550\n",
      "Epoch 46/150\n",
      "1600/1600 [==============================] - 0s 133us/step - loss: -74531097.6188 - accuracy: 0.2550\n",
      "Epoch 47/150\n",
      "1600/1600 [==============================] - 0s 151us/step - loss: -78586048.1986 - accuracy: 0.2550\n",
      "Epoch 48/150\n",
      "1600/1600 [==============================] - 0s 121us/step - loss: -82766502.5367 - accuracy: 0.2550\n",
      "Epoch 49/150\n",
      "1600/1600 [==============================] - 0s 124us/step - loss: -87098810.6344 - accuracy: 0.2550\n",
      "Epoch 50/150\n",
      "1600/1600 [==============================] - 0s 138us/step - loss: -91564982.5469 - accuracy: 0.2550\n",
      "Epoch 51/150\n",
      "1600/1600 [==============================] - 0s 131us/step - loss: -96169646.6047 - accuracy: 0.2550\n",
      "Epoch 52/150\n",
      "1600/1600 [==============================] - 0s 171us/step - loss: -100897608.9352 - accuracy: 0.2550\n",
      "Epoch 53/150\n",
      "1600/1600 [==============================] - 0s 174us/step - loss: -105760508.2687 - accuracy: 0.2550\n",
      "Epoch 54/150\n",
      "1600/1600 [==============================] - 0s 178us/step - loss: -110769456.1625 - accuracy: 0.2550\n",
      "Epoch 55/150\n",
      "1600/1600 [==============================] - 0s 184us/step - loss: -115912261.3328 - accuracy: 0.2550\n",
      "Epoch 56/150\n",
      "1600/1600 [==============================] - 0s 179us/step - loss: -121209215.8281 - accuracy: 0.2550\n",
      "Epoch 57/150\n",
      "1600/1600 [==============================] - 0s 161us/step - loss: -126639159.1297 - accuracy: 0.2550\n",
      "Epoch 58/150\n",
      "1600/1600 [==============================] - 0s 164us/step - loss: -132221578.0984 - accuracy: 0.2550\n",
      "Epoch 59/150\n",
      "1600/1600 [==============================] - 0s 128us/step - loss: -137944678.7312 - accuracy: 0.2550\n",
      "Epoch 60/150\n",
      "1600/1600 [==============================] - 0s 143us/step - loss: -143814678.4313 - accuracy: 0.2550\n",
      "Epoch 61/150\n",
      "1600/1600 [==============================] - 0s 192us/step - loss: -149830204.7750 - accuracy: 0.2550\n",
      "Epoch 62/150\n",
      "1600/1600 [==============================] - 0s 167us/step - loss: -155987066.4419 - accuracy: 0.2550\n",
      "Epoch 63/150\n",
      "1600/1600 [==============================] - 0s 156us/step - loss: -162293019.1234 - accuracy: 0.2550\n",
      "Epoch 64/150\n",
      "1600/1600 [==============================] - 0s 145us/step - loss: -168765492.7469 - accuracy: 0.2550\n",
      "Epoch 65/150\n",
      "1600/1600 [==============================] - 0s 151us/step - loss: -175389748.2812 - accuracy: 0.2550\n",
      "Epoch 66/150\n",
      "1600/1600 [==============================] - 0s 165us/step - loss: -182190541.7250 - accuracy: 0.2550\n",
      "Epoch 67/150\n",
      "1600/1600 [==============================] - 0s 136us/step - loss: -189133074.6453 - accuracy: 0.2550\n",
      "Epoch 68/150\n",
      "1600/1600 [==============================] - 0s 158us/step - loss: -196248090.9781 - accuracy: 0.2550\n",
      "Epoch 69/150\n",
      "1600/1600 [==============================] - 0s 171us/step - loss: -203544163.2969 - accuracy: 0.2550\n",
      "Epoch 70/150\n",
      "1600/1600 [==============================] - 0s 140us/step - loss: -210988442.3688 - accuracy: 0.2550\n",
      "Epoch 71/150\n",
      "1600/1600 [==============================] - 0s 178us/step - loss: -218592023.7594 - accuracy: 0.2550\n",
      "Epoch 72/150\n",
      "1600/1600 [==============================] - 0s 137us/step - loss: -226345450.6656 - accuracy: 0.2550\n",
      "Epoch 73/150\n"
     ]
    },
    {
     "name": "stdout",
     "output_type": "stream",
     "text": [
      "1600/1600 [==============================] - 0s 144us/step - loss: -234266869.6422 - accuracy: 0.2550\n",
      "Epoch 74/150\n",
      "1600/1600 [==============================] - 0s 125us/step - loss: -242345664.5266 - accuracy: 0.2550\n",
      "Epoch 75/150\n",
      "1600/1600 [==============================] - 0s 144us/step - loss: -250608950.4313 - accuracy: 0.2550\n",
      "Epoch 76/150\n",
      "1600/1600 [==============================] - 0s 176us/step - loss: -259001496.4430 - accuracy: 0.2550\n",
      "Epoch 77/150\n",
      "1600/1600 [==============================] - ETA: 0s - loss: -263115193.0840 - accuracy: 0.250 - 0s 117us/step - loss: -267580361.8125 - accuracy: 0.2550\n",
      "Epoch 78/150\n",
      "1600/1600 [==============================] - 0s 116us/step - loss: -276340551.6359 - accuracy: 0.2550\n",
      "Epoch 79/150\n",
      "1600/1600 [==============================] - 0s 127us/step - loss: -285287520.6250 - accuracy: 0.2550\n",
      "Epoch 80/150\n",
      "1600/1600 [==============================] - 0s 116us/step - loss: -294447705.7437 - accuracy: 0.2550\n",
      "Epoch 81/150\n",
      "1600/1600 [==============================] - 0s 118us/step - loss: -303765322.8219 - accuracy: 0.2550\n",
      "Epoch 82/150\n",
      "1600/1600 [==============================] - 0s 146us/step - loss: -313264474.2537 - accuracy: 0.2550\n",
      "Epoch 83/150\n",
      "1600/1600 [==============================] - 0s 111us/step - loss: -322958307.5125 - accuracy: 0.2550\n",
      "Epoch 84/150\n",
      "1600/1600 [==============================] - 0s 115us/step - loss: -332854250.0824 - accuracy: 0.2550\n",
      "Epoch 85/150\n",
      "1600/1600 [==============================] - 0s 116us/step - loss: -342908431.1000 - accuracy: 0.2550\n",
      "Epoch 86/150\n",
      "1600/1600 [==============================] - 0s 110us/step - loss: -353094049.7375 - accuracy: 0.2550\n",
      "Epoch 87/150\n",
      "1600/1600 [==============================] - 0s 107us/step - loss: -363451195.9500 - accuracy: 0.2550\n",
      "Epoch 88/150\n",
      "1600/1600 [==============================] - 0s 121us/step - loss: -373996315.3750 - accuracy: 0.2550\n",
      "Epoch 89/150\n",
      "1600/1600 [==============================] - 0s 145us/step - loss: -384725495.0375 - accuracy: 0.2550\n",
      "Epoch 90/150\n",
      "1600/1600 [==============================] - 0s 104us/step - loss: -395678958.6625 - accuracy: 0.2550\n",
      "Epoch 91/150\n",
      "1600/1600 [==============================] - 0s 116us/step - loss: -406865160.8000 - accuracy: 0.2550\n",
      "Epoch 92/150\n",
      "1600/1600 [==============================] - 0s 117us/step - loss: -418231498.9422 - accuracy: 0.2550\n",
      "Epoch 93/150\n",
      "1600/1600 [==============================] - 0s 121us/step - loss: -429809843.6625 - accuracy: 0.2550\n",
      "Epoch 94/150\n",
      "1600/1600 [==============================] - 0s 132us/step - loss: -441548118.5500 - accuracy: 0.2550\n",
      "Epoch 95/150\n",
      "1600/1600 [==============================] - 0s 138us/step - loss: -453472791.7875 - accuracy: 0.2550\n",
      "Epoch 96/150\n",
      "1600/1600 [==============================] - 0s 128us/step - loss: -465617235.4125 - accuracy: 0.2550\n",
      "Epoch 97/150\n",
      "1600/1600 [==============================] - 0s 132us/step - loss: -477995318.7750 - accuracy: 0.2550\n",
      "Epoch 98/150\n",
      "1600/1600 [==============================] - 0s 131us/step - loss: -490572833.9609 - accuracy: 0.2550\n",
      "Epoch 99/150\n",
      "1600/1600 [==============================] - 0s 144us/step - loss: -503343140.0047 - accuracy: 0.2550\n",
      "Epoch 100/150\n",
      "1600/1600 [==============================] - 0s 142us/step - loss: -516338867.7875 - accuracy: 0.2550\n",
      "Epoch 101/150\n",
      "1600/1600 [==============================] - 0s 147us/step - loss: -529549625.0875 - accuracy: 0.2550\n",
      "Epoch 102/150\n",
      "1600/1600 [==============================] - 0s 178us/step - loss: -542986138.5656 - accuracy: 0.2550\n",
      "Epoch 103/150\n",
      "1600/1600 [==============================] - 0s 145us/step - loss: -556621817.0250 - accuracy: 0.2550\n",
      "Epoch 104/150\n",
      "1600/1600 [==============================] - 0s 114us/step - loss: -570576706.4438 - accuracy: 0.2550\n",
      "Epoch 105/150\n",
      "1600/1600 [==============================] - 0s 161us/step - loss: -584724414.4688 - accuracy: 0.2550\n",
      "Epoch 106/150\n",
      "1600/1600 [==============================] - 0s 114us/step - loss: -599069754.5625 - accuracy: 0.2550\n",
      "Epoch 107/150\n",
      "1600/1600 [==============================] - 0s 128us/step - loss: -613627962.5938 - accuracy: 0.2550\n",
      "Epoch 108/150\n",
      "1600/1600 [==============================] - 0s 122us/step - loss: -628392561.2500 - accuracy: 0.2550\n",
      "Epoch 109/150\n",
      "1600/1600 [==============================] - 0s 123us/step - loss: -643410587.4562 - accuracy: 0.2550\n",
      "Epoch 110/150\n",
      "1600/1600 [==============================] - 0s 125us/step - loss: -658629809.6773 - accuracy: 0.2550\n",
      "Epoch 111/150\n",
      "1600/1600 [==============================] - 0s 155us/step - loss: -674013428.7875 - accuracy: 0.2550\n",
      "Epoch 112/150\n",
      "1600/1600 [==============================] - 0s 110us/step - loss: -689639775.9813 - accuracy: 0.2550\n",
      "Epoch 113/150\n",
      "1600/1600 [==============================] - 0s 105us/step - loss: -705563113.8750 - accuracy: 0.2550\n",
      "Epoch 114/150\n",
      "1600/1600 [==============================] - 0s 103us/step - loss: -721717414.4500 - accuracy: 0.2550\n",
      "Epoch 115/150\n",
      "1600/1600 [==============================] - 0s 105us/step - loss: -738097609.5000 - accuracy: 0.2550\n",
      "Epoch 116/150\n",
      "1600/1600 [==============================] - 0s 100us/step - loss: -754689222.9000 - accuracy: 0.2550\n",
      "Epoch 117/150\n",
      "1600/1600 [==============================] - 0s 110us/step - loss: -771441351.8312 - accuracy: 0.2550\n",
      "Epoch 118/150\n",
      "1600/1600 [==============================] - 0s 106us/step - loss: -788405834.8000 - accuracy: 0.2550\n",
      "Epoch 119/150\n",
      "1600/1600 [==============================] - 0s 113us/step - loss: -805651167.9000 - accuracy: 0.2550\n",
      "Epoch 120/150\n",
      "1600/1600 [==============================] - 0s 101us/step - loss: -823068557.7250 - accuracy: 0.2550\n",
      "Epoch 121/150\n",
      "1600/1600 [==============================] - 0s 101us/step - loss: -840751781.6125 - accuracy: 0.2550\n",
      "Epoch 122/150\n",
      "1600/1600 [==============================] - 0s 108us/step - loss: -858638942.1750 - accuracy: 0.2550\n",
      "Epoch 123/150\n",
      "1600/1600 [==============================] - 0s 116us/step - loss: -876708142.1425 - accuracy: 0.2550\n",
      "Epoch 124/150\n",
      "1600/1600 [==============================] - 0s 146us/step - loss: -895087557.8328 - accuracy: 0.2550\n",
      "Epoch 125/150\n",
      "1600/1600 [==============================] - 0s 112us/step - loss: -913731190.8687 - accuracy: 0.2550\n",
      "Epoch 126/150\n",
      "1600/1600 [==============================] - 0s 116us/step - loss: -932650680.5125 - accuracy: 0.2550\n",
      "Epoch 127/150\n",
      "1600/1600 [==============================] - 0s 103us/step - loss: -951845252.2750 - accuracy: 0.2550\n",
      "Epoch 128/150\n",
      "1600/1600 [==============================] - 0s 95us/step - loss: -971289084.2000 - accuracy: 0.2550\n",
      "Epoch 129/150\n",
      "1600/1600 [==============================] - 0s 101us/step - loss: -990974497.1844 - accuracy: 0.2550\n",
      "Epoch 130/150\n",
      "1600/1600 [==============================] - 0s 121us/step - loss: -1010991429.6375 - accuracy: 0.2550\n",
      "Epoch 131/150\n",
      "1600/1600 [==============================] - 0s 127us/step - loss: -1031249309.7094 - accuracy: 0.2550\n",
      "Epoch 132/150\n",
      "1600/1600 [==============================] - 0s 105us/step - loss: -1051629963.5750 - accuracy: 0.2550\n",
      "Epoch 133/150\n",
      "1600/1600 [==============================] - 0s 103us/step - loss: -1072243549.4000 - accuracy: 0.2550\n",
      "Epoch 134/150\n",
      "1600/1600 [==============================] - 0s 96us/step - loss: -1093167499.2250 - accuracy: 0.2550\n",
      "Epoch 135/150\n",
      "1600/1600 [==============================] - 0s 102us/step - loss: -1114389337.5500 - accuracy: 0.2550\n",
      "Epoch 136/150\n",
      "1600/1600 [==============================] - 0s 94us/step - loss: -1135867524.7750 - accuracy: 0.2550\n",
      "Epoch 137/150\n",
      "1600/1600 [==============================] - 0s 105us/step - loss: -1157529458.0906 - accuracy: 0.2550\n",
      "Epoch 138/150\n",
      "1600/1600 [==============================] - 0s 115us/step - loss: -1179503435.6250 - accuracy: 0.2550\n",
      "Epoch 139/150\n",
      "1600/1600 [==============================] - 0s 97us/step - loss: -1201740720.7500 - accuracy: 0.2550\n",
      "Epoch 140/150\n",
      "1600/1600 [==============================] - 0s 101us/step - loss: -1224354814.5500 - accuracy: 0.2550\n",
      "Epoch 141/150\n",
      "1600/1600 [==============================] - 0s 100us/step - loss: -1247267943.4688 - accuracy: 0.2550\n",
      "Epoch 142/150\n",
      "1600/1600 [==============================] - 0s 99us/step - loss: -1270528506.7250 - accuracy: 0.2550\n",
      "Epoch 143/150\n"
     ]
    },
    {
     "name": "stdout",
     "output_type": "stream",
     "text": [
      "1600/1600 [==============================] - 0s 102us/step - loss: -1294068700.7800 - accuracy: 0.2550\n",
      "Epoch 144/150\n",
      "1600/1600 [==============================] - 0s 95us/step - loss: -1317806346.3656 - accuracy: 0.2550\n",
      "Epoch 145/150\n",
      "1600/1600 [==============================] - 0s 125us/step - loss: -1341816925.2523 - accuracy: 0.2550\n",
      "Epoch 146/150\n",
      "1600/1600 [==============================] - 0s 105us/step - loss: -1366122575.7125 - accuracy: 0.2550\n",
      "Epoch 147/150\n",
      "1600/1600 [==============================] - 0s 97us/step - loss: -1390745385.2250 - accuracy: 0.2550\n",
      "Epoch 148/150\n",
      "1600/1600 [==============================] - 0s 89us/step - loss: -1415602268.2000 - accuracy: 0.2550\n",
      "Epoch 149/150\n",
      "1600/1600 [==============================] - 0s 94us/step - loss: -1440744874.4125 - accuracy: 0.2550\n",
      "Epoch 150/150\n",
      "1600/1600 [==============================] - 0s 91us/step - loss: -1466181825.7750 - accuracy: 0.2550\n"
     ]
    },
    {
     "data": {
      "text/plain": [
       "<keras.callbacks.callbacks.History at 0x29a0bdcd408>"
      ]
     },
     "execution_count": 46,
     "metadata": {},
     "output_type": "execute_result"
    }
   ],
   "source": [
    "model.fit(X_train, y_train, epochs=150, batch_size=10)"
   ]
  },
  {
   "cell_type": "code",
   "execution_count": 42,
   "metadata": {},
   "outputs": [
    {
     "name": "stdout",
     "output_type": "stream",
     "text": [
      "400/400 [==============================] - 0s 65us/step\n",
      "\n",
      "accuracy: 23.00%\n"
     ]
    }
   ],
   "source": [
    "scores = model.evaluate(X_test, y_test)\n",
    "print(\"\\n%s: %.2f%%\" % (model.metrics_names[1], scores[1]*100))"
   ]
  },
  {
   "cell_type": "code",
   "execution_count": 47,
   "metadata": {},
   "outputs": [
    {
     "data": {
      "text/plain": [
       "array([[1.],\n",
       "       [1.],\n",
       "       [1.],\n",
       "       [1.],\n",
       "       [1.],\n",
       "       [1.],\n",
       "       [1.],\n",
       "       [1.],\n",
       "       [1.],\n",
       "       [1.],\n",
       "       [1.],\n",
       "       [1.],\n",
       "       [1.],\n",
       "       [1.],\n",
       "       [1.],\n",
       "       [1.],\n",
       "       [1.],\n",
       "       [1.],\n",
       "       [1.],\n",
       "       [1.],\n",
       "       [1.],\n",
       "       [1.],\n",
       "       [1.],\n",
       "       [1.],\n",
       "       [1.],\n",
       "       [1.],\n",
       "       [1.],\n",
       "       [1.],\n",
       "       [1.],\n",
       "       [1.],\n",
       "       [1.],\n",
       "       [1.],\n",
       "       [1.],\n",
       "       [1.],\n",
       "       [1.],\n",
       "       [1.],\n",
       "       [1.],\n",
       "       [1.],\n",
       "       [1.],\n",
       "       [1.],\n",
       "       [1.],\n",
       "       [1.],\n",
       "       [1.],\n",
       "       [1.],\n",
       "       [1.],\n",
       "       [1.],\n",
       "       [1.],\n",
       "       [1.],\n",
       "       [1.],\n",
       "       [1.],\n",
       "       [1.],\n",
       "       [1.],\n",
       "       [1.],\n",
       "       [1.],\n",
       "       [1.],\n",
       "       [1.],\n",
       "       [1.],\n",
       "       [1.],\n",
       "       [1.],\n",
       "       [1.],\n",
       "       [1.],\n",
       "       [1.],\n",
       "       [1.],\n",
       "       [1.],\n",
       "       [1.],\n",
       "       [1.],\n",
       "       [1.],\n",
       "       [1.],\n",
       "       [1.],\n",
       "       [1.],\n",
       "       [1.],\n",
       "       [1.],\n",
       "       [1.],\n",
       "       [1.],\n",
       "       [1.],\n",
       "       [1.],\n",
       "       [1.],\n",
       "       [1.],\n",
       "       [1.],\n",
       "       [1.],\n",
       "       [1.],\n",
       "       [1.],\n",
       "       [1.],\n",
       "       [1.],\n",
       "       [1.],\n",
       "       [1.],\n",
       "       [1.],\n",
       "       [1.],\n",
       "       [1.],\n",
       "       [1.],\n",
       "       [1.],\n",
       "       [1.],\n",
       "       [1.],\n",
       "       [1.],\n",
       "       [1.],\n",
       "       [1.],\n",
       "       [1.],\n",
       "       [1.],\n",
       "       [1.],\n",
       "       [1.],\n",
       "       [1.],\n",
       "       [1.],\n",
       "       [1.],\n",
       "       [1.],\n",
       "       [1.],\n",
       "       [1.],\n",
       "       [1.],\n",
       "       [1.],\n",
       "       [1.],\n",
       "       [1.],\n",
       "       [1.],\n",
       "       [1.],\n",
       "       [1.],\n",
       "       [1.],\n",
       "       [1.],\n",
       "       [1.],\n",
       "       [1.],\n",
       "       [1.],\n",
       "       [1.],\n",
       "       [1.],\n",
       "       [1.],\n",
       "       [1.],\n",
       "       [1.],\n",
       "       [1.],\n",
       "       [1.],\n",
       "       [1.],\n",
       "       [1.],\n",
       "       [1.],\n",
       "       [1.],\n",
       "       [1.],\n",
       "       [1.],\n",
       "       [1.],\n",
       "       [1.],\n",
       "       [1.],\n",
       "       [1.],\n",
       "       [1.],\n",
       "       [1.],\n",
       "       [1.],\n",
       "       [1.],\n",
       "       [1.],\n",
       "       [1.],\n",
       "       [1.],\n",
       "       [1.],\n",
       "       [1.],\n",
       "       [1.],\n",
       "       [1.],\n",
       "       [1.],\n",
       "       [1.],\n",
       "       [1.],\n",
       "       [1.],\n",
       "       [1.],\n",
       "       [1.],\n",
       "       [1.],\n",
       "       [1.],\n",
       "       [1.],\n",
       "       [1.],\n",
       "       [1.],\n",
       "       [1.],\n",
       "       [1.],\n",
       "       [1.],\n",
       "       [1.],\n",
       "       [1.],\n",
       "       [1.],\n",
       "       [1.],\n",
       "       [1.],\n",
       "       [1.],\n",
       "       [1.],\n",
       "       [1.],\n",
       "       [1.],\n",
       "       [1.],\n",
       "       [1.],\n",
       "       [1.],\n",
       "       [1.],\n",
       "       [1.],\n",
       "       [1.],\n",
       "       [1.],\n",
       "       [1.],\n",
       "       [1.],\n",
       "       [1.],\n",
       "       [1.],\n",
       "       [1.],\n",
       "       [1.],\n",
       "       [1.],\n",
       "       [1.],\n",
       "       [1.],\n",
       "       [1.],\n",
       "       [1.],\n",
       "       [1.],\n",
       "       [1.],\n",
       "       [1.],\n",
       "       [1.],\n",
       "       [1.],\n",
       "       [1.],\n",
       "       [1.],\n",
       "       [1.],\n",
       "       [1.],\n",
       "       [1.],\n",
       "       [1.],\n",
       "       [1.],\n",
       "       [1.],\n",
       "       [1.],\n",
       "       [1.],\n",
       "       [1.],\n",
       "       [1.],\n",
       "       [1.],\n",
       "       [1.],\n",
       "       [1.],\n",
       "       [1.],\n",
       "       [1.],\n",
       "       [1.],\n",
       "       [1.],\n",
       "       [1.],\n",
       "       [1.],\n",
       "       [1.],\n",
       "       [1.],\n",
       "       [1.],\n",
       "       [1.],\n",
       "       [1.],\n",
       "       [1.],\n",
       "       [1.],\n",
       "       [1.],\n",
       "       [1.],\n",
       "       [1.],\n",
       "       [1.],\n",
       "       [1.],\n",
       "       [1.],\n",
       "       [1.],\n",
       "       [1.],\n",
       "       [1.],\n",
       "       [1.],\n",
       "       [1.],\n",
       "       [1.],\n",
       "       [1.],\n",
       "       [1.],\n",
       "       [1.],\n",
       "       [1.],\n",
       "       [1.],\n",
       "       [1.],\n",
       "       [1.],\n",
       "       [1.],\n",
       "       [1.],\n",
       "       [1.],\n",
       "       [1.],\n",
       "       [1.],\n",
       "       [1.],\n",
       "       [1.],\n",
       "       [1.],\n",
       "       [1.],\n",
       "       [1.],\n",
       "       [1.],\n",
       "       [1.],\n",
       "       [1.],\n",
       "       [1.],\n",
       "       [1.],\n",
       "       [1.],\n",
       "       [1.],\n",
       "       [1.],\n",
       "       [1.],\n",
       "       [1.],\n",
       "       [1.],\n",
       "       [1.],\n",
       "       [1.],\n",
       "       [1.],\n",
       "       [1.],\n",
       "       [1.],\n",
       "       [1.],\n",
       "       [1.],\n",
       "       [1.],\n",
       "       [1.],\n",
       "       [1.],\n",
       "       [1.],\n",
       "       [1.],\n",
       "       [1.],\n",
       "       [1.],\n",
       "       [1.],\n",
       "       [1.],\n",
       "       [1.],\n",
       "       [1.],\n",
       "       [1.],\n",
       "       [1.],\n",
       "       [1.],\n",
       "       [1.],\n",
       "       [1.],\n",
       "       [1.],\n",
       "       [1.],\n",
       "       [1.],\n",
       "       [1.],\n",
       "       [1.],\n",
       "       [1.],\n",
       "       [1.],\n",
       "       [1.],\n",
       "       [1.],\n",
       "       [1.],\n",
       "       [1.],\n",
       "       [1.],\n",
       "       [1.],\n",
       "       [1.],\n",
       "       [1.],\n",
       "       [1.],\n",
       "       [1.],\n",
       "       [1.],\n",
       "       [1.],\n",
       "       [1.],\n",
       "       [1.],\n",
       "       [1.],\n",
       "       [1.],\n",
       "       [1.],\n",
       "       [1.],\n",
       "       [1.],\n",
       "       [1.],\n",
       "       [1.],\n",
       "       [1.],\n",
       "       [1.],\n",
       "       [1.],\n",
       "       [1.],\n",
       "       [1.],\n",
       "       [1.],\n",
       "       [1.],\n",
       "       [1.],\n",
       "       [1.],\n",
       "       [1.],\n",
       "       [1.],\n",
       "       [1.],\n",
       "       [1.],\n",
       "       [1.],\n",
       "       [1.],\n",
       "       [1.],\n",
       "       [1.],\n",
       "       [1.],\n",
       "       [1.],\n",
       "       [1.],\n",
       "       [1.],\n",
       "       [1.],\n",
       "       [1.],\n",
       "       [1.],\n",
       "       [1.],\n",
       "       [1.],\n",
       "       [1.],\n",
       "       [1.],\n",
       "       [1.],\n",
       "       [1.],\n",
       "       [1.],\n",
       "       [1.],\n",
       "       [1.],\n",
       "       [1.],\n",
       "       [1.],\n",
       "       [1.],\n",
       "       [1.],\n",
       "       [1.],\n",
       "       [1.],\n",
       "       [1.],\n",
       "       [1.],\n",
       "       [1.],\n",
       "       [1.],\n",
       "       [1.],\n",
       "       [1.],\n",
       "       [1.],\n",
       "       [1.],\n",
       "       [1.],\n",
       "       [1.],\n",
       "       [1.],\n",
       "       [1.],\n",
       "       [1.],\n",
       "       [1.],\n",
       "       [1.],\n",
       "       [1.],\n",
       "       [1.],\n",
       "       [1.],\n",
       "       [1.],\n",
       "       [1.],\n",
       "       [1.],\n",
       "       [1.],\n",
       "       [1.],\n",
       "       [1.],\n",
       "       [1.],\n",
       "       [1.],\n",
       "       [1.],\n",
       "       [1.],\n",
       "       [1.],\n",
       "       [1.],\n",
       "       [1.],\n",
       "       [1.],\n",
       "       [1.],\n",
       "       [1.],\n",
       "       [1.],\n",
       "       [1.],\n",
       "       [1.],\n",
       "       [1.],\n",
       "       [1.],\n",
       "       [1.],\n",
       "       [1.],\n",
       "       [1.],\n",
       "       [1.],\n",
       "       [1.],\n",
       "       [1.],\n",
       "       [1.],\n",
       "       [1.],\n",
       "       [1.],\n",
       "       [1.],\n",
       "       [1.]], dtype=float32)"
      ]
     },
     "execution_count": 47,
     "metadata": {},
     "output_type": "execute_result"
    }
   ],
   "source": [
    "y_predict = model.predict(X_test)\n",
    "y_predict"
   ]
  },
  {
   "cell_type": "markdown",
   "metadata": {},
   "source": [
    "The accuracy of the model with deep learning algorithm is very low and dropped to 23%"
   ]
  }
 ],
 "metadata": {
  "kernelspec": {
   "display_name": "Python 3",
   "language": "python",
   "name": "python3"
  },
  "language_info": {
   "codemirror_mode": {
    "name": "ipython",
    "version": 3
   },
   "file_extension": ".py",
   "mimetype": "text/x-python",
   "name": "python",
   "nbconvert_exporter": "python",
   "pygments_lexer": "ipython3",
   "version": "3.7.4"
  }
 },
 "nbformat": 4,
 "nbformat_minor": 2
}
