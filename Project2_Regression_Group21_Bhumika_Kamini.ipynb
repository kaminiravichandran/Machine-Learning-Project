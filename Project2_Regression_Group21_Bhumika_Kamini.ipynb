{
 "cells": [
  {
   "cell_type": "markdown",
   "metadata": {},
   "source": [
    "Source File: https://www.kaggle.com/swathiachath/kc-housesales-data\n",
    "\n",
    "- The test dataset had no target component which would make it difficult to find the accuracy of our model. So we considered the train.csv for the entirity of the dataset.\n",
    "- Dataset had time series component. Tp remove this we considered the sales price for the months of Jan 2015 and Feb 2015.\n",
    "\n",
    "- Data Description\n",
    "- id : a notation for a house\n",
    "- date: Date house was sold\n",
    "- price: Price is prediction target\n",
    "- bedrooms: Number of Bedrooms/House\n",
    "- bathrooms: Number of bathrooms/bedrooms\n",
    "- sqft_living: square footage of the home\n",
    "- sqft_lot: square footage of the lot\n",
    "- floorsTotal floors (levels) in house\n",
    "- waterfrontHouse which has a view to a waterfront\n",
    "- viewHas been viewed\n",
    "- condition : How good the condition is ( Overall ). 1 indicates worn out property and 5 excellent. \n",
    "- gradeoverall grade given to the housing unit, based on King County grading system. 1 poor ,13 excellent.\n",
    "- sqft_abovesquare footage of house apart from basement\n",
    "- sqft_basementsquare footage of the basement\n",
    "- yr_builtBuilt Year\n",
    "- yr_renovatedYear when house was renovated\n",
    "- zipcodezip\n",
    "- latLatitude coordinate\n",
    "- longLongitude coordinate\n",
    "- sqft_living15Living room area in 2015(implies-- some renovations) This might or might not have affected the lotsize area\n",
    "- sqft_lot15lotSize area in 2015(implies-- some renovations)"
   ]
  },
  {
   "cell_type": "code",
   "execution_count": 40,
   "metadata": {},
   "outputs": [],
   "source": [
    "import pandas as pd\n",
    "import numpy as np\n",
    "import matplotlib.pyplot as plt\n",
    "import seaborn as sns\n",
    "from sklearn import preprocessing\n",
    "from sklearn.model_selection import train_test_split"
   ]
  },
  {
   "cell_type": "code",
   "execution_count": 41,
   "metadata": {},
   "outputs": [
    {
     "data": {
      "text/plain": [
       "(2225, 21)"
      ]
     },
     "execution_count": 41,
     "metadata": {},
     "output_type": "execute_result"
    }
   ],
   "source": [
    "hd = pd.read_csv('kc_house_data.csv') #csv to python data frame format\n",
    "hd.shape\n",
    "#df = pd.read_csv('ToyotaCorolla.csv')"
   ]
  },
  {
   "cell_type": "code",
   "execution_count": 42,
   "metadata": {},
   "outputs": [
    {
     "name": "stdout",
     "output_type": "stream",
     "text": [
      "<class 'pandas.core.frame.DataFrame'>\n",
      "RangeIndex: 2225 entries, 0 to 2224\n",
      "Data columns (total 21 columns):\n",
      "id               2225 non-null int64\n",
      "date             2225 non-null object\n",
      "price            2225 non-null float64\n",
      "bedrooms         2225 non-null int64\n",
      "bathrooms        2225 non-null float64\n",
      "sqft_living      2107 non-null float64\n",
      "sqft_lot         2225 non-null int64\n",
      "floors           2225 non-null float64\n",
      "waterfront       2225 non-null int64\n",
      "view             2225 non-null int64\n",
      "condition        2225 non-null int64\n",
      "grade            2225 non-null int64\n",
      "sqft_above       2225 non-null int64\n",
      "sqft_basement    2225 non-null int64\n",
      "yr_built         2225 non-null int64\n",
      "yr_renovated     2225 non-null int64\n",
      "zipcode          2225 non-null int64\n",
      "lat              2225 non-null float64\n",
      "long             2225 non-null float64\n",
      "sqft_living15    2225 non-null int64\n",
      "sqft_lot15       2225 non-null int64\n",
      "dtypes: float64(6), int64(14), object(1)\n",
      "memory usage: 365.2+ KB\n"
     ]
    }
   ],
   "source": [
    "hd.info()"
   ]
  },
  {
   "cell_type": "code",
   "execution_count": 43,
   "metadata": {},
   "outputs": [
    {
     "data": {
      "text/plain": [
       "id                 0\n",
       "date               0\n",
       "price              0\n",
       "bedrooms           0\n",
       "bathrooms          0\n",
       "sqft_living      118\n",
       "sqft_lot           0\n",
       "floors             0\n",
       "waterfront         0\n",
       "view               0\n",
       "condition          0\n",
       "grade              0\n",
       "sqft_above         0\n",
       "sqft_basement      0\n",
       "yr_built           0\n",
       "yr_renovated       0\n",
       "zipcode            0\n",
       "lat                0\n",
       "long               0\n",
       "sqft_living15      0\n",
       "sqft_lot15         0\n",
       "dtype: int64"
      ]
     },
     "execution_count": 43,
     "metadata": {},
     "output_type": "execute_result"
    }
   ],
   "source": [
    "hd.isnull().sum()"
   ]
  },
  {
   "cell_type": "markdown",
   "metadata": {},
   "source": [
    "### Categorical/Ordinal  Variables"
   ]
  },
  {
   "cell_type": "code",
   "execution_count": 44,
   "metadata": {},
   "outputs": [
    {
     "name": "stdout",
     "output_type": "stream",
     "text": [
      "3    1465\n",
      "4     573\n",
      "5     155\n",
      "2      27\n",
      "1       5\n",
      "Name: condition, dtype: int64\n",
      "0    2211\n",
      "1      14\n",
      "Name: waterfront, dtype: int64\n",
      "7     956\n",
      "8     613\n",
      "9     240\n",
      "6     229\n",
      "10     99\n",
      "11     36\n",
      "5      31\n",
      "12     17\n",
      "4       2\n",
      "13      1\n",
      "3       1\n",
      "Name: grade, dtype: int64\n"
     ]
    }
   ],
   "source": [
    "print(hd['condition'].value_counts())\n",
    "print(hd['waterfront'].value_counts())\n",
    "print(hd['grade'].value_counts())"
   ]
  },
  {
   "cell_type": "code",
   "execution_count": 45,
   "metadata": {},
   "outputs": [
    {
     "data": {
      "image/png": "[encoded data removed]",
      "text/plain": [
       "<Figure size 720x360 with 1 Axes>"
      ]
     },
     "metadata": {
      "needs_background": "light"
     },
     "output_type": "display_data"
    },
    {
     "data": {
      "text/plain": [
       "3    1044\n",
       "4     687\n",
       "2     280\n",
       "5     154\n",
       "6      38\n",
       "1      18\n",
       "7       2\n",
       "9       1\n",
       "8       1\n",
       "Name: bedrooms, dtype: int64"
      ]
     },
     "execution_count": 45,
     "metadata": {},
     "output_type": "execute_result"
    }
   ],
   "source": [
    "ax = hd['bedrooms'].value_counts().plot(kind='bar',\n",
    "                                    figsize=(10,5),\n",
    "                                    title=\"# bedrooms\")\n",
    "ax.set_xlabel(\"bedrooms\")\n",
    "ax.set_ylabel(\"Frequency\")\n",
    "plt.show()\n",
    "hd['bedrooms'].value_counts()"
   ]
  },
  {
   "cell_type": "markdown",
   "metadata": {},
   "source": [
    "The target variable price is slightly positively skewed in the dataset"
   ]
  },
  {
   "cell_type": "code",
   "execution_count": 46,
   "metadata": {},
   "outputs": [
    {
     "data": {
      "text/plain": [
       "array([[<matplotlib.axes._subplots.AxesSubplot object at 0x000002782126A808>]],\n",
       "      dtype=object)"
      ]
     },
     "execution_count": 46,
     "metadata": {},
     "output_type": "execute_result"
    },
    {
     "data": {
      "image/png": "[encoded data removed]",
      "text/plain": [
       "<Figure size 864x576 with 1 Axes>"
      ]
     },
     "metadata": {
      "needs_background": "light"
     },
     "output_type": "display_data"
    }
   ],
   "source": [
    "hd.hist(column='price', bins=500, grid=False, figsize=(12,8), color='#86bf91', zorder=3, rwidth=0.9)"
   ]
  },
  {
   "cell_type": "markdown",
   "metadata": {},
   "source": [
    "### Correlation Matrix and HeatMap to remove columns that are not important\n",
    "\n",
    "- Weak correlations: Zipcode, Yr_renovated \n",
    "- Columns sqft_living and sqft_living15 are highly correlated to each other, while the corrleation of the column sqft_living is stronger with other predictors.\n",
    "- Similarly, Column sqft_lot and sqft_lot15 are highly correlated to each other, while the corrleation of the column sqft_lot is stronger with other predictors.\n"
   ]
  },
  {
   "cell_type": "code",
   "execution_count": 47,
   "metadata": {
    "scrolled": false
   },
   "outputs": [
    {
     "data": {
      "text/html": [
       "<div>\n",
       "<style scoped>\n",
       "    .dataframe tbody tr th:only-of-type {\n",
       "        vertical-align: middle;\n",
       "    }\n",
       "\n",
       "    .dataframe tbody tr th {\n",
       "        vertical-align: top;\n",
       "    }\n",
       "\n",
       "    .dataframe thead th {\n",
       "        text-align: right;\n",
       "    }\n",
       "</style>\n",
       "<table border=\"1\" class=\"dataframe\">\n",
       "  <thead>\n",
       "    <tr style=\"text-align: right;\">\n",
       "      <th></th>\n",
       "      <th>id</th>\n",
       "      <th>price</th>\n",
       "      <th>bedrooms</th>\n",
       "      <th>bathrooms</th>\n",
       "      <th>sqft_living</th>\n",
       "      <th>sqft_lot</th>\n",
       "      <th>floors</th>\n",
       "      <th>waterfront</th>\n",
       "      <th>view</th>\n",
       "      <th>condition</th>\n",
       "      <th>grade</th>\n",
       "      <th>sqft_above</th>\n",
       "      <th>sqft_basement</th>\n",
       "      <th>yr_built</th>\n",
       "      <th>yr_renovated</th>\n",
       "      <th>zipcode</th>\n",
       "      <th>lat</th>\n",
       "      <th>long</th>\n",
       "      <th>sqft_living15</th>\n",
       "      <th>sqft_lot15</th>\n",
       "    </tr>\n",
       "  </thead>\n",
       "  <tbody>\n",
       "    <tr>\n",
       "      <td>id</td>\n",
       "      <td>1.000000</td>\n",
       "      <td>-0.004724</td>\n",
       "      <td>-0.025710</td>\n",
       "      <td>-0.024450</td>\n",
       "      <td>-0.025910</td>\n",
       "      <td>-0.134683</td>\n",
       "      <td>0.017331</td>\n",
       "      <td>0.014070</td>\n",
       "      <td>0.043323</td>\n",
       "      <td>-0.047973</td>\n",
       "      <td>-0.006088</td>\n",
       "      <td>-0.019563</td>\n",
       "      <td>-0.017423</td>\n",
       "      <td>0.020495</td>\n",
       "      <td>-0.018727</td>\n",
       "      <td>-0.014552</td>\n",
       "      <td>-0.019468</td>\n",
       "      <td>0.018962</td>\n",
       "      <td>-0.007585</td>\n",
       "      <td>-0.133572</td>\n",
       "    </tr>\n",
       "    <tr>\n",
       "      <td>price</td>\n",
       "      <td>-0.004724</td>\n",
       "      <td>1.000000</td>\n",
       "      <td>0.282691</td>\n",
       "      <td>0.517018</td>\n",
       "      <td>0.684768</td>\n",
       "      <td>0.126507</td>\n",
       "      <td>0.258877</td>\n",
       "      <td>0.211229</td>\n",
       "      <td>0.429827</td>\n",
       "      <td>0.008744</td>\n",
       "      <td>0.683825</td>\n",
       "      <td>0.602530</td>\n",
       "      <td>0.277012</td>\n",
       "      <td>0.104663</td>\n",
       "      <td>0.094203</td>\n",
       "      <td>-0.062066</td>\n",
       "      <td>0.335857</td>\n",
       "      <td>0.043875</td>\n",
       "      <td>0.586721</td>\n",
       "      <td>0.110575</td>\n",
       "    </tr>\n",
       "    <tr>\n",
       "      <td>bedrooms</td>\n",
       "      <td>-0.025710</td>\n",
       "      <td>0.282691</td>\n",
       "      <td>1.000000</td>\n",
       "      <td>0.524898</td>\n",
       "      <td>0.575577</td>\n",
       "      <td>0.047437</td>\n",
       "      <td>0.169025</td>\n",
       "      <td>-0.019683</td>\n",
       "      <td>0.087083</td>\n",
       "      <td>0.028251</td>\n",
       "      <td>0.348931</td>\n",
       "      <td>0.482694</td>\n",
       "      <td>0.294126</td>\n",
       "      <td>0.157037</td>\n",
       "      <td>0.021101</td>\n",
       "      <td>-0.157813</td>\n",
       "      <td>-0.007756</td>\n",
       "      <td>0.129595</td>\n",
       "      <td>0.378441</td>\n",
       "      <td>0.055310</td>\n",
       "    </tr>\n",
       "    <tr>\n",
       "      <td>bathrooms</td>\n",
       "      <td>-0.024450</td>\n",
       "      <td>0.517018</td>\n",
       "      <td>0.524898</td>\n",
       "      <td>1.000000</td>\n",
       "      <td>0.755674</td>\n",
       "      <td>0.140563</td>\n",
       "      <td>0.500398</td>\n",
       "      <td>0.025115</td>\n",
       "      <td>0.203315</td>\n",
       "      <td>-0.118048</td>\n",
       "      <td>0.669089</td>\n",
       "      <td>0.700447</td>\n",
       "      <td>0.245914</td>\n",
       "      <td>0.519623</td>\n",
       "      <td>0.045337</td>\n",
       "      <td>-0.184291</td>\n",
       "      <td>0.018480</td>\n",
       "      <td>0.221890</td>\n",
       "      <td>0.555685</td>\n",
       "      <td>0.118668</td>\n",
       "    </tr>\n",
       "    <tr>\n",
       "      <td>sqft_living</td>\n",
       "      <td>-0.025910</td>\n",
       "      <td>0.684768</td>\n",
       "      <td>0.575577</td>\n",
       "      <td>0.755674</td>\n",
       "      <td>1.000000</td>\n",
       "      <td>0.216934</td>\n",
       "      <td>0.325251</td>\n",
       "      <td>0.070324</td>\n",
       "      <td>0.307025</td>\n",
       "      <td>-0.043862</td>\n",
       "      <td>0.767237</td>\n",
       "      <td>0.882913</td>\n",
       "      <td>0.395935</td>\n",
       "      <td>0.330283</td>\n",
       "      <td>0.037140</td>\n",
       "      <td>-0.198370</td>\n",
       "      <td>0.049721</td>\n",
       "      <td>0.249343</td>\n",
       "      <td>0.734102</td>\n",
       "      <td>0.214354</td>\n",
       "    </tr>\n",
       "    <tr>\n",
       "      <td>sqft_lot</td>\n",
       "      <td>-0.134683</td>\n",
       "      <td>0.126507</td>\n",
       "      <td>0.047437</td>\n",
       "      <td>0.140563</td>\n",
       "      <td>0.216934</td>\n",
       "      <td>1.000000</td>\n",
       "      <td>0.012603</td>\n",
       "      <td>-0.000016</td>\n",
       "      <td>0.070538</td>\n",
       "      <td>-0.001438</td>\n",
       "      <td>0.167234</td>\n",
       "      <td>0.213362</td>\n",
       "      <td>0.041815</td>\n",
       "      <td>0.063314</td>\n",
       "      <td>0.002993</td>\n",
       "      <td>-0.111582</td>\n",
       "      <td>-0.054100</td>\n",
       "      <td>0.252239</td>\n",
       "      <td>0.138207</td>\n",
       "      <td>0.708000</td>\n",
       "    </tr>\n",
       "    <tr>\n",
       "      <td>floors</td>\n",
       "      <td>0.017331</td>\n",
       "      <td>0.258877</td>\n",
       "      <td>0.169025</td>\n",
       "      <td>0.500398</td>\n",
       "      <td>0.325251</td>\n",
       "      <td>0.012603</td>\n",
       "      <td>1.000000</td>\n",
       "      <td>0.035332</td>\n",
       "      <td>0.036214</td>\n",
       "      <td>-0.255499</td>\n",
       "      <td>0.438674</td>\n",
       "      <td>0.506408</td>\n",
       "      <td>-0.271694</td>\n",
       "      <td>0.512300</td>\n",
       "      <td>0.016475</td>\n",
       "      <td>-0.054578</td>\n",
       "      <td>0.060478</td>\n",
       "      <td>0.108757</td>\n",
       "      <td>0.244280</td>\n",
       "      <td>-0.011815</td>\n",
       "    </tr>\n",
       "    <tr>\n",
       "      <td>waterfront</td>\n",
       "      <td>0.014070</td>\n",
       "      <td>0.211229</td>\n",
       "      <td>-0.019683</td>\n",
       "      <td>0.025115</td>\n",
       "      <td>0.070324</td>\n",
       "      <td>-0.000016</td>\n",
       "      <td>0.035332</td>\n",
       "      <td>1.000000</td>\n",
       "      <td>0.382779</td>\n",
       "      <td>-0.002859</td>\n",
       "      <td>0.061005</td>\n",
       "      <td>0.052441</td>\n",
       "      <td>0.048943</td>\n",
       "      <td>-0.036673</td>\n",
       "      <td>0.116916</td>\n",
       "      <td>0.033156</td>\n",
       "      <td>-0.004311</td>\n",
       "      <td>-0.043038</td>\n",
       "      <td>0.084313</td>\n",
       "      <td>0.026879</td>\n",
       "    </tr>\n",
       "    <tr>\n",
       "      <td>view</td>\n",
       "      <td>0.043323</td>\n",
       "      <td>0.429827</td>\n",
       "      <td>0.087083</td>\n",
       "      <td>0.203315</td>\n",
       "      <td>0.307025</td>\n",
       "      <td>0.070538</td>\n",
       "      <td>0.036214</td>\n",
       "      <td>0.382779</td>\n",
       "      <td>1.000000</td>\n",
       "      <td>0.007650</td>\n",
       "      <td>0.281801</td>\n",
       "      <td>0.188595</td>\n",
       "      <td>0.282347</td>\n",
       "      <td>-0.036322</td>\n",
       "      <td>0.094527</td>\n",
       "      <td>0.087416</td>\n",
       "      <td>0.048066</td>\n",
       "      <td>-0.069692</td>\n",
       "      <td>0.316538</td>\n",
       "      <td>0.052384</td>\n",
       "    </tr>\n",
       "    <tr>\n",
       "      <td>condition</td>\n",
       "      <td>-0.047973</td>\n",
       "      <td>0.008744</td>\n",
       "      <td>0.028251</td>\n",
       "      <td>-0.118048</td>\n",
       "      <td>-0.043862</td>\n",
       "      <td>-0.001438</td>\n",
       "      <td>-0.255499</td>\n",
       "      <td>-0.002859</td>\n",
       "      <td>0.007650</td>\n",
       "      <td>1.000000</td>\n",
       "      <td>-0.141894</td>\n",
       "      <td>-0.127461</td>\n",
       "      <td>0.163808</td>\n",
       "      <td>-0.316269</td>\n",
       "      <td>-0.056620</td>\n",
       "      <td>-0.032083</td>\n",
       "      <td>-0.060632</td>\n",
       "      <td>-0.030865</td>\n",
       "      <td>-0.084645</td>\n",
       "      <td>-0.001036</td>\n",
       "    </tr>\n",
       "    <tr>\n",
       "      <td>grade</td>\n",
       "      <td>-0.006088</td>\n",
       "      <td>0.683825</td>\n",
       "      <td>0.348931</td>\n",
       "      <td>0.669089</td>\n",
       "      <td>0.767237</td>\n",
       "      <td>0.167234</td>\n",
       "      <td>0.438674</td>\n",
       "      <td>0.061005</td>\n",
       "      <td>0.281801</td>\n",
       "      <td>-0.141894</td>\n",
       "      <td>1.000000</td>\n",
       "      <td>0.745906</td>\n",
       "      <td>0.167968</td>\n",
       "      <td>0.471885</td>\n",
       "      <td>-0.000668</td>\n",
       "      <td>-0.175664</td>\n",
       "      <td>0.107947</td>\n",
       "      <td>0.181926</td>\n",
       "      <td>0.686385</td>\n",
       "      <td>0.157838</td>\n",
       "    </tr>\n",
       "    <tr>\n",
       "      <td>sqft_above</td>\n",
       "      <td>-0.019563</td>\n",
       "      <td>0.602530</td>\n",
       "      <td>0.482694</td>\n",
       "      <td>0.700447</td>\n",
       "      <td>0.882913</td>\n",
       "      <td>0.213362</td>\n",
       "      <td>0.506408</td>\n",
       "      <td>0.052441</td>\n",
       "      <td>0.188595</td>\n",
       "      <td>-0.127461</td>\n",
       "      <td>0.745906</td>\n",
       "      <td>1.000000</td>\n",
       "      <td>-0.078208</td>\n",
       "      <td>0.429747</td>\n",
       "      <td>0.010442</td>\n",
       "      <td>-0.241531</td>\n",
       "      <td>-0.000490</td>\n",
       "      <td>0.324561</td>\n",
       "      <td>0.688662</td>\n",
       "      <td>0.195028</td>\n",
       "    </tr>\n",
       "    <tr>\n",
       "      <td>sqft_basement</td>\n",
       "      <td>-0.017423</td>\n",
       "      <td>0.277012</td>\n",
       "      <td>0.294126</td>\n",
       "      <td>0.245914</td>\n",
       "      <td>0.395935</td>\n",
       "      <td>0.041815</td>\n",
       "      <td>-0.271694</td>\n",
       "      <td>0.048943</td>\n",
       "      <td>0.282347</td>\n",
       "      <td>0.163808</td>\n",
       "      <td>0.167968</td>\n",
       "      <td>-0.078208</td>\n",
       "      <td>1.000000</td>\n",
       "      <td>-0.122543</td>\n",
       "      <td>0.044823</td>\n",
       "      <td>0.057525</td>\n",
       "      <td>0.108070</td>\n",
       "      <td>-0.125430</td>\n",
       "      <td>0.209042</td>\n",
       "      <td>0.071515</td>\n",
       "    </tr>\n",
       "    <tr>\n",
       "      <td>yr_built</td>\n",
       "      <td>0.020495</td>\n",
       "      <td>0.104663</td>\n",
       "      <td>0.157037</td>\n",
       "      <td>0.519623</td>\n",
       "      <td>0.330283</td>\n",
       "      <td>0.063314</td>\n",
       "      <td>0.512300</td>\n",
       "      <td>-0.036673</td>\n",
       "      <td>-0.036322</td>\n",
       "      <td>-0.316269</td>\n",
       "      <td>0.471885</td>\n",
       "      <td>0.429747</td>\n",
       "      <td>-0.122543</td>\n",
       "      <td>1.000000</td>\n",
       "      <td>-0.185441</td>\n",
       "      <td>-0.337160</td>\n",
       "      <td>-0.151921</td>\n",
       "      <td>0.375731</td>\n",
       "      <td>0.335443</td>\n",
       "      <td>0.062905</td>\n",
       "    </tr>\n",
       "    <tr>\n",
       "      <td>yr_renovated</td>\n",
       "      <td>-0.018727</td>\n",
       "      <td>0.094203</td>\n",
       "      <td>0.021101</td>\n",
       "      <td>0.045337</td>\n",
       "      <td>0.037140</td>\n",
       "      <td>0.002993</td>\n",
       "      <td>0.016475</td>\n",
       "      <td>0.116916</td>\n",
       "      <td>0.094527</td>\n",
       "      <td>-0.056620</td>\n",
       "      <td>-0.000668</td>\n",
       "      <td>0.010442</td>\n",
       "      <td>0.044823</td>\n",
       "      <td>-0.185441</td>\n",
       "      <td>1.000000</td>\n",
       "      <td>0.023722</td>\n",
       "      <td>0.023190</td>\n",
       "      <td>-0.009763</td>\n",
       "      <td>-0.031478</td>\n",
       "      <td>0.010079</td>\n",
       "    </tr>\n",
       "    <tr>\n",
       "      <td>zipcode</td>\n",
       "      <td>-0.014552</td>\n",
       "      <td>-0.062066</td>\n",
       "      <td>-0.157813</td>\n",
       "      <td>-0.184291</td>\n",
       "      <td>-0.198370</td>\n",
       "      <td>-0.111582</td>\n",
       "      <td>-0.054578</td>\n",
       "      <td>0.033156</td>\n",
       "      <td>0.087416</td>\n",
       "      <td>-0.032083</td>\n",
       "      <td>-0.175664</td>\n",
       "      <td>-0.241531</td>\n",
       "      <td>0.057525</td>\n",
       "      <td>-0.337160</td>\n",
       "      <td>0.023722</td>\n",
       "      <td>1.000000</td>\n",
       "      <td>0.293644</td>\n",
       "      <td>-0.549856</td>\n",
       "      <td>-0.271389</td>\n",
       "      <td>-0.115937</td>\n",
       "    </tr>\n",
       "    <tr>\n",
       "      <td>lat</td>\n",
       "      <td>-0.019468</td>\n",
       "      <td>0.335857</td>\n",
       "      <td>-0.007756</td>\n",
       "      <td>0.018480</td>\n",
       "      <td>0.049721</td>\n",
       "      <td>-0.054100</td>\n",
       "      <td>0.060478</td>\n",
       "      <td>-0.004311</td>\n",
       "      <td>0.048066</td>\n",
       "      <td>-0.060632</td>\n",
       "      <td>0.107947</td>\n",
       "      <td>-0.000490</td>\n",
       "      <td>0.108070</td>\n",
       "      <td>-0.151921</td>\n",
       "      <td>0.023190</td>\n",
       "      <td>0.293644</td>\n",
       "      <td>1.000000</td>\n",
       "      <td>-0.132291</td>\n",
       "      <td>0.050606</td>\n",
       "      <td>-0.037451</td>\n",
       "    </tr>\n",
       "    <tr>\n",
       "      <td>long</td>\n",
       "      <td>0.018962</td>\n",
       "      <td>0.043875</td>\n",
       "      <td>0.129595</td>\n",
       "      <td>0.221890</td>\n",
       "      <td>0.249343</td>\n",
       "      <td>0.252239</td>\n",
       "      <td>0.108757</td>\n",
       "      <td>-0.043038</td>\n",
       "      <td>-0.069692</td>\n",
       "      <td>-0.030865</td>\n",
       "      <td>0.181926</td>\n",
       "      <td>0.324561</td>\n",
       "      <td>-0.125430</td>\n",
       "      <td>0.375731</td>\n",
       "      <td>-0.009763</td>\n",
       "      <td>-0.549856</td>\n",
       "      <td>-0.132291</td>\n",
       "      <td>1.000000</td>\n",
       "      <td>0.313822</td>\n",
       "      <td>0.243165</td>\n",
       "    </tr>\n",
       "    <tr>\n",
       "      <td>sqft_living15</td>\n",
       "      <td>-0.007585</td>\n",
       "      <td>0.586721</td>\n",
       "      <td>0.378441</td>\n",
       "      <td>0.555685</td>\n",
       "      <td>0.734102</td>\n",
       "      <td>0.138207</td>\n",
       "      <td>0.244280</td>\n",
       "      <td>0.084313</td>\n",
       "      <td>0.316538</td>\n",
       "      <td>-0.084645</td>\n",
       "      <td>0.686385</td>\n",
       "      <td>0.688662</td>\n",
       "      <td>0.209042</td>\n",
       "      <td>0.335443</td>\n",
       "      <td>-0.031478</td>\n",
       "      <td>-0.271389</td>\n",
       "      <td>0.050606</td>\n",
       "      <td>0.313822</td>\n",
       "      <td>1.000000</td>\n",
       "      <td>0.197842</td>\n",
       "    </tr>\n",
       "    <tr>\n",
       "      <td>sqft_lot15</td>\n",
       "      <td>-0.133572</td>\n",
       "      <td>0.110575</td>\n",
       "      <td>0.055310</td>\n",
       "      <td>0.118668</td>\n",
       "      <td>0.214354</td>\n",
       "      <td>0.708000</td>\n",
       "      <td>-0.011815</td>\n",
       "      <td>0.026879</td>\n",
       "      <td>0.052384</td>\n",
       "      <td>-0.001036</td>\n",
       "      <td>0.157838</td>\n",
       "      <td>0.195028</td>\n",
       "      <td>0.071515</td>\n",
       "      <td>0.062905</td>\n",
       "      <td>0.010079</td>\n",
       "      <td>-0.115937</td>\n",
       "      <td>-0.037451</td>\n",
       "      <td>0.243165</td>\n",
       "      <td>0.197842</td>\n",
       "      <td>1.000000</td>\n",
       "    </tr>\n",
       "  </tbody>\n",
       "</table>\n",
       "</div>"
      ],
      "text/plain": [
       "                     id     price  bedrooms  bathrooms  sqft_living  sqft_lot  \\\n",
       "id             1.000000 -0.004724 -0.025710  -0.024450    -0.025910 -0.134683   \n",
       "price         -0.004724  1.000000  0.282691   0.517018     0.684768  0.126507   \n",
       "bedrooms      -0.025710  0.282691  1.000000   0.524898     0.575577  0.047437   \n",
       "bathrooms     -0.024450  0.517018  0.524898   1.000000     0.755674  0.140563   \n",
       "sqft_living   -0.025910  0.684768  0.575577   0.755674     1.000000  0.216934   \n",
       "sqft_lot      -0.134683  0.126507  0.047437   0.140563     0.216934  1.000000   \n",
       "floors         0.017331  0.258877  0.169025   0.500398     0.325251  0.012603   \n",
       "waterfront     0.014070  0.211229 -0.019683   0.025115     0.070324 -0.000016   \n",
       "view           0.043323  0.429827  0.087083   0.203315     0.307025  0.070538   \n",
       "condition     -0.047973  0.008744  0.028251  -0.118048    -0.043862 -0.001438   \n",
       "grade         -0.006088  0.683825  0.348931   0.669089     0.767237  0.167234   \n",
       "sqft_above    -0.019563  0.602530  0.482694   0.700447     0.882913  0.213362   \n",
       "sqft_basement -0.017423  0.277012  0.294126   0.245914     0.395935  0.041815   \n",
       "yr_built       0.020495  0.104663  0.157037   0.519623     0.330283  0.063314   \n",
       "yr_renovated  -0.018727  0.094203  0.021101   0.045337     0.037140  0.002993   \n",
       "zipcode       -0.014552 -0.062066 -0.157813  -0.184291    -0.198370 -0.111582   \n",
       "lat           -0.019468  0.335857 -0.007756   0.018480     0.049721 -0.054100   \n",
       "long           0.018962  0.043875  0.129595   0.221890     0.249343  0.252239   \n",
       "sqft_living15 -0.007585  0.586721  0.378441   0.555685     0.734102  0.138207   \n",
       "sqft_lot15    -0.133572  0.110575  0.055310   0.118668     0.214354  0.708000   \n",
       "\n",
       "                 floors  waterfront      view  condition     grade  \\\n",
       "id             0.017331    0.014070  0.043323  -0.047973 -0.006088   \n",
       "price          0.258877    0.211229  0.429827   0.008744  0.683825   \n",
       "bedrooms       0.169025   -0.019683  0.087083   0.028251  0.348931   \n",
       "bathrooms      0.500398    0.025115  0.203315  -0.118048  0.669089   \n",
       "sqft_living    0.325251    0.070324  0.307025  -0.043862  0.767237   \n",
       "sqft_lot       0.012603   -0.000016  0.070538  -0.001438  0.167234   \n",
       "floors         1.000000    0.035332  0.036214  -0.255499  0.438674   \n",
       "waterfront     0.035332    1.000000  0.382779  -0.002859  0.061005   \n",
       "view           0.036214    0.382779  1.000000   0.007650  0.281801   \n",
       "condition     -0.255499   -0.002859  0.007650   1.000000 -0.141894   \n",
       "grade          0.438674    0.061005  0.281801  -0.141894  1.000000   \n",
       "sqft_above     0.506408    0.052441  0.188595  -0.127461  0.745906   \n",
       "sqft_basement -0.271694    0.048943  0.282347   0.163808  0.167968   \n",
       "yr_built       0.512300   -0.036673 -0.036322  -0.316269  0.471885   \n",
       "yr_renovated   0.016475    0.116916  0.094527  -0.056620 -0.000668   \n",
       "zipcode       -0.054578    0.033156  0.087416  -0.032083 -0.175664   \n",
       "lat            0.060478   -0.004311  0.048066  -0.060632  0.107947   \n",
       "long           0.108757   -0.043038 -0.069692  -0.030865  0.181926   \n",
       "sqft_living15  0.244280    0.084313  0.316538  -0.084645  0.686385   \n",
       "sqft_lot15    -0.011815    0.026879  0.052384  -0.001036  0.157838   \n",
       "\n",
       "               sqft_above  sqft_basement  yr_built  yr_renovated   zipcode  \\\n",
       "id              -0.019563      -0.017423  0.020495     -0.018727 -0.014552   \n",
       "price            0.602530       0.277012  0.104663      0.094203 -0.062066   \n",
       "bedrooms         0.482694       0.294126  0.157037      0.021101 -0.157813   \n",
       "bathrooms        0.700447       0.245914  0.519623      0.045337 -0.184291   \n",
       "sqft_living      0.882913       0.395935  0.330283      0.037140 -0.198370   \n",
       "sqft_lot         0.213362       0.041815  0.063314      0.002993 -0.111582   \n",
       "floors           0.506408      -0.271694  0.512300      0.016475 -0.054578   \n",
       "waterfront       0.052441       0.048943 -0.036673      0.116916  0.033156   \n",
       "view             0.188595       0.282347 -0.036322      0.094527  0.087416   \n",
       "condition       -0.127461       0.163808 -0.316269     -0.056620 -0.032083   \n",
       "grade            0.745906       0.167968  0.471885     -0.000668 -0.175664   \n",
       "sqft_above       1.000000      -0.078208  0.429747      0.010442 -0.241531   \n",
       "sqft_basement   -0.078208       1.000000 -0.122543      0.044823  0.057525   \n",
       "yr_built         0.429747      -0.122543  1.000000     -0.185441 -0.337160   \n",
       "yr_renovated     0.010442       0.044823 -0.185441      1.000000  0.023722   \n",
       "zipcode         -0.241531       0.057525 -0.337160      0.023722  1.000000   \n",
       "lat             -0.000490       0.108070 -0.151921      0.023190  0.293644   \n",
       "long             0.324561      -0.125430  0.375731     -0.009763 -0.549856   \n",
       "sqft_living15    0.688662       0.209042  0.335443     -0.031478 -0.271389   \n",
       "sqft_lot15       0.195028       0.071515  0.062905      0.010079 -0.115937   \n",
       "\n",
       "                    lat      long  sqft_living15  sqft_lot15  \n",
       "id            -0.019468  0.018962      -0.007585   -0.133572  \n",
       "price          0.335857  0.043875       0.586721    0.110575  \n",
       "bedrooms      -0.007756  0.129595       0.378441    0.055310  \n",
       "bathrooms      0.018480  0.221890       0.555685    0.118668  \n",
       "sqft_living    0.049721  0.249343       0.734102    0.214354  \n",
       "sqft_lot      -0.054100  0.252239       0.138207    0.708000  \n",
       "floors         0.060478  0.108757       0.244280   -0.011815  \n",
       "waterfront    -0.004311 -0.043038       0.084313    0.026879  \n",
       "view           0.048066 -0.069692       0.316538    0.052384  \n",
       "condition     -0.060632 -0.030865      -0.084645   -0.001036  \n",
       "grade          0.107947  0.181926       0.686385    0.157838  \n",
       "sqft_above    -0.000490  0.324561       0.688662    0.195028  \n",
       "sqft_basement  0.108070 -0.125430       0.209042    0.071515  \n",
       "yr_built      -0.151921  0.375731       0.335443    0.062905  \n",
       "yr_renovated   0.023190 -0.009763      -0.031478    0.010079  \n",
       "zipcode        0.293644 -0.549856      -0.271389   -0.115937  \n",
       "lat            1.000000 -0.132291       0.050606   -0.037451  \n",
       "long          -0.132291  1.000000       0.313822    0.243165  \n",
       "sqft_living15  0.050606  0.313822       1.000000    0.197842  \n",
       "sqft_lot15    -0.037451  0.243165       0.197842    1.000000  "
      ]
     },
     "execution_count": 47,
     "metadata": {},
     "output_type": "execute_result"
    },
    {
     "data": {
      "image/png": "[encoded data removed]",
      "text/plain": [
       "<Figure size 864x432 with 2 Axes>"
      ]
     },
     "metadata": {
      "needs_background": "light"
     },
     "output_type": "display_data"
    }
   ],
   "source": [
    "import seaborn as sns\n",
    "\n",
    "hd_n = hd.drop('date', axis=1)\n",
    "a= hd_n.corr()\n",
    "fig=plt.figure(figsize=(12,6))\n",
    "sns.heatmap(a,annot= True,linewidths=3)\n",
    "a"
   ]
  },
  {
   "cell_type": "markdown",
   "metadata": {},
   "source": [
    "## Preprocessing\n",
    "### Step 1: Dropping columns\n",
    "- date: Contains Time series data.\n",
    "- Column id is the unique identifier for the records and it can be removed.\n",
    "- Based on the correlation matrix, the below columns can be removed: \n",
    "sqft_living15, sqft_lot15, Zipcode, Yr_renovated"
   ]
  },
  {
   "cell_type": "code",
   "execution_count": 48,
   "metadata": {},
   "outputs": [],
   "source": [
    "hd.drop(['id', 'date', 'yr_renovated', 'zipcode', 'sqft_living15', 'sqft_lot15'], axis = 1, inplace = True)"
   ]
  },
  {
   "cell_type": "code",
   "execution_count": 49,
   "metadata": {},
   "outputs": [
    {
     "name": "stdout",
     "output_type": "stream",
     "text": [
      "<class 'pandas.core.frame.DataFrame'>\n",
      "RangeIndex: 2225 entries, 0 to 2224\n",
      "Data columns (total 15 columns):\n",
      "price            2225 non-null float64\n",
      "bedrooms         2225 non-null int64\n",
      "bathrooms        2225 non-null float64\n",
      "sqft_living      2107 non-null float64\n",
      "sqft_lot         2225 non-null int64\n",
      "floors           2225 non-null float64\n",
      "waterfront       2225 non-null int64\n",
      "view             2225 non-null int64\n",
      "condition        2225 non-null int64\n",
      "grade            2225 non-null int64\n",
      "sqft_above       2225 non-null int64\n",
      "sqft_basement    2225 non-null int64\n",
      "yr_built         2225 non-null int64\n",
      "lat              2225 non-null float64\n",
      "long             2225 non-null float64\n",
      "dtypes: float64(6), int64(9)\n",
      "memory usage: 260.9 KB\n"
     ]
    }
   ],
   "source": [
    "hd.info()"
   ]
  },
  {
   "cell_type": "code",
   "execution_count": 50,
   "metadata": {},
   "outputs": [
    {
     "data": {
      "text/html": [
       "<div>\n",
       "<style scoped>\n",
       "    .dataframe tbody tr th:only-of-type {\n",
       "        vertical-align: middle;\n",
       "    }\n",
       "\n",
       "    .dataframe tbody tr th {\n",
       "        vertical-align: top;\n",
       "    }\n",
       "\n",
       "    .dataframe thead th {\n",
       "        text-align: right;\n",
       "    }\n",
       "</style>\n",
       "<table border=\"1\" class=\"dataframe\">\n",
       "  <thead>\n",
       "    <tr style=\"text-align: right;\">\n",
       "      <th></th>\n",
       "      <th>price</th>\n",
       "      <th>bedrooms</th>\n",
       "      <th>bathrooms</th>\n",
       "      <th>sqft_living</th>\n",
       "      <th>sqft_lot</th>\n",
       "      <th>floors</th>\n",
       "      <th>waterfront</th>\n",
       "      <th>view</th>\n",
       "      <th>condition</th>\n",
       "      <th>grade</th>\n",
       "      <th>sqft_above</th>\n",
       "      <th>sqft_basement</th>\n",
       "      <th>yr_built</th>\n",
       "      <th>lat</th>\n",
       "      <th>long</th>\n",
       "    </tr>\n",
       "  </thead>\n",
       "  <tbody>\n",
       "    <tr>\n",
       "      <td>0</td>\n",
       "      <td>False</td>\n",
       "      <td>False</td>\n",
       "      <td>False</td>\n",
       "      <td>False</td>\n",
       "      <td>False</td>\n",
       "      <td>False</td>\n",
       "      <td>False</td>\n",
       "      <td>False</td>\n",
       "      <td>False</td>\n",
       "      <td>False</td>\n",
       "      <td>False</td>\n",
       "      <td>False</td>\n",
       "      <td>False</td>\n",
       "      <td>False</td>\n",
       "      <td>False</td>\n",
       "    </tr>\n",
       "    <tr>\n",
       "      <td>1</td>\n",
       "      <td>False</td>\n",
       "      <td>False</td>\n",
       "      <td>False</td>\n",
       "      <td>False</td>\n",
       "      <td>False</td>\n",
       "      <td>False</td>\n",
       "      <td>False</td>\n",
       "      <td>False</td>\n",
       "      <td>False</td>\n",
       "      <td>False</td>\n",
       "      <td>False</td>\n",
       "      <td>False</td>\n",
       "      <td>False</td>\n",
       "      <td>False</td>\n",
       "      <td>False</td>\n",
       "    </tr>\n",
       "    <tr>\n",
       "      <td>2</td>\n",
       "      <td>False</td>\n",
       "      <td>False</td>\n",
       "      <td>False</td>\n",
       "      <td>False</td>\n",
       "      <td>False</td>\n",
       "      <td>False</td>\n",
       "      <td>False</td>\n",
       "      <td>False</td>\n",
       "      <td>False</td>\n",
       "      <td>False</td>\n",
       "      <td>False</td>\n",
       "      <td>False</td>\n",
       "      <td>False</td>\n",
       "      <td>False</td>\n",
       "      <td>False</td>\n",
       "    </tr>\n",
       "    <tr>\n",
       "      <td>3</td>\n",
       "      <td>False</td>\n",
       "      <td>False</td>\n",
       "      <td>False</td>\n",
       "      <td>False</td>\n",
       "      <td>False</td>\n",
       "      <td>False</td>\n",
       "      <td>False</td>\n",
       "      <td>False</td>\n",
       "      <td>False</td>\n",
       "      <td>False</td>\n",
       "      <td>False</td>\n",
       "      <td>False</td>\n",
       "      <td>False</td>\n",
       "      <td>False</td>\n",
       "      <td>False</td>\n",
       "    </tr>\n",
       "    <tr>\n",
       "      <td>4</td>\n",
       "      <td>False</td>\n",
       "      <td>False</td>\n",
       "      <td>False</td>\n",
       "      <td>False</td>\n",
       "      <td>False</td>\n",
       "      <td>False</td>\n",
       "      <td>False</td>\n",
       "      <td>False</td>\n",
       "      <td>False</td>\n",
       "      <td>False</td>\n",
       "      <td>False</td>\n",
       "      <td>False</td>\n",
       "      <td>False</td>\n",
       "      <td>False</td>\n",
       "      <td>False</td>\n",
       "    </tr>\n",
       "    <tr>\n",
       "      <td>...</td>\n",
       "      <td>...</td>\n",
       "      <td>...</td>\n",
       "      <td>...</td>\n",
       "      <td>...</td>\n",
       "      <td>...</td>\n",
       "      <td>...</td>\n",
       "      <td>...</td>\n",
       "      <td>...</td>\n",
       "      <td>...</td>\n",
       "      <td>...</td>\n",
       "      <td>...</td>\n",
       "      <td>...</td>\n",
       "      <td>...</td>\n",
       "      <td>...</td>\n",
       "      <td>...</td>\n",
       "    </tr>\n",
       "    <tr>\n",
       "      <td>2220</td>\n",
       "      <td>False</td>\n",
       "      <td>False</td>\n",
       "      <td>False</td>\n",
       "      <td>False</td>\n",
       "      <td>False</td>\n",
       "      <td>False</td>\n",
       "      <td>False</td>\n",
       "      <td>False</td>\n",
       "      <td>False</td>\n",
       "      <td>False</td>\n",
       "      <td>False</td>\n",
       "      <td>False</td>\n",
       "      <td>False</td>\n",
       "      <td>False</td>\n",
       "      <td>False</td>\n",
       "    </tr>\n",
       "    <tr>\n",
       "      <td>2221</td>\n",
       "      <td>False</td>\n",
       "      <td>False</td>\n",
       "      <td>False</td>\n",
       "      <td>False</td>\n",
       "      <td>False</td>\n",
       "      <td>False</td>\n",
       "      <td>False</td>\n",
       "      <td>False</td>\n",
       "      <td>False</td>\n",
       "      <td>False</td>\n",
       "      <td>False</td>\n",
       "      <td>False</td>\n",
       "      <td>False</td>\n",
       "      <td>False</td>\n",
       "      <td>False</td>\n",
       "    </tr>\n",
       "    <tr>\n",
       "      <td>2222</td>\n",
       "      <td>False</td>\n",
       "      <td>False</td>\n",
       "      <td>False</td>\n",
       "      <td>False</td>\n",
       "      <td>False</td>\n",
       "      <td>False</td>\n",
       "      <td>False</td>\n",
       "      <td>False</td>\n",
       "      <td>False</td>\n",
       "      <td>False</td>\n",
       "      <td>False</td>\n",
       "      <td>False</td>\n",
       "      <td>False</td>\n",
       "      <td>False</td>\n",
       "      <td>False</td>\n",
       "    </tr>\n",
       "    <tr>\n",
       "      <td>2223</td>\n",
       "      <td>False</td>\n",
       "      <td>False</td>\n",
       "      <td>False</td>\n",
       "      <td>False</td>\n",
       "      <td>False</td>\n",
       "      <td>False</td>\n",
       "      <td>False</td>\n",
       "      <td>False</td>\n",
       "      <td>False</td>\n",
       "      <td>False</td>\n",
       "      <td>False</td>\n",
       "      <td>False</td>\n",
       "      <td>False</td>\n",
       "      <td>False</td>\n",
       "      <td>False</td>\n",
       "    </tr>\n",
       "    <tr>\n",
       "      <td>2224</td>\n",
       "      <td>False</td>\n",
       "      <td>False</td>\n",
       "      <td>False</td>\n",
       "      <td>True</td>\n",
       "      <td>False</td>\n",
       "      <td>False</td>\n",
       "      <td>False</td>\n",
       "      <td>False</td>\n",
       "      <td>False</td>\n",
       "      <td>False</td>\n",
       "      <td>False</td>\n",
       "      <td>False</td>\n",
       "      <td>False</td>\n",
       "      <td>False</td>\n",
       "      <td>False</td>\n",
       "    </tr>\n",
       "  </tbody>\n",
       "</table>\n",
       "<p>2225 rows × 15 columns</p>\n",
       "</div>"
      ],
      "text/plain": [
       "      price  bedrooms  bathrooms  sqft_living  sqft_lot  floors  waterfront  \\\n",
       "0     False     False      False        False     False   False       False   \n",
       "1     False     False      False        False     False   False       False   \n",
       "2     False     False      False        False     False   False       False   \n",
       "3     False     False      False        False     False   False       False   \n",
       "4     False     False      False        False     False   False       False   \n",
       "...     ...       ...        ...          ...       ...     ...         ...   \n",
       "2220  False     False      False        False     False   False       False   \n",
       "2221  False     False      False        False     False   False       False   \n",
       "2222  False     False      False        False     False   False       False   \n",
       "2223  False     False      False        False     False   False       False   \n",
       "2224  False     False      False         True     False   False       False   \n",
       "\n",
       "       view  condition  grade  sqft_above  sqft_basement  yr_built    lat  \\\n",
       "0     False      False  False       False          False     False  False   \n",
       "1     False      False  False       False          False     False  False   \n",
       "2     False      False  False       False          False     False  False   \n",
       "3     False      False  False       False          False     False  False   \n",
       "4     False      False  False       False          False     False  False   \n",
       "...     ...        ...    ...         ...            ...       ...    ...   \n",
       "2220  False      False  False       False          False     False  False   \n",
       "2221  False      False  False       False          False     False  False   \n",
       "2222  False      False  False       False          False     False  False   \n",
       "2223  False      False  False       False          False     False  False   \n",
       "2224  False      False  False       False          False     False  False   \n",
       "\n",
       "       long  \n",
       "0     False  \n",
       "1     False  \n",
       "2     False  \n",
       "3     False  \n",
       "4     False  \n",
       "...     ...  \n",
       "2220  False  \n",
       "2221  False  \n",
       "2222  False  \n",
       "2223  False  \n",
       "2224  False  \n",
       "\n",
       "[2225 rows x 15 columns]"
      ]
     },
     "execution_count": 50,
     "metadata": {},
     "output_type": "execute_result"
    }
   ],
   "source": [
    "hd.isnull()"
   ]
  },
  {
   "cell_type": "markdown",
   "metadata": {},
   "source": [
    "### Step 2: Replacing missing values\n",
    "sqft_living: It has missing values. \n",
    "- Assumption: The sqft_living depends on the number of bedrooms and bathrooms. So replacing the null values with the mean of the sqft_living group by bedrooms and bathrooms."
   ]
  },
  {
   "cell_type": "code",
   "execution_count": 51,
   "metadata": {},
   "outputs": [
    {
     "name": "stdout",
     "output_type": "stream",
     "text": [
      "bedrooms  bathrooms\n",
      "1         0.75          640.000000\n",
      "          1.00          753.333333\n",
      "          1.50          760.000000\n",
      "          1.75         1020.000000\n",
      "          2.00         1780.000000\n",
      "                          ...     \n",
      "6         5.00         3028.000000\n",
      "7         3.00         2940.000000\n",
      "          4.75         5370.000000\n",
      "8         3.00         2850.000000\n",
      "9         3.00         3680.000000\n",
      "Name: sqft_living, Length: 84, dtype: float64\n",
      "bedrooms  bathrooms\n",
      "1         0.75          470.0\n",
      "          1.00          710.0\n",
      "          1.50          760.0\n",
      "          1.75         1020.0\n",
      "          2.00         1780.0\n",
      "                        ...  \n",
      "6         5.00         3028.0\n",
      "7         3.00         2940.0\n",
      "          4.75         5370.0\n",
      "8         3.00         2850.0\n",
      "9         3.00         3680.0\n",
      "Name: sqft_living, Length: 84, dtype: float64\n"
     ]
    }
   ],
   "source": [
    "#hd['sqft_living'].groupby['bedrooms', 'bathrooms'].median()\n",
    "\n",
    "print(hd.groupby(['bedrooms', 'bathrooms'])['sqft_living'].mean())\n",
    "print(hd.groupby(['bedrooms', 'bathrooms'])['sqft_living'].median())"
   ]
  },
  {
   "cell_type": "code",
   "execution_count": 52,
   "metadata": {},
   "outputs": [],
   "source": [
    "hd['sqft_living'] = hd.groupby(['bedrooms', 'bathrooms']).transform(lambda x: x.fillna(x.mean()))"
   ]
  },
  {
   "cell_type": "code",
   "execution_count": 53,
   "metadata": {},
   "outputs": [
    {
     "name": "stdout",
     "output_type": "stream",
     "text": [
      "<class 'pandas.core.frame.DataFrame'>\n",
      "RangeIndex: 2225 entries, 0 to 2224\n",
      "Data columns (total 15 columns):\n",
      "price            2225 non-null float64\n",
      "bedrooms         2225 non-null int64\n",
      "bathrooms        2225 non-null float64\n",
      "sqft_living      2225 non-null float64\n",
      "sqft_lot         2225 non-null int64\n",
      "floors           2225 non-null float64\n",
      "waterfront       2225 non-null int64\n",
      "view             2225 non-null int64\n",
      "condition        2225 non-null int64\n",
      "grade            2225 non-null int64\n",
      "sqft_above       2225 non-null int64\n",
      "sqft_basement    2225 non-null int64\n",
      "yr_built         2225 non-null int64\n",
      "lat              2225 non-null float64\n",
      "long             2225 non-null float64\n",
      "dtypes: float64(6), int64(9)\n",
      "memory usage: 260.9 KB\n"
     ]
    }
   ],
   "source": [
    "hd.info()"
   ]
  },
  {
   "cell_type": "markdown",
   "metadata": {},
   "source": [
    "### Step 3: Imputing Categorical/Ordinal variables\n",
    "The dataset does not contain any categorical values. The ordinal values are good to go ahead with the dataset and model building"
   ]
  },
  {
   "cell_type": "markdown",
   "metadata": {},
   "source": [
    "### Step 4: Splitting into Train and test Dataset\n",
    "Using 'sklearn.model_selection.train_test_split'"
   ]
  },
  {
   "cell_type": "code",
   "execution_count": 54,
   "metadata": {},
   "outputs": [],
   "source": [
    "X = hd.drop('price', axis = 1)\n",
    "y = hd['price']"
   ]
  },
  {
   "cell_type": "code",
   "execution_count": 55,
   "metadata": {},
   "outputs": [],
   "source": [
    "X_train_org, X_test_org, y_train, y_test = train_test_split(X, y, random_state = 0)"
   ]
  },
  {
   "cell_type": "markdown",
   "metadata": {},
   "source": [
    "### Step 5: Scaling the dataset\n",
    "Using Standard scaler to scale the dataset. The data here is slighlty right_skewed. To make the data relatively normally distributed, we are using the standard scaler."
   ]
  },
  {
   "cell_type": "code",
   "execution_count": 56,
   "metadata": {},
   "outputs": [],
   "source": [
    "scaler = preprocessing.StandardScaler()\n",
    "scaler.fit(X_train_org)\n",
    "X_train = scaler.transform(X_train_org)\n",
    "X_test = scaler.transform(X_test_org)\n",
    "\n",
    "#Converting nd array to df\n",
    "X_train_df = pd.DataFrame(X_train, columns = X.columns)\n",
    "X_test_df = pd.DataFrame(X_test, columns = X.columns)"
   ]
  },
  {
   "cell_type": "code",
   "execution_count": 57,
   "metadata": {},
   "outputs": [
    {
     "data": {
      "text/html": [
       "<div>\n",
       "<style scoped>\n",
       "    .dataframe tbody tr th:only-of-type {\n",
       "        vertical-align: middle;\n",
       "    }\n",
       "\n",
       "    .dataframe tbody tr th {\n",
       "        vertical-align: top;\n",
       "    }\n",
       "\n",
       "    .dataframe thead th {\n",
       "        text-align: right;\n",
       "    }\n",
       "</style>\n",
       "<table border=\"1\" class=\"dataframe\">\n",
       "  <thead>\n",
       "    <tr style=\"text-align: right;\">\n",
       "      <th></th>\n",
       "      <th>bedrooms</th>\n",
       "      <th>bathrooms</th>\n",
       "      <th>sqft_living</th>\n",
       "      <th>sqft_lot</th>\n",
       "      <th>floors</th>\n",
       "      <th>waterfront</th>\n",
       "      <th>view</th>\n",
       "      <th>condition</th>\n",
       "      <th>grade</th>\n",
       "      <th>sqft_above</th>\n",
       "      <th>sqft_basement</th>\n",
       "      <th>yr_built</th>\n",
       "      <th>lat</th>\n",
       "      <th>long</th>\n",
       "    </tr>\n",
       "  </thead>\n",
       "  <tbody>\n",
       "    <tr>\n",
       "      <td>0</td>\n",
       "      <td>-1.520580</td>\n",
       "      <td>-1.383859</td>\n",
       "      <td>-0.860674</td>\n",
       "      <td>-0.181086</td>\n",
       "      <td>-0.862860</td>\n",
       "      <td>-0.081477</td>\n",
       "      <td>-0.307635</td>\n",
       "      <td>-0.572483</td>\n",
       "      <td>-0.493894</td>\n",
       "      <td>-1.099887</td>\n",
       "      <td>-0.632621</td>\n",
       "      <td>-0.740745</td>\n",
       "      <td>1.190783</td>\n",
       "      <td>-0.834561</td>\n",
       "    </tr>\n",
       "    <tr>\n",
       "      <td>1</td>\n",
       "      <td>0.719992</td>\n",
       "      <td>-0.095039</td>\n",
       "      <td>-0.836774</td>\n",
       "      <td>-0.135147</td>\n",
       "      <td>0.059145</td>\n",
       "      <td>-0.081477</td>\n",
       "      <td>-0.307635</td>\n",
       "      <td>1.005866</td>\n",
       "      <td>-0.493894</td>\n",
       "      <td>-0.634525</td>\n",
       "      <td>-0.632621</td>\n",
       "      <td>-0.047602</td>\n",
       "      <td>-1.729879</td>\n",
       "      <td>-1.185065</td>\n",
       "    </tr>\n",
       "    <tr>\n",
       "      <td>2</td>\n",
       "      <td>-1.520580</td>\n",
       "      <td>-0.739449</td>\n",
       "      <td>-0.033122</td>\n",
       "      <td>-0.188246</td>\n",
       "      <td>0.981151</td>\n",
       "      <td>-0.081477</td>\n",
       "      <td>-0.307635</td>\n",
       "      <td>-0.572483</td>\n",
       "      <td>-0.493894</td>\n",
       "      <td>-0.252690</td>\n",
       "      <td>-0.632621</td>\n",
       "      <td>0.298970</td>\n",
       "      <td>1.160003</td>\n",
       "      <td>-1.017115</td>\n",
       "    </tr>\n",
       "    <tr>\n",
       "      <td>3</td>\n",
       "      <td>0.719992</td>\n",
       "      <td>-0.095039</td>\n",
       "      <td>-0.239263</td>\n",
       "      <td>-0.225900</td>\n",
       "      <td>-0.862860</td>\n",
       "      <td>-0.081477</td>\n",
       "      <td>-0.307635</td>\n",
       "      <td>-0.572483</td>\n",
       "      <td>-0.493894</td>\n",
       "      <td>-0.801578</td>\n",
       "      <td>1.516569</td>\n",
       "      <td>-1.572516</td>\n",
       "      <td>0.423340</td>\n",
       "      <td>-0.652007</td>\n",
       "    </tr>\n",
       "    <tr>\n",
       "      <td>4</td>\n",
       "      <td>0.719992</td>\n",
       "      <td>-0.417244</td>\n",
       "      <td>-0.744160</td>\n",
       "      <td>-0.120077</td>\n",
       "      <td>-0.862860</td>\n",
       "      <td>-0.081477</td>\n",
       "      <td>-0.307635</td>\n",
       "      <td>2.584216</td>\n",
       "      <td>-0.493894</td>\n",
       "      <td>0.081415</td>\n",
       "      <td>-0.632621</td>\n",
       "      <td>-0.116916</td>\n",
       "      <td>-1.135487</td>\n",
       "      <td>0.881448</td>\n",
       "    </tr>\n",
       "  </tbody>\n",
       "</table>\n",
       "</div>"
      ],
      "text/plain": [
       "   bedrooms  bathrooms  sqft_living  sqft_lot    floors  waterfront      view  \\\n",
       "0 -1.520580  -1.383859    -0.860674 -0.181086 -0.862860   -0.081477 -0.307635   \n",
       "1  0.719992  -0.095039    -0.836774 -0.135147  0.059145   -0.081477 -0.307635   \n",
       "2 -1.520580  -0.739449    -0.033122 -0.188246  0.981151   -0.081477 -0.307635   \n",
       "3  0.719992  -0.095039    -0.239263 -0.225900 -0.862860   -0.081477 -0.307635   \n",
       "4  0.719992  -0.417244    -0.744160 -0.120077 -0.862860   -0.081477 -0.307635   \n",
       "\n",
       "   condition     grade  sqft_above  sqft_basement  yr_built       lat  \\\n",
       "0  -0.572483 -0.493894   -1.099887      -0.632621 -0.740745  1.190783   \n",
       "1   1.005866 -0.493894   -0.634525      -0.632621 -0.047602 -1.729879   \n",
       "2  -0.572483 -0.493894   -0.252690      -0.632621  0.298970  1.160003   \n",
       "3  -0.572483 -0.493894   -0.801578       1.516569 -1.572516  0.423340   \n",
       "4   2.584216 -0.493894    0.081415      -0.632621 -0.116916 -1.135487   \n",
       "\n",
       "       long  \n",
       "0 -0.834561  \n",
       "1 -1.185065  \n",
       "2 -1.017115  \n",
       "3 -0.652007  \n",
       "4  0.881448  "
      ]
     },
     "execution_count": 57,
     "metadata": {},
     "output_type": "execute_result"
    }
   ],
   "source": [
    "X_train_df.head()"
   ]
  },
  {
   "cell_type": "code",
   "execution_count": 58,
   "metadata": {},
   "outputs": [
    {
     "data": {
      "text/plain": [
       "(1668, 14)"
      ]
     },
     "execution_count": 58,
     "metadata": {},
     "output_type": "execute_result"
    }
   ],
   "source": [
    "X_train.shape"
   ]
  },
  {
   "cell_type": "code",
   "execution_count": 59,
   "metadata": {},
   "outputs": [
    {
     "data": {
      "text/plain": [
       "(1668,)"
      ]
     },
     "execution_count": 59,
     "metadata": {},
     "output_type": "execute_result"
    }
   ],
   "source": [
    "y_train.shape"
   ]
  },
  {
   "cell_type": "markdown",
   "metadata": {},
   "source": [
    "## ML Models\n",
    "1. Import the model\n",
    "2. Instantiate the model\n",
    "3. Fit the model\n",
    "4. evaluate\n",
    "5. fine tune the model"
   ]
  },
  {
   "cell_type": "markdown",
   "metadata": {},
   "source": [
    "\n",
    "### 1. K Neighbors Regressor"
   ]
  },
  {
   "cell_type": "code",
   "execution_count": 23,
   "metadata": {},
   "outputs": [
    {
     "data": {
      "text/plain": [
       "Text(0, 0.5, 'MSE')"
      ]
     },
     "execution_count": 23,
     "metadata": {},
     "output_type": "execute_result"
    },
    {
     "data": {
      "image/png": "[encoded data removed]",
      "text/plain": [
       "<Figure size 432x288 with 1 Axes>"
      ]
     },
     "metadata": {
      "needs_background": "light"
     },
     "output_type": "display_data"
    }
   ],
   "source": [
    "%matplotlib inline\n",
    "from sklearn.model_selection import GridSearchCV\n",
    "from sklearn.neighbors import KNeighborsRegressor\n",
    "from sklearn import metrics\n",
    "\n",
    "train_score_array = []\n",
    "test_score_array = []\n",
    "r2_score_array= [] \n",
    "\n",
    "for k in range(1,15):\n",
    "    knn_reg = KNeighborsRegressor(k)\n",
    "    knn_reg.fit(X_train, y_train)\n",
    "    train_score_array.append(knn_reg.score(X_train, y_train))\n",
    "    test_score_array.append(knn_reg.score(X_test, y_test))\n",
    "    prediction=knn_reg.predict(X_test)\n",
    "    r2_score_array.append(metrics.r2_score(prediction,y_test))\n",
    "\n",
    "x_axis = range(1,15)\n",
    "plt.plot(x_axis, train_score_array, c = 'r', label = 'Train Score')\n",
    "plt.plot(x_axis, test_score_array, c = 'b', label = 'Test Score')\n",
    "plt.plot(x_axis, r2_score_array, c = 'g', label = 'R2 Square')\n",
    "plt.legend()\n",
    "plt.xlabel('k')\n",
    "plt.ylabel('MSE')"
   ]
  },
  {
   "cell_type": "code",
   "execution_count": 24,
   "metadata": {},
   "outputs": [
    {
     "name": "stdout",
     "output_type": "stream",
     "text": [
      "[1.0, 0.9568003908546151, 0.941598878863884, 0.92668000083899, 0.9092450072800581, 0.9004580873311041, 0.8879575632764909, 0.8743490569851585, 0.8700189680205433, 0.8643157551649459, 0.8525023768273018, 0.852810902932916, 0.8523833471166696, 0.8507261454798795]\n",
      "[0.8326308428111926, 0.8726636442035183, 0.8817705031986233, 0.889961373259567, 0.8925787695396321, 0.8965962331686768, 0.8878275071791588, 0.8791165812579765, 0.8766631860602205, 0.8753815617855336, 0.8666185619281518, 0.8662855546295414, 0.8652989087531562, 0.8657714070022335]\n",
      "[0.8192939405307347, 0.8496777242438096, 0.8435313126999717, 0.8506497992942547, 0.8476366093842378, 0.8472491874837864, 0.8251433556616028, 0.8069258715586844, 0.8008222811878964, 0.797753882544175, 0.7788940479260944, 0.774333496775526, 0.7701000862076831, 0.7660488642935691]\n"
     ]
    }
   ],
   "source": [
    "print(train_score_array)\n",
    "print(test_score_array)\n",
    "print(r2_score_array)"
   ]
  },
  {
   "cell_type": "markdown",
   "metadata": {},
   "source": [
    "Based on the Knn regressor without grid search, the best k value is 5. \n",
    "- The r-square value for this is 0.8476 with train score 0.9092 and test score 0.8925"
   ]
  },
  {
   "cell_type": "markdown",
   "metadata": {},
   "source": [
    "### Without Scaling"
   ]
  },
  {
   "cell_type": "code",
   "execution_count": 21,
   "metadata": {},
   "outputs": [
    {
     "data": {
      "text/plain": [
       "Text(0, 0.5, 'MSE')"
      ]
     },
     "execution_count": 21,
     "metadata": {},
     "output_type": "execute_result"
    },
    {
     "data": {
      "image/png": "[encoded data removed]",
      "text/plain": [
       "<Figure size 432x288 with 1 Axes>"
      ]
     },
     "metadata": {
      "needs_background": "light"
     },
     "output_type": "display_data"
    }
   ],
   "source": [
    "%matplotlib inline\n",
    "train_score_array = []\n",
    "test_score_array = []\n",
    "#r2_score_array= [] \n",
    "\n",
    "for k in range(1,10):\n",
    "    knn_reg = KNeighborsRegressor(k)\n",
    "    knn_reg.fit(X_train_org, y_train)\n",
    "    train_score_array.append(knn_reg.score(X_train_org, y_train))\n",
    "    test_score_array.append(knn_reg.score(X_test_org, y_test))\n",
    "    #prediction=knn_reg.predict(X_test)\n",
    "    #r2_score_array.append(metrics.r2_score(prediction,y_test))\n",
    "\n",
    "x_axis = range(1,10)\n",
    "plt.plot(x_axis, train_score_array, c = 'g', label = 'Train Score')\n",
    "plt.plot(x_axis, test_score_array, c = 'b', label = 'Test Score')\n",
    "plt.legend()\n",
    "plt.xlabel('k')\n",
    "plt.ylabel('MSE')"
   ]
  },
  {
   "cell_type": "markdown",
   "metadata": {},
   "source": [
    "### KNN Regressor with GridSearch Cross Validation"
   ]
  },
  {
   "cell_type": "code",
   "execution_count": 22,
   "metadata": {},
   "outputs": [
    {
     "name": "stderr",
     "output_type": "stream",
     "text": [
      "C:\\Users\\bhumi\\Anaconda3\\lib\\site-packages\\sklearn\\model_selection\\_split.py:1978: FutureWarning: The default value of cv will change from 3 to 5 in version 0.22. Specify it explicitly to silence this warning.\n",
      "  warnings.warn(CV_WARNING, FutureWarning)\n",
      "[Parallel(n_jobs=8)]: Using backend LokyBackend with 8 concurrent workers.\n"
     ]
    },
    {
     "name": "stdout",
     "output_type": "stream",
     "text": [
      "Fitting 3 folds for each of 84 candidates, totalling 252 fits\n"
     ]
    },
    {
     "name": "stderr",
     "output_type": "stream",
     "text": [
      "[Parallel(n_jobs=8)]: Done  25 tasks      | elapsed:    4.6s\n",
      "[Parallel(n_jobs=8)]: Done 146 tasks      | elapsed:    7.8s\n",
      "[Parallel(n_jobs=8)]: Done 252 out of 252 | elapsed:    9.6s finished\n"
     ]
    },
    {
     "name": "stdout",
     "output_type": "stream",
     "text": [
      "Suitable Hyper Parameters:\n",
      " {'algorithm': 'auto', 'leaf_size': 1, 'n_jobs': -1, 'n_neighbors': 3, 'weights': 'distance'}\n",
      "training score: 1.0\n",
      "test score:  0.8837107675360993\n",
      "r_square: 0.8485836164740445\n"
     ]
    }
   ],
   "source": [
    "\n",
    "knn_reg = KNeighborsRegressor()\n",
    "params = {'n_neighbors':[3,4,5,6,7,8,9], 'leaf_size':[1,2,3], 'weights':['uniform', 'distance'],\n",
    "          'algorithm':['auto','brute'],   'n_jobs':[-1]}\n",
    "\n",
    "k_grid = GridSearchCV(knn_reg, param_grid=params,n_jobs=8, verbose=2)\n",
    "k_grid.fit(X_train,y_train)\n",
    "print(\"Suitable Hyper Parameters:\\n\",k_grid.best_params_)\n",
    "\n",
    "prediction=k_grid.predict(X_test)\n",
    "train_score=k_grid.score(X_train,y_train)\n",
    "test_score=k_grid.score(X_test,y_test)\n",
    "\n",
    "print (\"training score:\", train_score) \n",
    "print (\"test score: \", test_score)\n",
    "print(\"r_square:\",metrics.r2_score(prediction,y_test))"
   ]
  },
  {
   "cell_type": "code",
   "execution_count": 23,
   "metadata": {},
   "outputs": [
    {
     "data": {
      "text/plain": [
       "KNeighborsRegressor(algorithm='auto', leaf_size=30, metric='minkowski',\n",
       "                    metric_params=None, n_jobs=None, n_neighbors=5, p=2,\n",
       "                    weights='uniform')"
      ]
     },
     "execution_count": 23,
     "metadata": {},
     "output_type": "execute_result"
    }
   ],
   "source": [
    "knn = KNeighborsRegressor(n_neighbors=5)# fit the model using the training data and training targets\n",
    "knn.fit(X_train, y_train)"
   ]
  },
  {
   "cell_type": "code",
   "execution_count": 24,
   "metadata": {},
   "outputs": [
    {
     "name": "stdout",
     "output_type": "stream",
     "text": [
      "0.9092450072800581\n",
      "0.8925787695396321\n"
     ]
    }
   ],
   "source": [
    "print(knn.score(X_train, y_train))\n",
    "print(knn.score(X_test, y_test))"
   ]
  },
  {
   "cell_type": "markdown",
   "metadata": {},
   "source": [
    "## 2. Linear Regression"
   ]
  },
  {
   "cell_type": "code",
   "execution_count": 25,
   "metadata": {},
   "outputs": [
    {
     "name": "stdout",
     "output_type": "stream",
     "text": [
      "training score: 1.0\n",
      "test score:  1.0\n",
      "r_square: 1.0\n"
     ]
    }
   ],
   "source": [
    "from sklearn.linear_model import LinearRegression\n",
    "lreg = LinearRegression()\n",
    "lreg.fit(X_train, y_train)\n",
    "prediction = lreg.predict(X_test)\n",
    "train_score=lreg.score(X_train,y_train)\n",
    "test_score=lreg.score(X_test,y_test)\n",
    "print (\"training score:\", train_score) \n",
    "print (\"test score: \", test_score)\n",
    "print(\"r_square:\",metrics.r2_score(prediction,y_test))\n"
   ]
  },
  {
   "cell_type": "markdown",
   "metadata": {},
   "source": [
    "### Linear Regression with Grid Search"
   ]
  },
  {
   "cell_type": "code",
   "execution_count": 26,
   "metadata": {},
   "outputs": [
    {
     "name": "stdout",
     "output_type": "stream",
     "text": [
      "Fitting 3 folds for each of 8 candidates, totalling 24 fits\n",
      "Best Hyper Parameters:\n",
      " {'copy_X': True, 'fit_intercept': True, 'normalize': True}\n",
      "training score: 1.0\n",
      "test score:  1.0\n",
      "r_square: 1.0\n"
     ]
    },
    {
     "name": "stderr",
     "output_type": "stream",
     "text": [
      "C:\\Users\\bhumi\\Anaconda3\\lib\\site-packages\\sklearn\\model_selection\\_split.py:1978: FutureWarning: The default value of cv will change from 3 to 5 in version 0.22. Specify it explicitly to silence this warning.\n",
      "  warnings.warn(CV_WARNING, FutureWarning)\n",
      "[Parallel(n_jobs=8)]: Using backend LokyBackend with 8 concurrent workers.\n",
      "[Parallel(n_jobs=8)]: Done   9 out of  24 | elapsed:    0.0s remaining:    0.0s\n",
      "[Parallel(n_jobs=8)]: Done  24 out of  24 | elapsed:    0.0s finished\n"
     ]
    }
   ],
   "source": [
    "l_grid = LinearRegression()\n",
    "params = {'fit_intercept':[True,False], 'normalize':[True,False], 'copy_X':[True, False]}\n",
    "\n",
    "l_grid1 = GridSearchCV(l_grid, param_grid=params, n_jobs=8,  verbose=2)\n",
    "l_grid1.fit(X_train,y_train)\n",
    "\n",
    "print(\"Best Hyper Parameters:\\n\",l_grid1.best_params_)\n",
    "prediction=l_grid1.predict(X_test)\n",
    "train_score=l_grid1.score(X_train,y_train)\n",
    "test_score=l_grid1.score(X_test,y_test)\n",
    "\n",
    "print (\"training score:\", train_score) \n",
    "print (\"test score: \", test_score)\n",
    "print(\"r_square:\",metrics.r2_score(prediction,y_test))"
   ]
  },
  {
   "cell_type": "markdown",
   "metadata": {},
   "source": [
    "### 3. Polynomial Regression"
   ]
  },
  {
   "cell_type": "code",
   "execution_count": 27,
   "metadata": {},
   "outputs": [],
   "source": [
    "from  sklearn.preprocessing  import PolynomialFeatures\n",
    "train_score_list = []\n",
    "test_score_list = []\n",
    "r2_score_array= [] \n",
    "\n",
    "for n in range(1,4):\n",
    "    poly = PolynomialFeatures(n)\n",
    "    X_train_poly = poly.fit_transform(X_train)\n",
    "    X_test_poly = poly.transform(X_test)\n",
    "    lreg.fit(X_train_poly, y_train)\n",
    "    train_score_list.append(lreg.score(X_train_poly, y_train))\n",
    "    test_score_list.append(lreg.score(X_test_poly, y_test))\n",
    "    prediction=lreg.predict(X_test_poly)\n",
    "    r2_score_array.append(metrics.r2_score(prediction,y_test))"
   ]
  },
  {
   "cell_type": "code",
   "execution_count": 28,
   "metadata": {},
   "outputs": [
    {
     "name": "stdout",
     "output_type": "stream",
     "text": [
      "[1.0, 1.0, 1.0]\n",
      "[1.0, 0.9999929499744639, 0.9999999856883988]\n",
      "[1.0, 0.9999929486630488, 0.9999999856876909]\n"
     ]
    }
   ],
   "source": [
    "print(train_score_list)\n",
    "print(test_score_list)\n",
    "print(r2_score_array)"
   ]
  },
  {
   "cell_type": "code",
   "execution_count": 29,
   "metadata": {},
   "outputs": [
    {
     "data": {
      "text/plain": [
       "Text(0, 0.5, 'Accuracy')"
      ]
     },
     "execution_count": 29,
     "metadata": {},
     "output_type": "execute_result"
    },
    {
     "data": {
      "image/png": "[encoded data removed]",
      "text/plain": [
       "<Figure size 432x288 with 1 Axes>"
      ]
     },
     "metadata": {
      "needs_background": "light"
     },
     "output_type": "display_data"
    }
   ],
   "source": [
    "%matplotlib inline\n",
    "\n",
    "x_axis = range(1,4)\n",
    "plt.plot(x_axis, train_score_list, c = 'r', label = 'Train Score')\n",
    "plt.plot(x_axis, test_score_list, c = 'b', label = 'Test Score')\n",
    "\n",
    "plt.legend()\n",
    "plt.xlabel('Degree')\n",
    "plt.ylabel('Accuracy')\n"
   ]
  },
  {
   "cell_type": "markdown",
   "metadata": {},
   "source": [
    "Considering the train and test scores to not be same, we consider that degree 2 is the best parameter for this model"
   ]
  },
  {
   "cell_type": "markdown",
   "metadata": {},
   "source": [
    "#### Polynomial Regression with Grid Search"
   ]
  },
  {
   "cell_type": "code",
   "execution_count": 30,
   "metadata": {
    "scrolled": false
   },
   "outputs": [
    {
     "name": "stdout",
     "output_type": "stream",
     "text": [
      "Fitting 10 folds for each of 12 candidates, totalling 120 fits\n",
      "[CV] linearregression__fit_intercept=True, linearregression__normalize=True, polynomialfeatures__degree=0 \n",
      "[CV]  linearregression__fit_intercept=True, linearregression__normalize=True, polynomialfeatures__degree=0, total=   0.0s\n",
      "[CV] linearregression__fit_intercept=True, linearregression__normalize=True, polynomialfeatures__degree=0 \n",
      "[CV]  linearregression__fit_intercept=True, linearregression__normalize=True, polynomialfeatures__degree=0, total=   0.0s\n",
      "[CV] linearregression__fit_intercept=True, linearregression__normalize=True, polynomialfeatures__degree=0 \n",
      "[CV]  linearregression__fit_intercept=True, linearregression__normalize=True, polynomialfeatures__degree=0, total=   0.0s\n",
      "[CV] linearregression__fit_intercept=True, linearregression__normalize=True, polynomialfeatures__degree=0 \n",
      "[CV]  linearregression__fit_intercept=True, linearregression__normalize=True, polynomialfeatures__degree=0, total=   0.0s\n",
      "[CV] linearregression__fit_intercept=True, linearregression__normalize=True, polynomialfeatures__degree=0 \n",
      "[CV]  linearregression__fit_intercept=True, linearregression__normalize=True, polynomialfeatures__degree=0, total=   0.0s\n",
      "[CV] linearregression__fit_intercept=True, linearregression__normalize=True, polynomialfeatures__degree=0 \n",
      "[CV]  linearregression__fit_intercept=True, linearregression__normalize=True, polynomialfeatures__degree=0, total=   0.0s\n",
      "[CV] linearregression__fit_intercept=True, linearregression__normalize=True, polynomialfeatures__degree=0 \n",
      "[CV]  linearregression__fit_intercept=True, linearregression__normalize=True, polynomialfeatures__degree=0, total=   0.0s\n",
      "[CV] linearregression__fit_intercept=True, linearregression__normalize=True, polynomialfeatures__degree=0 \n",
      "[CV]  linearregression__fit_intercept=True, linearregression__normalize=True, polynomialfeatures__degree=0, total=   0.0s\n",
      "[CV] linearregression__fit_intercept=True, linearregression__normalize=True, polynomialfeatures__degree=0 \n",
      "[CV]  linearregression__fit_intercept=True, linearregression__normalize=True, polynomialfeatures__degree=0, total=   0.0s\n",
      "[CV] linearregression__fit_intercept=True, linearregression__normalize=True, polynomialfeatures__degree=0 \n",
      "[CV]  linearregression__fit_intercept=True, linearregression__normalize=True, polynomialfeatures__degree=0, total=   0.0s\n",
      "[CV] linearregression__fit_intercept=True, linearregression__normalize=True, polynomialfeatures__degree=1 \n",
      "[CV]  linearregression__fit_intercept=True, linearregression__normalize=True, polynomialfeatures__degree=1, total=   0.0s\n",
      "[CV] linearregression__fit_intercept=True, linearregression__normalize=True, polynomialfeatures__degree=1 \n",
      "[CV]  linearregression__fit_intercept=True, linearregression__normalize=True, polynomialfeatures__degree=1, total=   0.0s\n",
      "[CV] linearregression__fit_intercept=True, linearregression__normalize=True, polynomialfeatures__degree=1 \n",
      "[CV]  linearregression__fit_intercept=True, linearregression__normalize=True, polynomialfeatures__degree=1, total=   0.0s\n",
      "[CV] linearregression__fit_intercept=True, linearregression__normalize=True, polynomialfeatures__degree=1 \n",
      "[CV]  linearregression__fit_intercept=True, linearregression__normalize=True, polynomialfeatures__degree=1, total=   0.0s\n",
      "[CV] linearregression__fit_intercept=True, linearregression__normalize=True, polynomialfeatures__degree=1 \n",
      "[CV]  linearregression__fit_intercept=True, linearregression__normalize=True, polynomialfeatures__degree=1, total=   0.0s\n",
      "[CV] linearregression__fit_intercept=True, linearregression__normalize=True, polynomialfeatures__degree=1 \n",
      "[CV]  linearregression__fit_intercept=True, linearregression__normalize=True, polynomialfeatures__degree=1, total=   0.0s\n",
      "[CV] linearregression__fit_intercept=True, linearregression__normalize=True, polynomialfeatures__degree=1 \n",
      "[CV]  linearregression__fit_intercept=True, linearregression__normalize=True, polynomialfeatures__degree=1, total=   0.0s\n",
      "[CV] linearregression__fit_intercept=True, linearregression__normalize=True, polynomialfeatures__degree=1 \n",
      "[CV]  linearregression__fit_intercept=True, linearregression__normalize=True, polynomialfeatures__degree=1, total=   0.0s\n",
      "[CV] linearregression__fit_intercept=True, linearregression__normalize=True, polynomialfeatures__degree=1 \n",
      "[CV]  linearregression__fit_intercept=True, linearregression__normalize=True, polynomialfeatures__degree=1, total=   0.0s\n",
      "[CV] linearregression__fit_intercept=True, linearregression__normalize=True, polynomialfeatures__degree=1 \n",
      "[CV]  linearregression__fit_intercept=True, linearregression__normalize=True, polynomialfeatures__degree=1, total=   0.0s\n",
      "[CV] linearregression__fit_intercept=True, linearregression__normalize=True, polynomialfeatures__degree=2 \n",
      "[CV]  linearregression__fit_intercept=True, linearregression__normalize=True, polynomialfeatures__degree=2, total=   0.0s\n",
      "[CV] linearregression__fit_intercept=True, linearregression__normalize=True, polynomialfeatures__degree=2 \n",
      "[CV]  linearregression__fit_intercept=True, linearregression__normalize=True, polynomialfeatures__degree=2, total=   0.0s\n",
      "[CV] linearregression__fit_intercept=True, linearregression__normalize=True, polynomialfeatures__degree=2 \n",
      "[CV]  linearregression__fit_intercept=True, linearregression__normalize=True, polynomialfeatures__degree=2, total=   0.0s\n",
      "[CV] linearregression__fit_intercept=True, linearregression__normalize=True, polynomialfeatures__degree=2 \n",
      "[CV]  linearregression__fit_intercept=True, linearregression__normalize=True, polynomialfeatures__degree=2, total=   0.0s\n",
      "[CV] linearregression__fit_intercept=True, linearregression__normalize=True, polynomialfeatures__degree=2 \n",
      "[CV]  linearregression__fit_intercept=True, linearregression__normalize=True, polynomialfeatures__degree=2, total=   0.0s"
     ]
    },
    {
     "name": "stderr",
     "output_type": "stream",
     "text": [
      "[Parallel(n_jobs=1)]: Using backend SequentialBackend with 1 concurrent workers.\n",
      "[Parallel(n_jobs=1)]: Done   1 out of   1 | elapsed:    0.0s remaining:    0.0s\n"
     ]
    },
    {
     "name": "stdout",
     "output_type": "stream",
     "text": [
      "\n",
      "[CV] linearregression__fit_intercept=True, linearregression__normalize=True, polynomialfeatures__degree=2 \n",
      "[CV]  linearregression__fit_intercept=True, linearregression__normalize=True, polynomialfeatures__degree=2, total=   0.0s\n",
      "[CV] linearregression__fit_intercept=True, linearregression__normalize=True, polynomialfeatures__degree=2 \n",
      "[CV]  linearregression__fit_intercept=True, linearregression__normalize=True, polynomialfeatures__degree=2, total=   0.0s\n",
      "[CV] linearregression__fit_intercept=True, linearregression__normalize=True, polynomialfeatures__degree=2 \n",
      "[CV]  linearregression__fit_intercept=True, linearregression__normalize=True, polynomialfeatures__degree=2, total=   0.0s\n",
      "[CV] linearregression__fit_intercept=True, linearregression__normalize=True, polynomialfeatures__degree=2 \n",
      "[CV]  linearregression__fit_intercept=True, linearregression__normalize=True, polynomialfeatures__degree=2, total=   0.0s\n",
      "[CV] linearregression__fit_intercept=True, linearregression__normalize=True, polynomialfeatures__degree=2 \n",
      "[CV]  linearregression__fit_intercept=True, linearregression__normalize=True, polynomialfeatures__degree=2, total=   0.0s\n",
      "[CV] linearregression__fit_intercept=True, linearregression__normalize=False, polynomialfeatures__degree=0 \n",
      "[CV]  linearregression__fit_intercept=True, linearregression__normalize=False, polynomialfeatures__degree=0, total=   0.0s\n",
      "[CV] linearregression__fit_intercept=True, linearregression__normalize=False, polynomialfeatures__degree=0 \n",
      "[CV]  linearregression__fit_intercept=True, linearregression__normalize=False, polynomialfeatures__degree=0, total=   0.0s\n",
      "[CV] linearregression__fit_intercept=True, linearregression__normalize=False, polynomialfeatures__degree=0 \n",
      "[CV]  linearregression__fit_intercept=True, linearregression__normalize=False, polynomialfeatures__degree=0, total=   0.0s\n",
      "[CV] linearregression__fit_intercept=True, linearregression__normalize=False, polynomialfeatures__degree=0 \n",
      "[CV]  linearregression__fit_intercept=True, linearregression__normalize=False, polynomialfeatures__degree=0, total=   0.0s\n",
      "[CV] linearregression__fit_intercept=True, linearregression__normalize=False, polynomialfeatures__degree=0 \n",
      "[CV]  linearregression__fit_intercept=True, linearregression__normalize=False, polynomialfeatures__degree=0, total=   0.0s\n",
      "[CV] linearregression__fit_intercept=True, linearregression__normalize=False, polynomialfeatures__degree=0 \n",
      "[CV]  linearregression__fit_intercept=True, linearregression__normalize=False, polynomialfeatures__degree=0, total=   0.0s\n",
      "[CV] linearregression__fit_intercept=True, linearregression__normalize=False, polynomialfeatures__degree=0 \n",
      "[CV]  linearregression__fit_intercept=True, linearregression__normalize=False, polynomialfeatures__degree=0, total=   0.0s\n",
      "[CV] linearregression__fit_intercept=True, linearregression__normalize=False, polynomialfeatures__degree=0 \n",
      "[CV]  linearregression__fit_intercept=True, linearregression__normalize=False, polynomialfeatures__degree=0, total=   0.0s\n",
      "[CV] linearregression__fit_intercept=True, linearregression__normalize=False, polynomialfeatures__degree=0 \n",
      "[CV]  linearregression__fit_intercept=True, linearregression__normalize=False, polynomialfeatures__degree=0, total=   0.0s\n",
      "[CV] linearregression__fit_intercept=True, linearregression__normalize=False, polynomialfeatures__degree=0 \n",
      "[CV]  linearregression__fit_intercept=True, linearregression__normalize=False, polynomialfeatures__degree=0, total=   0.0s\n",
      "[CV] linearregression__fit_intercept=True, linearregression__normalize=False, polynomialfeatures__degree=1 \n",
      "[CV]  linearregression__fit_intercept=True, linearregression__normalize=False, polynomialfeatures__degree=1, total=   0.0s\n",
      "[CV] linearregression__fit_intercept=True, linearregression__normalize=False, polynomialfeatures__degree=1 \n",
      "[CV]  linearregression__fit_intercept=True, linearregression__normalize=False, polynomialfeatures__degree=1, total=   0.0s\n",
      "[CV] linearregression__fit_intercept=True, linearregression__normalize=False, polynomialfeatures__degree=1 \n",
      "[CV]  linearregression__fit_intercept=True, linearregression__normalize=False, polynomialfeatures__degree=1, total=   0.0s\n",
      "[CV] linearregression__fit_intercept=True, linearregression__normalize=False, polynomialfeatures__degree=1 \n",
      "[CV]  linearregression__fit_intercept=True, linearregression__normalize=False, polynomialfeatures__degree=1, total=   0.0s\n",
      "[CV] linearregression__fit_intercept=True, linearregression__normalize=False, polynomialfeatures__degree=1 \n",
      "[CV]  linearregression__fit_intercept=True, linearregression__normalize=False, polynomialfeatures__degree=1, total=   0.0s\n",
      "[CV] linearregression__fit_intercept=True, linearregression__normalize=False, polynomialfeatures__degree=1 \n",
      "[CV]  linearregression__fit_intercept=True, linearregression__normalize=False, polynomialfeatures__degree=1, total=   0.0s\n",
      "[CV] linearregression__fit_intercept=True, linearregression__normalize=False, polynomialfeatures__degree=1 \n",
      "[CV]  linearregression__fit_intercept=True, linearregression__normalize=False, polynomialfeatures__degree=1, total=   0.0s\n",
      "[CV] linearregression__fit_intercept=True, linearregression__normalize=False, polynomialfeatures__degree=1 \n",
      "[CV]  linearregression__fit_intercept=True, linearregression__normalize=False, polynomialfeatures__degree=1, total=   0.0s\n",
      "[CV] linearregression__fit_intercept=True, linearregression__normalize=False, polynomialfeatures__degree=1 \n",
      "[CV]  linearregression__fit_intercept=True, linearregression__normalize=False, polynomialfeatures__degree=1, total=   0.0s\n",
      "[CV] linearregression__fit_intercept=True, linearregression__normalize=False, polynomialfeatures__degree=1 \n",
      "[CV]  linearregression__fit_intercept=True, linearregression__normalize=False, polynomialfeatures__degree=1, total=   0.0s\n",
      "[CV] linearregression__fit_intercept=True, linearregression__normalize=False, polynomialfeatures__degree=2 \n",
      "[CV]  linearregression__fit_intercept=True, linearregression__normalize=False, polynomialfeatures__degree=2, total=   0.0s\n",
      "[CV] linearregression__fit_intercept=True, linearregression__normalize=False, polynomialfeatures__degree=2 \n",
      "[CV]  linearregression__fit_intercept=True, linearregression__normalize=False, polynomialfeatures__degree=2, total=   0.0s\n",
      "[CV] linearregression__fit_intercept=True, linearregression__normalize=False, polynomialfeatures__degree=2 \n",
      "[CV]  linearregression__fit_intercept=True, linearregression__normalize=False, polynomialfeatures__degree=2, total=   0.0s\n",
      "[CV] linearregression__fit_intercept=True, linearregression__normalize=False, polynomialfeatures__degree=2 \n",
      "[CV]  linearregression__fit_intercept=True, linearregression__normalize=False, polynomialfeatures__degree=2, total=   0.0s\n",
      "[CV] linearregression__fit_intercept=True, linearregression__normalize=False, polynomialfeatures__degree=2 \n",
      "[CV]  linearregression__fit_intercept=True, linearregression__normalize=False, polynomialfeatures__degree=2, total=   0.0s\n",
      "[CV] linearregression__fit_intercept=True, linearregression__normalize=False, polynomialfeatures__degree=2 \n",
      "[CV]  linearregression__fit_intercept=True, linearregression__normalize=False, polynomialfeatures__degree=2, total=   0.0s\n",
      "[CV] linearregression__fit_intercept=True, linearregression__normalize=False, polynomialfeatures__degree=2 \n",
      "[CV]  linearregression__fit_intercept=True, linearregression__normalize=False, polynomialfeatures__degree=2, total=   0.0s\n",
      "[CV] linearregression__fit_intercept=True, linearregression__normalize=False, polynomialfeatures__degree=2 \n",
      "[CV]  linearregression__fit_intercept=True, linearregression__normalize=False, polynomialfeatures__degree=2, total=   0.0s\n",
      "[CV] linearregression__fit_intercept=True, linearregression__normalize=False, polynomialfeatures__degree=2 \n",
      "[CV]  linearregression__fit_intercept=True, linearregression__normalize=False, polynomialfeatures__degree=2, total=   0.0s\n",
      "[CV] linearregression__fit_intercept=True, linearregression__normalize=False, polynomialfeatures__degree=2 \n",
      "[CV]  linearregression__fit_intercept=True, linearregression__normalize=False, polynomialfeatures__degree=2, total=   0.0s\n",
      "[CV] linearregression__fit_intercept=False, linearregression__normalize=True, polynomialfeatures__degree=0 \n",
      "[CV]  linearregression__fit_intercept=False, linearregression__normalize=True, polynomialfeatures__degree=0, total=   0.0s\n",
      "[CV] linearregression__fit_intercept=False, linearregression__normalize=True, polynomialfeatures__degree=0 \n",
      "[CV]  linearregression__fit_intercept=False, linearregression__normalize=True, polynomialfeatures__degree=0, total=   0.0s\n",
      "[CV] linearregression__fit_intercept=False, linearregression__normalize=True, polynomialfeatures__degree=0 \n",
      "[CV]  linearregression__fit_intercept=False, linearregression__normalize=True, polynomialfeatures__degree=0, total=   0.0s\n",
      "[CV] linearregression__fit_intercept=False, linearregression__normalize=True, polynomialfeatures__degree=0 \n",
      "[CV]  linearregression__fit_intercept=False, linearregression__normalize=True, polynomialfeatures__degree=0, total=   0.0s\n",
      "[CV] linearregression__fit_intercept=False, linearregression__normalize=True, polynomialfeatures__degree=0 \n",
      "[CV]  linearregression__fit_intercept=False, linearregression__normalize=True, polynomialfeatures__degree=0, total=   0.0s\n",
      "[CV] linearregression__fit_intercept=False, linearregression__normalize=True, polynomialfeatures__degree=0 \n",
      "[CV]  linearregression__fit_intercept=False, linearregression__normalize=True, polynomialfeatures__degree=0, total=   0.0s\n",
      "[CV] linearregression__fit_intercept=False, linearregression__normalize=True, polynomialfeatures__degree=0 \n",
      "[CV]  linearregression__fit_intercept=False, linearregression__normalize=True, polynomialfeatures__degree=0, total=   0.0s\n",
      "[CV] linearregression__fit_intercept=False, linearregression__normalize=True, polynomialfeatures__degree=0 \n",
      "[CV]  linearregression__fit_intercept=False, linearregression__normalize=True, polynomialfeatures__degree=0, total=   0.0s\n",
      "[CV] linearregression__fit_intercept=False, linearregression__normalize=True, polynomialfeatures__degree=0 \n",
      "[CV]  linearregression__fit_intercept=False, linearregression__normalize=True, polynomialfeatures__degree=0, total=   0.0s\n",
      "[CV] linearregression__fit_intercept=False, linearregression__normalize=True, polynomialfeatures__degree=0 \n",
      "[CV]  linearregression__fit_intercept=False, linearregression__normalize=True, polynomialfeatures__degree=0, total=   0.0s\n",
      "[CV] linearregression__fit_intercept=False, linearregression__normalize=True, polynomialfeatures__degree=1 \n",
      "[CV]  linearregression__fit_intercept=False, linearregression__normalize=True, polynomialfeatures__degree=1, total=   0.0s\n",
      "[CV] linearregression__fit_intercept=False, linearregression__normalize=True, polynomialfeatures__degree=1 \n",
      "[CV]  linearregression__fit_intercept=False, linearregression__normalize=True, polynomialfeatures__degree=1, total=   0.0s\n",
      "[CV] linearregression__fit_intercept=False, linearregression__normalize=True, polynomialfeatures__degree=1 \n",
      "[CV]  linearregression__fit_intercept=False, linearregression__normalize=True, polynomialfeatures__degree=1, total=   0.0s\n",
      "[CV] linearregression__fit_intercept=False, linearregression__normalize=True, polynomialfeatures__degree=1 \n",
      "[CV]  linearregression__fit_intercept=False, linearregression__normalize=True, polynomialfeatures__degree=1, total=   0.0s\n",
      "[CV] linearregression__fit_intercept=False, linearregression__normalize=True, polynomialfeatures__degree=1 \n",
      "[CV]  linearregression__fit_intercept=False, linearregression__normalize=True, polynomialfeatures__degree=1, total=   0.0s\n",
      "[CV] linearregression__fit_intercept=False, linearregression__normalize=True, polynomialfeatures__degree=1 \n"
     ]
    },
    {
     "name": "stdout",
     "output_type": "stream",
     "text": [
      "[CV]  linearregression__fit_intercept=False, linearregression__normalize=True, polynomialfeatures__degree=1, total=   0.0s\n",
      "[CV] linearregression__fit_intercept=False, linearregression__normalize=True, polynomialfeatures__degree=1 \n",
      "[CV]  linearregression__fit_intercept=False, linearregression__normalize=True, polynomialfeatures__degree=1, total=   0.0s\n",
      "[CV] linearregression__fit_intercept=False, linearregression__normalize=True, polynomialfeatures__degree=1 \n",
      "[CV]  linearregression__fit_intercept=False, linearregression__normalize=True, polynomialfeatures__degree=1, total=   0.0s\n",
      "[CV] linearregression__fit_intercept=False, linearregression__normalize=True, polynomialfeatures__degree=1 \n",
      "[CV]  linearregression__fit_intercept=False, linearregression__normalize=True, polynomialfeatures__degree=1, total=   0.0s\n",
      "[CV] linearregression__fit_intercept=False, linearregression__normalize=True, polynomialfeatures__degree=1 \n",
      "[CV]  linearregression__fit_intercept=False, linearregression__normalize=True, polynomialfeatures__degree=1, total=   0.0s\n",
      "[CV] linearregression__fit_intercept=False, linearregression__normalize=True, polynomialfeatures__degree=2 \n",
      "[CV]  linearregression__fit_intercept=False, linearregression__normalize=True, polynomialfeatures__degree=2, total=   0.0s\n",
      "[CV] linearregression__fit_intercept=False, linearregression__normalize=True, polynomialfeatures__degree=2 \n",
      "[CV]  linearregression__fit_intercept=False, linearregression__normalize=True, polynomialfeatures__degree=2, total=   0.0s\n",
      "[CV] linearregression__fit_intercept=False, linearregression__normalize=True, polynomialfeatures__degree=2 \n",
      "[CV]  linearregression__fit_intercept=False, linearregression__normalize=True, polynomialfeatures__degree=2, total=   0.0s\n",
      "[CV] linearregression__fit_intercept=False, linearregression__normalize=True, polynomialfeatures__degree=2 \n",
      "[CV]  linearregression__fit_intercept=False, linearregression__normalize=True, polynomialfeatures__degree=2, total=   0.0s\n",
      "[CV] linearregression__fit_intercept=False, linearregression__normalize=True, polynomialfeatures__degree=2 \n",
      "[CV]  linearregression__fit_intercept=False, linearregression__normalize=True, polynomialfeatures__degree=2, total=   0.0s\n",
      "[CV] linearregression__fit_intercept=False, linearregression__normalize=True, polynomialfeatures__degree=2 \n",
      "[CV]  linearregression__fit_intercept=False, linearregression__normalize=True, polynomialfeatures__degree=2, total=   0.0s\n",
      "[CV] linearregression__fit_intercept=False, linearregression__normalize=True, polynomialfeatures__degree=2 \n",
      "[CV]  linearregression__fit_intercept=False, linearregression__normalize=True, polynomialfeatures__degree=2, total=   0.0s\n",
      "[CV] linearregression__fit_intercept=False, linearregression__normalize=True, polynomialfeatures__degree=2 \n",
      "[CV]  linearregression__fit_intercept=False, linearregression__normalize=True, polynomialfeatures__degree=2, total=   0.0s\n",
      "[CV] linearregression__fit_intercept=False, linearregression__normalize=True, polynomialfeatures__degree=2 \n",
      "[CV]  linearregression__fit_intercept=False, linearregression__normalize=True, polynomialfeatures__degree=2, total=   0.0s\n",
      "[CV] linearregression__fit_intercept=False, linearregression__normalize=True, polynomialfeatures__degree=2 \n",
      "[CV]  linearregression__fit_intercept=False, linearregression__normalize=True, polynomialfeatures__degree=2, total=   0.0s\n",
      "[CV] linearregression__fit_intercept=False, linearregression__normalize=False, polynomialfeatures__degree=0 \n",
      "[CV]  linearregression__fit_intercept=False, linearregression__normalize=False, polynomialfeatures__degree=0, total=   0.0s\n",
      "[CV] linearregression__fit_intercept=False, linearregression__normalize=False, polynomialfeatures__degree=0 \n",
      "[CV]  linearregression__fit_intercept=False, linearregression__normalize=False, polynomialfeatures__degree=0, total=   0.0s\n",
      "[CV] linearregression__fit_intercept=False, linearregression__normalize=False, polynomialfeatures__degree=0 \n",
      "[CV]  linearregression__fit_intercept=False, linearregression__normalize=False, polynomialfeatures__degree=0, total=   0.0s\n",
      "[CV] linearregression__fit_intercept=False, linearregression__normalize=False, polynomialfeatures__degree=0 \n",
      "[CV]  linearregression__fit_intercept=False, linearregression__normalize=False, polynomialfeatures__degree=0, total=   0.0s\n",
      "[CV] linearregression__fit_intercept=False, linearregression__normalize=False, polynomialfeatures__degree=0 \n",
      "[CV]  linearregression__fit_intercept=False, linearregression__normalize=False, polynomialfeatures__degree=0, total=   0.0s\n",
      "[CV] linearregression__fit_intercept=False, linearregression__normalize=False, polynomialfeatures__degree=0 \n",
      "[CV]  linearregression__fit_intercept=False, linearregression__normalize=False, polynomialfeatures__degree=0, total=   0.0s\n",
      "[CV] linearregression__fit_intercept=False, linearregression__normalize=False, polynomialfeatures__degree=0 \n",
      "[CV]  linearregression__fit_intercept=False, linearregression__normalize=False, polynomialfeatures__degree=0, total=   0.0s\n",
      "[CV] linearregression__fit_intercept=False, linearregression__normalize=False, polynomialfeatures__degree=0 \n",
      "[CV]  linearregression__fit_intercept=False, linearregression__normalize=False, polynomialfeatures__degree=0, total=   0.0s\n",
      "[CV] linearregression__fit_intercept=False, linearregression__normalize=False, polynomialfeatures__degree=0 \n",
      "[CV]  linearregression__fit_intercept=False, linearregression__normalize=False, polynomialfeatures__degree=0, total=   0.0s\n",
      "[CV] linearregression__fit_intercept=False, linearregression__normalize=False, polynomialfeatures__degree=0 \n",
      "[CV]  linearregression__fit_intercept=False, linearregression__normalize=False, polynomialfeatures__degree=0, total=   0.0s\n",
      "[CV] linearregression__fit_intercept=False, linearregression__normalize=False, polynomialfeatures__degree=1 \n",
      "[CV]  linearregression__fit_intercept=False, linearregression__normalize=False, polynomialfeatures__degree=1, total=   0.0s\n",
      "[CV] linearregression__fit_intercept=False, linearregression__normalize=False, polynomialfeatures__degree=1 \n",
      "[CV]  linearregression__fit_intercept=False, linearregression__normalize=False, polynomialfeatures__degree=1, total=   0.0s\n",
      "[CV] linearregression__fit_intercept=False, linearregression__normalize=False, polynomialfeatures__degree=1 \n",
      "[CV]  linearregression__fit_intercept=False, linearregression__normalize=False, polynomialfeatures__degree=1, total=   0.0s\n",
      "[CV] linearregression__fit_intercept=False, linearregression__normalize=False, polynomialfeatures__degree=1 \n",
      "[CV]  linearregression__fit_intercept=False, linearregression__normalize=False, polynomialfeatures__degree=1, total=   0.0s\n",
      "[CV] linearregression__fit_intercept=False, linearregression__normalize=False, polynomialfeatures__degree=1 \n",
      "[CV]  linearregression__fit_intercept=False, linearregression__normalize=False, polynomialfeatures__degree=1, total=   0.0s\n",
      "[CV] linearregression__fit_intercept=False, linearregression__normalize=False, polynomialfeatures__degree=1 \n",
      "[CV]  linearregression__fit_intercept=False, linearregression__normalize=False, polynomialfeatures__degree=1, total=   0.0s\n",
      "[CV] linearregression__fit_intercept=False, linearregression__normalize=False, polynomialfeatures__degree=1 \n",
      "[CV]  linearregression__fit_intercept=False, linearregression__normalize=False, polynomialfeatures__degree=1, total=   0.0s\n",
      "[CV] linearregression__fit_intercept=False, linearregression__normalize=False, polynomialfeatures__degree=1 \n",
      "[CV]  linearregression__fit_intercept=False, linearregression__normalize=False, polynomialfeatures__degree=1, total=   0.0s\n",
      "[CV] linearregression__fit_intercept=False, linearregression__normalize=False, polynomialfeatures__degree=1 \n",
      "[CV]  linearregression__fit_intercept=False, linearregression__normalize=False, polynomialfeatures__degree=1, total=   0.0s\n",
      "[CV] linearregression__fit_intercept=False, linearregression__normalize=False, polynomialfeatures__degree=1 \n",
      "[CV]  linearregression__fit_intercept=False, linearregression__normalize=False, polynomialfeatures__degree=1, total=   0.0s\n",
      "[CV] linearregression__fit_intercept=False, linearregression__normalize=False, polynomialfeatures__degree=2 \n",
      "[CV]  linearregression__fit_intercept=False, linearregression__normalize=False, polynomialfeatures__degree=2, total=   0.0s\n",
      "[CV] linearregression__fit_intercept=False, linearregression__normalize=False, polynomialfeatures__degree=2 \n",
      "[CV]  linearregression__fit_intercept=False, linearregression__normalize=False, polynomialfeatures__degree=2, total=   0.0s\n",
      "[CV] linearregression__fit_intercept=False, linearregression__normalize=False, polynomialfeatures__degree=2 \n",
      "[CV]  linearregression__fit_intercept=False, linearregression__normalize=False, polynomialfeatures__degree=2, total=   0.0s\n",
      "[CV] linearregression__fit_intercept=False, linearregression__normalize=False, polynomialfeatures__degree=2 \n",
      "[CV]  linearregression__fit_intercept=False, linearregression__normalize=False, polynomialfeatures__degree=2, total=   0.0s\n",
      "[CV] linearregression__fit_intercept=False, linearregression__normalize=False, polynomialfeatures__degree=2 \n",
      "[CV]  linearregression__fit_intercept=False, linearregression__normalize=False, polynomialfeatures__degree=2, total=   0.0s\n",
      "[CV] linearregression__fit_intercept=False, linearregression__normalize=False, polynomialfeatures__degree=2 \n",
      "[CV]  linearregression__fit_intercept=False, linearregression__normalize=False, polynomialfeatures__degree=2, total=   0.0s\n",
      "[CV] linearregression__fit_intercept=False, linearregression__normalize=False, polynomialfeatures__degree=2 \n",
      "[CV]  linearregression__fit_intercept=False, linearregression__normalize=False, polynomialfeatures__degree=2, total=   0.0s\n",
      "[CV] linearregression__fit_intercept=False, linearregression__normalize=False, polynomialfeatures__degree=2 \n"
     ]
    },
    {
     "name": "stdout",
     "output_type": "stream",
     "text": [
      "[CV]  linearregression__fit_intercept=False, linearregression__normalize=False, polynomialfeatures__degree=2, total=   0.0s\n",
      "[CV] linearregression__fit_intercept=False, linearregression__normalize=False, polynomialfeatures__degree=2 \n",
      "[CV]  linearregression__fit_intercept=False, linearregression__normalize=False, polynomialfeatures__degree=2, total=   0.0s\n",
      "[CV] linearregression__fit_intercept=False, linearregression__normalize=False, polynomialfeatures__degree=2 \n",
      "[CV]  linearregression__fit_intercept=False, linearregression__normalize=False, polynomialfeatures__degree=2, total=   0.0s\n",
      "{'linearregression__fit_intercept': True, 'linearregression__normalize': True, 'polynomialfeatures__degree': 1}\n",
      "training score: -8.826408311041034e-20\n",
      "test score:  -8.401137373620075e-20\n",
      "r_square: 1.0\n"
     ]
    },
    {
     "name": "stderr",
     "output_type": "stream",
     "text": [
      "[Parallel(n_jobs=1)]: Done 120 out of 120 | elapsed:    0.9s finished\n",
      "C:\\Users\\bhumi\\Anaconda3\\lib\\site-packages\\sklearn\\model_selection\\_search.py:814: DeprecationWarning: The default of the `iid` parameter will change from True to False in version 0.22 and will be removed in 0.24. This will change numeric results when test-set sizes are unequal.\n",
      "  DeprecationWarning)\n"
     ]
    }
   ],
   "source": [
    "from sklearn.pipeline import make_pipeline\n",
    "def PolynomialRegression(degree=2, **kwargs):\n",
    "    \n",
    "    return make_pipeline(PolynomialFeatures(degree), LinearRegression(**kwargs))\n",
    "\n",
    "param_grid = {'polynomialfeatures__degree': np.arange(3), \n",
    "              'linearregression__fit_intercept': [True, False], \n",
    "              'linearregression__normalize': [True, False]}\n",
    "poly_grid = GridSearchCV(PolynomialRegression(), param_grid,cv=10,scoring='neg_mean_squared_error',verbose=2)\n",
    "\n",
    "poly_grid.fit(X_train, y_train)\n",
    "best_parameters = poly_grid.best_params_\n",
    "print(best_parameters)\n",
    "prediction=poly_grid.predict(X_test)\n",
    "train_score=poly_grid.score(X_train,y_train)\n",
    "test_score=poly_grid.score(X_test,y_test)\n",
    "print (\"training score:\", train_score) \n",
    "print (\"test score: \", test_score)\n",
    "from sklearn import metrics\n",
    "print(\"r_square:\",metrics.r2_score(prediction,y_test))"
   ]
  },
  {
   "cell_type": "markdown",
   "metadata": {},
   "source": [
    "Polynomial Regression with GridSearchCV shows that the best paramter for degree is 1 as shown above. "
   ]
  },
  {
   "cell_type": "markdown",
   "metadata": {},
   "source": [
    "### 3. Ridge"
   ]
  },
  {
   "cell_type": "code",
   "execution_count": 31,
   "metadata": {},
   "outputs": [
    {
     "name": "stdout",
     "output_type": "stream",
     "text": [
      "[0.9999999998868584, 0.9999999886914491, 0.9999988747361954, 0.9998928238076865, 0.9929406845252264]\n",
      "[0.999999999891429, 0.9999999891482119, 0.9999989201220852, 0.999897085083118, 0.9931817682647536]\n",
      "[0.9999999998914275, 0.9999999891468464, 0.9999989187652252, 0.9998958098427071, 0.9924275394959763]\n"
     ]
    }
   ],
   "source": [
    "from  sklearn.linear_model import Ridge\n",
    "\n",
    "x_range = [0.01, 0.1, 1, 10, 100]\n",
    "train_score_list = []\n",
    "test_score_list = []\n",
    "r2_score_array = []\n",
    "\n",
    "for alpha in x_range: \n",
    "    ridge = Ridge(alpha) \n",
    "    ridge.fit(X_train,y_train)\n",
    "    train_score_list.append(ridge.score(X_train,y_train))\n",
    "    test_score_list.append(ridge.score(X_test, y_test))\n",
    "    prediction=ridge.predict(X_test)\n",
    "    r2_score_array.append(metrics.r2_score(prediction,y_test))\n",
    "    \n",
    "print(train_score_list)\n",
    "print(test_score_list)\n",
    "print(r2_score_array)"
   ]
  },
  {
   "cell_type": "code",
   "execution_count": 32,
   "metadata": {},
   "outputs": [
    {
     "data": {
      "text/plain": [
       "Text(0.5, 0, '$\\\\alpha$')"
      ]
     },
     "execution_count": 32,
     "metadata": {},
     "output_type": "execute_result"
    },
    {
     "data": {
      "image/png": "[encoded data removed]",
      "text/plain": [
       "<Figure size 432x288 with 1 Axes>"
      ]
     },
     "metadata": {
      "needs_background": "light"
     },
     "output_type": "display_data"
    }
   ],
   "source": [
    "%matplotlib inline\n",
    "import matplotlib.pyplot as plt\n",
    "plt.plot(x_range, train_score_list, c = 'r', label = 'Train Score')\n",
    "plt.plot(x_range, test_score_list, c = 'b', label = 'Test Score')\n",
    "plt.plot(x_range, r2_score_array, c = 'g', label = 'R2 Score')\n",
    "#plt.xscale('log')\n",
    "plt.legend(loc = 3)\n",
    "plt.xlabel(r'$\\alpha$')"
   ]
  },
  {
   "cell_type": "markdown",
   "metadata": {},
   "source": [
    "The Ridge regression without GridSearch shows mostly the overfitting of the data. The train score here is less than the test score. While the R-SQuare value is good with every value of alpha."
   ]
  },
  {
   "cell_type": "markdown",
   "metadata": {},
   "source": [
    "#### Ridge with GridSearchCV"
   ]
  },
  {
   "cell_type": "code",
   "execution_count": 33,
   "metadata": {},
   "outputs": [
    {
     "name": "stdout",
     "output_type": "stream",
     "text": [
      "Fitting 10 folds for each of 7 candidates, totalling 70 fits\n",
      "Best Hyper Parameters:\n",
      " {'alpha': 150}\n",
      "training score: 0.9868719302719785\n",
      "test score:  0.9872820146184441\n",
      "r2: 0.9872820146184441\n"
     ]
    },
    {
     "name": "stderr",
     "output_type": "stream",
     "text": [
      "[Parallel(n_jobs=8)]: Using backend LokyBackend with 8 concurrent workers.\n",
      "[Parallel(n_jobs=8)]: Done  70 out of  70 | elapsed:    0.1s finished\n"
     ]
    }
   ],
   "source": [
    "ridge = Ridge(random_state=0, max_iter=1000000)\n",
    "a_range = [150, 175, 200, 225, 250, 275, 300]\n",
    "tune_param = [{'alpha': a_range}]\n",
    "ridge1 = GridSearchCV(ridge, tune_param, cv=10, n_jobs=8, verbose=2)\n",
    "ridge1.fit(X_train, y_train)\n",
    "print(\"Best Hyper Parameters:\\n\",ridge1.best_params_)\n",
    "prediction=ridge1.predict(X_test)\n",
    "train_score=ridge1.score(X_train,y_train)\n",
    "test_score=ridge1.score(X_test,y_test)\n",
    "prediction=ridge1.predict(X_test)\n",
    "\n",
    "\n",
    "print (\"training score:\", train_score) \n",
    "print (\"test score: \", test_score)\n",
    "print(\"r2:\",metrics.r2_score(y_test,prediction))"
   ]
  },
  {
   "cell_type": "markdown",
   "metadata": {},
   "source": [
    "Ridge with GridSearch too shows higher test score than the train score."
   ]
  },
  {
   "cell_type": "markdown",
   "metadata": {},
   "source": [
    "### 4. Lasso"
   ]
  },
  {
   "cell_type": "code",
   "execution_count": 34,
   "metadata": {},
   "outputs": [
    {
     "name": "stdout",
     "output_type": "stream",
     "text": [
      "[0.9999999800511847, 0.9999999804032993, 0.9999999836529717, 0.9999999992760404, 0.9999999107452332, 0.9999910745233197, 0.9991074523319714]\n",
      "[0.9999999839384249, 0.9999999841911624, 0.9999999865181869, 0.9999999993263111, 0.9999999103610043, 0.9999910361004278, 0.9991036100427847]\n",
      "[0.9999999839369502, 0.9999999841897036, 0.9999999865168815, 0.9999999993262825, 0.99999991030742, 0.9999909822991856, 0.9990475502558074]\n"
     ]
    }
   ],
   "source": [
    "from sklearn.linear_model import Lasso\n",
    "x_range = [0.01, 0.1, 1, 10, 100, 1000, 10000]\n",
    "train_score_list = []\n",
    "test_score_list = []\n",
    "r2_score_array = []\n",
    "\n",
    "for alpha in x_range: \n",
    "    lasso = Lasso(alpha)\n",
    "    lasso.fit(X_train,y_train)\n",
    "    train_score_list.append(lasso.score(X_train,y_train))\n",
    "    test_score_list.append(lasso.score(X_test, y_test))\n",
    "    prediction=lasso.predict(X_test)\n",
    "    r2_score_array.append(metrics.r2_score(prediction,y_test))\n",
    "    \n",
    "print(train_score_list)\n",
    "print(test_score_list)\n",
    "print(r2_score_array)"
   ]
  },
  {
   "cell_type": "code",
   "execution_count": 35,
   "metadata": {},
   "outputs": [
    {
     "data": {
      "text/plain": [
       "Text(0.5, 0, '$\\\\alpha$')"
      ]
     },
     "execution_count": 35,
     "metadata": {},
     "output_type": "execute_result"
    },
    {
     "data": {
      "image/png": "[encoded data removed]",
      "text/plain": [
       "<Figure size 432x288 with 1 Axes>"
      ]
     },
     "metadata": {
      "needs_background": "light"
     },
     "output_type": "display_data"
    }
   ],
   "source": [
    "plt.plot(x_range, train_score_list, c = 'r', label = 'Train Score')\n",
    "plt.plot(x_range, test_score_list, c = 'b', label = 'Test Score')\n",
    "plt.plot(x_range, r2_score_array, c = 'g', label = 'R2 Score')\n",
    "\n",
    "#plt.xscale('log')\n",
    "plt.legend(loc = 3)\n",
    "plt.xlabel(r'$\\alpha$')"
   ]
  },
  {
   "cell_type": "markdown",
   "metadata": {},
   "source": [
    "#### Lasso with GridSearch"
   ]
  },
  {
   "cell_type": "code",
   "execution_count": 36,
   "metadata": {},
   "outputs": [
    {
     "name": "stdout",
     "output_type": "stream",
     "text": [
      "Fitting 10 folds for each of 7 candidates, totalling 70 fits\n",
      "Suitable Hyper Parameter Value of alpha:\n",
      " {'alpha': 10}\n",
      "training score: 0.9999999992760404\n",
      "test score:  0.9999999993263111\n",
      "r2: 0.999999999326311\n",
      "0.9999999989264385\n",
      "10\n"
     ]
    },
    {
     "name": "stderr",
     "output_type": "stream",
     "text": [
      "[Parallel(n_jobs=8)]: Using backend LokyBackend with 8 concurrent workers.\n",
      "[Parallel(n_jobs=8)]: Done  70 out of  70 | elapsed:    0.1s finished\n"
     ]
    }
   ],
   "source": [
    "\n",
    "lasso = Lasso(random_state=0, max_iter=1000000)\n",
    "\n",
    "tune_param = [{'alpha': [0.001,0.01,0.1,10,100, 1000, 10000]}]\n",
    "lgrid = GridSearchCV(lasso, tune_param, cv=10, n_jobs=8, verbose=2)\n",
    "lgrid.fit(X_train, y_train)\n",
    "train_score=lgrid.score(X_train,y_train)\n",
    "test_score=lgrid.score(X_test,y_test)\n",
    "print(\"Suitable Hyper Parameter Value of alpha:\\n\",lgrid.best_params_)\n",
    "prediction=lgrid.predict(X_test)\n",
    "print (\"training score:\", train_score) \n",
    "print (\"test score: \", test_score)\n",
    "from sklearn import metrics\n",
    "print(\"r2:\",metrics.r2_score(y_test,prediction))\n",
    "\n",
    "print(lgrid.best_score_)\n",
    "print(lgrid.best_estimator_.alpha)"
   ]
  },
  {
   "cell_type": "markdown",
   "metadata": {},
   "source": [
    "Through both the lasso and with gridsearch, we found that the best value for alpha is 10 where the train, test and R2 scores are most suitable."
   ]
  },
  {
   "cell_type": "markdown",
   "metadata": {},
   "source": [
    "### 5. Support Vector Machine"
   ]
  },
  {
   "cell_type": "code",
   "execution_count": 37,
   "metadata": {},
   "outputs": [
    {
     "name": "stdout",
     "output_type": "stream",
     "text": [
      "training score: 0.7195604321493012\n",
      "test score:  0.7107412878049073\n",
      "r2: 0.7107412878049073\n"
     ]
    }
   ],
   "source": [
    "from sklearn.svm import SVR\n",
    "model1=SVR(kernel='linear',degree=1, gamma='scale', C=100, epsilon=0.2)\n",
    "model1.fit(X_train,y_train)\n",
    "\n",
    "prediction=model1.predict(X_test)\n",
    "train_score=model1.score(X_train,y_train)\n",
    "test_score=model1.score(X_test,y_test)\n",
    "\n",
    "print (\"training score:\", train_score) \n",
    "print (\"test score: \", test_score)\n",
    "print(\"r2:\",metrics.r2_score(y_test,prediction))"
   ]
  },
  {
   "cell_type": "markdown",
   "metadata": {},
   "source": [
    "Conclusion:\n",
    "- The best machine learning model for this dataset is linear regression with perfect train and test score, however considering all the scenarios model which works the best is the ridge with aplha value 150.  "
   ]
  },
  {
   "cell_type": "markdown",
   "metadata": {},
   "source": [
    "## Part 2 of the project"
   ]
  },
  {
   "cell_type": "markdown",
   "metadata": {},
   "source": [
    "Apply any two models with bagging and any two models with pasting."
   ]
  },
  {
   "cell_type": "markdown",
   "metadata": {},
   "source": [
    "### Applying bagging on KNN\n",
    "\n",
    "The best value for KNN was n = 5. Applying the bagging, the score decreases avoiding the overfitting of the model. The training and the test score for the below n_estimators gives the best stable results."
   ]
  },
  {
   "cell_type": "code",
   "execution_count": 50,
   "metadata": {},
   "outputs": [],
   "source": [
    "from sklearn.ensemble import BaggingRegressor\n",
    "from sklearn.neighbors import KNeighborsRegressor\n",
    "\n",
    "knn_reg = KNeighborsRegressor(5)\n",
    "#dt_clf = DecisionTreeClassifier(random_state=0)\n",
    "bag_reg = BaggingRegressor(knn_reg, n_estimators= 500, max_samples=200, random_state=0, bootstrap=True, oob_score=True)\n",
    "\n",
    "bag_reg.fit(X_train, y_train)\n",
    "y_pred = bag_reg.predict(X_test)\n",
    "\n",
    "train_score=bag_reg.score(X_train,y_train)\n",
    "test_score=bag_reg.score(X_test,y_test)"
   ]
  },
  {
   "cell_type": "code",
   "execution_count": 51,
   "metadata": {},
   "outputs": [
    {
     "name": "stdout",
     "output_type": "stream",
     "text": [
      "training score: 0.7748957165463121\n",
      "test score:  0.7797288160295333\n"
     ]
    }
   ],
   "source": [
    "print (\"training score:\", train_score) \n",
    "print (\"test score: \", test_score)\n",
    "#print(\"r_square:\",metrics.r2_score(prediction,y_test))"
   ]
  },
  {
   "cell_type": "code",
   "execution_count": 53,
   "metadata": {},
   "outputs": [
    {
     "data": {
      "text/plain": [
       "Text(0, 0.5, 'MSE')"
      ]
     },
     "execution_count": 53,
     "metadata": {},
     "output_type": "execute_result"
    },
    {
     "data": {
      "image/png": "[encoded data removed]",
      "text/plain": [
       "<Figure size 432x288 with 1 Axes>"
      ]
     },
     "metadata": {
      "needs_background": "light"
     },
     "output_type": "display_data"
    }
   ],
   "source": [
    "train_score_array = []\n",
    "test_score_array = []\n",
    "r2_score_array= [] \n",
    "\n",
    "for k in range(1,15):\n",
    "    knn_reg = KNeighborsRegressor(k)\n",
    "    bag_reg = BaggingRegressor(knn_reg, n_estimators= 500, max_samples=200, random_state=0, bootstrap=True, oob_score=True)\n",
    "    bag_reg.fit(X_train, y_train)\n",
    "    train_score_array.append(bag_reg.score(X_train, y_train))\n",
    "    test_score_array.append(bag_reg.score(X_test, y_test))\n",
    "    prediction=bag_reg.predict(X_test)\n",
    "    r2_score_array.append(metrics.r2_score(prediction,y_test))\n",
    "\n",
    "x_axis = range(1,15)\n",
    "plt.plot(x_axis, train_score_array, c = 'r', label = 'Train Score')\n",
    "plt.plot(x_axis, test_score_array, c = 'b', label = 'Test Score')\n",
    "plt.plot(x_axis, r2_score_array, c = 'g', label = 'R2 Square')\n",
    "plt.legend()\n",
    "plt.xlabel('k')\n",
    "plt.ylabel('MSE')"
   ]
  },
  {
   "cell_type": "markdown",
   "metadata": {},
   "source": [
    "### Ridge Regression with Bagging\n",
    "In ridge regression, as alpha increased, the train and test score didn't drop below .9 for alpha 100.\n",
    "With bagging, making the model morerobust and stable the range of train and test score reached to 0.89 as lowest with alpha 100.\n",
    "The best hyperparameter value for ridge with bagging is alpha = 10."
   ]
  },
  {
   "cell_type": "code",
   "execution_count": 72,
   "metadata": {},
   "outputs": [
    {
     "name": "stdout",
     "output_type": "stream",
     "text": [
      "[0.9999999877149912, 0.9999987783088294, 0.9998843036469921, 0.9926621465159926, 0.8902430657375395]\n",
      "[0.99999998820853, 0.9999988273066932, 0.9998888659521709, 0.9929066479884525, 0.8904619927600579]\n",
      "[0.9999999882068592, 0.9999988256479485, 0.999887320685101, 0.9920478458276263, 0.80478309559753]\n"
     ]
    }
   ],
   "source": [
    "from  sklearn.linear_model import Ridge\n",
    "\n",
    "x_range = [0.01, 0.1, 1, 10, 100]\n",
    "train_score_list = []\n",
    "test_score_list = []\n",
    "r2_score_array = []\n",
    "\n",
    "for alpha in x_range: \n",
    "    ridge = Ridge(alpha) \n",
    "    bag_r = BaggingRegressor(ridge, n_estimators= 1000, max_samples=200, random_state=0, bootstrap=True,  oob_score=True)\n",
    "    bag_r.fit(X_train,y_train)\n",
    "    train_score_list.append(bag_r.score(X_train,y_train))\n",
    "    test_score_list.append(bag_r.score(X_test, y_test))\n",
    "    prediction=bag_r.predict(X_test)\n",
    "    r2_score_array.append(metrics.r2_score(prediction,y_test))\n",
    "    \n",
    "print(train_score_list)\n",
    "print(test_score_list)\n",
    "print(r2_score_array)\n"
   ]
  },
  {
   "cell_type": "code",
   "execution_count": 73,
   "metadata": {},
   "outputs": [
    {
     "data": {
      "text/plain": [
       "Text(0.5, 0, '$\\\\alpha$')"
      ]
     },
     "execution_count": 73,
     "metadata": {},
     "output_type": "execute_result"
    },
    {
     "data": {
      "image/png": "[encoded data removed]",
      "text/plain": [
       "<Figure size 432x288 with 1 Axes>"
      ]
     },
     "metadata": {
      "needs_background": "light"
     },
     "output_type": "display_data"
    }
   ],
   "source": [
    "%matplotlib inline\n",
    "import matplotlib.pyplot as plt\n",
    "plt.plot(x_range, train_score_list, c = 'r', label = 'Train Score')\n",
    "plt.plot(x_range, test_score_list, c = 'b', label = 'Test Score')\n",
    "plt.plot(x_range, r2_score_array, c = 'g', label = 'R2 Score')\n",
    "plt.legend(loc = 3)\n",
    "plt.xlabel(r'$\\alpha$')"
   ]
  },
  {
   "cell_type": "markdown",
   "metadata": {},
   "source": [
    "### Pasting with Lasso Regression\n",
    "No more difference on applying pasting on the base model"
   ]
  },
  {
   "cell_type": "code",
   "execution_count": 83,
   "metadata": {},
   "outputs": [
    {
     "name": "stdout",
     "output_type": "stream",
     "text": [
      "[0.999999981335805, 0.9999999816739967, 0.9999999845707169, 0.9999999976279341, 0.9999999061420325, 0.9999906142032537, 0.9990614203253704]\n",
      "[0.999999984936242, 0.9999999851746924, 0.9999999871892014, 0.9999999976529214, 0.9999999056793515, 0.9999905679351538, 0.9990567935153747]\n",
      "[0.9999999849347213, 0.9999999851731908, 0.9999999871878478, 0.9999999976527141, 0.9999999056215332, 0.9999905098766956, 0.9989962331791061]\n"
     ]
    }
   ],
   "source": [
    "from sklearn.linear_model import Lasso\n",
    "x_range = [0.01, 0.1, 1, 10, 100, 1000, 10000]\n",
    "train_score_list = []\n",
    "test_score_list = []\n",
    "r2_score_array = []\n",
    "\n",
    "for alpha in x_range: \n",
    "    lasso = Lasso(alpha)\n",
    "    pst_l = BaggingRegressor(lasso, n_estimators= 1000, max_samples=500, random_state=0, bootstrap=False)\n",
    "    pst_l.fit(X_train,y_train)\n",
    "    train_score_list.append(pst_l.score(X_train,y_train))\n",
    "    test_score_list.append(pst_l.score(X_test, y_test))\n",
    "    prediction=pst_l.predict(X_test)\n",
    "    r2_score_array.append(metrics.r2_score(prediction,y_test))\n",
    "    \n",
    "print(train_score_list)\n",
    "print(test_score_list)\n",
    "print(r2_score_array)"
   ]
  },
  {
   "cell_type": "code",
   "execution_count": 84,
   "metadata": {},
   "outputs": [
    {
     "data": {
      "text/plain": [
       "Text(0.5, 0, '$\\\\alpha$')"
      ]
     },
     "execution_count": 84,
     "metadata": {},
     "output_type": "execute_result"
    },
    {
     "data": {
      "image/png": "[encoded data removed]",
      "text/plain": [
       "<Figure size 432x288 with 1 Axes>"
      ]
     },
     "metadata": {
      "needs_background": "light"
     },
     "output_type": "display_data"
    }
   ],
   "source": [
    "%matplotlib inline\n",
    "import matplotlib.pyplot as plt\n",
    "plt.plot(x_range, train_score_list, c = 'r', label = 'Train Score')\n",
    "plt.plot(x_range, test_score_list, c = 'b', label = 'Test Score')\n",
    "plt.plot(x_range, r2_score_array, c = 'g', label = 'R2 Score')\n",
    "plt.legend(loc = 3)\n",
    "plt.xlabel(r'$\\alpha$')"
   ]
  },
  {
   "cell_type": "markdown",
   "metadata": {},
   "source": [
    "### Pasting on the Ridge Regression\n",
    "Ridge with pasting ensemble method gives the better model than one with bootstrapping.The r-square value is improved removing the biased feature of the dataset."
   ]
  },
  {
   "cell_type": "code",
   "execution_count": 86,
   "metadata": {},
   "outputs": [
    {
     "name": "stdout",
     "output_type": "stream",
     "text": [
      "[0.999999998547044, 0.999999854970633, 0.9999857588839139, 0.998799747149717, 0.9598569065280123]\n",
      "[0.9999999986056655, 0.999999860818836, 0.9999863300125778, 0.9988452879532878, 0.9606917740395496]\n",
      "[0.9999999986056011, 0.9999998607545619, 0.9999862672270223, 0.998794851883419, 0.9476942623960868]\n"
     ]
    }
   ],
   "source": [
    "from  sklearn.linear_model import Ridge\n",
    "\n",
    "x_range = [0.01, 0.1, 1, 10, 100]\n",
    "train_score_list = []\n",
    "test_score_list = []\n",
    "r2_score_array = []\n",
    "\n",
    "for alpha in x_range: \n",
    "    ridge = Ridge(alpha) \n",
    "    pst_r = BaggingRegressor(ridge, n_estimators= 1000, max_samples=500, random_state=0, bootstrap=False )\n",
    "    pst_r.fit(X_train,y_train)\n",
    "    train_score_list.append(pst_r.score(X_train,y_train))\n",
    "    test_score_list.append(pst_r.score(X_test, y_test))\n",
    "    prediction=pst_r.predict(X_test)\n",
    "    r2_score_array.append(metrics.r2_score(prediction,y_test))\n",
    "    \n",
    "print(train_score_list)\n",
    "print(test_score_list)\n",
    "print(r2_score_array)"
   ]
  },
  {
   "cell_type": "code",
   "execution_count": 87,
   "metadata": {},
   "outputs": [
    {
     "data": {
      "text/plain": [
       "Text(0.5, 0, '$\\\\alpha$')"
      ]
     },
     "execution_count": 87,
     "metadata": {},
     "output_type": "execute_result"
    },
    {
     "data": {
      "image/png": "[encoded data removed]",
      "text/plain": [
       "<Figure size 432x288 with 1 Axes>"
      ]
     },
     "metadata": {
      "needs_background": "light"
     },
     "output_type": "display_data"
    }
   ],
   "source": [
    "%matplotlib inline\n",
    "import matplotlib.pyplot as plt\n",
    "plt.plot(x_range, train_score_list, c = 'r', label = 'Train Score')\n",
    "plt.plot(x_range, test_score_list, c = 'b', label = 'Test Score')\n",
    "plt.plot(x_range, r2_score_array, c = 'g', label = 'R2 Score')\n",
    "plt.legend(loc = 3)\n",
    "plt.xlabel(r'$\\alpha$')"
   ]
  },
  {
   "cell_type": "markdown",
   "metadata": {},
   "source": [
    "### Linear SVR with adaboost boosting\n",
    "\n",
    "Linear SVR with adaboosting gives the model with a good accuracy of 0.997 for both train and test data."
   ]
  },
  {
   "cell_type": "code",
   "execution_count": 93,
   "metadata": {},
   "outputs": [
    {
     "data": {
      "text/plain": [
       "AdaBoostRegressor(base_estimator=SVR(C=100, cache_size=200, coef0=0.0, degree=1,\n",
       "                                     epsilon=0.2, gamma='scale',\n",
       "                                     kernel='linear', max_iter=-1,\n",
       "                                     shrinking=True, tol=0.001, verbose=False),\n",
       "                  learning_rate=0.5, loss='linear', n_estimators=200,\n",
       "                  random_state=0)"
      ]
     },
     "execution_count": 93,
     "metadata": {},
     "output_type": "execute_result"
    }
   ],
   "source": [
    "from sklearn.ensemble import AdaBoostRegressor\n",
    "from sklearn.svm import SVR\n",
    "svr = SVR(kernel='linear',degree=1, gamma='scale', C=100, epsilon=0.2)\n",
    "adb_reg = AdaBoostRegressor(svr,  n_estimators=200,  learning_rate=0.5, random_state=0)\n",
    "adb_reg.fit(X_train, y_train)\n"
   ]
  },
  {
   "cell_type": "code",
   "execution_count": 94,
   "metadata": {},
   "outputs": [
    {
     "name": "stdout",
     "output_type": "stream",
     "text": [
      "Accuracy on training set: 0.997\n",
      "Accuracy on test set: 0.997\n"
     ]
    }
   ],
   "source": [
    "print(\"Accuracy on training set: {:.3f}\".format(adb_reg.score(X_train, y_train)))\n",
    "print(\"Accuracy on test set: {:.3f}\".format(adb_reg.score(X_test, y_test)))"
   ]
  },
  {
   "cell_type": "markdown",
   "metadata": {},
   "source": [
    "### Ridge with alpha value with adaboosting having alpha value 100 \n",
    "\n",
    "Here, the ridge with comaparatively lower train score was applied adaboost boosting method to improve the model.\n",
    "Result: The model performed better than just the ridge regression"
   ]
  },
  {
   "cell_type": "code",
   "execution_count": 97,
   "metadata": {},
   "outputs": [
    {
     "data": {
      "text/plain": [
       "AdaBoostRegressor(base_estimator=Ridge(alpha=100, copy_X=True,\n",
       "                                       fit_intercept=True, max_iter=None,\n",
       "                                       normalize=False, random_state=None,\n",
       "                                       solver='auto', tol=0.001),\n",
       "                  learning_rate=0.5, loss='linear', n_estimators=200,\n",
       "                  random_state=0)"
      ]
     },
     "execution_count": 97,
     "metadata": {},
     "output_type": "execute_result"
    }
   ],
   "source": [
    "ridge = Ridge(100) \n",
    "adb_rid = AdaBoostRegressor(ridge,  n_estimators=200,  learning_rate=0.5, random_state=0)\n",
    "adb_rid.fit(X_train, y_train)"
   ]
  },
  {
   "cell_type": "code",
   "execution_count": 98,
   "metadata": {},
   "outputs": [
    {
     "name": "stdout",
     "output_type": "stream",
     "text": [
      "Accuracy on training set: 0.998760\n",
      "Accuracy on test set: 0.998792\n"
     ]
    }
   ],
   "source": [
    "print(\"Accuracy on training set: {:.6f}\".format(adb_rid.score(X_train, y_train)))\n",
    "print(\"Accuracy on test set: {:.6f}\".format(adb_rid.score(X_test, y_test)))"
   ]
  },
  {
   "cell_type": "markdown",
   "metadata": {},
   "source": [
    "### GradientBoosting"
   ]
  },
  {
   "cell_type": "code",
   "execution_count": 129,
   "metadata": {},
   "outputs": [
    {
     "data": {
      "text/plain": [
       "GradientBoostingRegressor(alpha=0.9, criterion='friedman_mse', init=None,\n",
       "                          learning_rate=1, loss='lad', max_depth=4,\n",
       "                          max_features=None, max_leaf_nodes=None,\n",
       "                          min_impurity_decrease=0.0, min_impurity_split=None,\n",
       "                          min_samples_leaf=1, min_samples_split=2,\n",
       "                          min_weight_fraction_leaf=0.0, n_estimators=500,\n",
       "                          n_iter_no_change=None, presort='auto',\n",
       "                          random_state=None, subsample=1.0, tol=0.0001,\n",
       "                          validation_fraction=0.1, verbose=0, warm_start=False)"
      ]
     },
     "execution_count": 129,
     "metadata": {},
     "output_type": "execute_result"
    }
   ],
   "source": [
    "from  sklearn.ensemble import GradientBoostingRegressor\n",
    "params = { 'n_estimators': 500, 'max_depth': 4, 'min_samples_split': 2,\n",
    "          'learning_rate': 1, 'loss': 'lad'}\n",
    "\n",
    "gbrt = GradientBoostingRegressor(**params)\n",
    "gbrt.fit(X, y)"
   ]
  },
  {
   "cell_type": "code",
   "execution_count": 130,
   "metadata": {},
   "outputs": [
    {
     "name": "stdout",
     "output_type": "stream",
     "text": [
      "MSE: 338676909006.4003\n",
      "Accuracy on training set: -1.602\n",
      "Accuracy on test set: -1.455\n"
     ]
    }
   ],
   "source": [
    "from sklearn.metrics import mean_squared_error\n",
    "mse = mean_squared_error(y_test, gbrt.predict(X_test))\n",
    "print(\"MSE: %.4f\" % mse)\n",
    "print(\"Accuracy on training set: {:.3f}\".format(gbrt.score(X_train, y_train)))\n",
    "print(\"Accuracy on test set: {:.3f}\".format(gbrt.score(X_test, y_test)))"
   ]
  },
  {
   "cell_type": "markdown",
   "metadata": {},
   "source": [
    "### Applying PCA on the dataset"
   ]
  },
  {
   "cell_type": "code",
   "execution_count": 190,
   "metadata": {},
   "outputs": [],
   "source": [
    "from sklearn.decomposition import PCA\n",
    "\n",
    "pca = PCA(n_components = 2)\n",
    "X2D = pca.fit_transform(X)"
   ]
  },
  {
   "cell_type": "code",
   "execution_count": 191,
   "metadata": {},
   "outputs": [
    {
     "data": {
      "text/plain": [
       "array([[3053239.57458154,  -59351.2824651 ],\n",
       "       [2683347.23404053,  -49982.22514003],\n",
       "       [2553264.27155259,  -53526.26802328],\n",
       "       [2483393.67823871,  -45688.24483124],\n",
       "       [2233469.69911522,  -39258.97627698]])"
      ]
     },
     "execution_count": 191,
     "metadata": {},
     "output_type": "execute_result"
    }
   ],
   "source": [
    "X2D[:5]"
   ]
  },
  {
   "cell_type": "code",
   "execution_count": 192,
   "metadata": {},
   "outputs": [],
   "source": [
    "X3D_inv = pca.inverse_transform(X2D)"
   ]
  },
  {
   "cell_type": "code",
   "execution_count": 193,
   "metadata": {},
   "outputs": [
    {
     "data": {
      "text/plain": [
       "False"
      ]
     },
     "execution_count": 193,
     "metadata": {},
     "output_type": "execute_result"
    }
   ],
   "source": [
    "np.allclose(X3D_inv, X)"
   ]
  },
  {
   "cell_type": "markdown",
   "metadata": {},
   "source": [
    "PCA Feature exploration"
   ]
  },
  {
   "cell_type": "code",
   "execution_count": 194,
   "metadata": {},
   "outputs": [
    {
     "data": {
      "text/plain": [
       "array([[ 7.36856545e-07,  1.17671974e-06,  9.99840174e-01,\n",
       "         1.78136650e-02,  4.10507191e-07,  4.84690378e-08,\n",
       "         9.74304486e-07,  1.62936903e-08,  2.34377968e-06,\n",
       "         1.47608485e-03,  3.48897391e-04,  8.71667820e-06,\n",
       "         1.41439375e-07,  1.77927215e-08],\n",
       "       [ 2.10976228e-07,  1.23721382e-06, -1.78172596e-02,\n",
       "         9.99838270e-01, -2.42197951e-07, -4.60175221e-08,\n",
       "         2.52059750e-07, -3.52728454e-08,  1.99341839e-06,\n",
       "         2.44429565e-03,  5.64208933e-05,  3.04966553e-05,\n",
       "        -3.01994658e-07,  7.25604437e-07]])"
      ]
     },
     "execution_count": 194,
     "metadata": {},
     "output_type": "execute_result"
    }
   ],
   "source": [
    "pca.components_"
   ]
  },
  {
   "cell_type": "markdown",
   "metadata": {},
   "source": [
    "The PCA 2 components explains the maximum variance in dimension 1 of about 98% while the remaining is expalined by d2 1.84%"
   ]
  },
  {
   "cell_type": "code",
   "execution_count": 195,
   "metadata": {},
   "outputs": [
    {
     "data": {
      "text/plain": [
       "array([0.98156247, 0.01843245])"
      ]
     },
     "execution_count": 195,
     "metadata": {},
     "output_type": "execute_result"
    }
   ],
   "source": [
    "pca.explained_variance_ratio_"
   ]
  },
  {
   "cell_type": "markdown",
   "metadata": {},
   "source": [
    "The Reconstruction error is negligible or way too small which is better for the model"
   ]
  },
  {
   "cell_type": "code",
   "execution_count": 196,
   "metadata": {},
   "outputs": [
    {
     "data": {
      "text/plain": [
       "5.079688635167834e-06"
      ]
     },
     "execution_count": 196,
     "metadata": {},
     "output_type": "execute_result"
    }
   ],
   "source": [
    "1 - pca.explained_variance_ratio_.sum()"
   ]
  },
  {
   "cell_type": "markdown",
   "metadata": {},
   "source": [
    "Considering expalined variance threshold to be 95%"
   ]
  },
  {
   "cell_type": "code",
   "execution_count": 197,
   "metadata": {},
   "outputs": [],
   "source": [
    "cumsum = np.cumsum(pca.explained_variance_ratio_)\n",
    "d = np.argmax(cumsum >= 0.95) + 1"
   ]
  },
  {
   "cell_type": "code",
   "execution_count": 198,
   "metadata": {},
   "outputs": [
    {
     "data": {
      "text/plain": [
       "1"
      ]
     },
     "execution_count": 198,
     "metadata": {},
     "output_type": "execute_result"
    }
   ],
   "source": [
    "d"
   ]
  },
  {
   "cell_type": "code",
   "execution_count": 206,
   "metadata": {},
   "outputs": [],
   "source": [
    "pca = PCA(n_components=0.95)\n",
    "X_reduced = pca.fit_transform(X_train)\n",
    "X_reduced_test = pca.fit_transform(X_test)"
   ]
  },
  {
   "cell_type": "code",
   "execution_count": 207,
   "metadata": {},
   "outputs": [
    {
     "data": {
      "text/plain": [
       "(557, 10)"
      ]
     },
     "execution_count": 207,
     "metadata": {},
     "output_type": "execute_result"
    }
   ],
   "source": [
    "X_reduced_test.shape"
   ]
  },
  {
   "cell_type": "code",
   "execution_count": 205,
   "metadata": {},
   "outputs": [
    {
     "data": {
      "text/plain": [
       "(557, 10)"
      ]
     },
     "execution_count": 205,
     "metadata": {},
     "output_type": "execute_result"
    }
   ],
   "source": [
    "X_reduced.shape"
   ]
  },
  {
   "cell_type": "code",
   "execution_count": 200,
   "metadata": {},
   "outputs": [
    {
     "data": {
      "text/plain": [
       "10"
      ]
     },
     "execution_count": 200,
     "metadata": {},
     "output_type": "execute_result"
    }
   ],
   "source": [
    "pca.n_components_"
   ]
  },
  {
   "cell_type": "code",
   "execution_count": 201,
   "metadata": {},
   "outputs": [
    {
     "data": {
      "text/plain": [
       "0.9782403666309931"
      ]
     },
     "execution_count": 201,
     "metadata": {},
     "output_type": "execute_result"
    }
   ],
   "source": [
    "np.sum(pca.explained_variance_ratio_)"
   ]
  },
  {
   "cell_type": "code",
   "execution_count": 202,
   "metadata": {},
   "outputs": [],
   "source": [
    "pca = PCA(n_components = 10)\n",
    "X_reduced = pca.fit_transform(X_train)\n",
    "X_recovered = pca.inverse_transform(X_reduced)"
   ]
  },
  {
   "cell_type": "code",
   "execution_count": 203,
   "metadata": {},
   "outputs": [],
   "source": [
    "X_reduced_pca = X_reduced"
   ]
  },
  {
   "cell_type": "markdown",
   "metadata": {},
   "source": [
    "Incremental PCA"
   ]
  },
  {
   "cell_type": "code",
   "execution_count": 214,
   "metadata": {},
   "outputs": [
    {
     "name": "stdout",
     "output_type": "stream",
     "text": [
      "...................................................................................................."
     ]
    }
   ],
   "source": [
    "from sklearn.decomposition import IncrementalPCA\n",
    "\n",
    "n_batches = 100\n",
    "\n",
    "inc_pca = IncrementalPCA(n_components=10)\n",
    "for X_batch in np.array_split(X_train, n_batches):\n",
    "    print(\".\", end=\"\")\n",
    "    inc_pca.partial_fit(X_batch)\n",
    "\n",
    "X_reduced = inc_pca.transform(X_train)\n"
   ]
  },
  {
   "cell_type": "code",
   "execution_count": 218,
   "metadata": {},
   "outputs": [
    {
     "name": "stdout",
     "output_type": "stream",
     "text": [
      ".........."
     ]
    }
   ],
   "source": [
    "from sklearn.decomposition import IncrementalPCA\n",
    "\n",
    "n_batches = 10\n",
    "\n",
    "inc_pca = IncrementalPCA(n_components=10)\n",
    "for X_batch in np.array_split(X_test, n_batches):\n",
    "    print(\".\", end=\"\")\n",
    "    inc_pca.partial_fit(X_batch)\n",
    "\n",
    "X_reduced_test = inc_pca.transform(X_test)"
   ]
  },
  {
   "cell_type": "code",
   "execution_count": 149,
   "metadata": {},
   "outputs": [],
   "source": [
    "X_recovered_inc_pca = inc_pca.inverse_transform(X_reduced)"
   ]
  },
  {
   "cell_type": "code",
   "execution_count": 150,
   "metadata": {},
   "outputs": [],
   "source": [
    "X_reduced_inc_pca = X_reduced"
   ]
  },
  {
   "cell_type": "code",
   "execution_count": 151,
   "metadata": {},
   "outputs": [
    {
     "data": {
      "text/plain": [
       "True"
      ]
     },
     "execution_count": 151,
     "metadata": {},
     "output_type": "execute_result"
    }
   ],
   "source": [
    "np.allclose(pca.mean_, inc_pca.mean_)"
   ]
  },
  {
   "cell_type": "markdown",
   "metadata": {},
   "source": [
    "Difference between iPCA and PCA is significant where in incremental we are losing quite of the data than PCA"
   ]
  },
  {
   "cell_type": "code",
   "execution_count": 152,
   "metadata": {},
   "outputs": [
    {
     "data": {
      "text/plain": [
       "False"
      ]
     },
     "execution_count": 152,
     "metadata": {},
     "output_type": "execute_result"
    }
   ],
   "source": [
    "np.allclose(X_reduced_pca, X_reduced_inc_pca)"
   ]
  },
  {
   "cell_type": "code",
   "execution_count": 219,
   "metadata": {},
   "outputs": [
    {
     "data": {
      "text/plain": [
       "(1668, 10)"
      ]
     },
     "execution_count": 219,
     "metadata": {},
     "output_type": "execute_result"
    }
   ],
   "source": [
    "X_reduced.shape"
   ]
  },
  {
   "cell_type": "code",
   "execution_count": 220,
   "metadata": {},
   "outputs": [
    {
     "data": {
      "text/plain": [
       "(557, 10)"
      ]
     },
     "execution_count": 220,
     "metadata": {},
     "output_type": "execute_result"
    }
   ],
   "source": [
    "X_reduced_test.shape"
   ]
  },
  {
   "cell_type": "markdown",
   "metadata": {},
   "source": [
    "### Applying all the project 1 models with PCA reduced data"
   ]
  },
  {
   "cell_type": "code",
   "execution_count": 221,
   "metadata": {},
   "outputs": [],
   "source": [
    "X_train_pca = X_reduced\n",
    "X_test_pca = X_reduced_test"
   ]
  },
  {
   "cell_type": "code",
   "execution_count": 222,
   "metadata": {},
   "outputs": [
    {
     "data": {
      "text/plain": [
       "(1668, 10)"
      ]
     },
     "execution_count": 222,
     "metadata": {},
     "output_type": "execute_result"
    }
   ],
   "source": [
    "X_train_pca.shape"
   ]
  },
  {
   "cell_type": "code",
   "execution_count": 223,
   "metadata": {},
   "outputs": [
    {
     "data": {
      "text/plain": [
       "(1668,)"
      ]
     },
     "execution_count": 223,
     "metadata": {},
     "output_type": "execute_result"
    }
   ],
   "source": [
    "y_train.shape"
   ]
  },
  {
   "cell_type": "markdown",
   "metadata": {},
   "source": [
    "#### 1. K Neighbors Regressor"
   ]
  },
  {
   "cell_type": "code",
   "execution_count": 227,
   "metadata": {},
   "outputs": [
    {
     "data": {
      "text/plain": [
       "Text(0, 0.5, 'MSE')"
      ]
     },
     "execution_count": 227,
     "metadata": {},
     "output_type": "execute_result"
    },
    {
     "data": {
      "image/png": "[encoded data removed]",
      "text/plain": [
       "<Figure size 432x288 with 1 Axes>"
      ]
     },
     "metadata": {
      "needs_background": "light"
     },
     "output_type": "display_data"
    }
   ],
   "source": [
    "%matplotlib inline\n",
    "from sklearn.model_selection import GridSearchCV\n",
    "from sklearn.neighbors import KNeighborsRegressor\n",
    "from sklearn import metrics\n",
    "\n",
    "train_score_array = []\n",
    "test_score_array = []\n",
    "r2_score_array= [] \n",
    "\n",
    "for k in range(1,15):\n",
    "    knn_reg = KNeighborsRegressor(k)\n",
    "    knn_reg.fit(X_train_pca, y_train)\n",
    "    train_score_array.append(knn_reg.score(X_train_pca, y_train))\n",
    "    test_score_array.append(knn_reg.score(X_test_pca, y_test))\n",
    "    prediction=knn_reg.predict(X_test_pca)\n",
    "    r2_score_array.append(metrics.r2_score(prediction,y_test))\n",
    "\n",
    "x_axis = range(1,15)\n",
    "plt.plot(x_axis, train_score_array, c = 'r', label = 'Train Score')\n",
    "plt.plot(x_axis, test_score_array, c = 'b', label = 'Test Score')\n",
    "plt.plot(x_axis, r2_score_array, c = 'g', label = 'R2 Square')\n",
    "plt.legend()\n",
    "plt.xlabel('k')\n",
    "plt.ylabel('MSE')"
   ]
  },
  {
   "cell_type": "code",
   "execution_count": 228,
   "metadata": {},
   "outputs": [
    {
     "name": "stdout",
     "output_type": "stream",
     "text": [
      "[1.0, 0.947906830221062, 0.9278984149855721, 0.9135284500270058, 0.9031478532001661, 0.8917955022410544, 0.8770710443461027, 0.8626473285922641, 0.8579907090299763, 0.8513102944233603, 0.8366091026441218, 0.8378722136613356, 0.833882430060137, 0.8332383885747909]\n",
      "[0.7501735180261584, 0.7972861702405398, 0.8186146156497811, 0.8172345544450921, 0.819809055771787, 0.8230393970023736, 0.8208665643915658, 0.8234226641437958, 0.8170881900310708, 0.8077403951474641, 0.8068496929045205, 0.8055614424501079, 0.801728119282467, 0.8045957348012438]\n",
      "[0.6986227971238623, 0.7287957284309934, 0.739554687908409, 0.7226841729336262, 0.7305561543424453, 0.7250256228627321, 0.70948784653284, 0.7032000895661903, 0.6836491091432626, 0.6651961930029975, 0.6545179391911162, 0.6448330282602841, 0.6325456235072188, 0.6338676375515695]\n"
     ]
    }
   ],
   "source": [
    "print(train_score_array)\n",
    "print(test_score_array)\n",
    "print(r2_score_array)"
   ]
  },
  {
   "cell_type": "markdown",
   "metadata": {},
   "source": [
    "#### Conclusion: For K= 5, which is the best k value:\n",
    "\n",
    "#####  With PCA:\n",
    "- train score: 0.9031\n",
    "- test score: 0.8198\n",
    "- r-Square: 0.7305\n",
    "\n",
    "##### Without PCA:\n",
    "- train score: 0.9092\n",
    "- test score: 0.8925\n",
    "- r-Square: 0.8476\n",
    "- The model with PCA performed worse than without PCA"
   ]
  },
  {
   "cell_type": "markdown",
   "metadata": {},
   "source": [
    "#### Linear Regression with PCA\n",
    "In linear Regression too, PCA made the model perform worse"
   ]
  },
  {
   "cell_type": "code",
   "execution_count": 229,
   "metadata": {},
   "outputs": [
    {
     "name": "stdout",
     "output_type": "stream",
     "text": [
      "training score: 0.8852192327754125\n",
      "test score:  0.8500939048208032\n",
      "r_square: 0.8062011059507227\n"
     ]
    }
   ],
   "source": [
    "from sklearn.linear_model import LinearRegression\n",
    "lreg = LinearRegression()\n",
    "lreg.fit(X_train_pca, y_train)\n",
    "prediction = lreg.predict(X_test_pca)\n",
    "train_score=lreg.score(X_train_pca,y_train)\n",
    "test_score=lreg.score(X_test_pca,y_test)\n",
    "print (\"training score:\", train_score) \n",
    "print (\"test score: \", test_score)\n",
    "print(\"r_square:\",metrics.r2_score(prediction,y_test))"
   ]
  },
  {
   "cell_type": "markdown",
   "metadata": {},
   "source": [
    "#### Linear Regression with Grid Search\n",
    "\n",
    "PCA degraded the model performance.\n",
    "This occurs because the new features space are linear combination from original features. Therefore, may there is loss of information. However, if the regression pressuposts are satisfied using PCA and not in original data, it is recomendate using PCA."
   ]
  },
  {
   "cell_type": "code",
   "execution_count": 230,
   "metadata": {},
   "outputs": [
    {
     "name": "stderr",
     "output_type": "stream",
     "text": [
      "C:\\Users\\bhumi\\Anaconda3\\lib\\site-packages\\sklearn\\model_selection\\_split.py:1978: FutureWarning: The default value of cv will change from 3 to 5 in version 0.22. Specify it explicitly to silence this warning.\n",
      "  warnings.warn(CV_WARNING, FutureWarning)\n",
      "[Parallel(n_jobs=8)]: Using backend LokyBackend with 8 concurrent workers.\n"
     ]
    },
    {
     "name": "stdout",
     "output_type": "stream",
     "text": [
      "Fitting 3 folds for each of 8 candidates, totalling 24 fits\n",
      "Best Hyper Parameters:\n",
      " {'copy_X': True, 'fit_intercept': True, 'normalize': True}\n",
      "training score: 0.8852192327754125\n",
      "test score:  0.850093904820803\n",
      "r_square: 0.8062011059507231\n"
     ]
    },
    {
     "name": "stderr",
     "output_type": "stream",
     "text": [
      "[Parallel(n_jobs=8)]: Done  22 out of  24 | elapsed:    5.5s remaining:    0.4s\n",
      "[Parallel(n_jobs=8)]: Done  24 out of  24 | elapsed:    5.5s finished\n"
     ]
    }
   ],
   "source": [
    "from sklearn.model_selection import GridSearchCV\n",
    "\n",
    "l_grid = LinearRegression()\n",
    "params = {'fit_intercept':[True,False], 'normalize':[True,False], 'copy_X':[True, False]}\n",
    "\n",
    "l_grid1 = GridSearchCV(l_grid, param_grid=params, n_jobs=8,  verbose=2)\n",
    "l_grid1.fit(X_train_pca,y_train)\n",
    "\n",
    "print(\"Best Hyper Parameters:\\n\",l_grid1.best_params_)\n",
    "prediction=l_grid1.predict(X_test_pca)\n",
    "train_score=l_grid1.score(X_train_pca,y_train)\n",
    "test_score=l_grid1.score(X_test_pca,y_test)\n",
    "\n",
    "print (\"training score:\", train_score) \n",
    "print (\"test score: \", test_score)\n",
    "print(\"r_square:\",metrics.r2_score(prediction,y_test))"
   ]
  },
  {
   "cell_type": "markdown",
   "metadata": {},
   "source": [
    "#### Polynomial Regression with PCA\n",
    "\n",
    "With degree 2 polynomial regression the model score is better. It does not overfit the data as such in model without PCA. Polynomial regression with PCA performed better for degree two. It did not overfit.\n"
   ]
  },
  {
   "cell_type": "code",
   "execution_count": 231,
   "metadata": {},
   "outputs": [],
   "source": [
    "from  sklearn.preprocessing  import PolynomialFeatures\n",
    "train_score_list = []\n",
    "test_score_list = []\n",
    "r2_score_array= [] \n",
    "\n",
    "for n in range(1,4):\n",
    "    poly = PolynomialFeatures(n)\n",
    "    X_train_poly = poly.fit_transform(X_train_pca)\n",
    "    X_test_poly = poly.transform(X_test_pca)\n",
    "    lreg.fit(X_train_poly, y_train)\n",
    "    train_score_list.append(lreg.score(X_train_poly, y_train))\n",
    "    test_score_list.append(lreg.score(X_test_poly, y_test))\n",
    "    prediction=lreg.predict(X_test_poly)\n",
    "    r2_score_array.append(metrics.r2_score(prediction,y_test))"
   ]
  },
  {
   "cell_type": "code",
   "execution_count": 232,
   "metadata": {},
   "outputs": [
    {
     "name": "stdout",
     "output_type": "stream",
     "text": [
      "training score: [0.8852192327754125, 0.983086158234558, 0.9912368092085806]\n",
      "test score:  [0.8500939048208034, -9.111706971071943, -566.981852529331]\n",
      "r_square: [0.8062011059507231, 0.21183081588831687, -0.013505986298725237]\n"
     ]
    }
   ],
   "source": [
    "\n",
    "print (\"training score:\", train_score_list) \n",
    "print (\"test score: \", test_score_list)\n",
    "print(\"r_square:\",r2_score_array)"
   ]
  },
  {
   "cell_type": "code",
   "execution_count": 233,
   "metadata": {},
   "outputs": [
    {
     "data": {
      "text/plain": [
       "Text(0, 0.5, 'Accuracy')"
      ]
     },
     "execution_count": 233,
     "metadata": {},
     "output_type": "execute_result"
    },
    {
     "data": {
      "image/png": "[encoded data removed]",
      "text/plain": [
       "<Figure size 432x288 with 1 Axes>"
      ]
     },
     "metadata": {
      "needs_background": "light"
     },
     "output_type": "display_data"
    }
   ],
   "source": [
    "%matplotlib inline\n",
    "\n",
    "x_axis = range(1,4)\n",
    "plt.plot(x_axis, train_score_list, c = 'r', label = 'Train Score')\n",
    "plt.plot(x_axis, test_score_list, c = 'b', label = 'Test Score')\n",
    "\n",
    "plt.legend()\n",
    "plt.xlabel('Degree')\n",
    "plt.ylabel('Accuracy')"
   ]
  },
  {
   "cell_type": "markdown",
   "metadata": {},
   "source": [
    "#### Ridge with PCA\n",
    "With PCA, the model did not perform fair. The scores drastically dropped. "
   ]
  },
  {
   "cell_type": "code",
   "execution_count": 234,
   "metadata": {},
   "outputs": [
    {
     "name": "stdout",
     "output_type": "stream",
     "text": [
      "[0.8852192327609525, 0.8852192313296504, 0.8852190884161387, 0.8852050105288342, 0.8839824712931307]\n",
      "[0.8500938468725496, 0.8500933243018617, 0.8500879961577695, 0.8500246350678892, 0.848525306405815]\n",
      "[0.8061998786217032, 0.806188831484484, 0.8060782437933685, 0.8049608423897191, 0.7927284445147752]\n"
     ]
    }
   ],
   "source": [
    "from  sklearn.linear_model import Ridge\n",
    "\n",
    "x_range = [0.01, 0.1, 1, 10, 100]\n",
    "train_score_list = []\n",
    "test_score_list = []\n",
    "r2_score_array = []\n",
    "\n",
    "for alpha in x_range: \n",
    "    ridge = Ridge(alpha) \n",
    "    ridge.fit(X_train_pca,y_train)\n",
    "    train_score_list.append(ridge.score(X_train_pca,y_train))\n",
    "    test_score_list.append(ridge.score(X_test_pca, y_test))\n",
    "    prediction=ridge.predict(X_test_pca)\n",
    "    r2_score_array.append(metrics.r2_score(prediction,y_test))\n",
    "    \n",
    "print(train_score_list)\n",
    "print(test_score_list)\n",
    "print(r2_score_array)"
   ]
  },
  {
   "cell_type": "code",
   "execution_count": 235,
   "metadata": {},
   "outputs": [
    {
     "data": {
      "text/plain": [
       "Text(0.5, 0, '$\\\\alpha$')"
      ]
     },
     "execution_count": 235,
     "metadata": {},
     "output_type": "execute_result"
    },
    {
     "data": {
      "image/png": "[encoded data removed]",
      "text/plain": [
       "<Figure size 432x288 with 1 Axes>"
      ]
     },
     "metadata": {
      "needs_background": "light"
     },
     "output_type": "display_data"
    }
   ],
   "source": [
    "%matplotlib inline\n",
    "import matplotlib.pyplot as plt\n",
    "plt.plot(x_range, train_score_list, c = 'r', label = 'Train Score')\n",
    "plt.plot(x_range, test_score_list, c = 'b', label = 'Test Score')\n",
    "plt.plot(x_range, r2_score_array, c = 'g', label = 'R2 Score')\n",
    "#plt.xscale('log')\n",
    "plt.legend(loc = 3)\n",
    "plt.xlabel(r'$\\alpha$')"
   ]
  },
  {
   "cell_type": "markdown",
   "metadata": {},
   "source": [
    "#### Lasso with PCA"
   ]
  },
  {
   "cell_type": "code",
   "execution_count": 236,
   "metadata": {},
   "outputs": [
    {
     "name": "stdout",
     "output_type": "stream",
     "text": [
      "[0.8852192327754023, 0.8852192327744081, 0.8852192326750884, 0.8852192227440286, 0.8852182296470286, 0.8851297780232472, 0.8764925499509463]\n",
      "[0.8500939005468184, 0.8500938621983252, 0.8500934775463516, 0.8500896235223161, 0.8500503328520568, 0.8496718808619315, 0.8398333116154985]\n",
      "[0.8062010774740844, 0.8062008212980212, 0.8061982583824983, 0.8061726183999945, 0.8059151348427748, 0.8033487619462778, 0.7676726750266459]\n"
     ]
    }
   ],
   "source": [
    "from sklearn.linear_model import Lasso\n",
    "x_range = [0.01, 0.1, 1, 10, 100, 1000, 10000]\n",
    "train_score_list = []\n",
    "test_score_list = []\n",
    "r2_score_array = []\n",
    "\n",
    "for alpha in x_range: \n",
    "    lasso = Lasso(alpha)\n",
    "    lasso.fit(X_train_pca,y_train)\n",
    "    train_score_list.append(lasso.score(X_train_pca,y_train))\n",
    "    test_score_list.append(lasso.score(X_test_pca, y_test))\n",
    "    prediction=lasso.predict(X_test_pca)\n",
    "    r2_score_array.append(metrics.r2_score(prediction,y_test))\n",
    "    \n",
    "print(train_score_list)\n",
    "print(test_score_list)\n",
    "print(r2_score_array)"
   ]
  },
  {
   "cell_type": "code",
   "execution_count": 237,
   "metadata": {},
   "outputs": [
    {
     "data": {
      "text/plain": [
       "Text(0.5, 0, '$\\\\alpha$')"
      ]
     },
     "execution_count": 237,
     "metadata": {},
     "output_type": "execute_result"
    },
    {
     "data": {
      "image/png": "[encoded data removed]",
      "text/plain": [
       "<Figure size 432x288 with 1 Axes>"
      ]
     },
     "metadata": {
      "needs_background": "light"
     },
     "output_type": "display_data"
    }
   ],
   "source": [
    "plt.plot(x_range, train_score_list, c = 'r', label = 'Train Score')\n",
    "plt.plot(x_range, test_score_list, c = 'b', label = 'Test Score')\n",
    "plt.plot(x_range, r2_score_array, c = 'g', label = 'R2 Score')\n",
    "\n",
    "#plt.xscale('log')\n",
    "plt.legend(loc = 3)\n",
    "plt.xlabel(r'$\\alpha$')"
   ]
  },
  {
   "cell_type": "markdown",
   "metadata": {},
   "source": [
    "#### SVM with PCA:"
   ]
  },
  {
   "cell_type": "code",
   "execution_count": 238,
   "metadata": {},
   "outputs": [
    {
     "name": "stdout",
     "output_type": "stream",
     "text": [
      "training score: 0.6812982968386266\n",
      "test score:  0.6231377461563399\n",
      "r2: 0.6231377461563399\n"
     ]
    }
   ],
   "source": [
    "from sklearn.svm import SVR\n",
    "model1=SVR(kernel='linear',degree=1, gamma='scale', C=100, epsilon=0.2)\n",
    "model1.fit(X_train_pca,y_train)\n",
    "\n",
    "prediction=model1.predict(X_test_pca)\n",
    "train_score=model1.score(X_train_pca,y_train)\n",
    "test_score=model1.score(X_test_pca,y_test)\n",
    "\n",
    "print (\"training score:\", train_score) \n",
    "print (\"test score: \", test_score)\n",
    "print(\"r2:\",metrics.r2_score(y_test,prediction))"
   ]
  },
  {
   "cell_type": "markdown",
   "metadata": {},
   "source": [
    "##### Conclusion: With PCA the model did not perform better. PCA did not help in getting better results in regression models."
   ]
  },
  {
   "cell_type": "markdown",
   "metadata": {},
   "source": [
    "### Deep Learning Models"
   ]
  },
  {
   "cell_type": "code",
   "execution_count": 60,
   "metadata": {},
   "outputs": [],
   "source": [
    "from keras.models import Sequential\n",
    "from keras.layers import Dense\n",
    "\n"
   ]
  },
  {
   "cell_type": "markdown",
   "metadata": {},
   "source": [
    "#### 1. Define model"
   ]
  },
  {
   "cell_type": "code",
   "execution_count": 83,
   "metadata": {},
   "outputs": [],
   "source": [
    "# create model\n",
    "model = Sequential()\n",
    "model.add(Dense(13, input_dim=14, kernel_initializer='normal', activation='relu'))\n",
    "model.add(Dense(10, activation='relu'))\n",
    "model.add(Dense(1, activation='relu'))"
   ]
  },
  {
   "cell_type": "markdown",
   "metadata": {},
   "source": [
    "#### 2. Compile model"
   ]
  },
  {
   "cell_type": "code",
   "execution_count": 84,
   "metadata": {},
   "outputs": [],
   "source": [
    "# Compile model\n",
    "model.compile(loss='mse', optimizer='sgd' , metrics = ['mse'])"
   ]
  },
  {
   "cell_type": "markdown",
   "metadata": {},
   "source": [
    "#### 3. Fit model"
   ]
  },
  {
   "cell_type": "code",
   "execution_count": 85,
   "metadata": {},
   "outputs": [
    {
     "name": "stdout",
     "output_type": "stream",
     "text": [
      "Epoch 1/100\n",
      "1668/1668 [==============================] - 0s 57us/step - loss: 12092514676902266880.0000 - mse: 12092514644187414528.0000\n",
      "Epoch 2/100\n",
      "1668/1668 [==============================] - 0s 64us/step - loss: 372227204466.8010 - mse: 372227276800.0000\n",
      "Epoch 3/100\n",
      "1668/1668 [==============================] - 0s 40us/step - loss: 372227206981.3717 - mse: 372227211264.0000\n",
      "Epoch 4/100\n",
      "1668/1668 [==============================] - 0s 75us/step - loss: 372227205724.0864 - mse: 372227276800.0000\n",
      "Epoch 5/100\n",
      "1668/1668 [==============================] - 0s 59us/step - loss: 372227205841.9568 - mse: 372227145728.0000\n",
      "Epoch 6/100\n",
      "1668/1668 [==============================] - 0s 66us/step - loss: 372227202227.2614 - mse: 372227276800.0000\n",
      "Epoch 7/100\n",
      "1668/1668 [==============================] - 0s 67us/step - loss: 372227206667.0504 - mse: 372227145728.0000\n",
      "Epoch 8/100\n",
      "1668/1668 [==============================] - 0s 44us/step - loss: 372227210438.9065 - mse: 372227211264.0000\n",
      "Epoch 9/100\n",
      "1668/1668 [==============================] - 0s 43us/step - loss: 372227206942.0815 - mse: 372227112960.0000\n",
      "Epoch 10/100\n",
      "1668/1668 [==============================] - 0s 43us/step - loss: 372227207020.6619 - mse: 372227276800.0000\n",
      "Epoch 11/100\n",
      "1668/1668 [==============================] - 0s 40us/step - loss: 372227205213.3141 - mse: 372227145728.0000\n",
      "Epoch 12/100\n",
      "1668/1668 [==============================] - 0s 41us/step - loss: 372227209142.3309 - mse: 372227145728.0000\n",
      "Epoch 13/100\n",
      "1668/1668 [==============================] - 0s 50us/step - loss: 372227208474.3981 - mse: 372227145728.0000\n",
      "Epoch 14/100\n",
      "1668/1668 [==============================] - 0s 49us/step - loss: 372227207610.0144 - mse: 372227244032.0000\n",
      "Epoch 15/100\n",
      "1668/1668 [==============================] - 0s 47us/step - loss: 372227207610.0144 - mse: 372227244032.0000\n",
      "Epoch 16/100\n",
      "1668/1668 [==============================] - 0s 44us/step - loss: 372227208317.2374 - mse: 372227145728.0000\n",
      "Epoch 17/100\n",
      "1668/1668 [==============================] - 0s 45us/step - loss: 372227204466.8010 - mse: 372227145728.0000\n",
      "Epoch 18/100\n",
      "1668/1668 [==============================] - 0s 59us/step - loss: 372227202973.7746 - mse: 372227145728.0000\n",
      "Epoch 19/100\n",
      "1668/1668 [==============================] - 0s 45us/step - loss: 372227209456.6523 - mse: 372227244032.0000\n",
      "Epoch 20/100\n",
      "1668/1668 [==============================] - 0s 40us/step - loss: 372227209928.1343 - mse: 372227112960.0000\n",
      "Epoch 21/100\n",
      "1668/1668 [==============================] - 0s 40us/step - loss: 372227203897.0935 - mse: 372227244032.0000\n",
      "Epoch 22/100\n",
      "1668/1668 [==============================] - 0s 44us/step - loss: 372227209220.9113 - mse: 372227211264.0000\n",
      "Epoch 23/100\n",
      "1668/1668 [==============================] - 0s 46us/step - loss: 372227206116.9880 - mse: 372227276800.0000\n",
      "Epoch 24/100\n",
      "1668/1668 [==============================] - 0s 45us/step - loss: 372227209142.3309 - mse: 372227244032.0000\n",
      "Epoch 25/100\n",
      "1668/1668 [==============================] - 0s 48us/step - loss: 372227209849.5539 - mse: 372227112960.0000\n",
      "Epoch 26/100\n",
      "1668/1668 [==============================] - 0s 44us/step - loss: 372227201166.4268 - mse: 372227276800.0000\n",
      "Epoch 27/100\n",
      "1668/1668 [==============================] - 0s 48us/step - loss: 372227205566.9257 - mse: 372227145728.0000\n",
      "Epoch 28/100\n",
      "1668/1668 [==============================] - 0s 52us/step - loss: 372227204427.5108 - mse: 372227080192.0000\n",
      "Epoch 29/100\n",
      "1668/1668 [==============================] - 0s 51us/step - loss: 372227208828.0096 - mse: 372227145728.0000\n",
      "Epoch 30/100\n",
      "1668/1668 [==============================] - 0s 57us/step - loss: 372227209967.4244 - mse: 372227244032.0000\n",
      "Epoch 31/100\n",
      "1668/1668 [==============================] - 0s 47us/step - loss: 372227204309.6403 - mse: 372227276800.0000\n",
      "Epoch 32/100\n",
      "1668/1668 [==============================] - 0s 56us/step - loss: 372227204938.2830 - mse: 372227211264.0000\n",
      "Epoch 33/100\n",
      "1668/1668 [==============================] - 0s 56us/step - loss: 372227206824.2111 - mse: 372227211264.0000\n",
      "Epoch 34/100\n",
      "1668/1668 [==============================] - 0s 39us/step - loss: 372227205331.1847 - mse: 372227211264.0000\n",
      "Epoch 35/100\n",
      "1668/1668 [==============================] - 0s 41us/step - loss: 372227209613.8129 - mse: 372227211264.0000\n",
      "Epoch 36/100\n",
      "1668/1668 [==============================] - 0s 42us/step - loss: 372227210163.8753 - mse: 372227145728.0000\n",
      "Epoch 37/100\n",
      "1668/1668 [==============================] - 0s 46us/step - loss: 372227208435.1079 - mse: 372227244032.0000\n",
      "Epoch 38/100\n",
      "1668/1668 [==============================] - 0s 43us/step - loss: 372227207138.5323 - mse: 372227244032.0000\n",
      "Epoch 39/100\n",
      "1668/1668 [==============================] - 0s 48us/step - loss: 372227203405.9664 - mse: 372227244032.0000\n",
      "Epoch 40/100\n",
      "1668/1668 [==============================] - 0s 44us/step - loss: 372227207177.8226 - mse: 372227276800.0000\n",
      "Epoch 41/100\n",
      "1668/1668 [==============================] - 0s 39us/step - loss: 372227205645.5060 - mse: 372227211264.0000\n",
      "Epoch 42/100\n",
      "1668/1668 [==============================] - 0s 48us/step - loss: 372227205979.4724 - mse: 372227145728.0000\n",
      "Epoch 43/100\n",
      "1668/1668 [==============================] - 0s 49us/step - loss: 372227204898.9929 - mse: 372227375104.0000\n",
      "Epoch 44/100\n",
      "1668/1668 [==============================] - 0s 51us/step - loss: 372227205016.8633 - mse: 372227211264.0000\n",
      "Epoch 45/100\n",
      "1668/1668 [==============================] - 0s 41us/step - loss: 372227206824.2111 - mse: 372227244032.0000\n",
      "Epoch 46/100\n",
      "1668/1668 [==============================] - 0s 40us/step - loss: 372227207570.7242 - mse: 372227244032.0000\n",
      "Epoch 47/100\n",
      "1668/1668 [==============================] - 0s 50us/step - loss: 372227204506.0911 - mse: 372227112960.0000\n",
      "Epoch 48/100\n",
      "1668/1668 [==============================] - 0s 51us/step - loss: 372227207059.9520 - mse: 372227211264.0000\n",
      "Epoch 49/100\n",
      "1668/1668 [==============================] - 0s 30us/step - loss: 372227203445.2566 - mse: 372227112960.0000\n",
      "Epoch 50/100\n",
      "1668/1668 [==============================] - 0s 41us/step - loss: 372227205606.2158 - mse: 372227145728.0000\n",
      "Epoch 51/100\n",
      "1668/1668 [==============================] - 0s 36us/step - loss: 372227208081.4964 - mse: 372227211264.0000\n",
      "Epoch 52/100\n",
      "1668/1668 [==============================] - 0s 28us/step - loss: 372227206549.1799 - mse: 372227145728.0000\n",
      "Epoch 53/100\n",
      "1668/1668 [==============================] - 0s 41us/step - loss: 372227208749.4292 - mse: 372227276800.0000\n",
      "Epoch 54/100\n",
      "1668/1668 [==============================] - 0s 44us/step - loss: 372227202914.8394 - mse: 372227145728.0000\n",
      "Epoch 55/100\n",
      "1668/1668 [==============================] - 0s 53us/step - loss: 372227206706.3405 - mse: 372227244032.0000\n",
      "Epoch 56/100\n",
      "1668/1668 [==============================] - 0s 54us/step - loss: 372227208317.2374 - mse: 372227211264.0000\n",
      "Epoch 57/100\n",
      "1668/1668 [==============================] - 0s 48us/step - loss: 372227203327.3861 - mse: 372227211264.0000\n",
      "Epoch 58/100\n",
      "1668/1668 [==============================] - 0s 50us/step - loss: 372227206706.3405 - mse: 372227276800.0000\n",
      "Epoch 59/100\n",
      "1668/1668 [==============================] - 0s 44us/step - loss: 372227208945.8801 - mse: 372227244032.0000\n",
      "Epoch 60/100\n",
      "1668/1668 [==============================] - 0s 44us/step - loss: 372227211421.1606 - mse: 372227211264.0000\n",
      "Epoch 61/100\n",
      "1668/1668 [==============================] - 0s 44us/step - loss: 372227207413.5635 - mse: 372227211264.0000\n",
      "Epoch 62/100\n",
      "1668/1668 [==============================] - 0s 44us/step - loss: 372227209535.2326 - mse: 372227244032.0000\n",
      "Epoch 63/100\n",
      "1668/1668 [==============================] - 0s 53us/step - loss: 372227201284.2974 - mse: 372227211264.0000\n",
      "Epoch 64/100\n",
      "1668/1668 [==============================] - 0s 48us/step - loss: 372227204427.5108 - mse: 372227145728.0000\n",
      "Epoch 65/100\n",
      "1668/1668 [==============================] - 0s 36us/step - loss: 372227210556.7770 - mse: 372227145728.0000\n",
      "Epoch 66/100\n",
      "1668/1668 [==============================] - 0s 35us/step - loss: 372227208199.3669 - mse: 372227145728.0000\n",
      "Epoch 67/100\n",
      "1668/1668 [==============================] - 0s 40us/step - loss: 372227205331.1847 - mse: 372227112960.0000\n",
      "Epoch 68/100\n"
     ]
    },
    {
     "name": "stdout",
     "output_type": "stream",
     "text": [
      "1668/1668 [==============================] - 0s 51us/step - loss: 372227208277.9473 - mse: 372227276800.0000\n",
      "Epoch 69/100\n",
      "1668/1668 [==============================] - 0s 48us/step - loss: 372227202070.1007 - mse: 372227211264.0000\n",
      "Epoch 70/100\n",
      "1668/1668 [==============================] - 0s 43us/step - loss: 372227205331.1847 - mse: 372227211264.0000\n",
      "Epoch 71/100\n",
      "1668/1668 [==============================] - 0s 48us/step - loss: 372227204388.2206 - mse: 372227276800.0000\n",
      "Epoch 72/100\n",
      "1668/1668 [==============================] - 0s 45us/step - loss: 372227204702.5420 - mse: 372227145728.0000\n",
      "Epoch 73/100\n",
      "1668/1668 [==============================] - 0s 52us/step - loss: 372227208828.0096 - mse: 372227112960.0000\n",
      "Epoch 74/100\n",
      "1668/1668 [==============================] - 0s 60us/step - loss: 372227206038.4077 - mse: 372227211264.0000\n",
      "Epoch 75/100\n",
      "1668/1668 [==============================] - 0s 60us/step - loss: 372227207727.8849 - mse: 372227211264.0000\n",
      "Epoch 76/100\n",
      "1668/1668 [==============================] - 0s 56us/step - loss: 372227206156.2782 - mse: 372227276800.0000\n",
      "Epoch 77/100\n",
      "1668/1668 [==============================] - 0s 59us/step - loss: 372227206392.0192 - mse: 372227244032.0000\n",
      "Epoch 78/100\n",
      "1668/1668 [==============================] - 0s 60us/step - loss: 372227205841.9568 - mse: 372227276800.0000\n",
      "Epoch 79/100\n",
      "1668/1668 [==============================] - 0s 53us/step - loss: 372227207610.0144 - mse: 372227211264.0000\n",
      "Epoch 80/100\n",
      "1668/1668 [==============================] - 0s 54us/step - loss: 372227204270.3501 - mse: 372227211264.0000\n",
      "Epoch 81/100\n",
      "1668/1668 [==============================] - 0s 47us/step - loss: 372227206156.2782 - mse: 372227211264.0000\n",
      "Epoch 82/100\n",
      "1668/1668 [==============================] - 0s 48us/step - loss: 372227206038.4077 - mse: 372227276800.0000\n",
      "Epoch 83/100\n",
      "1668/1668 [==============================] - 0s 51us/step - loss: 372227205763.3765 - mse: 372227244032.0000\n",
      "Epoch 84/100\n",
      "1668/1668 [==============================] - 0s 49us/step - loss: 372227202738.0336 - mse: 372227244032.0000\n",
      "Epoch 85/100\n",
      "1668/1668 [==============================] - 0s 53us/step - loss: 372227207492.1439 - mse: 372227276800.0000\n",
      "Epoch 86/100\n",
      "1668/1668 [==============================] - 0s 53us/step - loss: 372227210085.2950 - mse: 372227211264.0000\n",
      "Epoch 87/100\n",
      "1668/1668 [==============================] - 0s 50us/step - loss: 372227206274.1487 - mse: 372227244032.0000\n",
      "Epoch 88/100\n",
      "1668/1668 [==============================] - 0s 50us/step - loss: 372227205724.0864 - mse: 372227112960.0000\n",
      "Epoch 89/100\n",
      "1668/1668 [==============================] - 0s 54us/step - loss: 372227208002.9161 - mse: 372227145728.0000\n",
      "Epoch 90/100\n",
      "1668/1668 [==============================] - 0s 62us/step - loss: 372227212285.5444 - mse: 372227244032.0000\n",
      "Epoch 91/100\n",
      "1668/1668 [==============================] - 0s 60us/step - loss: 372227208788.7194 - mse: 372227276800.0000\n",
      "Epoch 92/100\n",
      "1668/1668 [==============================] - 0s 60us/step - loss: 372227208002.9161 - mse: 372227211264.0000\n",
      "Epoch 93/100\n",
      "1668/1668 [==============================] - 0s 62us/step - loss: 372227206156.2782 - mse: 372227145728.0000\n",
      "Epoch 94/100\n",
      "1668/1668 [==============================] - 0s 66us/step - loss: 372227209397.7170 - mse: 372227211264.0000\n",
      "Epoch 95/100\n",
      "1668/1668 [==============================] - 0s 60us/step - loss: 372227202345.1318 - mse: 372227211264.0000\n",
      "Epoch 96/100\n",
      "1668/1668 [==============================] - 0s 48us/step - loss: 372227203405.9664 - mse: 372227244032.0000\n",
      "Epoch 97/100\n",
      "1668/1668 [==============================] - 0s 51us/step - loss: 372227205920.5372 - mse: 372227276800.0000\n",
      "Epoch 98/100\n",
      "1668/1668 [==============================] - 0s 53us/step - loss: 372227208317.2374 - mse: 372227211264.0000\n",
      "Epoch 99/100\n",
      "1668/1668 [==============================] - 0s 51us/step - loss: 372227208435.1079 - mse: 372227211264.0000\n",
      "Epoch 100/100\n",
      "1668/1668 [==============================] - 0s 54us/step - loss: 372227207885.0456 - mse: 372227244032.0000\n"
     ]
    },
    {
     "data": {
      "text/plain": [
       "<keras.callbacks.callbacks.History at 0x27823306a48>"
      ]
     },
     "execution_count": 85,
     "metadata": {},
     "output_type": "execute_result"
    }
   ],
   "source": [
    "model.fit(X_train, y_train, epochs = 100, batch_size = 20)"
   ]
  },
  {
   "cell_type": "markdown",
   "metadata": {},
   "source": [
    "#### 4. Evaluate model"
   ]
  },
  {
   "cell_type": "code",
   "execution_count": 86,
   "metadata": {},
   "outputs": [
    {
     "name": "stdout",
     "output_type": "stream",
     "text": [
      "557/557 [==============================] - 0s 32us/step\n"
     ]
    },
    {
     "data": {
      "text/plain": [
       "[423597320776.6176, 423597309952.0]"
      ]
     },
     "execution_count": 86,
     "metadata": {},
     "output_type": "execute_result"
    }
   ],
   "source": [
    "model.evaluate(X_test, y_test)"
   ]
  },
  {
   "cell_type": "code",
   "execution_count": 87,
   "metadata": {},
   "outputs": [
    {
     "name": "stdout",
     "output_type": "stream",
     "text": [
      "Train score: -2.32\n",
      "Test score: -2.07\n"
     ]
    }
   ],
   "source": [
    "from sklearn.metrics import r2_score, recall_score, precision_score\n",
    "\n",
    "y_train_predict = model.predict(X_train)\n",
    "y_test_predict = model.predict(X_test)\n",
    "\n",
    "print('Train score: {:.2f}'.format(r2_score(y_train, y_train_predict)))\n",
    "print('Test score: {:.2f}'.format(r2_score(y_test, y_test_predict)))"
   ]
  },
  {
   "cell_type": "markdown",
   "metadata": {},
   "source": [
    "#### Grid Search"
   ]
  },
  {
   "cell_type": "code",
   "execution_count": 88,
   "metadata": {},
   "outputs": [],
   "source": [
    "import numpy as np\n",
    "from sklearn.model_selection import GridSearchCV\n",
    "from keras.models import Sequential\n",
    "from keras.layers import Dense\n",
    "from keras.wrappers.scikit_learn import KerasClassifier"
   ]
  },
  {
   "cell_type": "code",
   "execution_count": 93,
   "metadata": {},
   "outputs": [],
   "source": [
    "def create_model():\n",
    "    #create model\n",
    "    model = Sequential()\n",
    "    model.add(Dense(12, input_dim=14, activation='relu'))\n",
    "    model.add(Dense(8, activation='relu'))\n",
    "    model.add(Dense(1, activation='sigmoid'))\n",
    "    #compile model\n",
    "    model.compile(loss='binary_crossentropy', optimizer='adam', metrics=['accuracy'])\n",
    "    return model"
   ]
  },
  {
   "cell_type": "code",
   "execution_count": 99,
   "metadata": {},
   "outputs": [],
   "source": [
    "seed = 10\n",
    "np.random.seed(10)"
   ]
  },
  {
   "cell_type": "code",
   "execution_count": 95,
   "metadata": {},
   "outputs": [],
   "source": [
    "model = KerasClassifier(build_fn = create_model, verbose = 0)\n",
    "\n",
    "param_grid = {'batch_size':[10,20,30,40] , 'epochs':[10, 50, 100]}\n",
    "grid_search = GridSearchCV(estimator= model, param_grid = param_grid, cv = 5)"
   ]
  },
  {
   "cell_type": "code",
   "execution_count": 96,
   "metadata": {},
   "outputs": [],
   "source": [
    "grid_search_result = grid_search.fit(X, y)"
   ]
  },
  {
   "cell_type": "code",
   "execution_count": 100,
   "metadata": {},
   "outputs": [
    {
     "name": "stdout",
     "output_type": "stream",
     "text": [
      "Train score: -1.51\n",
      "Test score: -1.37\n"
     ]
    }
   ],
   "source": [
    "from sklearn.metrics import r2_score, recall_score, precision_score\n",
    "\n",
    "y_train_predict = grid_search_result.predict(X_train)\n",
    "y_test_predict = grid_search_result.predict(X_test)\n",
    "\n",
    "print('Train score: {:.2f}'.format(r2_score(y_train, y_train_predict)))\n",
    "print('Test score: {:.2f}'.format(r2_score(y_test, y_test_predict)))"
   ]
  },
  {
   "cell_type": "code",
   "execution_count": 101,
   "metadata": {},
   "outputs": [
    {
     "name": "stdout",
     "output_type": "stream",
     "text": [
      "Best Hyper Parameters:\n",
      " {'batch_size': 10, 'epochs': 10}\n"
     ]
    }
   ],
   "source": [
    "print(\"Best Hyper Parameters:\\n\",grid_search_result.best_params_)"
   ]
  },
  {
   "cell_type": "markdown",
   "metadata": {},
   "source": [
    "#### Best parameters for modeling the neural networks on this dataset is with epoch 10 and batch size 10"
   ]
  }
 ],
 "metadata": {
  "kernelspec": {
   "display_name": "Python 3",
   "language": "python",
   "name": "python3"
  },
  "language_info": {
   "codemirror_mode": {
    "name": "ipython",
    "version": 3
   },
   "file_extension": ".py",
   "mimetype": "text/x-python",
   "name": "python",
   "nbconvert_exporter": "python",
   "pygments_lexer": "ipython3",
   "version": "3.7.4"
  }
 },
 "nbformat": 4,
 "nbformat_minor": 2
}
