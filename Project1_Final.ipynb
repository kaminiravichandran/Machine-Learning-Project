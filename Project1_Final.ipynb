{
 "cells": [
  {
   "cell_type": "markdown",
   "metadata": {},
   "source": [
    "# Project 1"
   ]
  },
  {
   "cell_type": "markdown",
   "metadata": {},
   "source": [
    "## Regression"
   ]
  },
  {
   "cell_type": "markdown",
   "metadata": {},
   "source": [
    "Source File: https://www.kaggle.com/swathiachath/kc-housesales-data\n",
    "\n",
    "- The test dataset had no target component which would make it difficult to find the accuracy of our model. So we considered the train.csv for the entirity of the dataset.\n",
    "- Dataset had time series component. Tp remove this we considered the sales price for the months of Jan 2015 and Feb 2015.\n",
    "\n",
    "- Data Description\n",
    "- id : a notation for a house\n",
    "- date: Date house was sold\n",
    "- price: Price is prediction target\n",
    "- bedrooms: Number of Bedrooms/House\n",
    "- bathrooms: Number of bathrooms/bedrooms\n",
    "- sqft_living: square footage of the home\n",
    "- sqft_lot: square footage of the lot\n",
    "- floorsTotal floors (levels) in house\n",
    "- waterfrontHouse which has a view to a waterfront\n",
    "- viewHas been viewed\n",
    "- condition : How good the condition is ( Overall ). 1 indicates worn out property and 5 excellent. \n",
    "- gradeoverall grade given to the housing unit, based on King County grading system. 1 poor ,13 excellent.\n",
    "- sqft_abovesquare footage of house apart from basement\n",
    "- sqft_basementsquare footage of the basement\n",
    "- yr_builtBuilt Year\n",
    "- yr_renovatedYear when house was renovated\n",
    "- zipcodezip\n",
    "- latLatitude coordinate\n",
    "- longLongitude coordinate\n",
    "- sqft_living15Living room area in 2015(implies-- some renovations) This might or might not have affected the lotsize area\n",
    "- sqft_lot15lotSize area in 2015(implies-- some renovations)"
   ]
  },
  {
   "cell_type": "code",
   "execution_count": 1,
   "metadata": {},
   "outputs": [],
   "source": [
    "import pandas as pd\n",
    "import numpy as np\n",
    "import matplotlib.pyplot as plt\n",
    "import seaborn as sns\n",
    "from sklearn import preprocessing\n",
    "from sklearn.model_selection import train_test_split"
   ]
  },
  {
   "cell_type": "code",
   "execution_count": 2,
   "metadata": {},
   "outputs": [
    {
     "data": {
      "text/plain": [
       "(2225, 21)"
      ]
     },
     "execution_count": 2,
     "metadata": {},
     "output_type": "execute_result"
    }
   ],
   "source": [
    "hd = pd.read_csv('kc_house_data.csv') #csv to python data frame format\n",
    "hd.shape\n",
    "#df = pd.read_csv('ToyotaCorolla.csv')"
   ]
  },
  {
   "cell_type": "code",
   "execution_count": 3,
   "metadata": {},
   "outputs": [
    {
     "name": "stdout",
     "output_type": "stream",
     "text": [
      "<class 'pandas.core.frame.DataFrame'>\n",
      "RangeIndex: 2225 entries, 0 to 2224\n",
      "Data columns (total 21 columns):\n",
      "id               2225 non-null int64\n",
      "date             2225 non-null object\n",
      "price            2225 non-null float64\n",
      "bedrooms         2225 non-null int64\n",
      "bathrooms        2225 non-null float64\n",
      "sqft_living      2107 non-null float64\n",
      "sqft_lot         2225 non-null int64\n",
      "floors           2225 non-null float64\n",
      "waterfront       2225 non-null int64\n",
      "view             2225 non-null int64\n",
      "condition        2225 non-null int64\n",
      "grade            2225 non-null int64\n",
      "sqft_above       2225 non-null int64\n",
      "sqft_basement    2225 non-null int64\n",
      "yr_built         2225 non-null int64\n",
      "yr_renovated     2225 non-null int64\n",
      "zipcode          2225 non-null int64\n",
      "lat              2225 non-null float64\n",
      "long             2225 non-null float64\n",
      "sqft_living15    2225 non-null int64\n",
      "sqft_lot15       2225 non-null int64\n",
      "dtypes: float64(6), int64(14), object(1)\n",
      "memory usage: 365.2+ KB\n"
     ]
    }
   ],
   "source": [
    "hd.info()"
   ]
  },
  {
   "cell_type": "code",
   "execution_count": 4,
   "metadata": {},
   "outputs": [
    {
     "data": {
      "text/plain": [
       "id                 0\n",
       "date               0\n",
       "price              0\n",
       "bedrooms           0\n",
       "bathrooms          0\n",
       "sqft_living      118\n",
       "sqft_lot           0\n",
       "floors             0\n",
       "waterfront         0\n",
       "view               0\n",
       "condition          0\n",
       "grade              0\n",
       "sqft_above         0\n",
       "sqft_basement      0\n",
       "yr_built           0\n",
       "yr_renovated       0\n",
       "zipcode            0\n",
       "lat                0\n",
       "long               0\n",
       "sqft_living15      0\n",
       "sqft_lot15         0\n",
       "dtype: int64"
      ]
     },
     "execution_count": 4,
     "metadata": {},
     "output_type": "execute_result"
    }
   ],
   "source": [
    "hd.isnull().sum()"
   ]
  },
  {
   "cell_type": "markdown",
   "metadata": {},
   "source": [
    "### Categorical/Ordinal  Variables"
   ]
  },
  {
   "cell_type": "code",
   "execution_count": 5,
   "metadata": {},
   "outputs": [
    {
     "name": "stdout",
     "output_type": "stream",
     "text": [
      "3    1465\n",
      "4     573\n",
      "5     155\n",
      "2      27\n",
      "1       5\n",
      "Name: condition, dtype: int64\n",
      "0    2211\n",
      "1      14\n",
      "Name: waterfront, dtype: int64\n",
      "7     956\n",
      "8     613\n",
      "9     240\n",
      "6     229\n",
      "10     99\n",
      "11     36\n",
      "5      31\n",
      "12     17\n",
      "4       2\n",
      "13      1\n",
      "3       1\n",
      "Name: grade, dtype: int64\n"
     ]
    }
   ],
   "source": [
    "print(hd['condition'].value_counts())\n",
    "print(hd['waterfront'].value_counts())\n",
    "print(hd['grade'].value_counts())"
   ]
  },
  {
   "cell_type": "code",
   "execution_count": 6,
   "metadata": {},
   "outputs": [
    {
     "data": {
      "image/png": "[encoded data removed]",
      "text/plain": [
       "<Figure size 720x360 with 1 Axes>"
      ]
     },
     "metadata": {
      "needs_background": "light"
     },
     "output_type": "display_data"
    },
    {
     "data": {
      "text/plain": [
       "3    1044\n",
       "4     687\n",
       "2     280\n",
       "5     154\n",
       "6      38\n",
       "1      18\n",
       "7       2\n",
       "9       1\n",
       "8       1\n",
       "Name: bedrooms, dtype: int64"
      ]
     },
     "execution_count": 6,
     "metadata": {},
     "output_type": "execute_result"
    }
   ],
   "source": [
    "ax = hd['bedrooms'].value_counts().plot(kind='bar',\n",
    "                                    figsize=(10,5),\n",
    "                                    title=\"# bedrooms\")\n",
    "ax.set_xlabel(\"bedrooms\")\n",
    "ax.set_ylabel(\"Frequency\")\n",
    "plt.show()\n",
    "hd['bedrooms'].value_counts()"
   ]
  },
  {
   "cell_type": "markdown",
   "metadata": {},
   "source": [
    "The target variable price is slightly positively skewed in the dataset"
   ]
  },
  {
   "cell_type": "code",
   "execution_count": 7,
   "metadata": {},
   "outputs": [
    {
     "data": {
      "text/plain": [
       "array([[<matplotlib.axes._subplots.AxesSubplot object at 0x000001AA096FEB88>]],\n",
       "      dtype=object)"
      ]
     },
     "execution_count": 7,
     "metadata": {},
     "output_type": "execute_result"
    },
    {
     "data": {
      "image/png": "[encoded data removed]",
      "text/plain": [
       "<Figure size 864x576 with 1 Axes>"
      ]
     },
     "metadata": {
      "needs_background": "light"
     },
     "output_type": "display_data"
    }
   ],
   "source": [
    "hd.hist(column='price', bins=500, grid=False, figsize=(12,8), color='#86bf91', zorder=3, rwidth=0.9)"
   ]
  },
  {
   "cell_type": "markdown",
   "metadata": {},
   "source": [
    "### Correlation Matrix and HeatMap to remove columns that are not important\n",
    "\n",
    "- Weak correlations: Zipcode, Yr_renovated \n",
    "- Columns sqft_living and sqft_living15 are highly correlated to each other, while the corrleation of the column sqft_living is stronger with other predictors.\n",
    "- Similarly, Column sqft_lot and sqft_lot15 are highly correlated to each other, while the corrleation of the column sqft_lot is stronger with other predictors.\n"
   ]
  },
  {
   "cell_type": "code",
   "execution_count": 8,
   "metadata": {
    "scrolled": false
   },
   "outputs": [
    {
     "data": {
      "text/html": [
       "<div>\n",
       "<style scoped>\n",
       "    .dataframe tbody tr th:only-of-type {\n",
       "        vertical-align: middle;\n",
       "    }\n",
       "\n",
       "    .dataframe tbody tr th {\n",
       "        vertical-align: top;\n",
       "    }\n",
       "\n",
       "    .dataframe thead th {\n",
       "        text-align: right;\n",
       "    }\n",
       "</style>\n",
       "<table border=\"1\" class=\"dataframe\">\n",
       "  <thead>\n",
       "    <tr style=\"text-align: right;\">\n",
       "      <th></th>\n",
       "      <th>id</th>\n",
       "      <th>price</th>\n",
       "      <th>bedrooms</th>\n",
       "      <th>bathrooms</th>\n",
       "      <th>sqft_living</th>\n",
       "      <th>sqft_lot</th>\n",
       "      <th>floors</th>\n",
       "      <th>waterfront</th>\n",
       "      <th>view</th>\n",
       "      <th>condition</th>\n",
       "      <th>grade</th>\n",
       "      <th>sqft_above</th>\n",
       "      <th>sqft_basement</th>\n",
       "      <th>yr_built</th>\n",
       "      <th>yr_renovated</th>\n",
       "      <th>zipcode</th>\n",
       "      <th>lat</th>\n",
       "      <th>long</th>\n",
       "      <th>sqft_living15</th>\n",
       "      <th>sqft_lot15</th>\n",
       "    </tr>\n",
       "  </thead>\n",
       "  <tbody>\n",
       "    <tr>\n",
       "      <td>id</td>\n",
       "      <td>1.000000</td>\n",
       "      <td>-0.004724</td>\n",
       "      <td>-0.025710</td>\n",
       "      <td>-0.024450</td>\n",
       "      <td>-0.025910</td>\n",
       "      <td>-0.134683</td>\n",
       "      <td>0.017331</td>\n",
       "      <td>0.014070</td>\n",
       "      <td>0.043323</td>\n",
       "      <td>-0.047973</td>\n",
       "      <td>-0.006088</td>\n",
       "      <td>-0.019563</td>\n",
       "      <td>-0.017423</td>\n",
       "      <td>0.020495</td>\n",
       "      <td>-0.018727</td>\n",
       "      <td>-0.014552</td>\n",
       "      <td>-0.019468</td>\n",
       "      <td>0.018962</td>\n",
       "      <td>-0.007585</td>\n",
       "      <td>-0.133572</td>\n",
       "    </tr>\n",
       "    <tr>\n",
       "      <td>price</td>\n",
       "      <td>-0.004724</td>\n",
       "      <td>1.000000</td>\n",
       "      <td>0.282691</td>\n",
       "      <td>0.517018</td>\n",
       "      <td>0.684768</td>\n",
       "      <td>0.126507</td>\n",
       "      <td>0.258877</td>\n",
       "      <td>0.211229</td>\n",
       "      <td>0.429827</td>\n",
       "      <td>0.008744</td>\n",
       "      <td>0.683825</td>\n",
       "      <td>0.602530</td>\n",
       "      <td>0.277012</td>\n",
       "      <td>0.104663</td>\n",
       "      <td>0.094203</td>\n",
       "      <td>-0.062066</td>\n",
       "      <td>0.335857</td>\n",
       "      <td>0.043875</td>\n",
       "      <td>0.586721</td>\n",
       "      <td>0.110575</td>\n",
       "    </tr>\n",
       "    <tr>\n",
       "      <td>bedrooms</td>\n",
       "      <td>-0.025710</td>\n",
       "      <td>0.282691</td>\n",
       "      <td>1.000000</td>\n",
       "      <td>0.524898</td>\n",
       "      <td>0.575577</td>\n",
       "      <td>0.047437</td>\n",
       "      <td>0.169025</td>\n",
       "      <td>-0.019683</td>\n",
       "      <td>0.087083</td>\n",
       "      <td>0.028251</td>\n",
       "      <td>0.348931</td>\n",
       "      <td>0.482694</td>\n",
       "      <td>0.294126</td>\n",
       "      <td>0.157037</td>\n",
       "      <td>0.021101</td>\n",
       "      <td>-0.157813</td>\n",
       "      <td>-0.007756</td>\n",
       "      <td>0.129595</td>\n",
       "      <td>0.378441</td>\n",
       "      <td>0.055310</td>\n",
       "    </tr>\n",
       "    <tr>\n",
       "      <td>bathrooms</td>\n",
       "      <td>-0.024450</td>\n",
       "      <td>0.517018</td>\n",
       "      <td>0.524898</td>\n",
       "      <td>1.000000</td>\n",
       "      <td>0.755674</td>\n",
       "      <td>0.140563</td>\n",
       "      <td>0.500398</td>\n",
       "      <td>0.025115</td>\n",
       "      <td>0.203315</td>\n",
       "      <td>-0.118048</td>\n",
       "      <td>0.669089</td>\n",
       "      <td>0.700447</td>\n",
       "      <td>0.245914</td>\n",
       "      <td>0.519623</td>\n",
       "      <td>0.045337</td>\n",
       "      <td>-0.184291</td>\n",
       "      <td>0.018480</td>\n",
       "      <td>0.221890</td>\n",
       "      <td>0.555685</td>\n",
       "      <td>0.118668</td>\n",
       "    </tr>\n",
       "    <tr>\n",
       "      <td>sqft_living</td>\n",
       "      <td>-0.025910</td>\n",
       "      <td>0.684768</td>\n",
       "      <td>0.575577</td>\n",
       "      <td>0.755674</td>\n",
       "      <td>1.000000</td>\n",
       "      <td>0.216934</td>\n",
       "      <td>0.325251</td>\n",
       "      <td>0.070324</td>\n",
       "      <td>0.307025</td>\n",
       "      <td>-0.043862</td>\n",
       "      <td>0.767237</td>\n",
       "      <td>0.882913</td>\n",
       "      <td>0.395935</td>\n",
       "      <td>0.330283</td>\n",
       "      <td>0.037140</td>\n",
       "      <td>-0.198370</td>\n",
       "      <td>0.049721</td>\n",
       "      <td>0.249343</td>\n",
       "      <td>0.734102</td>\n",
       "      <td>0.214354</td>\n",
       "    </tr>\n",
       "    <tr>\n",
       "      <td>sqft_lot</td>\n",
       "      <td>-0.134683</td>\n",
       "      <td>0.126507</td>\n",
       "      <td>0.047437</td>\n",
       "      <td>0.140563</td>\n",
       "      <td>0.216934</td>\n",
       "      <td>1.000000</td>\n",
       "      <td>0.012603</td>\n",
       "      <td>-0.000016</td>\n",
       "      <td>0.070538</td>\n",
       "      <td>-0.001438</td>\n",
       "      <td>0.167234</td>\n",
       "      <td>0.213362</td>\n",
       "      <td>0.041815</td>\n",
       "      <td>0.063314</td>\n",
       "      <td>0.002993</td>\n",
       "      <td>-0.111582</td>\n",
       "      <td>-0.054100</td>\n",
       "      <td>0.252239</td>\n",
       "      <td>0.138207</td>\n",
       "      <td>0.708000</td>\n",
       "    </tr>\n",
       "    <tr>\n",
       "      <td>floors</td>\n",
       "      <td>0.017331</td>\n",
       "      <td>0.258877</td>\n",
       "      <td>0.169025</td>\n",
       "      <td>0.500398</td>\n",
       "      <td>0.325251</td>\n",
       "      <td>0.012603</td>\n",
       "      <td>1.000000</td>\n",
       "      <td>0.035332</td>\n",
       "      <td>0.036214</td>\n",
       "      <td>-0.255499</td>\n",
       "      <td>0.438674</td>\n",
       "      <td>0.506408</td>\n",
       "      <td>-0.271694</td>\n",
       "      <td>0.512300</td>\n",
       "      <td>0.016475</td>\n",
       "      <td>-0.054578</td>\n",
       "      <td>0.060478</td>\n",
       "      <td>0.108757</td>\n",
       "      <td>0.244280</td>\n",
       "      <td>-0.011815</td>\n",
       "    </tr>\n",
       "    <tr>\n",
       "      <td>waterfront</td>\n",
       "      <td>0.014070</td>\n",
       "      <td>0.211229</td>\n",
       "      <td>-0.019683</td>\n",
       "      <td>0.025115</td>\n",
       "      <td>0.070324</td>\n",
       "      <td>-0.000016</td>\n",
       "      <td>0.035332</td>\n",
       "      <td>1.000000</td>\n",
       "      <td>0.382779</td>\n",
       "      <td>-0.002859</td>\n",
       "      <td>0.061005</td>\n",
       "      <td>0.052441</td>\n",
       "      <td>0.048943</td>\n",
       "      <td>-0.036673</td>\n",
       "      <td>0.116916</td>\n",
       "      <td>0.033156</td>\n",
       "      <td>-0.004311</td>\n",
       "      <td>-0.043038</td>\n",
       "      <td>0.084313</td>\n",
       "      <td>0.026879</td>\n",
       "    </tr>\n",
       "    <tr>\n",
       "      <td>view</td>\n",
       "      <td>0.043323</td>\n",
       "      <td>0.429827</td>\n",
       "      <td>0.087083</td>\n",
       "      <td>0.203315</td>\n",
       "      <td>0.307025</td>\n",
       "      <td>0.070538</td>\n",
       "      <td>0.036214</td>\n",
       "      <td>0.382779</td>\n",
       "      <td>1.000000</td>\n",
       "      <td>0.007650</td>\n",
       "      <td>0.281801</td>\n",
       "      <td>0.188595</td>\n",
       "      <td>0.282347</td>\n",
       "      <td>-0.036322</td>\n",
       "      <td>0.094527</td>\n",
       "      <td>0.087416</td>\n",
       "      <td>0.048066</td>\n",
       "      <td>-0.069692</td>\n",
       "      <td>0.316538</td>\n",
       "      <td>0.052384</td>\n",
       "    </tr>\n",
       "    <tr>\n",
       "      <td>condition</td>\n",
       "      <td>-0.047973</td>\n",
       "      <td>0.008744</td>\n",
       "      <td>0.028251</td>\n",
       "      <td>-0.118048</td>\n",
       "      <td>-0.043862</td>\n",
       "      <td>-0.001438</td>\n",
       "      <td>-0.255499</td>\n",
       "      <td>-0.002859</td>\n",
       "      <td>0.007650</td>\n",
       "      <td>1.000000</td>\n",
       "      <td>-0.141894</td>\n",
       "      <td>-0.127461</td>\n",
       "      <td>0.163808</td>\n",
       "      <td>-0.316269</td>\n",
       "      <td>-0.056620</td>\n",
       "      <td>-0.032083</td>\n",
       "      <td>-0.060632</td>\n",
       "      <td>-0.030865</td>\n",
       "      <td>-0.084645</td>\n",
       "      <td>-0.001036</td>\n",
       "    </tr>\n",
       "    <tr>\n",
       "      <td>grade</td>\n",
       "      <td>-0.006088</td>\n",
       "      <td>0.683825</td>\n",
       "      <td>0.348931</td>\n",
       "      <td>0.669089</td>\n",
       "      <td>0.767237</td>\n",
       "      <td>0.167234</td>\n",
       "      <td>0.438674</td>\n",
       "      <td>0.061005</td>\n",
       "      <td>0.281801</td>\n",
       "      <td>-0.141894</td>\n",
       "      <td>1.000000</td>\n",
       "      <td>0.745906</td>\n",
       "      <td>0.167968</td>\n",
       "      <td>0.471885</td>\n",
       "      <td>-0.000668</td>\n",
       "      <td>-0.175664</td>\n",
       "      <td>0.107947</td>\n",
       "      <td>0.181926</td>\n",
       "      <td>0.686385</td>\n",
       "      <td>0.157838</td>\n",
       "    </tr>\n",
       "    <tr>\n",
       "      <td>sqft_above</td>\n",
       "      <td>-0.019563</td>\n",
       "      <td>0.602530</td>\n",
       "      <td>0.482694</td>\n",
       "      <td>0.700447</td>\n",
       "      <td>0.882913</td>\n",
       "      <td>0.213362</td>\n",
       "      <td>0.506408</td>\n",
       "      <td>0.052441</td>\n",
       "      <td>0.188595</td>\n",
       "      <td>-0.127461</td>\n",
       "      <td>0.745906</td>\n",
       "      <td>1.000000</td>\n",
       "      <td>-0.078208</td>\n",
       "      <td>0.429747</td>\n",
       "      <td>0.010442</td>\n",
       "      <td>-0.241531</td>\n",
       "      <td>-0.000490</td>\n",
       "      <td>0.324561</td>\n",
       "      <td>0.688662</td>\n",
       "      <td>0.195028</td>\n",
       "    </tr>\n",
       "    <tr>\n",
       "      <td>sqft_basement</td>\n",
       "      <td>-0.017423</td>\n",
       "      <td>0.277012</td>\n",
       "      <td>0.294126</td>\n",
       "      <td>0.245914</td>\n",
       "      <td>0.395935</td>\n",
       "      <td>0.041815</td>\n",
       "      <td>-0.271694</td>\n",
       "      <td>0.048943</td>\n",
       "      <td>0.282347</td>\n",
       "      <td>0.163808</td>\n",
       "      <td>0.167968</td>\n",
       "      <td>-0.078208</td>\n",
       "      <td>1.000000</td>\n",
       "      <td>-0.122543</td>\n",
       "      <td>0.044823</td>\n",
       "      <td>0.057525</td>\n",
       "      <td>0.108070</td>\n",
       "      <td>-0.125430</td>\n",
       "      <td>0.209042</td>\n",
       "      <td>0.071515</td>\n",
       "    </tr>\n",
       "    <tr>\n",
       "      <td>yr_built</td>\n",
       "      <td>0.020495</td>\n",
       "      <td>0.104663</td>\n",
       "      <td>0.157037</td>\n",
       "      <td>0.519623</td>\n",
       "      <td>0.330283</td>\n",
       "      <td>0.063314</td>\n",
       "      <td>0.512300</td>\n",
       "      <td>-0.036673</td>\n",
       "      <td>-0.036322</td>\n",
       "      <td>-0.316269</td>\n",
       "      <td>0.471885</td>\n",
       "      <td>0.429747</td>\n",
       "      <td>-0.122543</td>\n",
       "      <td>1.000000</td>\n",
       "      <td>-0.185441</td>\n",
       "      <td>-0.337160</td>\n",
       "      <td>-0.151921</td>\n",
       "      <td>0.375731</td>\n",
       "      <td>0.335443</td>\n",
       "      <td>0.062905</td>\n",
       "    </tr>\n",
       "    <tr>\n",
       "      <td>yr_renovated</td>\n",
       "      <td>-0.018727</td>\n",
       "      <td>0.094203</td>\n",
       "      <td>0.021101</td>\n",
       "      <td>0.045337</td>\n",
       "      <td>0.037140</td>\n",
       "      <td>0.002993</td>\n",
       "      <td>0.016475</td>\n",
       "      <td>0.116916</td>\n",
       "      <td>0.094527</td>\n",
       "      <td>-0.056620</td>\n",
       "      <td>-0.000668</td>\n",
       "      <td>0.010442</td>\n",
       "      <td>0.044823</td>\n",
       "      <td>-0.185441</td>\n",
       "      <td>1.000000</td>\n",
       "      <td>0.023722</td>\n",
       "      <td>0.023190</td>\n",
       "      <td>-0.009763</td>\n",
       "      <td>-0.031478</td>\n",
       "      <td>0.010079</td>\n",
       "    </tr>\n",
       "    <tr>\n",
       "      <td>zipcode</td>\n",
       "      <td>-0.014552</td>\n",
       "      <td>-0.062066</td>\n",
       "      <td>-0.157813</td>\n",
       "      <td>-0.184291</td>\n",
       "      <td>-0.198370</td>\n",
       "      <td>-0.111582</td>\n",
       "      <td>-0.054578</td>\n",
       "      <td>0.033156</td>\n",
       "      <td>0.087416</td>\n",
       "      <td>-0.032083</td>\n",
       "      <td>-0.175664</td>\n",
       "      <td>-0.241531</td>\n",
       "      <td>0.057525</td>\n",
       "      <td>-0.337160</td>\n",
       "      <td>0.023722</td>\n",
       "      <td>1.000000</td>\n",
       "      <td>0.293644</td>\n",
       "      <td>-0.549856</td>\n",
       "      <td>-0.271389</td>\n",
       "      <td>-0.115937</td>\n",
       "    </tr>\n",
       "    <tr>\n",
       "      <td>lat</td>\n",
       "      <td>-0.019468</td>\n",
       "      <td>0.335857</td>\n",
       "      <td>-0.007756</td>\n",
       "      <td>0.018480</td>\n",
       "      <td>0.049721</td>\n",
       "      <td>-0.054100</td>\n",
       "      <td>0.060478</td>\n",
       "      <td>-0.004311</td>\n",
       "      <td>0.048066</td>\n",
       "      <td>-0.060632</td>\n",
       "      <td>0.107947</td>\n",
       "      <td>-0.000490</td>\n",
       "      <td>0.108070</td>\n",
       "      <td>-0.151921</td>\n",
       "      <td>0.023190</td>\n",
       "      <td>0.293644</td>\n",
       "      <td>1.000000</td>\n",
       "      <td>-0.132291</td>\n",
       "      <td>0.050606</td>\n",
       "      <td>-0.037451</td>\n",
       "    </tr>\n",
       "    <tr>\n",
       "      <td>long</td>\n",
       "      <td>0.018962</td>\n",
       "      <td>0.043875</td>\n",
       "      <td>0.129595</td>\n",
       "      <td>0.221890</td>\n",
       "      <td>0.249343</td>\n",
       "      <td>0.252239</td>\n",
       "      <td>0.108757</td>\n",
       "      <td>-0.043038</td>\n",
       "      <td>-0.069692</td>\n",
       "      <td>-0.030865</td>\n",
       "      <td>0.181926</td>\n",
       "      <td>0.324561</td>\n",
       "      <td>-0.125430</td>\n",
       "      <td>0.375731</td>\n",
       "      <td>-0.009763</td>\n",
       "      <td>-0.549856</td>\n",
       "      <td>-0.132291</td>\n",
       "      <td>1.000000</td>\n",
       "      <td>0.313822</td>\n",
       "      <td>0.243165</td>\n",
       "    </tr>\n",
       "    <tr>\n",
       "      <td>sqft_living15</td>\n",
       "      <td>-0.007585</td>\n",
       "      <td>0.586721</td>\n",
       "      <td>0.378441</td>\n",
       "      <td>0.555685</td>\n",
       "      <td>0.734102</td>\n",
       "      <td>0.138207</td>\n",
       "      <td>0.244280</td>\n",
       "      <td>0.084313</td>\n",
       "      <td>0.316538</td>\n",
       "      <td>-0.084645</td>\n",
       "      <td>0.686385</td>\n",
       "      <td>0.688662</td>\n",
       "      <td>0.209042</td>\n",
       "      <td>0.335443</td>\n",
       "      <td>-0.031478</td>\n",
       "      <td>-0.271389</td>\n",
       "      <td>0.050606</td>\n",
       "      <td>0.313822</td>\n",
       "      <td>1.000000</td>\n",
       "      <td>0.197842</td>\n",
       "    </tr>\n",
       "    <tr>\n",
       "      <td>sqft_lot15</td>\n",
       "      <td>-0.133572</td>\n",
       "      <td>0.110575</td>\n",
       "      <td>0.055310</td>\n",
       "      <td>0.118668</td>\n",
       "      <td>0.214354</td>\n",
       "      <td>0.708000</td>\n",
       "      <td>-0.011815</td>\n",
       "      <td>0.026879</td>\n",
       "      <td>0.052384</td>\n",
       "      <td>-0.001036</td>\n",
       "      <td>0.157838</td>\n",
       "      <td>0.195028</td>\n",
       "      <td>0.071515</td>\n",
       "      <td>0.062905</td>\n",
       "      <td>0.010079</td>\n",
       "      <td>-0.115937</td>\n",
       "      <td>-0.037451</td>\n",
       "      <td>0.243165</td>\n",
       "      <td>0.197842</td>\n",
       "      <td>1.000000</td>\n",
       "    </tr>\n",
       "  </tbody>\n",
       "</table>\n",
       "</div>"
      ],
      "text/plain": [
       "                     id     price  bedrooms  bathrooms  sqft_living  sqft_lot  \\\n",
       "id             1.000000 -0.004724 -0.025710  -0.024450    -0.025910 -0.134683   \n",
       "price         -0.004724  1.000000  0.282691   0.517018     0.684768  0.126507   \n",
       "bedrooms      -0.025710  0.282691  1.000000   0.524898     0.575577  0.047437   \n",
       "bathrooms     -0.024450  0.517018  0.524898   1.000000     0.755674  0.140563   \n",
       "sqft_living   -0.025910  0.684768  0.575577   0.755674     1.000000  0.216934   \n",
       "sqft_lot      -0.134683  0.126507  0.047437   0.140563     0.216934  1.000000   \n",
       "floors         0.017331  0.258877  0.169025   0.500398     0.325251  0.012603   \n",
       "waterfront     0.014070  0.211229 -0.019683   0.025115     0.070324 -0.000016   \n",
       "view           0.043323  0.429827  0.087083   0.203315     0.307025  0.070538   \n",
       "condition     -0.047973  0.008744  0.028251  -0.118048    -0.043862 -0.001438   \n",
       "grade         -0.006088  0.683825  0.348931   0.669089     0.767237  0.167234   \n",
       "sqft_above    -0.019563  0.602530  0.482694   0.700447     0.882913  0.213362   \n",
       "sqft_basement -0.017423  0.277012  0.294126   0.245914     0.395935  0.041815   \n",
       "yr_built       0.020495  0.104663  0.157037   0.519623     0.330283  0.063314   \n",
       "yr_renovated  -0.018727  0.094203  0.021101   0.045337     0.037140  0.002993   \n",
       "zipcode       -0.014552 -0.062066 -0.157813  -0.184291    -0.198370 -0.111582   \n",
       "lat           -0.019468  0.335857 -0.007756   0.018480     0.049721 -0.054100   \n",
       "long           0.018962  0.043875  0.129595   0.221890     0.249343  0.252239   \n",
       "sqft_living15 -0.007585  0.586721  0.378441   0.555685     0.734102  0.138207   \n",
       "sqft_lot15    -0.133572  0.110575  0.055310   0.118668     0.214354  0.708000   \n",
       "\n",
       "                 floors  waterfront      view  condition     grade  \\\n",
       "id             0.017331    0.014070  0.043323  -0.047973 -0.006088   \n",
       "price          0.258877    0.211229  0.429827   0.008744  0.683825   \n",
       "bedrooms       0.169025   -0.019683  0.087083   0.028251  0.348931   \n",
       "bathrooms      0.500398    0.025115  0.203315  -0.118048  0.669089   \n",
       "sqft_living    0.325251    0.070324  0.307025  -0.043862  0.767237   \n",
       "sqft_lot       0.012603   -0.000016  0.070538  -0.001438  0.167234   \n",
       "floors         1.000000    0.035332  0.036214  -0.255499  0.438674   \n",
       "waterfront     0.035332    1.000000  0.382779  -0.002859  0.061005   \n",
       "view           0.036214    0.382779  1.000000   0.007650  0.281801   \n",
       "condition     -0.255499   -0.002859  0.007650   1.000000 -0.141894   \n",
       "grade          0.438674    0.061005  0.281801  -0.141894  1.000000   \n",
       "sqft_above     0.506408    0.052441  0.188595  -0.127461  0.745906   \n",
       "sqft_basement -0.271694    0.048943  0.282347   0.163808  0.167968   \n",
       "yr_built       0.512300   -0.036673 -0.036322  -0.316269  0.471885   \n",
       "yr_renovated   0.016475    0.116916  0.094527  -0.056620 -0.000668   \n",
       "zipcode       -0.054578    0.033156  0.087416  -0.032083 -0.175664   \n",
       "lat            0.060478   -0.004311  0.048066  -0.060632  0.107947   \n",
       "long           0.108757   -0.043038 -0.069692  -0.030865  0.181926   \n",
       "sqft_living15  0.244280    0.084313  0.316538  -0.084645  0.686385   \n",
       "sqft_lot15    -0.011815    0.026879  0.052384  -0.001036  0.157838   \n",
       "\n",
       "               sqft_above  sqft_basement  yr_built  yr_renovated   zipcode  \\\n",
       "id              -0.019563      -0.017423  0.020495     -0.018727 -0.014552   \n",
       "price            0.602530       0.277012  0.104663      0.094203 -0.062066   \n",
       "bedrooms         0.482694       0.294126  0.157037      0.021101 -0.157813   \n",
       "bathrooms        0.700447       0.245914  0.519623      0.045337 -0.184291   \n",
       "sqft_living      0.882913       0.395935  0.330283      0.037140 -0.198370   \n",
       "sqft_lot         0.213362       0.041815  0.063314      0.002993 -0.111582   \n",
       "floors           0.506408      -0.271694  0.512300      0.016475 -0.054578   \n",
       "waterfront       0.052441       0.048943 -0.036673      0.116916  0.033156   \n",
       "view             0.188595       0.282347 -0.036322      0.094527  0.087416   \n",
       "condition       -0.127461       0.163808 -0.316269     -0.056620 -0.032083   \n",
       "grade            0.745906       0.167968  0.471885     -0.000668 -0.175664   \n",
       "sqft_above       1.000000      -0.078208  0.429747      0.010442 -0.241531   \n",
       "sqft_basement   -0.078208       1.000000 -0.122543      0.044823  0.057525   \n",
       "yr_built         0.429747      -0.122543  1.000000     -0.185441 -0.337160   \n",
       "yr_renovated     0.010442       0.044823 -0.185441      1.000000  0.023722   \n",
       "zipcode         -0.241531       0.057525 -0.337160      0.023722  1.000000   \n",
       "lat             -0.000490       0.108070 -0.151921      0.023190  0.293644   \n",
       "long             0.324561      -0.125430  0.375731     -0.009763 -0.549856   \n",
       "sqft_living15    0.688662       0.209042  0.335443     -0.031478 -0.271389   \n",
       "sqft_lot15       0.195028       0.071515  0.062905      0.010079 -0.115937   \n",
       "\n",
       "                    lat      long  sqft_living15  sqft_lot15  \n",
       "id            -0.019468  0.018962      -0.007585   -0.133572  \n",
       "price          0.335857  0.043875       0.586721    0.110575  \n",
       "bedrooms      -0.007756  0.129595       0.378441    0.055310  \n",
       "bathrooms      0.018480  0.221890       0.555685    0.118668  \n",
       "sqft_living    0.049721  0.249343       0.734102    0.214354  \n",
       "sqft_lot      -0.054100  0.252239       0.138207    0.708000  \n",
       "floors         0.060478  0.108757       0.244280   -0.011815  \n",
       "waterfront    -0.004311 -0.043038       0.084313    0.026879  \n",
       "view           0.048066 -0.069692       0.316538    0.052384  \n",
       "condition     -0.060632 -0.030865      -0.084645   -0.001036  \n",
       "grade          0.107947  0.181926       0.686385    0.157838  \n",
       "sqft_above    -0.000490  0.324561       0.688662    0.195028  \n",
       "sqft_basement  0.108070 -0.125430       0.209042    0.071515  \n",
       "yr_built      -0.151921  0.375731       0.335443    0.062905  \n",
       "yr_renovated   0.023190 -0.009763      -0.031478    0.010079  \n",
       "zipcode        0.293644 -0.549856      -0.271389   -0.115937  \n",
       "lat            1.000000 -0.132291       0.050606   -0.037451  \n",
       "long          -0.132291  1.000000       0.313822    0.243165  \n",
       "sqft_living15  0.050606  0.313822       1.000000    0.197842  \n",
       "sqft_lot15    -0.037451  0.243165       0.197842    1.000000  "
      ]
     },
     "execution_count": 8,
     "metadata": {},
     "output_type": "execute_result"
    },
    {
     "data": {
      "image/png": "[encoded data removed]",
      "text/plain": [
       "<Figure size 864x432 with 2 Axes>"
      ]
     },
     "metadata": {
      "needs_background": "light"
     },
     "output_type": "display_data"
    }
   ],
   "source": [
    "import seaborn as sns\n",
    "\n",
    "hd_n = hd.drop('date', axis=1)\n",
    "a= hd_n.corr()\n",
    "fig=plt.figure(figsize=(12,6))\n",
    "sns.heatmap(a,annot= True,linewidths=3)\n",
    "a"
   ]
  },
  {
   "cell_type": "markdown",
   "metadata": {},
   "source": [
    "## Preprocessing\n",
    "### Step 1: Dropping columns\n",
    "- date: Contains Time series data.\n",
    "- Column id is the unique identifier for the records and it can be removed.\n",
    "- Based on the correlation matrix, the below columns can be removed: \n",
    "sqft_living15, sqft_lot15, Zipcode, Yr_renovated"
   ]
  },
  {
   "cell_type": "code",
   "execution_count": 9,
   "metadata": {},
   "outputs": [],
   "source": [
    "hd.drop(['id', 'date', 'yr_renovated', 'zipcode', 'sqft_living15', 'sqft_lot15'], axis = 1, inplace = True)"
   ]
  },
  {
   "cell_type": "code",
   "execution_count": 10,
   "metadata": {},
   "outputs": [
    {
     "name": "stdout",
     "output_type": "stream",
     "text": [
      "<class 'pandas.core.frame.DataFrame'>\n",
      "RangeIndex: 2225 entries, 0 to 2224\n",
      "Data columns (total 15 columns):\n",
      "price            2225 non-null float64\n",
      "bedrooms         2225 non-null int64\n",
      "bathrooms        2225 non-null float64\n",
      "sqft_living      2107 non-null float64\n",
      "sqft_lot         2225 non-null int64\n",
      "floors           2225 non-null float64\n",
      "waterfront       2225 non-null int64\n",
      "view             2225 non-null int64\n",
      "condition        2225 non-null int64\n",
      "grade            2225 non-null int64\n",
      "sqft_above       2225 non-null int64\n",
      "sqft_basement    2225 non-null int64\n",
      "yr_built         2225 non-null int64\n",
      "lat              2225 non-null float64\n",
      "long             2225 non-null float64\n",
      "dtypes: float64(6), int64(9)\n",
      "memory usage: 260.9 KB\n"
     ]
    }
   ],
   "source": [
    "hd.info()"
   ]
  },
  {
   "cell_type": "code",
   "execution_count": 11,
   "metadata": {},
   "outputs": [
    {
     "data": {
      "text/html": [
       "<div>\n",
       "<style scoped>\n",
       "    .dataframe tbody tr th:only-of-type {\n",
       "        vertical-align: middle;\n",
       "    }\n",
       "\n",
       "    .dataframe tbody tr th {\n",
       "        vertical-align: top;\n",
       "    }\n",
       "\n",
       "    .dataframe thead th {\n",
       "        text-align: right;\n",
       "    }\n",
       "</style>\n",
       "<table border=\"1\" class=\"dataframe\">\n",
       "  <thead>\n",
       "    <tr style=\"text-align: right;\">\n",
       "      <th></th>\n",
       "      <th>price</th>\n",
       "      <th>bedrooms</th>\n",
       "      <th>bathrooms</th>\n",
       "      <th>sqft_living</th>\n",
       "      <th>sqft_lot</th>\n",
       "      <th>floors</th>\n",
       "      <th>waterfront</th>\n",
       "      <th>view</th>\n",
       "      <th>condition</th>\n",
       "      <th>grade</th>\n",
       "      <th>sqft_above</th>\n",
       "      <th>sqft_basement</th>\n",
       "      <th>yr_built</th>\n",
       "      <th>lat</th>\n",
       "      <th>long</th>\n",
       "    </tr>\n",
       "  </thead>\n",
       "  <tbody>\n",
       "    <tr>\n",
       "      <td>0</td>\n",
       "      <td>False</td>\n",
       "      <td>False</td>\n",
       "      <td>False</td>\n",
       "      <td>False</td>\n",
       "      <td>False</td>\n",
       "      <td>False</td>\n",
       "      <td>False</td>\n",
       "      <td>False</td>\n",
       "      <td>False</td>\n",
       "      <td>False</td>\n",
       "      <td>False</td>\n",
       "      <td>False</td>\n",
       "      <td>False</td>\n",
       "      <td>False</td>\n",
       "      <td>False</td>\n",
       "    </tr>\n",
       "    <tr>\n",
       "      <td>1</td>\n",
       "      <td>False</td>\n",
       "      <td>False</td>\n",
       "      <td>False</td>\n",
       "      <td>False</td>\n",
       "      <td>False</td>\n",
       "      <td>False</td>\n",
       "      <td>False</td>\n",
       "      <td>False</td>\n",
       "      <td>False</td>\n",
       "      <td>False</td>\n",
       "      <td>False</td>\n",
       "      <td>False</td>\n",
       "      <td>False</td>\n",
       "      <td>False</td>\n",
       "      <td>False</td>\n",
       "    </tr>\n",
       "    <tr>\n",
       "      <td>2</td>\n",
       "      <td>False</td>\n",
       "      <td>False</td>\n",
       "      <td>False</td>\n",
       "      <td>False</td>\n",
       "      <td>False</td>\n",
       "      <td>False</td>\n",
       "      <td>False</td>\n",
       "      <td>False</td>\n",
       "      <td>False</td>\n",
       "      <td>False</td>\n",
       "      <td>False</td>\n",
       "      <td>False</td>\n",
       "      <td>False</td>\n",
       "      <td>False</td>\n",
       "      <td>False</td>\n",
       "    </tr>\n",
       "    <tr>\n",
       "      <td>3</td>\n",
       "      <td>False</td>\n",
       "      <td>False</td>\n",
       "      <td>False</td>\n",
       "      <td>False</td>\n",
       "      <td>False</td>\n",
       "      <td>False</td>\n",
       "      <td>False</td>\n",
       "      <td>False</td>\n",
       "      <td>False</td>\n",
       "      <td>False</td>\n",
       "      <td>False</td>\n",
       "      <td>False</td>\n",
       "      <td>False</td>\n",
       "      <td>False</td>\n",
       "      <td>False</td>\n",
       "    </tr>\n",
       "    <tr>\n",
       "      <td>4</td>\n",
       "      <td>False</td>\n",
       "      <td>False</td>\n",
       "      <td>False</td>\n",
       "      <td>False</td>\n",
       "      <td>False</td>\n",
       "      <td>False</td>\n",
       "      <td>False</td>\n",
       "      <td>False</td>\n",
       "      <td>False</td>\n",
       "      <td>False</td>\n",
       "      <td>False</td>\n",
       "      <td>False</td>\n",
       "      <td>False</td>\n",
       "      <td>False</td>\n",
       "      <td>False</td>\n",
       "    </tr>\n",
       "    <tr>\n",
       "      <td>...</td>\n",
       "      <td>...</td>\n",
       "      <td>...</td>\n",
       "      <td>...</td>\n",
       "      <td>...</td>\n",
       "      <td>...</td>\n",
       "      <td>...</td>\n",
       "      <td>...</td>\n",
       "      <td>...</td>\n",
       "      <td>...</td>\n",
       "      <td>...</td>\n",
       "      <td>...</td>\n",
       "      <td>...</td>\n",
       "      <td>...</td>\n",
       "      <td>...</td>\n",
       "      <td>...</td>\n",
       "    </tr>\n",
       "    <tr>\n",
       "      <td>2220</td>\n",
       "      <td>False</td>\n",
       "      <td>False</td>\n",
       "      <td>False</td>\n",
       "      <td>False</td>\n",
       "      <td>False</td>\n",
       "      <td>False</td>\n",
       "      <td>False</td>\n",
       "      <td>False</td>\n",
       "      <td>False</td>\n",
       "      <td>False</td>\n",
       "      <td>False</td>\n",
       "      <td>False</td>\n",
       "      <td>False</td>\n",
       "      <td>False</td>\n",
       "      <td>False</td>\n",
       "    </tr>\n",
       "    <tr>\n",
       "      <td>2221</td>\n",
       "      <td>False</td>\n",
       "      <td>False</td>\n",
       "      <td>False</td>\n",
       "      <td>False</td>\n",
       "      <td>False</td>\n",
       "      <td>False</td>\n",
       "      <td>False</td>\n",
       "      <td>False</td>\n",
       "      <td>False</td>\n",
       "      <td>False</td>\n",
       "      <td>False</td>\n",
       "      <td>False</td>\n",
       "      <td>False</td>\n",
       "      <td>False</td>\n",
       "      <td>False</td>\n",
       "    </tr>\n",
       "    <tr>\n",
       "      <td>2222</td>\n",
       "      <td>False</td>\n",
       "      <td>False</td>\n",
       "      <td>False</td>\n",
       "      <td>False</td>\n",
       "      <td>False</td>\n",
       "      <td>False</td>\n",
       "      <td>False</td>\n",
       "      <td>False</td>\n",
       "      <td>False</td>\n",
       "      <td>False</td>\n",
       "      <td>False</td>\n",
       "      <td>False</td>\n",
       "      <td>False</td>\n",
       "      <td>False</td>\n",
       "      <td>False</td>\n",
       "    </tr>\n",
       "    <tr>\n",
       "      <td>2223</td>\n",
       "      <td>False</td>\n",
       "      <td>False</td>\n",
       "      <td>False</td>\n",
       "      <td>False</td>\n",
       "      <td>False</td>\n",
       "      <td>False</td>\n",
       "      <td>False</td>\n",
       "      <td>False</td>\n",
       "      <td>False</td>\n",
       "      <td>False</td>\n",
       "      <td>False</td>\n",
       "      <td>False</td>\n",
       "      <td>False</td>\n",
       "      <td>False</td>\n",
       "      <td>False</td>\n",
       "    </tr>\n",
       "    <tr>\n",
       "      <td>2224</td>\n",
       "      <td>False</td>\n",
       "      <td>False</td>\n",
       "      <td>False</td>\n",
       "      <td>True</td>\n",
       "      <td>False</td>\n",
       "      <td>False</td>\n",
       "      <td>False</td>\n",
       "      <td>False</td>\n",
       "      <td>False</td>\n",
       "      <td>False</td>\n",
       "      <td>False</td>\n",
       "      <td>False</td>\n",
       "      <td>False</td>\n",
       "      <td>False</td>\n",
       "      <td>False</td>\n",
       "    </tr>\n",
       "  </tbody>\n",
       "</table>\n",
       "<p>2225 rows × 15 columns</p>\n",
       "</div>"
      ],
      "text/plain": [
       "      price  bedrooms  bathrooms  sqft_living  sqft_lot  floors  waterfront  \\\n",
       "0     False     False      False        False     False   False       False   \n",
       "1     False     False      False        False     False   False       False   \n",
       "2     False     False      False        False     False   False       False   \n",
       "3     False     False      False        False     False   False       False   \n",
       "4     False     False      False        False     False   False       False   \n",
       "...     ...       ...        ...          ...       ...     ...         ...   \n",
       "2220  False     False      False        False     False   False       False   \n",
       "2221  False     False      False        False     False   False       False   \n",
       "2222  False     False      False        False     False   False       False   \n",
       "2223  False     False      False        False     False   False       False   \n",
       "2224  False     False      False         True     False   False       False   \n",
       "\n",
       "       view  condition  grade  sqft_above  sqft_basement  yr_built    lat  \\\n",
       "0     False      False  False       False          False     False  False   \n",
       "1     False      False  False       False          False     False  False   \n",
       "2     False      False  False       False          False     False  False   \n",
       "3     False      False  False       False          False     False  False   \n",
       "4     False      False  False       False          False     False  False   \n",
       "...     ...        ...    ...         ...            ...       ...    ...   \n",
       "2220  False      False  False       False          False     False  False   \n",
       "2221  False      False  False       False          False     False  False   \n",
       "2222  False      False  False       False          False     False  False   \n",
       "2223  False      False  False       False          False     False  False   \n",
       "2224  False      False  False       False          False     False  False   \n",
       "\n",
       "       long  \n",
       "0     False  \n",
       "1     False  \n",
       "2     False  \n",
       "3     False  \n",
       "4     False  \n",
       "...     ...  \n",
       "2220  False  \n",
       "2221  False  \n",
       "2222  False  \n",
       "2223  False  \n",
       "2224  False  \n",
       "\n",
       "[2225 rows x 15 columns]"
      ]
     },
     "execution_count": 11,
     "metadata": {},
     "output_type": "execute_result"
    }
   ],
   "source": [
    "hd.isnull()"
   ]
  },
  {
   "cell_type": "markdown",
   "metadata": {},
   "source": [
    "### Step 2: Replacing missing values\n",
    "sqft_living: It has missing values. \n",
    "- Assumption: The sqft_living depends on the number of bedrooms and bathrooms. So replacing the null values with the mean of the sqft_living group by bedrooms and bathrooms."
   ]
  },
  {
   "cell_type": "code",
   "execution_count": 12,
   "metadata": {},
   "outputs": [
    {
     "name": "stdout",
     "output_type": "stream",
     "text": [
      "bedrooms  bathrooms\n",
      "1         0.75          640.000000\n",
      "          1.00          753.333333\n",
      "          1.50          760.000000\n",
      "          1.75         1020.000000\n",
      "          2.00         1780.000000\n",
      "                          ...     \n",
      "6         5.00         3028.000000\n",
      "7         3.00         2940.000000\n",
      "          4.75         5370.000000\n",
      "8         3.00         2850.000000\n",
      "9         3.00         3680.000000\n",
      "Name: sqft_living, Length: 84, dtype: float64\n",
      "bedrooms  bathrooms\n",
      "1         0.75          470.0\n",
      "          1.00          710.0\n",
      "          1.50          760.0\n",
      "          1.75         1020.0\n",
      "          2.00         1780.0\n",
      "                        ...  \n",
      "6         5.00         3028.0\n",
      "7         3.00         2940.0\n",
      "          4.75         5370.0\n",
      "8         3.00         2850.0\n",
      "9         3.00         3680.0\n",
      "Name: sqft_living, Length: 84, dtype: float64\n"
     ]
    }
   ],
   "source": [
    "#hd['sqft_living'].groupby['bedrooms', 'bathrooms'].median()\n",
    "\n",
    "print(hd.groupby(['bedrooms', 'bathrooms'])['sqft_living'].mean())\n",
    "print(hd.groupby(['bedrooms', 'bathrooms'])['sqft_living'].median())"
   ]
  },
  {
   "cell_type": "code",
   "execution_count": 13,
   "metadata": {},
   "outputs": [],
   "source": [
    "hd['sqft_living'] = hd.groupby(['bedrooms', 'bathrooms']).transform(lambda x: x.fillna(x.mean()))"
   ]
  },
  {
   "cell_type": "code",
   "execution_count": 14,
   "metadata": {},
   "outputs": [
    {
     "name": "stdout",
     "output_type": "stream",
     "text": [
      "<class 'pandas.core.frame.DataFrame'>\n",
      "RangeIndex: 2225 entries, 0 to 2224\n",
      "Data columns (total 15 columns):\n",
      "price            2225 non-null float64\n",
      "bedrooms         2225 non-null int64\n",
      "bathrooms        2225 non-null float64\n",
      "sqft_living      2225 non-null float64\n",
      "sqft_lot         2225 non-null int64\n",
      "floors           2225 non-null float64\n",
      "waterfront       2225 non-null int64\n",
      "view             2225 non-null int64\n",
      "condition        2225 non-null int64\n",
      "grade            2225 non-null int64\n",
      "sqft_above       2225 non-null int64\n",
      "sqft_basement    2225 non-null int64\n",
      "yr_built         2225 non-null int64\n",
      "lat              2225 non-null float64\n",
      "long             2225 non-null float64\n",
      "dtypes: float64(6), int64(9)\n",
      "memory usage: 260.9 KB\n"
     ]
    }
   ],
   "source": [
    "hd.info()"
   ]
  },
  {
   "cell_type": "markdown",
   "metadata": {},
   "source": [
    "### Step 3: Imputing Categorical/Ordinal variables\n",
    "The dataset does not contain any categorical values. The ordinal values are good to go ahead with the dataset and model building"
   ]
  },
  {
   "cell_type": "markdown",
   "metadata": {},
   "source": [
    "### Step 4: Splitting into Train and test Dataset\n",
    "Using 'sklearn.model_selection.train_test_split'"
   ]
  },
  {
   "cell_type": "code",
   "execution_count": 15,
   "metadata": {},
   "outputs": [],
   "source": [
    "X = hd.drop('price', axis = 1)\n",
    "y = hd['price']"
   ]
  },
  {
   "cell_type": "code",
   "execution_count": 16,
   "metadata": {},
   "outputs": [],
   "source": [
    "X_train_org, X_test_org, y_train, y_test = train_test_split(X, y, random_state = 0)"
   ]
  },
  {
   "cell_type": "markdown",
   "metadata": {},
   "source": [
    "### Step 5: Scaling the dataset\n",
    "Using Standard scaler to scale the dataset. The data here is slighlty right_skewed. To make the data relatively normally distributed, we are using the standard scaler."
   ]
  },
  {
   "cell_type": "code",
   "execution_count": 17,
   "metadata": {},
   "outputs": [],
   "source": [
    "scaler = preprocessing.StandardScaler()\n",
    "scaler.fit(X_train_org)\n",
    "X_train = scaler.transform(X_train_org)\n",
    "X_test = scaler.transform(X_test_org)\n",
    "\n",
    "#Converting nd array to df\n",
    "X_train_df = pd.DataFrame(X_train, columns = X.columns)\n",
    "X_test_df = pd.DataFrame(X_test, columns = X.columns)"
   ]
  },
  {
   "cell_type": "code",
   "execution_count": 18,
   "metadata": {},
   "outputs": [
    {
     "data": {
      "text/html": [
       "<div>\n",
       "<style scoped>\n",
       "    .dataframe tbody tr th:only-of-type {\n",
       "        vertical-align: middle;\n",
       "    }\n",
       "\n",
       "    .dataframe tbody tr th {\n",
       "        vertical-align: top;\n",
       "    }\n",
       "\n",
       "    .dataframe thead th {\n",
       "        text-align: right;\n",
       "    }\n",
       "</style>\n",
       "<table border=\"1\" class=\"dataframe\">\n",
       "  <thead>\n",
       "    <tr style=\"text-align: right;\">\n",
       "      <th></th>\n",
       "      <th>bedrooms</th>\n",
       "      <th>bathrooms</th>\n",
       "      <th>sqft_living</th>\n",
       "      <th>sqft_lot</th>\n",
       "      <th>floors</th>\n",
       "      <th>waterfront</th>\n",
       "      <th>view</th>\n",
       "      <th>condition</th>\n",
       "      <th>grade</th>\n",
       "      <th>sqft_above</th>\n",
       "      <th>sqft_basement</th>\n",
       "      <th>yr_built</th>\n",
       "      <th>lat</th>\n",
       "      <th>long</th>\n",
       "    </tr>\n",
       "  </thead>\n",
       "  <tbody>\n",
       "    <tr>\n",
       "      <td>0</td>\n",
       "      <td>-1.520580</td>\n",
       "      <td>-1.383859</td>\n",
       "      <td>-0.860674</td>\n",
       "      <td>-0.181086</td>\n",
       "      <td>-0.862860</td>\n",
       "      <td>-0.081477</td>\n",
       "      <td>-0.307635</td>\n",
       "      <td>-0.572483</td>\n",
       "      <td>-0.493894</td>\n",
       "      <td>-1.099887</td>\n",
       "      <td>-0.632621</td>\n",
       "      <td>-0.740745</td>\n",
       "      <td>1.190783</td>\n",
       "      <td>-0.834561</td>\n",
       "    </tr>\n",
       "    <tr>\n",
       "      <td>1</td>\n",
       "      <td>0.719992</td>\n",
       "      <td>-0.095039</td>\n",
       "      <td>-0.836774</td>\n",
       "      <td>-0.135147</td>\n",
       "      <td>0.059145</td>\n",
       "      <td>-0.081477</td>\n",
       "      <td>-0.307635</td>\n",
       "      <td>1.005866</td>\n",
       "      <td>-0.493894</td>\n",
       "      <td>-0.634525</td>\n",
       "      <td>-0.632621</td>\n",
       "      <td>-0.047602</td>\n",
       "      <td>-1.729879</td>\n",
       "      <td>-1.185065</td>\n",
       "    </tr>\n",
       "    <tr>\n",
       "      <td>2</td>\n",
       "      <td>-1.520580</td>\n",
       "      <td>-0.739449</td>\n",
       "      <td>-0.033122</td>\n",
       "      <td>-0.188246</td>\n",
       "      <td>0.981151</td>\n",
       "      <td>-0.081477</td>\n",
       "      <td>-0.307635</td>\n",
       "      <td>-0.572483</td>\n",
       "      <td>-0.493894</td>\n",
       "      <td>-0.252690</td>\n",
       "      <td>-0.632621</td>\n",
       "      <td>0.298970</td>\n",
       "      <td>1.160003</td>\n",
       "      <td>-1.017115</td>\n",
       "    </tr>\n",
       "    <tr>\n",
       "      <td>3</td>\n",
       "      <td>0.719992</td>\n",
       "      <td>-0.095039</td>\n",
       "      <td>-0.239263</td>\n",
       "      <td>-0.225900</td>\n",
       "      <td>-0.862860</td>\n",
       "      <td>-0.081477</td>\n",
       "      <td>-0.307635</td>\n",
       "      <td>-0.572483</td>\n",
       "      <td>-0.493894</td>\n",
       "      <td>-0.801578</td>\n",
       "      <td>1.516569</td>\n",
       "      <td>-1.572516</td>\n",
       "      <td>0.423340</td>\n",
       "      <td>-0.652007</td>\n",
       "    </tr>\n",
       "    <tr>\n",
       "      <td>4</td>\n",
       "      <td>0.719992</td>\n",
       "      <td>-0.417244</td>\n",
       "      <td>-0.744160</td>\n",
       "      <td>-0.120077</td>\n",
       "      <td>-0.862860</td>\n",
       "      <td>-0.081477</td>\n",
       "      <td>-0.307635</td>\n",
       "      <td>2.584216</td>\n",
       "      <td>-0.493894</td>\n",
       "      <td>0.081415</td>\n",
       "      <td>-0.632621</td>\n",
       "      <td>-0.116916</td>\n",
       "      <td>-1.135487</td>\n",
       "      <td>0.881448</td>\n",
       "    </tr>\n",
       "  </tbody>\n",
       "</table>\n",
       "</div>"
      ],
      "text/plain": [
       "   bedrooms  bathrooms  sqft_living  sqft_lot    floors  waterfront      view  \\\n",
       "0 -1.520580  -1.383859    -0.860674 -0.181086 -0.862860   -0.081477 -0.307635   \n",
       "1  0.719992  -0.095039    -0.836774 -0.135147  0.059145   -0.081477 -0.307635   \n",
       "2 -1.520580  -0.739449    -0.033122 -0.188246  0.981151   -0.081477 -0.307635   \n",
       "3  0.719992  -0.095039    -0.239263 -0.225900 -0.862860   -0.081477 -0.307635   \n",
       "4  0.719992  -0.417244    -0.744160 -0.120077 -0.862860   -0.081477 -0.307635   \n",
       "\n",
       "   condition     grade  sqft_above  sqft_basement  yr_built       lat  \\\n",
       "0  -0.572483 -0.493894   -1.099887      -0.632621 -0.740745  1.190783   \n",
       "1   1.005866 -0.493894   -0.634525      -0.632621 -0.047602 -1.729879   \n",
       "2  -0.572483 -0.493894   -0.252690      -0.632621  0.298970  1.160003   \n",
       "3  -0.572483 -0.493894   -0.801578       1.516569 -1.572516  0.423340   \n",
       "4   2.584216 -0.493894    0.081415      -0.632621 -0.116916 -1.135487   \n",
       "\n",
       "       long  \n",
       "0 -0.834561  \n",
       "1 -1.185065  \n",
       "2 -1.017115  \n",
       "3 -0.652007  \n",
       "4  0.881448  "
      ]
     },
     "execution_count": 18,
     "metadata": {},
     "output_type": "execute_result"
    }
   ],
   "source": [
    "X_train_df.head()"
   ]
  },
  {
   "cell_type": "markdown",
   "metadata": {},
   "source": [
    "## ML Models\n",
    "1. Import the model\n",
    "2. Instantiate the model\n",
    "3. Fit the model\n",
    "4. evaluate\n",
    "5. fine tune the model"
   ]
  },
  {
   "cell_type": "markdown",
   "metadata": {},
   "source": [
    "\n",
    "### 1. K Neighbors Regressor"
   ]
  },
  {
   "cell_type": "code",
   "execution_count": 19,
   "metadata": {},
   "outputs": [
    {
     "data": {
      "text/plain": [
       "Text(0, 0.5, 'MSE')"
      ]
     },
     "execution_count": 19,
     "metadata": {},
     "output_type": "execute_result"
    },
    {
     "data": {
      "image/png": "[encoded data removed]",
      "text/plain": [
       "<Figure size 432x288 with 1 Axes>"
      ]
     },
     "metadata": {
      "needs_background": "light"
     },
     "output_type": "display_data"
    }
   ],
   "source": [
    "%matplotlib inline\n",
    "from sklearn.model_selection import GridSearchCV\n",
    "from sklearn.neighbors import KNeighborsRegressor\n",
    "from sklearn import metrics\n",
    "\n",
    "train_score_array = []\n",
    "test_score_array = []\n",
    "r2_score_array= [] \n",
    "\n",
    "for k in range(1,15):\n",
    "    knn_reg = KNeighborsRegressor(k)\n",
    "    knn_reg.fit(X_train, y_train)\n",
    "    train_score_array.append(knn_reg.score(X_train, y_train))\n",
    "    test_score_array.append(knn_reg.score(X_test, y_test))\n",
    "    prediction=knn_reg.predict(X_test)\n",
    "    r2_score_array.append(metrics.r2_score(prediction,y_test))\n",
    "\n",
    "x_axis = range(1,15)\n",
    "plt.plot(x_axis, train_score_array, c = 'r', label = 'Train Score')\n",
    "plt.plot(x_axis, test_score_array, c = 'b', label = 'Test Score')\n",
    "plt.plot(x_axis, r2_score_array, c = 'g', label = 'R2 Square')\n",
    "plt.legend()\n",
    "plt.xlabel('k')\n",
    "plt.ylabel('MSE')"
   ]
  },
  {
   "cell_type": "code",
   "execution_count": 20,
   "metadata": {},
   "outputs": [
    {
     "name": "stdout",
     "output_type": "stream",
     "text": [
      "[1.0, 0.9568003908546151, 0.941598878863884, 0.92668000083899, 0.9092450072800581, 0.9004580873311041, 0.8879575632764909, 0.8743490569851585, 0.8700189680205433, 0.8643157551649459, 0.8525023768273018, 0.852810902932916, 0.8523833471166696, 0.8507261454798795]\n",
      "[0.8326308428111926, 0.8726636442035183, 0.8817705031986233, 0.889961373259567, 0.8925787695396321, 0.8965962331686768, 0.8878275071791588, 0.8791165812579765, 0.8766631860602205, 0.8753815617855336, 0.8666185619281518, 0.8662855546295414, 0.8652989087531562, 0.8657714070022335]\n",
      "[0.8192939405307347, 0.8496777242438096, 0.8435313126999717, 0.8506497992942547, 0.8476366093842378, 0.8472491874837864, 0.8251433556616028, 0.8069258715586844, 0.8008222811878964, 0.797753882544175, 0.7788940479260944, 0.774333496775526, 0.7701000862076831, 0.7660488642935691]\n"
     ]
    }
   ],
   "source": [
    "print(train_score_array)\n",
    "print(test_score_array)\n",
    "print(r2_score_array)"
   ]
  },
  {
   "cell_type": "markdown",
   "metadata": {},
   "source": [
    "Based on the Knn regressor without grid search, the best k value is 5. \n",
    "- The r-square value for this is 0.8476 with train score 0.9092 and test score 0.8925"
   ]
  },
  {
   "cell_type": "markdown",
   "metadata": {},
   "source": [
    "### Without Scaling"
   ]
  },
  {
   "cell_type": "code",
   "execution_count": 21,
   "metadata": {},
   "outputs": [
    {
     "data": {
      "text/plain": [
       "Text(0, 0.5, 'MSE')"
      ]
     },
     "execution_count": 21,
     "metadata": {},
     "output_type": "execute_result"
    },
    {
     "data": {
      "image/png": "[encoded data removed]",
      "text/plain": [
       "<Figure size 432x288 with 1 Axes>"
      ]
     },
     "metadata": {
      "needs_background": "light"
     },
     "output_type": "display_data"
    }
   ],
   "source": [
    "%matplotlib inline\n",
    "train_score_array = []\n",
    "test_score_array = []\n",
    "#r2_score_array= [] \n",
    "\n",
    "for k in range(1,10):\n",
    "    knn_reg = KNeighborsRegressor(k)\n",
    "    knn_reg.fit(X_train_org, y_train)\n",
    "    train_score_array.append(knn_reg.score(X_train_org, y_train))\n",
    "    test_score_array.append(knn_reg.score(X_test_org, y_test))\n",
    "    #prediction=knn_reg.predict(X_test)\n",
    "    #r2_score_array.append(metrics.r2_score(prediction,y_test))\n",
    "\n",
    "x_axis = range(1,10)\n",
    "plt.plot(x_axis, train_score_array, c = 'g', label = 'Train Score')\n",
    "plt.plot(x_axis, test_score_array, c = 'b', label = 'Test Score')\n",
    "plt.legend()\n",
    "plt.xlabel('k')\n",
    "plt.ylabel('MSE')"
   ]
  },
  {
   "cell_type": "markdown",
   "metadata": {},
   "source": [
    "### KNN Regressor with GridSearch Cross Validation"
   ]
  },
  {
   "cell_type": "code",
   "execution_count": 22,
   "metadata": {},
   "outputs": [
    {
     "name": "stderr",
     "output_type": "stream",
     "text": [
      "C:\\Users\\bhumi\\Anaconda3\\lib\\site-packages\\sklearn\\model_selection\\_split.py:1978: FutureWarning: The default value of cv will change from 3 to 5 in version 0.22. Specify it explicitly to silence this warning.\n",
      "  warnings.warn(CV_WARNING, FutureWarning)\n",
      "[Parallel(n_jobs=8)]: Using backend LokyBackend with 8 concurrent workers.\n"
     ]
    },
    {
     "name": "stdout",
     "output_type": "stream",
     "text": [
      "Fitting 3 folds for each of 84 candidates, totalling 252 fits\n"
     ]
    },
    {
     "name": "stderr",
     "output_type": "stream",
     "text": [
      "[Parallel(n_jobs=8)]: Done  25 tasks      | elapsed:   13.5s\n",
      "[Parallel(n_jobs=8)]: Done 146 tasks      | elapsed:   18.8s\n",
      "[Parallel(n_jobs=8)]: Done 252 out of 252 | elapsed:   23.0s finished\n"
     ]
    },
    {
     "name": "stdout",
     "output_type": "stream",
     "text": [
      "Suitable Hyper Parameters:\n",
      " {'algorithm': 'auto', 'leaf_size': 1, 'n_jobs': -1, 'n_neighbors': 3, 'weights': 'distance'}\n",
      "training score: 1.0\n",
      "test score:  0.8837107675360993\n",
      "r_square: 0.8485836164740445\n"
     ]
    }
   ],
   "source": [
    "\n",
    "knn_reg = KNeighborsRegressor()\n",
    "params = {'n_neighbors':[3,4,5,6,7,8,9], 'leaf_size':[1,2,3], 'weights':['uniform', 'distance'],\n",
    "          'algorithm':['auto','brute'],   'n_jobs':[-1]}\n",
    "\n",
    "k_grid = GridSearchCV(knn_reg, param_grid=params,n_jobs=8, verbose=2)\n",
    "k_grid.fit(X_train,y_train)\n",
    "print(\"Suitable Hyper Parameters:\\n\",k_grid.best_params_)\n",
    "\n",
    "prediction=k_grid.predict(X_test)\n",
    "train_score=k_grid.score(X_train,y_train)\n",
    "test_score=k_grid.score(X_test,y_test)\n",
    "\n",
    "print (\"training score:\", train_score) \n",
    "print (\"test score: \", test_score)\n",
    "print(\"r_square:\",metrics.r2_score(prediction,y_test))"
   ]
  },
  {
   "cell_type": "code",
   "execution_count": 23,
   "metadata": {},
   "outputs": [
    {
     "data": {
      "text/plain": [
       "KNeighborsRegressor(algorithm='auto', leaf_size=30, metric='minkowski',\n",
       "                    metric_params=None, n_jobs=None, n_neighbors=5, p=2,\n",
       "                    weights='uniform')"
      ]
     },
     "execution_count": 23,
     "metadata": {},
     "output_type": "execute_result"
    }
   ],
   "source": [
    "knn = KNeighborsRegressor(n_neighbors=5)# fit the model using the training data and training targets\n",
    "knn.fit(X_train, y_train)"
   ]
  },
  {
   "cell_type": "code",
   "execution_count": 24,
   "metadata": {},
   "outputs": [
    {
     "name": "stdout",
     "output_type": "stream",
     "text": [
      "0.9092450072800581\n",
      "0.8925787695396321\n"
     ]
    }
   ],
   "source": [
    "print(knn.score(X_train, y_train))\n",
    "print(knn.score(X_test, y_test))"
   ]
  },
  {
   "cell_type": "markdown",
   "metadata": {},
   "source": [
    "## 2. Linear Regression"
   ]
  },
  {
   "cell_type": "code",
   "execution_count": 25,
   "metadata": {},
   "outputs": [
    {
     "name": "stdout",
     "output_type": "stream",
     "text": [
      "training score: 1.0\n",
      "test score:  1.0\n",
      "r_square: 1.0\n"
     ]
    }
   ],
   "source": [
    "from sklearn.linear_model import LinearRegression\n",
    "lreg = LinearRegression()\n",
    "lreg.fit(X_train, y_train)\n",
    "prediction = lreg.predict(X_test)\n",
    "train_score=lreg.score(X_train,y_train)\n",
    "test_score=lreg.score(X_test,y_test)\n",
    "print (\"training score:\", train_score) \n",
    "print (\"test score: \", test_score)\n",
    "print(\"r_square:\",metrics.r2_score(prediction,y_test))\n"
   ]
  },
  {
   "cell_type": "markdown",
   "metadata": {},
   "source": [
    "### Linear Regression with Grid Search"
   ]
  },
  {
   "cell_type": "code",
   "execution_count": 26,
   "metadata": {},
   "outputs": [
    {
     "name": "stdout",
     "output_type": "stream",
     "text": [
      "Fitting 3 folds for each of 8 candidates, totalling 24 fits\n"
     ]
    },
    {
     "name": "stderr",
     "output_type": "stream",
     "text": [
      "C:\\Users\\bhumi\\Anaconda3\\lib\\site-packages\\sklearn\\model_selection\\_split.py:1978: FutureWarning: The default value of cv will change from 3 to 5 in version 0.22. Specify it explicitly to silence this warning.\n",
      "  warnings.warn(CV_WARNING, FutureWarning)\n",
      "[Parallel(n_jobs=8)]: Using backend LokyBackend with 8 concurrent workers.\n",
      "[Parallel(n_jobs=8)]: Done   9 out of  24 | elapsed:    0.0s remaining:    0.1s\n"
     ]
    },
    {
     "name": "stdout",
     "output_type": "stream",
     "text": [
      "Best Hyper Parameters:\n",
      " {'copy_X': True, 'fit_intercept': True, 'normalize': True}\n",
      "training score: 1.0\n",
      "test score:  1.0\n",
      "r_square: 1.0\n"
     ]
    },
    {
     "name": "stderr",
     "output_type": "stream",
     "text": [
      "[Parallel(n_jobs=8)]: Done  24 out of  24 | elapsed:    0.1s finished\n"
     ]
    }
   ],
   "source": [
    "l_grid = LinearRegression()\n",
    "params = {'fit_intercept':[True,False], 'normalize':[True,False], 'copy_X':[True, False]}\n",
    "\n",
    "l_grid1 = GridSearchCV(l_grid, param_grid=params, n_jobs=8,  verbose=2)\n",
    "l_grid1.fit(X_train,y_train)\n",
    "\n",
    "print(\"Best Hyper Parameters:\\n\",l_grid1.best_params_)\n",
    "prediction=l_grid1.predict(X_test)\n",
    "train_score=l_grid1.score(X_train,y_train)\n",
    "test_score=l_grid1.score(X_test,y_test)\n",
    "\n",
    "print (\"training score:\", train_score) \n",
    "print (\"test score: \", test_score)\n",
    "print(\"r_square:\",metrics.r2_score(prediction,y_test))"
   ]
  },
  {
   "cell_type": "markdown",
   "metadata": {},
   "source": [
    "### 3. Polynomial Regression"
   ]
  },
  {
   "cell_type": "code",
   "execution_count": 27,
   "metadata": {},
   "outputs": [],
   "source": [
    "from  sklearn.preprocessing  import PolynomialFeatures\n",
    "train_score_list = []\n",
    "test_score_list = []\n",
    "r2_score_array= [] \n",
    "\n",
    "for n in range(1,4):\n",
    "    poly = PolynomialFeatures(n)\n",
    "    X_train_poly = poly.fit_transform(X_train)\n",
    "    X_test_poly = poly.transform(X_test)\n",
    "    lreg.fit(X_train_poly, y_train)\n",
    "    train_score_list.append(lreg.score(X_train_poly, y_train))\n",
    "    test_score_list.append(lreg.score(X_test_poly, y_test))\n",
    "    prediction=lreg.predict(X_test_poly)\n",
    "    r2_score_array.append(metrics.r2_score(prediction,y_test))"
   ]
  },
  {
   "cell_type": "code",
   "execution_count": 28,
   "metadata": {},
   "outputs": [
    {
     "name": "stdout",
     "output_type": "stream",
     "text": [
      "[1.0, 1.0, 1.0]\n",
      "[1.0, 0.9999929499744639, 0.9999999856883988]\n",
      "[1.0, 0.9999929486630488, 0.9999999856876909]\n"
     ]
    }
   ],
   "source": [
    "print(train_score_list)\n",
    "print(test_score_list)\n",
    "print(r2_score_array)"
   ]
  },
  {
   "cell_type": "code",
   "execution_count": 29,
   "metadata": {},
   "outputs": [
    {
     "data": {
      "text/plain": [
       "Text(0, 0.5, 'Accuracy')"
      ]
     },
     "execution_count": 29,
     "metadata": {},
     "output_type": "execute_result"
    },
    {
     "data": {
      "image/png": "[encoded data removed]",
      "text/plain": [
       "<Figure size 432x288 with 1 Axes>"
      ]
     },
     "metadata": {
      "needs_background": "light"
     },
     "output_type": "display_data"
    }
   ],
   "source": [
    "%matplotlib inline\n",
    "\n",
    "x_axis = range(1,4)\n",
    "plt.plot(x_axis, train_score_list, c = 'r', label = 'Train Score')\n",
    "plt.plot(x_axis, test_score_list, c = 'b', label = 'Test Score')\n",
    "\n",
    "plt.legend()\n",
    "plt.xlabel('Degree')\n",
    "plt.ylabel('Accuracy')\n"
   ]
  },
  {
   "cell_type": "markdown",
   "metadata": {},
   "source": [
    "Considering the train and test scores to not be same, we consider that degree 2 is the best parameter for this model"
   ]
  },
  {
   "cell_type": "markdown",
   "metadata": {},
   "source": [
    "#### Polynomial Regression with Grid Search"
   ]
  },
  {
   "cell_type": "code",
   "execution_count": 30,
   "metadata": {
    "scrolled": false
   },
   "outputs": [
    {
     "name": "stdout",
     "output_type": "stream",
     "text": [
      "Fitting 10 folds for each of 12 candidates, totalling 120 fits\n",
      "[CV] linearregression__fit_intercept=True, linearregression__normalize=True, polynomialfeatures__degree=0 \n",
      "[CV]  linearregression__fit_intercept=True, linearregression__normalize=True, polynomialfeatures__degree=0, total=   0.1s\n",
      "[CV] linearregression__fit_intercept=True, linearregression__normalize=True, polynomialfeatures__degree=0 \n",
      "[CV]  linearregression__fit_intercept=True, linearregression__normalize=True, polynomialfeatures__degree=0, total=   0.0s\n",
      "[CV] linearregression__fit_intercept=True, linearregression__normalize=True, polynomialfeatures__degree=0 \n",
      "[CV]  linearregression__fit_intercept=True, linearregression__normalize=True, polynomialfeatures__degree=0, total=   0.0s\n",
      "[CV] linearregression__fit_intercept=True, linearregression__normalize=True, polynomialfeatures__degree=0 \n",
      "[CV]  linearregression__fit_intercept=True, linearregression__normalize=True, polynomialfeatures__degree=0, total=   0.0s\n",
      "[CV] linearregression__fit_intercept=True, linearregression__normalize=True, polynomialfeatures__degree=0 \n",
      "[CV]  linearregression__fit_intercept=True, linearregression__normalize=True, polynomialfeatures__degree=0, total=   0.0s\n",
      "[CV] linearregression__fit_intercept=True, linearregression__normalize=True, polynomialfeatures__degree=0 \n",
      "[CV]  linearregression__fit_intercept=True, linearregression__normalize=True, polynomialfeatures__degree=0, total=   0.0s\n",
      "[CV] linearregression__fit_intercept=True, linearregression__normalize=True, polynomialfeatures__degree=0 \n",
      "[CV]  linearregression__fit_intercept=True, linearregression__normalize=True, polynomialfeatures__degree=0, total=   0.0s\n",
      "[CV] linearregression__fit_intercept=True, linearregression__normalize=True, polynomialfeatures__degree=0 \n",
      "[CV]  linearregression__fit_intercept=True, linearregression__normalize=True, polynomialfeatures__degree=0, total=   0.0s\n",
      "[CV] linearregression__fit_intercept=True, linearregression__normalize=True, polynomialfeatures__degree=0 \n",
      "[CV]  linearregression__fit_intercept=True, linearregression__normalize=True, polynomialfeatures__degree=0, total=   0.0s\n",
      "[CV] linearregression__fit_intercept=True, linearregression__normalize=True, polynomialfeatures__degree=0 \n",
      "[CV]  linearregression__fit_intercept=True, linearregression__normalize=True, polynomialfeatures__degree=0, total=   0.0s\n",
      "[CV] linearregression__fit_intercept=True, linearregression__normalize=True, polynomialfeatures__degree=1 \n",
      "[CV]  linearregression__fit_intercept=True, linearregression__normalize=True, polynomialfeatures__degree=1, total=   0.0s\n",
      "[CV] linearregression__fit_intercept=True, linearregression__normalize=True, polynomialfeatures__degree=1 \n",
      "[CV]  linearregression__fit_intercept=True, linearregression__normalize=True, polynomialfeatures__degree=1, total=   0.0s\n",
      "[CV] linearregression__fit_intercept=True, linearregression__normalize=True, polynomialfeatures__degree=1 \n",
      "[CV]  linearregression__fit_intercept=True, linearregression__normalize=True, polynomialfeatures__degree=1, total=   0.0s\n",
      "[CV] linearregression__fit_intercept=True, linearregression__normalize=True, polynomialfeatures__degree=1 \n",
      "[CV]  linearregression__fit_intercept=True, linearregression__normalize=True, polynomialfeatures__degree=1, total=   0.0s"
     ]
    },
    {
     "name": "stderr",
     "output_type": "stream",
     "text": [
      "[Parallel(n_jobs=1)]: Using backend SequentialBackend with 1 concurrent workers.\n",
      "[Parallel(n_jobs=1)]: Done   1 out of   1 | elapsed:    0.0s remaining:    0.0s\n"
     ]
    },
    {
     "name": "stdout",
     "output_type": "stream",
     "text": [
      "\n",
      "[CV] linearregression__fit_intercept=True, linearregression__normalize=True, polynomialfeatures__degree=1 \n",
      "[CV]  linearregression__fit_intercept=True, linearregression__normalize=True, polynomialfeatures__degree=1, total=   0.0s\n",
      "[CV] linearregression__fit_intercept=True, linearregression__normalize=True, polynomialfeatures__degree=1 \n",
      "[CV]  linearregression__fit_intercept=True, linearregression__normalize=True, polynomialfeatures__degree=1, total=   0.0s\n",
      "[CV] linearregression__fit_intercept=True, linearregression__normalize=True, polynomialfeatures__degree=1 \n",
      "[CV]  linearregression__fit_intercept=True, linearregression__normalize=True, polynomialfeatures__degree=1, total=   0.0s\n",
      "[CV] linearregression__fit_intercept=True, linearregression__normalize=True, polynomialfeatures__degree=1 \n",
      "[CV]  linearregression__fit_intercept=True, linearregression__normalize=True, polynomialfeatures__degree=1, total=   0.0s\n",
      "[CV] linearregression__fit_intercept=True, linearregression__normalize=True, polynomialfeatures__degree=1 \n",
      "[CV]  linearregression__fit_intercept=True, linearregression__normalize=True, polynomialfeatures__degree=1, total=   0.0s\n",
      "[CV] linearregression__fit_intercept=True, linearregression__normalize=True, polynomialfeatures__degree=1 \n",
      "[CV]  linearregression__fit_intercept=True, linearregression__normalize=True, polynomialfeatures__degree=1, total=   0.0s\n",
      "[CV] linearregression__fit_intercept=True, linearregression__normalize=True, polynomialfeatures__degree=2 \n",
      "[CV]  linearregression__fit_intercept=True, linearregression__normalize=True, polynomialfeatures__degree=2, total=   0.9s\n",
      "[CV] linearregression__fit_intercept=True, linearregression__normalize=True, polynomialfeatures__degree=2 \n",
      "[CV]  linearregression__fit_intercept=True, linearregression__normalize=True, polynomialfeatures__degree=2, total=   1.2s\n",
      "[CV] linearregression__fit_intercept=True, linearregression__normalize=True, polynomialfeatures__degree=2 \n",
      "[CV]  linearregression__fit_intercept=True, linearregression__normalize=True, polynomialfeatures__degree=2, total=   0.1s\n",
      "[CV] linearregression__fit_intercept=True, linearregression__normalize=True, polynomialfeatures__degree=2 \n",
      "[CV]  linearregression__fit_intercept=True, linearregression__normalize=True, polynomialfeatures__degree=2, total=   0.1s\n",
      "[CV] linearregression__fit_intercept=True, linearregression__normalize=True, polynomialfeatures__degree=2 \n",
      "[CV]  linearregression__fit_intercept=True, linearregression__normalize=True, polynomialfeatures__degree=2, total=   0.2s\n",
      "[CV] linearregression__fit_intercept=True, linearregression__normalize=True, polynomialfeatures__degree=2 \n",
      "[CV]  linearregression__fit_intercept=True, linearregression__normalize=True, polynomialfeatures__degree=2, total=   0.1s\n",
      "[CV] linearregression__fit_intercept=True, linearregression__normalize=True, polynomialfeatures__degree=2 \n",
      "[CV]  linearregression__fit_intercept=True, linearregression__normalize=True, polynomialfeatures__degree=2, total=   0.0s\n",
      "[CV] linearregression__fit_intercept=True, linearregression__normalize=True, polynomialfeatures__degree=2 \n",
      "[CV]  linearregression__fit_intercept=True, linearregression__normalize=True, polynomialfeatures__degree=2, total=   0.2s\n",
      "[CV] linearregression__fit_intercept=True, linearregression__normalize=True, polynomialfeatures__degree=2 \n",
      "[CV]  linearregression__fit_intercept=True, linearregression__normalize=True, polynomialfeatures__degree=2, total=   0.1s\n",
      "[CV] linearregression__fit_intercept=True, linearregression__normalize=True, polynomialfeatures__degree=2 \n",
      "[CV]  linearregression__fit_intercept=True, linearregression__normalize=True, polynomialfeatures__degree=2, total=   0.1s\n",
      "[CV] linearregression__fit_intercept=True, linearregression__normalize=False, polynomialfeatures__degree=0 \n",
      "[CV]  linearregression__fit_intercept=True, linearregression__normalize=False, polynomialfeatures__degree=0, total=   0.0s\n",
      "[CV] linearregression__fit_intercept=True, linearregression__normalize=False, polynomialfeatures__degree=0 \n",
      "[CV]  linearregression__fit_intercept=True, linearregression__normalize=False, polynomialfeatures__degree=0, total=   0.0s\n",
      "[CV] linearregression__fit_intercept=True, linearregression__normalize=False, polynomialfeatures__degree=0 \n",
      "[CV]  linearregression__fit_intercept=True, linearregression__normalize=False, polynomialfeatures__degree=0, total=   0.0s\n",
      "[CV] linearregression__fit_intercept=True, linearregression__normalize=False, polynomialfeatures__degree=0 \n",
      "[CV]  linearregression__fit_intercept=True, linearregression__normalize=False, polynomialfeatures__degree=0, total=   0.0s\n",
      "[CV] linearregression__fit_intercept=True, linearregression__normalize=False, polynomialfeatures__degree=0 \n",
      "[CV]  linearregression__fit_intercept=True, linearregression__normalize=False, polynomialfeatures__degree=0, total=   0.0s\n",
      "[CV] linearregression__fit_intercept=True, linearregression__normalize=False, polynomialfeatures__degree=0 \n",
      "[CV]  linearregression__fit_intercept=True, linearregression__normalize=False, polynomialfeatures__degree=0, total=   0.0s\n",
      "[CV] linearregression__fit_intercept=True, linearregression__normalize=False, polynomialfeatures__degree=0 \n",
      "[CV]  linearregression__fit_intercept=True, linearregression__normalize=False, polynomialfeatures__degree=0, total=   0.0s\n",
      "[CV] linearregression__fit_intercept=True, linearregression__normalize=False, polynomialfeatures__degree=0 \n",
      "[CV]  linearregression__fit_intercept=True, linearregression__normalize=False, polynomialfeatures__degree=0, total=   0.0s\n",
      "[CV] linearregression__fit_intercept=True, linearregression__normalize=False, polynomialfeatures__degree=0 \n",
      "[CV]  linearregression__fit_intercept=True, linearregression__normalize=False, polynomialfeatures__degree=0, total=   0.0s\n",
      "[CV] linearregression__fit_intercept=True, linearregression__normalize=False, polynomialfeatures__degree=0 \n",
      "[CV]  linearregression__fit_intercept=True, linearregression__normalize=False, polynomialfeatures__degree=0, total=   0.0s\n",
      "[CV] linearregression__fit_intercept=True, linearregression__normalize=False, polynomialfeatures__degree=1 \n",
      "[CV]  linearregression__fit_intercept=True, linearregression__normalize=False, polynomialfeatures__degree=1, total=   0.0s\n",
      "[CV] linearregression__fit_intercept=True, linearregression__normalize=False, polynomialfeatures__degree=1 \n",
      "[CV]  linearregression__fit_intercept=True, linearregression__normalize=False, polynomialfeatures__degree=1, total=   0.0s\n",
      "[CV] linearregression__fit_intercept=True, linearregression__normalize=False, polynomialfeatures__degree=1 \n",
      "[CV]  linearregression__fit_intercept=True, linearregression__normalize=False, polynomialfeatures__degree=1, total=   0.0s\n",
      "[CV] linearregression__fit_intercept=True, linearregression__normalize=False, polynomialfeatures__degree=1 \n",
      "[CV]  linearregression__fit_intercept=True, linearregression__normalize=False, polynomialfeatures__degree=1, total=   0.0s\n",
      "[CV] linearregression__fit_intercept=True, linearregression__normalize=False, polynomialfeatures__degree=1 \n",
      "[CV]  linearregression__fit_intercept=True, linearregression__normalize=False, polynomialfeatures__degree=1, total=   0.0s\n",
      "[CV] linearregression__fit_intercept=True, linearregression__normalize=False, polynomialfeatures__degree=1 \n",
      "[CV]  linearregression__fit_intercept=True, linearregression__normalize=False, polynomialfeatures__degree=1, total=   0.0s\n",
      "[CV] linearregression__fit_intercept=True, linearregression__normalize=False, polynomialfeatures__degree=1 \n",
      "[CV]  linearregression__fit_intercept=True, linearregression__normalize=False, polynomialfeatures__degree=1, total=   0.0s\n",
      "[CV] linearregression__fit_intercept=True, linearregression__normalize=False, polynomialfeatures__degree=1 \n",
      "[CV]  linearregression__fit_intercept=True, linearregression__normalize=False, polynomialfeatures__degree=1, total=   0.0s\n",
      "[CV] linearregression__fit_intercept=True, linearregression__normalize=False, polynomialfeatures__degree=1 \n",
      "[CV]  linearregression__fit_intercept=True, linearregression__normalize=False, polynomialfeatures__degree=1, total=   0.0s\n",
      "[CV] linearregression__fit_intercept=True, linearregression__normalize=False, polynomialfeatures__degree=1 \n",
      "[CV]  linearregression__fit_intercept=True, linearregression__normalize=False, polynomialfeatures__degree=1, total=   0.0s\n",
      "[CV] linearregression__fit_intercept=True, linearregression__normalize=False, polynomialfeatures__degree=2 \n",
      "[CV]  linearregression__fit_intercept=True, linearregression__normalize=False, polynomialfeatures__degree=2, total=   0.0s\n",
      "[CV] linearregression__fit_intercept=True, linearregression__normalize=False, polynomialfeatures__degree=2 \n",
      "[CV]  linearregression__fit_intercept=True, linearregression__normalize=False, polynomialfeatures__degree=2, total=   0.1s\n",
      "[CV] linearregression__fit_intercept=True, linearregression__normalize=False, polynomialfeatures__degree=2 \n",
      "[CV]  linearregression__fit_intercept=True, linearregression__normalize=False, polynomialfeatures__degree=2, total=   0.0s\n",
      "[CV] linearregression__fit_intercept=True, linearregression__normalize=False, polynomialfeatures__degree=2 \n"
     ]
    },
    {
     "name": "stdout",
     "output_type": "stream",
     "text": [
      "[CV]  linearregression__fit_intercept=True, linearregression__normalize=False, polynomialfeatures__degree=2, total=   0.1s\n",
      "[CV] linearregression__fit_intercept=True, linearregression__normalize=False, polynomialfeatures__degree=2 \n",
      "[CV]  linearregression__fit_intercept=True, linearregression__normalize=False, polynomialfeatures__degree=2, total=   0.1s\n",
      "[CV] linearregression__fit_intercept=True, linearregression__normalize=False, polynomialfeatures__degree=2 \n",
      "[CV]  linearregression__fit_intercept=True, linearregression__normalize=False, polynomialfeatures__degree=2, total=   0.1s\n",
      "[CV] linearregression__fit_intercept=True, linearregression__normalize=False, polynomialfeatures__degree=2 \n",
      "[CV]  linearregression__fit_intercept=True, linearregression__normalize=False, polynomialfeatures__degree=2, total=   0.0s\n",
      "[CV] linearregression__fit_intercept=True, linearregression__normalize=False, polynomialfeatures__degree=2 \n",
      "[CV]  linearregression__fit_intercept=True, linearregression__normalize=False, polynomialfeatures__degree=2, total=   0.2s\n",
      "[CV] linearregression__fit_intercept=True, linearregression__normalize=False, polynomialfeatures__degree=2 \n",
      "[CV]  linearregression__fit_intercept=True, linearregression__normalize=False, polynomialfeatures__degree=2, total=   0.1s\n",
      "[CV] linearregression__fit_intercept=True, linearregression__normalize=False, polynomialfeatures__degree=2 \n",
      "[CV]  linearregression__fit_intercept=True, linearregression__normalize=False, polynomialfeatures__degree=2, total=   0.0s\n",
      "[CV] linearregression__fit_intercept=False, linearregression__normalize=True, polynomialfeatures__degree=0 \n",
      "[CV]  linearregression__fit_intercept=False, linearregression__normalize=True, polynomialfeatures__degree=0, total=   0.0s\n",
      "[CV] linearregression__fit_intercept=False, linearregression__normalize=True, polynomialfeatures__degree=0 \n",
      "[CV]  linearregression__fit_intercept=False, linearregression__normalize=True, polynomialfeatures__degree=0, total=   0.0s\n",
      "[CV] linearregression__fit_intercept=False, linearregression__normalize=True, polynomialfeatures__degree=0 \n",
      "[CV]  linearregression__fit_intercept=False, linearregression__normalize=True, polynomialfeatures__degree=0, total=   0.0s\n",
      "[CV] linearregression__fit_intercept=False, linearregression__normalize=True, polynomialfeatures__degree=0 \n",
      "[CV]  linearregression__fit_intercept=False, linearregression__normalize=True, polynomialfeatures__degree=0, total=   0.0s\n",
      "[CV] linearregression__fit_intercept=False, linearregression__normalize=True, polynomialfeatures__degree=0 \n",
      "[CV]  linearregression__fit_intercept=False, linearregression__normalize=True, polynomialfeatures__degree=0, total=   0.0s\n",
      "[CV] linearregression__fit_intercept=False, linearregression__normalize=True, polynomialfeatures__degree=0 \n",
      "[CV]  linearregression__fit_intercept=False, linearregression__normalize=True, polynomialfeatures__degree=0, total=   0.0s\n",
      "[CV] linearregression__fit_intercept=False, linearregression__normalize=True, polynomialfeatures__degree=0 \n",
      "[CV]  linearregression__fit_intercept=False, linearregression__normalize=True, polynomialfeatures__degree=0, total=   0.0s\n",
      "[CV] linearregression__fit_intercept=False, linearregression__normalize=True, polynomialfeatures__degree=0 \n",
      "[CV]  linearregression__fit_intercept=False, linearregression__normalize=True, polynomialfeatures__degree=0, total=   0.0s\n",
      "[CV] linearregression__fit_intercept=False, linearregression__normalize=True, polynomialfeatures__degree=0 \n",
      "[CV]  linearregression__fit_intercept=False, linearregression__normalize=True, polynomialfeatures__degree=0, total=   0.0s\n",
      "[CV] linearregression__fit_intercept=False, linearregression__normalize=True, polynomialfeatures__degree=0 \n",
      "[CV]  linearregression__fit_intercept=False, linearregression__normalize=True, polynomialfeatures__degree=0, total=   0.0s\n",
      "[CV] linearregression__fit_intercept=False, linearregression__normalize=True, polynomialfeatures__degree=1 \n",
      "[CV]  linearregression__fit_intercept=False, linearregression__normalize=True, polynomialfeatures__degree=1, total=   0.0s\n",
      "[CV] linearregression__fit_intercept=False, linearregression__normalize=True, polynomialfeatures__degree=1 \n",
      "[CV]  linearregression__fit_intercept=False, linearregression__normalize=True, polynomialfeatures__degree=1, total=   0.0s\n",
      "[CV] linearregression__fit_intercept=False, linearregression__normalize=True, polynomialfeatures__degree=1 \n",
      "[CV]  linearregression__fit_intercept=False, linearregression__normalize=True, polynomialfeatures__degree=1, total=   0.0s\n",
      "[CV] linearregression__fit_intercept=False, linearregression__normalize=True, polynomialfeatures__degree=1 \n",
      "[CV]  linearregression__fit_intercept=False, linearregression__normalize=True, polynomialfeatures__degree=1, total=   0.0s\n",
      "[CV] linearregression__fit_intercept=False, linearregression__normalize=True, polynomialfeatures__degree=1 \n",
      "[CV]  linearregression__fit_intercept=False, linearregression__normalize=True, polynomialfeatures__degree=1, total=   0.0s\n",
      "[CV] linearregression__fit_intercept=False, linearregression__normalize=True, polynomialfeatures__degree=1 \n",
      "[CV]  linearregression__fit_intercept=False, linearregression__normalize=True, polynomialfeatures__degree=1, total=   0.0s\n",
      "[CV] linearregression__fit_intercept=False, linearregression__normalize=True, polynomialfeatures__degree=1 \n",
      "[CV]  linearregression__fit_intercept=False, linearregression__normalize=True, polynomialfeatures__degree=1, total=   0.0s\n",
      "[CV] linearregression__fit_intercept=False, linearregression__normalize=True, polynomialfeatures__degree=1 \n",
      "[CV]  linearregression__fit_intercept=False, linearregression__normalize=True, polynomialfeatures__degree=1, total=   0.0s\n",
      "[CV] linearregression__fit_intercept=False, linearregression__normalize=True, polynomialfeatures__degree=1 \n",
      "[CV]  linearregression__fit_intercept=False, linearregression__normalize=True, polynomialfeatures__degree=1, total=   0.0s\n",
      "[CV] linearregression__fit_intercept=False, linearregression__normalize=True, polynomialfeatures__degree=1 \n",
      "[CV]  linearregression__fit_intercept=False, linearregression__normalize=True, polynomialfeatures__degree=1, total=   0.0s\n",
      "[CV] linearregression__fit_intercept=False, linearregression__normalize=True, polynomialfeatures__degree=2 \n",
      "[CV]  linearregression__fit_intercept=False, linearregression__normalize=True, polynomialfeatures__degree=2, total=   0.1s\n",
      "[CV] linearregression__fit_intercept=False, linearregression__normalize=True, polynomialfeatures__degree=2 \n",
      "[CV]  linearregression__fit_intercept=False, linearregression__normalize=True, polynomialfeatures__degree=2, total=   0.1s\n",
      "[CV] linearregression__fit_intercept=False, linearregression__normalize=True, polynomialfeatures__degree=2 \n",
      "[CV]  linearregression__fit_intercept=False, linearregression__normalize=True, polynomialfeatures__degree=2, total=   0.1s\n",
      "[CV] linearregression__fit_intercept=False, linearregression__normalize=True, polynomialfeatures__degree=2 \n",
      "[CV]  linearregression__fit_intercept=False, linearregression__normalize=True, polynomialfeatures__degree=2, total=   0.0s\n",
      "[CV] linearregression__fit_intercept=False, linearregression__normalize=True, polynomialfeatures__degree=2 \n",
      "[CV]  linearregression__fit_intercept=False, linearregression__normalize=True, polynomialfeatures__degree=2, total=   0.0s\n",
      "[CV] linearregression__fit_intercept=False, linearregression__normalize=True, polynomialfeatures__degree=2 \n",
      "[CV]  linearregression__fit_intercept=False, linearregression__normalize=True, polynomialfeatures__degree=2, total=   0.0s\n",
      "[CV] linearregression__fit_intercept=False, linearregression__normalize=True, polynomialfeatures__degree=2 \n",
      "[CV]  linearregression__fit_intercept=False, linearregression__normalize=True, polynomialfeatures__degree=2, total=   0.0s\n",
      "[CV] linearregression__fit_intercept=False, linearregression__normalize=True, polynomialfeatures__degree=2 \n",
      "[CV]  linearregression__fit_intercept=False, linearregression__normalize=True, polynomialfeatures__degree=2, total=   0.1s\n",
      "[CV] linearregression__fit_intercept=False, linearregression__normalize=True, polynomialfeatures__degree=2 \n",
      "[CV]  linearregression__fit_intercept=False, linearregression__normalize=True, polynomialfeatures__degree=2, total=   0.0s\n",
      "[CV] linearregression__fit_intercept=False, linearregression__normalize=True, polynomialfeatures__degree=2 \n"
     ]
    },
    {
     "name": "stdout",
     "output_type": "stream",
     "text": [
      "[CV]  linearregression__fit_intercept=False, linearregression__normalize=True, polynomialfeatures__degree=2, total=   0.0s\n",
      "[CV] linearregression__fit_intercept=False, linearregression__normalize=False, polynomialfeatures__degree=0 \n",
      "[CV]  linearregression__fit_intercept=False, linearregression__normalize=False, polynomialfeatures__degree=0, total=   0.0s\n",
      "[CV] linearregression__fit_intercept=False, linearregression__normalize=False, polynomialfeatures__degree=0 \n",
      "[CV]  linearregression__fit_intercept=False, linearregression__normalize=False, polynomialfeatures__degree=0, total=   0.0s\n",
      "[CV] linearregression__fit_intercept=False, linearregression__normalize=False, polynomialfeatures__degree=0 \n",
      "[CV]  linearregression__fit_intercept=False, linearregression__normalize=False, polynomialfeatures__degree=0, total=   0.0s\n",
      "[CV] linearregression__fit_intercept=False, linearregression__normalize=False, polynomialfeatures__degree=0 \n",
      "[CV]  linearregression__fit_intercept=False, linearregression__normalize=False, polynomialfeatures__degree=0, total=   0.0s\n",
      "[CV] linearregression__fit_intercept=False, linearregression__normalize=False, polynomialfeatures__degree=0 \n",
      "[CV]  linearregression__fit_intercept=False, linearregression__normalize=False, polynomialfeatures__degree=0, total=   0.0s\n",
      "[CV] linearregression__fit_intercept=False, linearregression__normalize=False, polynomialfeatures__degree=0 \n",
      "[CV]  linearregression__fit_intercept=False, linearregression__normalize=False, polynomialfeatures__degree=0, total=   0.0s\n",
      "[CV] linearregression__fit_intercept=False, linearregression__normalize=False, polynomialfeatures__degree=0 \n",
      "[CV]  linearregression__fit_intercept=False, linearregression__normalize=False, polynomialfeatures__degree=0, total=   0.0s\n",
      "[CV] linearregression__fit_intercept=False, linearregression__normalize=False, polynomialfeatures__degree=0 \n",
      "[CV]  linearregression__fit_intercept=False, linearregression__normalize=False, polynomialfeatures__degree=0, total=   0.0s\n",
      "[CV] linearregression__fit_intercept=False, linearregression__normalize=False, polynomialfeatures__degree=0 \n",
      "[CV]  linearregression__fit_intercept=False, linearregression__normalize=False, polynomialfeatures__degree=0, total=   0.0s\n",
      "[CV] linearregression__fit_intercept=False, linearregression__normalize=False, polynomialfeatures__degree=0 \n",
      "[CV]  linearregression__fit_intercept=False, linearregression__normalize=False, polynomialfeatures__degree=0, total=   0.0s\n",
      "[CV] linearregression__fit_intercept=False, linearregression__normalize=False, polynomialfeatures__degree=1 \n",
      "[CV]  linearregression__fit_intercept=False, linearregression__normalize=False, polynomialfeatures__degree=1, total=   0.0s\n",
      "[CV] linearregression__fit_intercept=False, linearregression__normalize=False, polynomialfeatures__degree=1 \n",
      "[CV]  linearregression__fit_intercept=False, linearregression__normalize=False, polynomialfeatures__degree=1, total=   0.0s\n",
      "[CV] linearregression__fit_intercept=False, linearregression__normalize=False, polynomialfeatures__degree=1 \n",
      "[CV]  linearregression__fit_intercept=False, linearregression__normalize=False, polynomialfeatures__degree=1, total=   0.0s\n",
      "[CV] linearregression__fit_intercept=False, linearregression__normalize=False, polynomialfeatures__degree=1 \n",
      "[CV]  linearregression__fit_intercept=False, linearregression__normalize=False, polynomialfeatures__degree=1, total=   0.0s\n",
      "[CV] linearregression__fit_intercept=False, linearregression__normalize=False, polynomialfeatures__degree=1 \n",
      "[CV]  linearregression__fit_intercept=False, linearregression__normalize=False, polynomialfeatures__degree=1, total=   0.0s\n",
      "[CV] linearregression__fit_intercept=False, linearregression__normalize=False, polynomialfeatures__degree=1 \n",
      "[CV]  linearregression__fit_intercept=False, linearregression__normalize=False, polynomialfeatures__degree=1, total=   0.0s\n",
      "[CV] linearregression__fit_intercept=False, linearregression__normalize=False, polynomialfeatures__degree=1 \n",
      "[CV]  linearregression__fit_intercept=False, linearregression__normalize=False, polynomialfeatures__degree=1, total=   0.0s\n",
      "[CV] linearregression__fit_intercept=False, linearregression__normalize=False, polynomialfeatures__degree=1 \n",
      "[CV]  linearregression__fit_intercept=False, linearregression__normalize=False, polynomialfeatures__degree=1, total=   0.0s\n",
      "[CV] linearregression__fit_intercept=False, linearregression__normalize=False, polynomialfeatures__degree=1 \n",
      "[CV]  linearregression__fit_intercept=False, linearregression__normalize=False, polynomialfeatures__degree=1, total=   0.0s\n",
      "[CV] linearregression__fit_intercept=False, linearregression__normalize=False, polynomialfeatures__degree=1 \n",
      "[CV]  linearregression__fit_intercept=False, linearregression__normalize=False, polynomialfeatures__degree=1, total=   0.0s\n",
      "[CV] linearregression__fit_intercept=False, linearregression__normalize=False, polynomialfeatures__degree=2 \n",
      "[CV]  linearregression__fit_intercept=False, linearregression__normalize=False, polynomialfeatures__degree=2, total=   0.1s\n",
      "[CV] linearregression__fit_intercept=False, linearregression__normalize=False, polynomialfeatures__degree=2 \n",
      "[CV]  linearregression__fit_intercept=False, linearregression__normalize=False, polynomialfeatures__degree=2, total=   0.1s\n",
      "[CV] linearregression__fit_intercept=False, linearregression__normalize=False, polynomialfeatures__degree=2 \n",
      "[CV]  linearregression__fit_intercept=False, linearregression__normalize=False, polynomialfeatures__degree=2, total=   0.1s\n",
      "[CV] linearregression__fit_intercept=False, linearregression__normalize=False, polynomialfeatures__degree=2 \n",
      "[CV]  linearregression__fit_intercept=False, linearregression__normalize=False, polynomialfeatures__degree=2, total=   0.1s\n",
      "[CV] linearregression__fit_intercept=False, linearregression__normalize=False, polynomialfeatures__degree=2 \n",
      "[CV]  linearregression__fit_intercept=False, linearregression__normalize=False, polynomialfeatures__degree=2, total=   0.1s\n",
      "[CV] linearregression__fit_intercept=False, linearregression__normalize=False, polynomialfeatures__degree=2 \n",
      "[CV]  linearregression__fit_intercept=False, linearregression__normalize=False, polynomialfeatures__degree=2, total=   0.1s\n",
      "[CV] linearregression__fit_intercept=False, linearregression__normalize=False, polynomialfeatures__degree=2 \n",
      "[CV]  linearregression__fit_intercept=False, linearregression__normalize=False, polynomialfeatures__degree=2, total=   0.1s\n",
      "[CV] linearregression__fit_intercept=False, linearregression__normalize=False, polynomialfeatures__degree=2 \n",
      "[CV]  linearregression__fit_intercept=False, linearregression__normalize=False, polynomialfeatures__degree=2, total=   0.1s\n",
      "[CV] linearregression__fit_intercept=False, linearregression__normalize=False, polynomialfeatures__degree=2 \n",
      "[CV]  linearregression__fit_intercept=False, linearregression__normalize=False, polynomialfeatures__degree=2, total=   0.3s\n",
      "[CV] linearregression__fit_intercept=False, linearregression__normalize=False, polynomialfeatures__degree=2 \n",
      "[CV]  linearregression__fit_intercept=False, linearregression__normalize=False, polynomialfeatures__degree=2, total=   0.4s\n",
      "{'linearregression__fit_intercept': True, 'linearregression__normalize': True, 'polynomialfeatures__degree': 1}\n",
      "training score: -8.826408311041034e-20\n",
      "test score:  -8.401137373620075e-20\n",
      "r_square: 1.0\n"
     ]
    },
    {
     "name": "stderr",
     "output_type": "stream",
     "text": [
      "[Parallel(n_jobs=1)]: Done 120 out of 120 | elapsed:    6.9s finished\n",
      "C:\\Users\\bhumi\\Anaconda3\\lib\\site-packages\\sklearn\\model_selection\\_search.py:814: DeprecationWarning: The default of the `iid` parameter will change from True to False in version 0.22 and will be removed in 0.24. This will change numeric results when test-set sizes are unequal.\n",
      "  DeprecationWarning)\n"
     ]
    }
   ],
   "source": [
    "from sklearn.pipeline import make_pipeline\n",
    "def PolynomialRegression(degree=2, **kwargs):\n",
    "    \n",
    "    return make_pipeline(PolynomialFeatures(degree), LinearRegression(**kwargs))\n",
    "\n",
    "param_grid = {'polynomialfeatures__degree': np.arange(3), \n",
    "              'linearregression__fit_intercept': [True, False], \n",
    "              'linearregression__normalize': [True, False]}\n",
    "poly_grid = GridSearchCV(PolynomialRegression(), param_grid,cv=10,scoring='neg_mean_squared_error',verbose=2)\n",
    "\n",
    "poly_grid.fit(X_train, y_train)\n",
    "best_parameters = poly_grid.best_params_\n",
    "print(best_parameters)\n",
    "prediction=poly_grid.predict(X_test)\n",
    "train_score=poly_grid.score(X_train,y_train)\n",
    "test_score=poly_grid.score(X_test,y_test)\n",
    "print (\"training score:\", train_score) \n",
    "print (\"test score: \", test_score)\n",
    "from sklearn import metrics\n",
    "print(\"r_square:\",metrics.r2_score(prediction,y_test))"
   ]
  },
  {
   "cell_type": "markdown",
   "metadata": {},
   "source": [
    "Polynomial Regression with GridSearchCV shows that the best paramter for degree is 1 as shown above. "
   ]
  },
  {
   "cell_type": "markdown",
   "metadata": {},
   "source": [
    "### 3. Ridge"
   ]
  },
  {
   "cell_type": "code",
   "execution_count": 31,
   "metadata": {},
   "outputs": [
    {
     "name": "stdout",
     "output_type": "stream",
     "text": [
      "[0.9999999998868584, 0.9999999886914491, 0.9999988747361954, 0.9998928238076865, 0.9929406845252264]\n",
      "[0.999999999891429, 0.9999999891482119, 0.9999989201220852, 0.999897085083118, 0.9931817682647536]\n",
      "[0.9999999998914275, 0.9999999891468464, 0.9999989187652252, 0.9998958098427071, 0.9924275394959763]\n"
     ]
    }
   ],
   "source": [
    "from  sklearn.linear_model import Ridge\n",
    "\n",
    "x_range = [0.01, 0.1, 1, 10, 100]\n",
    "train_score_list = []\n",
    "test_score_list = []\n",
    "r2_score_array = []\n",
    "\n",
    "for alpha in x_range: \n",
    "    ridge = Ridge(alpha) \n",
    "    ridge.fit(X_train,y_train)\n",
    "    train_score_list.append(ridge.score(X_train,y_train))\n",
    "    test_score_list.append(ridge.score(X_test, y_test))\n",
    "    prediction=ridge.predict(X_test)\n",
    "    r2_score_array.append(metrics.r2_score(prediction,y_test))\n",
    "    \n",
    "print(train_score_list)\n",
    "print(test_score_list)\n",
    "print(r2_score_array)"
   ]
  },
  {
   "cell_type": "code",
   "execution_count": 32,
   "metadata": {},
   "outputs": [
    {
     "data": {
      "text/plain": [
       "Text(0.5, 0, '$\\\\alpha$')"
      ]
     },
     "execution_count": 32,
     "metadata": {},
     "output_type": "execute_result"
    },
    {
     "data": {
      "image/png": "[encoded data removed]",
      "text/plain": [
       "<Figure size 432x288 with 1 Axes>"
      ]
     },
     "metadata": {
      "needs_background": "light"
     },
     "output_type": "display_data"
    }
   ],
   "source": [
    "%matplotlib inline\n",
    "import matplotlib.pyplot as plt\n",
    "plt.plot(x_range, train_score_list, c = 'r', label = 'Train Score')\n",
    "plt.plot(x_range, test_score_list, c = 'b', label = 'Test Score')\n",
    "plt.plot(x_range, r2_score_array, c = 'g', label = 'R2 Score')\n",
    "#plt.xscale('log')\n",
    "plt.legend(loc = 3)\n",
    "plt.xlabel(r'$\\alpha$')"
   ]
  },
  {
   "cell_type": "markdown",
   "metadata": {},
   "source": [
    "The Ridge regression without GridSearch shows mostly the overfitting of the data. The train score here is less than the test score. While the R-SQuare value is good with every value of alpha."
   ]
  },
  {
   "cell_type": "markdown",
   "metadata": {},
   "source": [
    "#### Ridge with GridSearchCV"
   ]
  },
  {
   "cell_type": "code",
   "execution_count": 33,
   "metadata": {},
   "outputs": [
    {
     "name": "stdout",
     "output_type": "stream",
     "text": [
      "Fitting 10 folds for each of 7 candidates, totalling 70 fits\n"
     ]
    },
    {
     "name": "stderr",
     "output_type": "stream",
     "text": [
      "[Parallel(n_jobs=8)]: Using backend LokyBackend with 8 concurrent workers.\n"
     ]
    },
    {
     "name": "stdout",
     "output_type": "stream",
     "text": [
      "Best Hyper Parameters:\n",
      " {'alpha': 150}\n",
      "training score: 0.9868719302719785\n",
      "test score:  0.9872820146184441\n",
      "r2: 0.9872820146184441\n"
     ]
    },
    {
     "name": "stderr",
     "output_type": "stream",
     "text": [
      "[Parallel(n_jobs=8)]: Done  70 out of  70 | elapsed:    0.2s finished\n"
     ]
    }
   ],
   "source": [
    "ridge = Ridge(random_state=0, max_iter=1000000)\n",
    "a_range = [150, 175, 200, 225, 250, 275, 300]\n",
    "tune_param = [{'alpha': a_range}]\n",
    "ridge1 = GridSearchCV(ridge, tune_param, cv=10, n_jobs=8, verbose=2)\n",
    "ridge1.fit(X_train, y_train)\n",
    "print(\"Best Hyper Parameters:\\n\",ridge1.best_params_)\n",
    "prediction=ridge1.predict(X_test)\n",
    "train_score=ridge1.score(X_train,y_train)\n",
    "test_score=ridge1.score(X_test,y_test)\n",
    "prediction=ridge1.predict(X_test)\n",
    "\n",
    "\n",
    "print (\"training score:\", train_score) \n",
    "print (\"test score: \", test_score)\n",
    "print(\"r2:\",metrics.r2_score(y_test,prediction))"
   ]
  },
  {
   "cell_type": "markdown",
   "metadata": {},
   "source": [
    "Ridge with GridSearch too shows higher test score than the train score."
   ]
  },
  {
   "cell_type": "markdown",
   "metadata": {},
   "source": [
    "### 4. Lasso"
   ]
  },
  {
   "cell_type": "code",
   "execution_count": 34,
   "metadata": {},
   "outputs": [
    {
     "name": "stdout",
     "output_type": "stream",
     "text": [
      "[0.9999999800511847, 0.9999999804032993, 0.9999999836529717, 0.9999999992760404, 0.9999999107452332, 0.9999910745233197, 0.9991074523319714]\n",
      "[0.9999999839384249, 0.9999999841911624, 0.9999999865181869, 0.9999999993263111, 0.9999999103610043, 0.9999910361004278, 0.9991036100427847]\n",
      "[0.9999999839369502, 0.9999999841897036, 0.9999999865168815, 0.9999999993262825, 0.99999991030742, 0.9999909822991856, 0.9990475502558074]\n"
     ]
    }
   ],
   "source": [
    "from sklearn.linear_model import Lasso\n",
    "x_range = [0.01, 0.1, 1, 10, 100, 1000, 10000]\n",
    "train_score_list = []\n",
    "test_score_list = []\n",
    "r2_score_array = []\n",
    "\n",
    "for alpha in x_range: \n",
    "    lasso = Lasso(alpha)\n",
    "    lasso.fit(X_train,y_train)\n",
    "    train_score_list.append(lasso.score(X_train,y_train))\n",
    "    test_score_list.append(lasso.score(X_test, y_test))\n",
    "    prediction=lasso.predict(X_test)\n",
    "    r2_score_array.append(metrics.r2_score(prediction,y_test))\n",
    "    \n",
    "print(train_score_list)\n",
    "print(test_score_list)\n",
    "print(r2_score_array)"
   ]
  },
  {
   "cell_type": "code",
   "execution_count": 35,
   "metadata": {},
   "outputs": [
    {
     "data": {
      "text/plain": [
       "Text(0.5, 0, '$\\\\alpha$')"
      ]
     },
     "execution_count": 35,
     "metadata": {},
     "output_type": "execute_result"
    },
    {
     "data": {
      "image/png": "[encoded data removed]",
      "text/plain": [
       "<Figure size 432x288 with 1 Axes>"
      ]
     },
     "metadata": {
      "needs_background": "light"
     },
     "output_type": "display_data"
    }
   ],
   "source": [
    "plt.plot(x_range, train_score_list, c = 'r', label = 'Train Score')\n",
    "plt.plot(x_range, test_score_list, c = 'b', label = 'Test Score')\n",
    "plt.plot(x_range, r2_score_array, c = 'g', label = 'R2 Score')\n",
    "\n",
    "#plt.xscale('log')\n",
    "plt.legend(loc = 3)\n",
    "plt.xlabel(r'$\\alpha$')"
   ]
  },
  {
   "cell_type": "markdown",
   "metadata": {},
   "source": [
    "#### Lasso with GridSearch"
   ]
  },
  {
   "cell_type": "code",
   "execution_count": 36,
   "metadata": {},
   "outputs": [
    {
     "name": "stdout",
     "output_type": "stream",
     "text": [
      "Fitting 10 folds for each of 7 candidates, totalling 70 fits\n"
     ]
    },
    {
     "name": "stderr",
     "output_type": "stream",
     "text": [
      "[Parallel(n_jobs=8)]: Using backend LokyBackend with 8 concurrent workers.\n"
     ]
    },
    {
     "name": "stdout",
     "output_type": "stream",
     "text": [
      "Suitable Hyper Parameter Value of alpha:\n",
      " {'alpha': 10}\n",
      "training score: 0.9999999992760404\n",
      "test score:  0.9999999993263111\n",
      "r2: 0.999999999326311\n",
      "0.9999999989264385\n",
      "10\n"
     ]
    },
    {
     "name": "stderr",
     "output_type": "stream",
     "text": [
      "[Parallel(n_jobs=8)]: Done  70 out of  70 | elapsed:    0.3s finished\n"
     ]
    }
   ],
   "source": [
    "\n",
    "lasso = Lasso(random_state=0, max_iter=1000000)\n",
    "\n",
    "tune_param = [{'alpha': [0.001,0.01,0.1,10,100, 1000, 10000]}]\n",
    "lgrid = GridSearchCV(lasso, tune_param, cv=10, n_jobs=8, verbose=2)\n",
    "lgrid.fit(X_train, y_train)\n",
    "train_score=lgrid.score(X_train,y_train)\n",
    "test_score=lgrid.score(X_test,y_test)\n",
    "print(\"Suitable Hyper Parameter Value of alpha:\\n\",lgrid.best_params_)\n",
    "prediction=lgrid.predict(X_test)\n",
    "print (\"training score:\", train_score) \n",
    "print (\"test score: \", test_score)\n",
    "from sklearn import metrics\n",
    "print(\"r2:\",metrics.r2_score(y_test,prediction))\n",
    "\n",
    "print(lgrid.best_score_)\n",
    "print(lgrid.best_estimator_.alpha)"
   ]
  },
  {
   "cell_type": "markdown",
   "metadata": {},
   "source": [
    "Through both the lasso and with gridsearch, we found that the best value for alpha is 10 where the train, test and R2 scores are most suitable."
   ]
  },
  {
   "cell_type": "markdown",
   "metadata": {},
   "source": [
    "### 5. Support Vector Machine"
   ]
  },
  {
   "cell_type": "code",
   "execution_count": 38,
   "metadata": {},
   "outputs": [
    {
     "name": "stdout",
     "output_type": "stream",
     "text": [
      "training score: 0.7195604321493012\n",
      "test score:  0.7107412878049073\n",
      "r2: 0.7107412878049073\n"
     ]
    }
   ],
   "source": [
    "from sklearn.svm import SVR\n",
    "model1=SVR(kernel='linear',degree=1, gamma='scale', C=100, epsilon=0.2)\n",
    "model1.fit(X_train,y_train)\n",
    "\n",
    "prediction=model1.predict(X_test)\n",
    "train_score=model1.score(X_train,y_train)\n",
    "test_score=model1.score(X_test,y_test)\n",
    "\n",
    "print (\"training score:\", train_score) \n",
    "print (\"test score: \", test_score)\n",
    "print(\"r2:\",metrics.r2_score(y_test,prediction))"
   ]
  },
  {
   "cell_type": "markdown",
   "metadata": {},
   "source": [
    "#### SVR with Grid Search"
   ]
  },
  {
   "cell_type": "code",
   "execution_count": null,
   "metadata": {},
   "outputs": [
    {
     "name": "stderr",
     "output_type": "stream",
     "text": [
      "C:\\Users\\bhumi\\Anaconda3\\lib\\site-packages\\sklearn\\model_selection\\_split.py:1978: FutureWarning: The default value of cv will change from 3 to 5 in version 0.22. Specify it explicitly to silence this warning.\n",
      "  warnings.warn(CV_WARNING, FutureWarning)\n",
      "[Parallel(n_jobs=8)]: Using backend LokyBackend with 8 concurrent workers.\n"
     ]
    },
    {
     "name": "stdout",
     "output_type": "stream",
     "text": [
      "Fitting 3 folds for each of 60 candidates, totalling 180 fits\n"
     ]
    },
    {
     "name": "stderr",
     "output_type": "stream",
     "text": [
      "[Parallel(n_jobs=8)]: Done  25 tasks      | elapsed:    1.2s\n"
     ]
    }
   ],
   "source": [
    "\n",
    "svr= SVR()\n",
    "gamma_svr = [0.01, 0.1, 1, 10, 100]\n",
    "parameters = {'kernel':['rbf', 'poly', 'linear'], 'C': [1, 10, 100, 125], \n",
    "              'gamma': gamma_svr}\n",
    "svr1 = GridSearchCV(svr, parameters, n_jobs=8, verbose=2)\n",
    "svr1.fit(X_train, y_train)\n",
    "print(\"Best HypConclusion:\n",
    "- The best machine learning model for this dataset is linear regression with perfect train and test score, however considering all the scenarios model which works the best is the ridge with aplha value 150.  er Parameters:\\n\",svr1.best_params_)\n",
    "prediction=svr1.predict(X_test)\n",
    "train_score=svr1.score(X_train,y_train)\n",
    "test_score=svr1.score(X_test,y_test)\n",
    "print (\"training score:\", train_score) \n",
    "print (\"test score: \", test_score) \n",
    "print(\"r2:\",metrics.r2_score(y_test,prediction))"
   ]
  },
  {
   "cell_type": "markdown",
   "metadata": {},
   "source": [
    "### Conclusion:\n",
    "- The best machine learning model for this dataset is linear regression with perfect train and test score, however considering all the scenarios model which works the best is the ridge with aplha value 150.  "
   ]
  },
  {
   "cell_type": "markdown",
   "metadata": {},
   "source": [
    "## Classification \n",
    "\n",
    " Link to source file : https://www.kaggle.com/iabhishekofficial/mobile-price-classification#train.csv\n",
    " \n",
    " 1) We have considered the train.csv file for our classification project.\n",
    " \n",
    " 2) The test.csv file did not have the target columns which would make it difficult to find the accuracy of the models.\n",
    " \n",
    " 3) Our aim is to predict the price intensity of the Mobile phones based on its features.\n",
    " \n",
    " 4) We built KNN classification, Logistic Regression, Linear Support Vector Machine, Kerenilzed Support Vector Machine (rbf, poly, and linear), Decision Tree models on our dataset.\n",
    " \n",
    "5) Grid SearchCv was used to find the best hyperparameters for the given model.\n",
    "\n",
    "6) Average Train and Test score was calculated using the cross- validation.\n",
    "\n",
    "7) Lastly, all the models were compared to find the best model for the given dataset."
   ]
  },
  {
   "cell_type": "markdown",
   "metadata": {},
   "source": [
    "#### Importing Libraries and Reading File"
   ]
  },
  {
   "cell_type": "code",
   "execution_count": 1,
   "metadata": {},
   "outputs": [],
   "source": [
    "import numpy as np\n",
    "import pandas as pd\n",
    "import matplotlib.pyplot as plt\n",
    "import seaborn as sns\n",
    "import warnings\n",
    "warnings.filterwarnings('ignore')"
   ]
  },
  {
   "cell_type": "code",
   "execution_count": 2,
   "metadata": {},
   "outputs": [
    {
     "data": {
      "text/html": [
       "<div>\n",
       "<style scoped>\n",
       "    .dataframe tbody tr th:only-of-type {\n",
       "        vertical-align: middle;\n",
       "    }\n",
       "\n",
       "    .dataframe tbody tr th {\n",
       "        vertical-align: top;\n",
       "    }\n",
       "\n",
       "    .dataframe thead th {\n",
       "        text-align: right;\n",
       "    }\n",
       "</style>\n",
       "<table border=\"1\" class=\"dataframe\">\n",
       "  <thead>\n",
       "    <tr style=\"text-align: right;\">\n",
       "      <th></th>\n",
       "      <th>battery_power</th>\n",
       "      <th>blue</th>\n",
       "      <th>clock_speed</th>\n",
       "      <th>dual_sim</th>\n",
       "      <th>fc</th>\n",
       "      <th>four_g</th>\n",
       "      <th>int_memory</th>\n",
       "      <th>m_dep</th>\n",
       "      <th>mobile_wt</th>\n",
       "      <th>n_cores</th>\n",
       "      <th>...</th>\n",
       "      <th>px_height</th>\n",
       "      <th>px_width</th>\n",
       "      <th>ram</th>\n",
       "      <th>sc_h</th>\n",
       "      <th>sc_w</th>\n",
       "      <th>talk_time</th>\n",
       "      <th>three_g</th>\n",
       "      <th>touch_screen</th>\n",
       "      <th>wifi</th>\n",
       "      <th>price_range</th>\n",
       "    </tr>\n",
       "  </thead>\n",
       "  <tbody>\n",
       "    <tr>\n",
       "      <td>0</td>\n",
       "      <td>842</td>\n",
       "      <td>0</td>\n",
       "      <td>2.2</td>\n",
       "      <td>0</td>\n",
       "      <td>1</td>\n",
       "      <td>0</td>\n",
       "      <td>7</td>\n",
       "      <td>0.6</td>\n",
       "      <td>188</td>\n",
       "      <td>2</td>\n",
       "      <td>...</td>\n",
       "      <td>20.0</td>\n",
       "      <td>756</td>\n",
       "      <td>2549</td>\n",
       "      <td>9</td>\n",
       "      <td>7</td>\n",
       "      <td>19</td>\n",
       "      <td>0</td>\n",
       "      <td>0</td>\n",
       "      <td>1</td>\n",
       "      <td>1</td>\n",
       "    </tr>\n",
       "    <tr>\n",
       "      <td>1</td>\n",
       "      <td>1021</td>\n",
       "      <td>1</td>\n",
       "      <td>0.5</td>\n",
       "      <td>1</td>\n",
       "      <td>0</td>\n",
       "      <td>1</td>\n",
       "      <td>53</td>\n",
       "      <td>0.7</td>\n",
       "      <td>136</td>\n",
       "      <td>3</td>\n",
       "      <td>...</td>\n",
       "      <td>905.0</td>\n",
       "      <td>1988</td>\n",
       "      <td>2631</td>\n",
       "      <td>17</td>\n",
       "      <td>3</td>\n",
       "      <td>7</td>\n",
       "      <td>1</td>\n",
       "      <td>1</td>\n",
       "      <td>0</td>\n",
       "      <td>2</td>\n",
       "    </tr>\n",
       "    <tr>\n",
       "      <td>2</td>\n",
       "      <td>563</td>\n",
       "      <td>1</td>\n",
       "      <td>0.5</td>\n",
       "      <td>1</td>\n",
       "      <td>2</td>\n",
       "      <td>1</td>\n",
       "      <td>41</td>\n",
       "      <td>0.9</td>\n",
       "      <td>145</td>\n",
       "      <td>5</td>\n",
       "      <td>...</td>\n",
       "      <td>1263.0</td>\n",
       "      <td>1716</td>\n",
       "      <td>2603</td>\n",
       "      <td>11</td>\n",
       "      <td>2</td>\n",
       "      <td>9</td>\n",
       "      <td>1</td>\n",
       "      <td>1</td>\n",
       "      <td>0</td>\n",
       "      <td>2</td>\n",
       "    </tr>\n",
       "    <tr>\n",
       "      <td>3</td>\n",
       "      <td>615</td>\n",
       "      <td>1</td>\n",
       "      <td>2.5</td>\n",
       "      <td>0</td>\n",
       "      <td>0</td>\n",
       "      <td>0</td>\n",
       "      <td>10</td>\n",
       "      <td>0.8</td>\n",
       "      <td>131</td>\n",
       "      <td>6</td>\n",
       "      <td>...</td>\n",
       "      <td>NaN</td>\n",
       "      <td>1786</td>\n",
       "      <td>2769</td>\n",
       "      <td>16</td>\n",
       "      <td>8</td>\n",
       "      <td>11</td>\n",
       "      <td>1</td>\n",
       "      <td>0</td>\n",
       "      <td>0</td>\n",
       "      <td>2</td>\n",
       "    </tr>\n",
       "    <tr>\n",
       "      <td>4</td>\n",
       "      <td>1821</td>\n",
       "      <td>1</td>\n",
       "      <td>1.2</td>\n",
       "      <td>0</td>\n",
       "      <td>13</td>\n",
       "      <td>1</td>\n",
       "      <td>44</td>\n",
       "      <td>0.6</td>\n",
       "      <td>141</td>\n",
       "      <td>2</td>\n",
       "      <td>...</td>\n",
       "      <td>1208.0</td>\n",
       "      <td>1212</td>\n",
       "      <td>1411</td>\n",
       "      <td>8</td>\n",
       "      <td>2</td>\n",
       "      <td>15</td>\n",
       "      <td>1</td>\n",
       "      <td>1</td>\n",
       "      <td>0</td>\n",
       "      <td>1</td>\n",
       "    </tr>\n",
       "  </tbody>\n",
       "</table>\n",
       "<p>5 rows × 21 columns</p>\n",
       "</div>"
      ],
      "text/plain": [
       "   battery_power  blue  clock_speed  dual_sim  fc  four_g  int_memory  m_dep  \\\n",
       "0            842     0          2.2         0   1       0           7    0.6   \n",
       "1           1021     1          0.5         1   0       1          53    0.7   \n",
       "2            563     1          0.5         1   2       1          41    0.9   \n",
       "3            615     1          2.5         0   0       0          10    0.8   \n",
       "4           1821     1          1.2         0  13       1          44    0.6   \n",
       "\n",
       "   mobile_wt  n_cores  ...  px_height  px_width   ram  sc_h  sc_w  talk_time  \\\n",
       "0        188        2  ...       20.0       756  2549     9     7         19   \n",
       "1        136        3  ...      905.0      1988  2631    17     3          7   \n",
       "2        145        5  ...     1263.0      1716  2603    11     2          9   \n",
       "3        131        6  ...        NaN      1786  2769    16     8         11   \n",
       "4        141        2  ...     1208.0      1212  1411     8     2         15   \n",
       "\n",
       "   three_g  touch_screen  wifi  price_range  \n",
       "0        0             0     1            1  \n",
       "1        1             1     0            2  \n",
       "2        1             1     0            2  \n",
       "3        1             0     0            2  \n",
       "4        1             1     0            1  \n",
       "\n",
       "[5 rows x 21 columns]"
      ]
     },
     "execution_count": 2,
     "metadata": {},
     "output_type": "execute_result"
    }
   ],
   "source": [
    "mb = pd.read_csv('Mobile_price_classification.csv')\n",
    "mb.head()"
   ]
  },
  {
   "cell_type": "code",
   "execution_count": 3,
   "metadata": {},
   "outputs": [
    {
     "data": {
      "text/plain": [
       "(2000, 21)"
      ]
     },
     "execution_count": 3,
     "metadata": {},
     "output_type": "execute_result"
    }
   ],
   "source": [
    "mb.shape"
   ]
  },
  {
   "cell_type": "code",
   "execution_count": 4,
   "metadata": {
    "scrolled": true
   },
   "outputs": [
    {
     "data": {
      "text/html": [
       "<div>\n",
       "<style scoped>\n",
       "    .dataframe tbody tr th:only-of-type {\n",
       "        vertical-align: middle;\n",
       "    }\n",
       "\n",
       "    .dataframe tbody tr th {\n",
       "        vertical-align: top;\n",
       "    }\n",
       "\n",
       "    .dataframe thead th {\n",
       "        text-align: right;\n",
       "    }\n",
       "</style>\n",
       "<table border=\"1\" class=\"dataframe\">\n",
       "  <thead>\n",
       "    <tr style=\"text-align: right;\">\n",
       "      <th></th>\n",
       "      <th>battery_power</th>\n",
       "      <th>blue</th>\n",
       "      <th>clock_speed</th>\n",
       "      <th>dual_sim</th>\n",
       "      <th>fc</th>\n",
       "      <th>four_g</th>\n",
       "      <th>int_memory</th>\n",
       "      <th>m_dep</th>\n",
       "      <th>mobile_wt</th>\n",
       "      <th>n_cores</th>\n",
       "      <th>...</th>\n",
       "      <th>px_height</th>\n",
       "      <th>px_width</th>\n",
       "      <th>ram</th>\n",
       "      <th>sc_h</th>\n",
       "      <th>sc_w</th>\n",
       "      <th>talk_time</th>\n",
       "      <th>three_g</th>\n",
       "      <th>touch_screen</th>\n",
       "      <th>wifi</th>\n",
       "      <th>price_range</th>\n",
       "    </tr>\n",
       "  </thead>\n",
       "  <tbody>\n",
       "    <tr>\n",
       "      <td>count</td>\n",
       "      <td>2000.000000</td>\n",
       "      <td>2000.0000</td>\n",
       "      <td>2000.000000</td>\n",
       "      <td>2000.000000</td>\n",
       "      <td>2000.000000</td>\n",
       "      <td>2000.000000</td>\n",
       "      <td>2000.000000</td>\n",
       "      <td>2000.000000</td>\n",
       "      <td>2000.000000</td>\n",
       "      <td>2000.000000</td>\n",
       "      <td>...</td>\n",
       "      <td>1980.000000</td>\n",
       "      <td>2000.000000</td>\n",
       "      <td>2000.000000</td>\n",
       "      <td>2000.000000</td>\n",
       "      <td>2000.000000</td>\n",
       "      <td>2000.000000</td>\n",
       "      <td>2000.000000</td>\n",
       "      <td>2000.000000</td>\n",
       "      <td>2000.000000</td>\n",
       "      <td>2000.000000</td>\n",
       "    </tr>\n",
       "    <tr>\n",
       "      <td>mean</td>\n",
       "      <td>1238.518500</td>\n",
       "      <td>0.4950</td>\n",
       "      <td>1.522250</td>\n",
       "      <td>0.509500</td>\n",
       "      <td>4.309500</td>\n",
       "      <td>0.521500</td>\n",
       "      <td>32.046500</td>\n",
       "      <td>0.501750</td>\n",
       "      <td>140.249000</td>\n",
       "      <td>4.520500</td>\n",
       "      <td>...</td>\n",
       "      <td>645.570202</td>\n",
       "      <td>1251.515500</td>\n",
       "      <td>2124.213000</td>\n",
       "      <td>12.306500</td>\n",
       "      <td>5.767000</td>\n",
       "      <td>11.011000</td>\n",
       "      <td>0.761500</td>\n",
       "      <td>0.503000</td>\n",
       "      <td>0.507000</td>\n",
       "      <td>1.500000</td>\n",
       "    </tr>\n",
       "    <tr>\n",
       "      <td>std</td>\n",
       "      <td>439.418206</td>\n",
       "      <td>0.5001</td>\n",
       "      <td>0.816004</td>\n",
       "      <td>0.500035</td>\n",
       "      <td>4.341444</td>\n",
       "      <td>0.499662</td>\n",
       "      <td>18.145715</td>\n",
       "      <td>0.288416</td>\n",
       "      <td>35.399655</td>\n",
       "      <td>2.287837</td>\n",
       "      <td>...</td>\n",
       "      <td>444.037051</td>\n",
       "      <td>432.199447</td>\n",
       "      <td>1084.732044</td>\n",
       "      <td>4.213245</td>\n",
       "      <td>4.356398</td>\n",
       "      <td>5.463955</td>\n",
       "      <td>0.426273</td>\n",
       "      <td>0.500116</td>\n",
       "      <td>0.500076</td>\n",
       "      <td>1.118314</td>\n",
       "    </tr>\n",
       "    <tr>\n",
       "      <td>min</td>\n",
       "      <td>501.000000</td>\n",
       "      <td>0.0000</td>\n",
       "      <td>0.500000</td>\n",
       "      <td>0.000000</td>\n",
       "      <td>0.000000</td>\n",
       "      <td>0.000000</td>\n",
       "      <td>2.000000</td>\n",
       "      <td>0.100000</td>\n",
       "      <td>80.000000</td>\n",
       "      <td>1.000000</td>\n",
       "      <td>...</td>\n",
       "      <td>0.000000</td>\n",
       "      <td>500.000000</td>\n",
       "      <td>256.000000</td>\n",
       "      <td>5.000000</td>\n",
       "      <td>0.000000</td>\n",
       "      <td>2.000000</td>\n",
       "      <td>0.000000</td>\n",
       "      <td>0.000000</td>\n",
       "      <td>0.000000</td>\n",
       "      <td>0.000000</td>\n",
       "    </tr>\n",
       "    <tr>\n",
       "      <td>25%</td>\n",
       "      <td>851.750000</td>\n",
       "      <td>0.0000</td>\n",
       "      <td>0.700000</td>\n",
       "      <td>0.000000</td>\n",
       "      <td>1.000000</td>\n",
       "      <td>0.000000</td>\n",
       "      <td>16.000000</td>\n",
       "      <td>0.200000</td>\n",
       "      <td>109.000000</td>\n",
       "      <td>3.000000</td>\n",
       "      <td>...</td>\n",
       "      <td>282.750000</td>\n",
       "      <td>874.750000</td>\n",
       "      <td>1207.500000</td>\n",
       "      <td>9.000000</td>\n",
       "      <td>2.000000</td>\n",
       "      <td>6.000000</td>\n",
       "      <td>1.000000</td>\n",
       "      <td>0.000000</td>\n",
       "      <td>0.000000</td>\n",
       "      <td>0.750000</td>\n",
       "    </tr>\n",
       "    <tr>\n",
       "      <td>50%</td>\n",
       "      <td>1226.000000</td>\n",
       "      <td>0.0000</td>\n",
       "      <td>1.500000</td>\n",
       "      <td>1.000000</td>\n",
       "      <td>3.000000</td>\n",
       "      <td>1.000000</td>\n",
       "      <td>32.000000</td>\n",
       "      <td>0.500000</td>\n",
       "      <td>141.000000</td>\n",
       "      <td>4.000000</td>\n",
       "      <td>...</td>\n",
       "      <td>565.500000</td>\n",
       "      <td>1247.000000</td>\n",
       "      <td>2146.500000</td>\n",
       "      <td>12.000000</td>\n",
       "      <td>5.000000</td>\n",
       "      <td>11.000000</td>\n",
       "      <td>1.000000</td>\n",
       "      <td>1.000000</td>\n",
       "      <td>1.000000</td>\n",
       "      <td>1.500000</td>\n",
       "    </tr>\n",
       "    <tr>\n",
       "      <td>75%</td>\n",
       "      <td>1615.250000</td>\n",
       "      <td>1.0000</td>\n",
       "      <td>2.200000</td>\n",
       "      <td>1.000000</td>\n",
       "      <td>7.000000</td>\n",
       "      <td>1.000000</td>\n",
       "      <td>48.000000</td>\n",
       "      <td>0.800000</td>\n",
       "      <td>170.000000</td>\n",
       "      <td>7.000000</td>\n",
       "      <td>...</td>\n",
       "      <td>948.000000</td>\n",
       "      <td>1633.000000</td>\n",
       "      <td>3064.500000</td>\n",
       "      <td>16.000000</td>\n",
       "      <td>9.000000</td>\n",
       "      <td>16.000000</td>\n",
       "      <td>1.000000</td>\n",
       "      <td>1.000000</td>\n",
       "      <td>1.000000</td>\n",
       "      <td>2.250000</td>\n",
       "    </tr>\n",
       "    <tr>\n",
       "      <td>max</td>\n",
       "      <td>1998.000000</td>\n",
       "      <td>1.0000</td>\n",
       "      <td>3.000000</td>\n",
       "      <td>1.000000</td>\n",
       "      <td>19.000000</td>\n",
       "      <td>1.000000</td>\n",
       "      <td>64.000000</td>\n",
       "      <td>1.000000</td>\n",
       "      <td>200.000000</td>\n",
       "      <td>8.000000</td>\n",
       "      <td>...</td>\n",
       "      <td>1960.000000</td>\n",
       "      <td>1998.000000</td>\n",
       "      <td>3998.000000</td>\n",
       "      <td>19.000000</td>\n",
       "      <td>18.000000</td>\n",
       "      <td>20.000000</td>\n",
       "      <td>1.000000</td>\n",
       "      <td>1.000000</td>\n",
       "      <td>1.000000</td>\n",
       "      <td>3.000000</td>\n",
       "    </tr>\n",
       "  </tbody>\n",
       "</table>\n",
       "<p>8 rows × 21 columns</p>\n",
       "</div>"
      ],
      "text/plain": [
       "       battery_power       blue  clock_speed     dual_sim           fc  \\\n",
       "count    2000.000000  2000.0000  2000.000000  2000.000000  2000.000000   \n",
       "mean     1238.518500     0.4950     1.522250     0.509500     4.309500   \n",
       "std       439.418206     0.5001     0.816004     0.500035     4.341444   \n",
       "min       501.000000     0.0000     0.500000     0.000000     0.000000   \n",
       "25%       851.750000     0.0000     0.700000     0.000000     1.000000   \n",
       "50%      1226.000000     0.0000     1.500000     1.000000     3.000000   \n",
       "75%      1615.250000     1.0000     2.200000     1.000000     7.000000   \n",
       "max      1998.000000     1.0000     3.000000     1.000000    19.000000   \n",
       "\n",
       "            four_g   int_memory        m_dep    mobile_wt      n_cores  ...  \\\n",
       "count  2000.000000  2000.000000  2000.000000  2000.000000  2000.000000  ...   \n",
       "mean      0.521500    32.046500     0.501750   140.249000     4.520500  ...   \n",
       "std       0.499662    18.145715     0.288416    35.399655     2.287837  ...   \n",
       "min       0.000000     2.000000     0.100000    80.000000     1.000000  ...   \n",
       "25%       0.000000    16.000000     0.200000   109.000000     3.000000  ...   \n",
       "50%       1.000000    32.000000     0.500000   141.000000     4.000000  ...   \n",
       "75%       1.000000    48.000000     0.800000   170.000000     7.000000  ...   \n",
       "max       1.000000    64.000000     1.000000   200.000000     8.000000  ...   \n",
       "\n",
       "         px_height     px_width          ram         sc_h         sc_w  \\\n",
       "count  1980.000000  2000.000000  2000.000000  2000.000000  2000.000000   \n",
       "mean    645.570202  1251.515500  2124.213000    12.306500     5.767000   \n",
       "std     444.037051   432.199447  1084.732044     4.213245     4.356398   \n",
       "min       0.000000   500.000000   256.000000     5.000000     0.000000   \n",
       "25%     282.750000   874.750000  1207.500000     9.000000     2.000000   \n",
       "50%     565.500000  1247.000000  2146.500000    12.000000     5.000000   \n",
       "75%     948.000000  1633.000000  3064.500000    16.000000     9.000000   \n",
       "max    1960.000000  1998.000000  3998.000000    19.000000    18.000000   \n",
       "\n",
       "         talk_time      three_g  touch_screen         wifi  price_range  \n",
       "count  2000.000000  2000.000000   2000.000000  2000.000000  2000.000000  \n",
       "mean     11.011000     0.761500      0.503000     0.507000     1.500000  \n",
       "std       5.463955     0.426273      0.500116     0.500076     1.118314  \n",
       "min       2.000000     0.000000      0.000000     0.000000     0.000000  \n",
       "25%       6.000000     1.000000      0.000000     0.000000     0.750000  \n",
       "50%      11.000000     1.000000      1.000000     1.000000     1.500000  \n",
       "75%      16.000000     1.000000      1.000000     1.000000     2.250000  \n",
       "max      20.000000     1.000000      1.000000     1.000000     3.000000  \n",
       "\n",
       "[8 rows x 21 columns]"
      ]
     },
     "execution_count": 4,
     "metadata": {},
     "output_type": "execute_result"
    }
   ],
   "source": [
    "mb.describe()"
   ]
  },
  {
   "cell_type": "code",
   "execution_count": 5,
   "metadata": {},
   "outputs": [
    {
     "data": {
      "text/plain": [
       "<matplotlib.axes._subplots.AxesSubplot at 0x24ca5ca7608>"
      ]
     },
     "execution_count": 5,
     "metadata": {},
     "output_type": "execute_result"
    },
    {
     "data": {
      "image/png": "[encoded data removed]",
      "text/plain": [
       "<Figure size 864x864 with 2 Axes>"
      ]
     },
     "metadata": {
      "needs_background": "light"
     },
     "output_type": "display_data"
    }
   ],
   "source": [
    "a= mb.corr()\n",
    "fig=plt.figure(figsize=(12,12))\n",
    "sns.heatmap(a,annot= True,linewidths=3)"
   ]
  },
  {
   "cell_type": "code",
   "execution_count": 6,
   "metadata": {},
   "outputs": [
    {
     "data": {
      "text/html": [
       "<div>\n",
       "<style scoped>\n",
       "    .dataframe tbody tr th:only-of-type {\n",
       "        vertical-align: middle;\n",
       "    }\n",
       "\n",
       "    .dataframe tbody tr th {\n",
       "        vertical-align: top;\n",
       "    }\n",
       "\n",
       "    .dataframe thead th {\n",
       "        text-align: right;\n",
       "    }\n",
       "</style>\n",
       "<table border=\"1\" class=\"dataframe\">\n",
       "  <thead>\n",
       "    <tr style=\"text-align: right;\">\n",
       "      <th></th>\n",
       "      <th>battery_power</th>\n",
       "      <th>blue</th>\n",
       "      <th>clock_speed</th>\n",
       "      <th>dual_sim</th>\n",
       "      <th>fc</th>\n",
       "      <th>four_g</th>\n",
       "      <th>int_memory</th>\n",
       "      <th>m_dep</th>\n",
       "      <th>mobile_wt</th>\n",
       "      <th>n_cores</th>\n",
       "      <th>...</th>\n",
       "      <th>px_height</th>\n",
       "      <th>px_width</th>\n",
       "      <th>ram</th>\n",
       "      <th>sc_h</th>\n",
       "      <th>sc_w</th>\n",
       "      <th>talk_time</th>\n",
       "      <th>three_g</th>\n",
       "      <th>touch_screen</th>\n",
       "      <th>wifi</th>\n",
       "      <th>price_range</th>\n",
       "    </tr>\n",
       "  </thead>\n",
       "  <tbody>\n",
       "    <tr>\n",
       "      <td>battery_power</td>\n",
       "      <td>1.000000</td>\n",
       "      <td>0.011252</td>\n",
       "      <td>0.011482</td>\n",
       "      <td>-0.041847</td>\n",
       "      <td>0.033334</td>\n",
       "      <td>0.015665</td>\n",
       "      <td>-0.004004</td>\n",
       "      <td>0.034085</td>\n",
       "      <td>0.001844</td>\n",
       "      <td>-0.029727</td>\n",
       "      <td>...</td>\n",
       "      <td>0.017185</td>\n",
       "      <td>-0.008402</td>\n",
       "      <td>-0.000653</td>\n",
       "      <td>-0.029959</td>\n",
       "      <td>-0.021421</td>\n",
       "      <td>0.052510</td>\n",
       "      <td>0.011522</td>\n",
       "      <td>-0.010516</td>\n",
       "      <td>-0.008343</td>\n",
       "      <td>0.200723</td>\n",
       "    </tr>\n",
       "    <tr>\n",
       "      <td>blue</td>\n",
       "      <td>0.011252</td>\n",
       "      <td>1.000000</td>\n",
       "      <td>0.021419</td>\n",
       "      <td>0.035198</td>\n",
       "      <td>0.003593</td>\n",
       "      <td>0.013443</td>\n",
       "      <td>0.041177</td>\n",
       "      <td>0.004049</td>\n",
       "      <td>-0.008605</td>\n",
       "      <td>0.036161</td>\n",
       "      <td>...</td>\n",
       "      <td>-0.005568</td>\n",
       "      <td>-0.041533</td>\n",
       "      <td>0.026351</td>\n",
       "      <td>-0.002952</td>\n",
       "      <td>0.000613</td>\n",
       "      <td>0.013934</td>\n",
       "      <td>-0.030236</td>\n",
       "      <td>0.010061</td>\n",
       "      <td>-0.021863</td>\n",
       "      <td>0.020573</td>\n",
       "    </tr>\n",
       "    <tr>\n",
       "      <td>clock_speed</td>\n",
       "      <td>0.011482</td>\n",
       "      <td>0.021419</td>\n",
       "      <td>1.000000</td>\n",
       "      <td>-0.001315</td>\n",
       "      <td>-0.000434</td>\n",
       "      <td>-0.043073</td>\n",
       "      <td>0.006545</td>\n",
       "      <td>-0.014364</td>\n",
       "      <td>0.012350</td>\n",
       "      <td>-0.005724</td>\n",
       "      <td>...</td>\n",
       "      <td>-0.017244</td>\n",
       "      <td>-0.009476</td>\n",
       "      <td>0.003443</td>\n",
       "      <td>-0.029078</td>\n",
       "      <td>-0.007378</td>\n",
       "      <td>-0.011432</td>\n",
       "      <td>-0.046433</td>\n",
       "      <td>0.019756</td>\n",
       "      <td>-0.024471</td>\n",
       "      <td>-0.006606</td>\n",
       "    </tr>\n",
       "    <tr>\n",
       "      <td>dual_sim</td>\n",
       "      <td>-0.041847</td>\n",
       "      <td>0.035198</td>\n",
       "      <td>-0.001315</td>\n",
       "      <td>1.000000</td>\n",
       "      <td>-0.029123</td>\n",
       "      <td>0.003187</td>\n",
       "      <td>-0.015679</td>\n",
       "      <td>-0.022142</td>\n",
       "      <td>-0.008979</td>\n",
       "      <td>-0.024658</td>\n",
       "      <td>...</td>\n",
       "      <td>-0.018372</td>\n",
       "      <td>0.014291</td>\n",
       "      <td>0.041072</td>\n",
       "      <td>-0.011949</td>\n",
       "      <td>-0.016666</td>\n",
       "      <td>-0.039404</td>\n",
       "      <td>-0.014008</td>\n",
       "      <td>-0.017117</td>\n",
       "      <td>0.022740</td>\n",
       "      <td>0.017444</td>\n",
       "    </tr>\n",
       "    <tr>\n",
       "      <td>fc</td>\n",
       "      <td>0.033334</td>\n",
       "      <td>0.003593</td>\n",
       "      <td>-0.000434</td>\n",
       "      <td>-0.029123</td>\n",
       "      <td>1.000000</td>\n",
       "      <td>-0.016560</td>\n",
       "      <td>-0.029133</td>\n",
       "      <td>-0.001791</td>\n",
       "      <td>0.023618</td>\n",
       "      <td>-0.013356</td>\n",
       "      <td>...</td>\n",
       "      <td>-0.006322</td>\n",
       "      <td>-0.005176</td>\n",
       "      <td>0.015099</td>\n",
       "      <td>-0.011014</td>\n",
       "      <td>-0.012373</td>\n",
       "      <td>-0.006829</td>\n",
       "      <td>0.001793</td>\n",
       "      <td>-0.014828</td>\n",
       "      <td>0.020085</td>\n",
       "      <td>0.021998</td>\n",
       "    </tr>\n",
       "    <tr>\n",
       "      <td>four_g</td>\n",
       "      <td>0.015665</td>\n",
       "      <td>0.013443</td>\n",
       "      <td>-0.043073</td>\n",
       "      <td>0.003187</td>\n",
       "      <td>-0.016560</td>\n",
       "      <td>1.000000</td>\n",
       "      <td>0.008690</td>\n",
       "      <td>-0.001823</td>\n",
       "      <td>-0.016537</td>\n",
       "      <td>-0.029706</td>\n",
       "      <td>...</td>\n",
       "      <td>-0.015827</td>\n",
       "      <td>0.007448</td>\n",
       "      <td>0.007313</td>\n",
       "      <td>0.027166</td>\n",
       "      <td>0.037005</td>\n",
       "      <td>-0.046628</td>\n",
       "      <td>0.584246</td>\n",
       "      <td>0.016758</td>\n",
       "      <td>-0.017620</td>\n",
       "      <td>0.014772</td>\n",
       "    </tr>\n",
       "    <tr>\n",
       "      <td>int_memory</td>\n",
       "      <td>-0.004004</td>\n",
       "      <td>0.041177</td>\n",
       "      <td>0.006545</td>\n",
       "      <td>-0.015679</td>\n",
       "      <td>-0.029133</td>\n",
       "      <td>0.008690</td>\n",
       "      <td>1.000000</td>\n",
       "      <td>0.006886</td>\n",
       "      <td>-0.034214</td>\n",
       "      <td>-0.028310</td>\n",
       "      <td>...</td>\n",
       "      <td>0.009138</td>\n",
       "      <td>-0.008335</td>\n",
       "      <td>0.032813</td>\n",
       "      <td>0.037771</td>\n",
       "      <td>0.011731</td>\n",
       "      <td>-0.002790</td>\n",
       "      <td>-0.009366</td>\n",
       "      <td>-0.026999</td>\n",
       "      <td>0.006993</td>\n",
       "      <td>0.044435</td>\n",
       "    </tr>\n",
       "    <tr>\n",
       "      <td>m_dep</td>\n",
       "      <td>0.034085</td>\n",
       "      <td>0.004049</td>\n",
       "      <td>-0.014364</td>\n",
       "      <td>-0.022142</td>\n",
       "      <td>-0.001791</td>\n",
       "      <td>-0.001823</td>\n",
       "      <td>0.006886</td>\n",
       "      <td>1.000000</td>\n",
       "      <td>0.021756</td>\n",
       "      <td>-0.003504</td>\n",
       "      <td>...</td>\n",
       "      <td>0.024794</td>\n",
       "      <td>0.023566</td>\n",
       "      <td>-0.009434</td>\n",
       "      <td>-0.025348</td>\n",
       "      <td>-0.018388</td>\n",
       "      <td>0.017003</td>\n",
       "      <td>-0.012065</td>\n",
       "      <td>-0.002638</td>\n",
       "      <td>-0.028353</td>\n",
       "      <td>0.000853</td>\n",
       "    </tr>\n",
       "    <tr>\n",
       "      <td>mobile_wt</td>\n",
       "      <td>0.001844</td>\n",
       "      <td>-0.008605</td>\n",
       "      <td>0.012350</td>\n",
       "      <td>-0.008979</td>\n",
       "      <td>0.023618</td>\n",
       "      <td>-0.016537</td>\n",
       "      <td>-0.034214</td>\n",
       "      <td>0.021756</td>\n",
       "      <td>1.000000</td>\n",
       "      <td>-0.018989</td>\n",
       "      <td>...</td>\n",
       "      <td>0.000876</td>\n",
       "      <td>0.000090</td>\n",
       "      <td>-0.002581</td>\n",
       "      <td>-0.033855</td>\n",
       "      <td>-0.020761</td>\n",
       "      <td>0.006209</td>\n",
       "      <td>0.001551</td>\n",
       "      <td>-0.014368</td>\n",
       "      <td>-0.000409</td>\n",
       "      <td>-0.030302</td>\n",
       "    </tr>\n",
       "    <tr>\n",
       "      <td>n_cores</td>\n",
       "      <td>-0.029727</td>\n",
       "      <td>0.036161</td>\n",
       "      <td>-0.005724</td>\n",
       "      <td>-0.024658</td>\n",
       "      <td>-0.013356</td>\n",
       "      <td>-0.029706</td>\n",
       "      <td>-0.028310</td>\n",
       "      <td>-0.003504</td>\n",
       "      <td>-0.018989</td>\n",
       "      <td>1.000000</td>\n",
       "      <td>...</td>\n",
       "      <td>-0.005603</td>\n",
       "      <td>0.024480</td>\n",
       "      <td>0.004868</td>\n",
       "      <td>-0.000315</td>\n",
       "      <td>0.025826</td>\n",
       "      <td>0.013148</td>\n",
       "      <td>-0.014733</td>\n",
       "      <td>0.023774</td>\n",
       "      <td>-0.009964</td>\n",
       "      <td>0.004399</td>\n",
       "    </tr>\n",
       "    <tr>\n",
       "      <td>pc</td>\n",
       "      <td>0.029165</td>\n",
       "      <td>-0.023896</td>\n",
       "      <td>-0.001192</td>\n",
       "      <td>-0.020339</td>\n",
       "      <td>0.637348</td>\n",
       "      <td>-0.000226</td>\n",
       "      <td>-0.035234</td>\n",
       "      <td>0.033499</td>\n",
       "      <td>0.012597</td>\n",
       "      <td>0.004369</td>\n",
       "      <td>...</td>\n",
       "      <td>-0.021903</td>\n",
       "      <td>0.009914</td>\n",
       "      <td>0.031632</td>\n",
       "      <td>-0.000751</td>\n",
       "      <td>-0.024371</td>\n",
       "      <td>0.011695</td>\n",
       "      <td>0.002423</td>\n",
       "      <td>0.002502</td>\n",
       "      <td>0.003230</td>\n",
       "      <td>0.034910</td>\n",
       "    </tr>\n",
       "    <tr>\n",
       "      <td>px_height</td>\n",
       "      <td>0.017185</td>\n",
       "      <td>-0.005568</td>\n",
       "      <td>-0.017244</td>\n",
       "      <td>-0.018372</td>\n",
       "      <td>-0.006322</td>\n",
       "      <td>-0.015827</td>\n",
       "      <td>0.009138</td>\n",
       "      <td>0.024794</td>\n",
       "      <td>0.000876</td>\n",
       "      <td>-0.005603</td>\n",
       "      <td>...</td>\n",
       "      <td>1.000000</td>\n",
       "      <td>0.510447</td>\n",
       "      <td>-0.017722</td>\n",
       "      <td>0.061015</td>\n",
       "      <td>0.041000</td>\n",
       "      <td>-0.007820</td>\n",
       "      <td>-0.032708</td>\n",
       "      <td>0.020196</td>\n",
       "      <td>0.051695</td>\n",
       "      <td>0.152206</td>\n",
       "    </tr>\n",
       "    <tr>\n",
       "      <td>px_width</td>\n",
       "      <td>-0.008402</td>\n",
       "      <td>-0.041533</td>\n",
       "      <td>-0.009476</td>\n",
       "      <td>0.014291</td>\n",
       "      <td>-0.005176</td>\n",
       "      <td>0.007448</td>\n",
       "      <td>-0.008335</td>\n",
       "      <td>0.023566</td>\n",
       "      <td>0.000090</td>\n",
       "      <td>0.024480</td>\n",
       "      <td>...</td>\n",
       "      <td>0.510447</td>\n",
       "      <td>1.000000</td>\n",
       "      <td>0.004105</td>\n",
       "      <td>0.021599</td>\n",
       "      <td>0.034699</td>\n",
       "      <td>0.006720</td>\n",
       "      <td>0.000350</td>\n",
       "      <td>-0.001628</td>\n",
       "      <td>0.030319</td>\n",
       "      <td>0.165818</td>\n",
       "    </tr>\n",
       "    <tr>\n",
       "      <td>ram</td>\n",
       "      <td>-0.000653</td>\n",
       "      <td>0.026351</td>\n",
       "      <td>0.003443</td>\n",
       "      <td>0.041072</td>\n",
       "      <td>0.015099</td>\n",
       "      <td>0.007313</td>\n",
       "      <td>0.032813</td>\n",
       "      <td>-0.009434</td>\n",
       "      <td>-0.002581</td>\n",
       "      <td>0.004868</td>\n",
       "      <td>...</td>\n",
       "      <td>-0.017722</td>\n",
       "      <td>0.004105</td>\n",
       "      <td>1.000000</td>\n",
       "      <td>0.015996</td>\n",
       "      <td>0.035576</td>\n",
       "      <td>0.010820</td>\n",
       "      <td>0.015795</td>\n",
       "      <td>-0.030455</td>\n",
       "      <td>0.022669</td>\n",
       "      <td>0.917046</td>\n",
       "    </tr>\n",
       "    <tr>\n",
       "      <td>sc_h</td>\n",
       "      <td>-0.029959</td>\n",
       "      <td>-0.002952</td>\n",
       "      <td>-0.029078</td>\n",
       "      <td>-0.011949</td>\n",
       "      <td>-0.011014</td>\n",
       "      <td>0.027166</td>\n",
       "      <td>0.037771</td>\n",
       "      <td>-0.025348</td>\n",
       "      <td>-0.033855</td>\n",
       "      <td>-0.000315</td>\n",
       "      <td>...</td>\n",
       "      <td>0.061015</td>\n",
       "      <td>0.021599</td>\n",
       "      <td>0.015996</td>\n",
       "      <td>1.000000</td>\n",
       "      <td>0.506144</td>\n",
       "      <td>-0.017335</td>\n",
       "      <td>0.012033</td>\n",
       "      <td>-0.020023</td>\n",
       "      <td>0.025929</td>\n",
       "      <td>0.022986</td>\n",
       "    </tr>\n",
       "    <tr>\n",
       "      <td>sc_w</td>\n",
       "      <td>-0.021421</td>\n",
       "      <td>0.000613</td>\n",
       "      <td>-0.007378</td>\n",
       "      <td>-0.016666</td>\n",
       "      <td>-0.012373</td>\n",
       "      <td>0.037005</td>\n",
       "      <td>0.011731</td>\n",
       "      <td>-0.018388</td>\n",
       "      <td>-0.020761</td>\n",
       "      <td>0.025826</td>\n",
       "      <td>...</td>\n",
       "      <td>0.041000</td>\n",
       "      <td>0.034699</td>\n",
       "      <td>0.035576</td>\n",
       "      <td>0.506144</td>\n",
       "      <td>1.000000</td>\n",
       "      <td>-0.022821</td>\n",
       "      <td>0.030941</td>\n",
       "      <td>0.012720</td>\n",
       "      <td>0.035423</td>\n",
       "      <td>0.038711</td>\n",
       "    </tr>\n",
       "    <tr>\n",
       "      <td>talk_time</td>\n",
       "      <td>0.052510</td>\n",
       "      <td>0.013934</td>\n",
       "      <td>-0.011432</td>\n",
       "      <td>-0.039404</td>\n",
       "      <td>-0.006829</td>\n",
       "      <td>-0.046628</td>\n",
       "      <td>-0.002790</td>\n",
       "      <td>0.017003</td>\n",
       "      <td>0.006209</td>\n",
       "      <td>0.013148</td>\n",
       "      <td>...</td>\n",
       "      <td>-0.007820</td>\n",
       "      <td>0.006720</td>\n",
       "      <td>0.010820</td>\n",
       "      <td>-0.017335</td>\n",
       "      <td>-0.022821</td>\n",
       "      <td>1.000000</td>\n",
       "      <td>-0.042688</td>\n",
       "      <td>0.017196</td>\n",
       "      <td>-0.029504</td>\n",
       "      <td>0.021859</td>\n",
       "    </tr>\n",
       "    <tr>\n",
       "      <td>three_g</td>\n",
       "      <td>0.011522</td>\n",
       "      <td>-0.030236</td>\n",
       "      <td>-0.046433</td>\n",
       "      <td>-0.014008</td>\n",
       "      <td>0.001793</td>\n",
       "      <td>0.584246</td>\n",
       "      <td>-0.009366</td>\n",
       "      <td>-0.012065</td>\n",
       "      <td>0.001551</td>\n",
       "      <td>-0.014733</td>\n",
       "      <td>...</td>\n",
       "      <td>-0.032708</td>\n",
       "      <td>0.000350</td>\n",
       "      <td>0.015795</td>\n",
       "      <td>0.012033</td>\n",
       "      <td>0.030941</td>\n",
       "      <td>-0.042688</td>\n",
       "      <td>1.000000</td>\n",
       "      <td>0.013917</td>\n",
       "      <td>0.004316</td>\n",
       "      <td>0.023611</td>\n",
       "    </tr>\n",
       "    <tr>\n",
       "      <td>touch_screen</td>\n",
       "      <td>-0.010516</td>\n",
       "      <td>0.010061</td>\n",
       "      <td>0.019756</td>\n",
       "      <td>-0.017117</td>\n",
       "      <td>-0.014828</td>\n",
       "      <td>0.016758</td>\n",
       "      <td>-0.026999</td>\n",
       "      <td>-0.002638</td>\n",
       "      <td>-0.014368</td>\n",
       "      <td>0.023774</td>\n",
       "      <td>...</td>\n",
       "      <td>0.020196</td>\n",
       "      <td>-0.001628</td>\n",
       "      <td>-0.030455</td>\n",
       "      <td>-0.020023</td>\n",
       "      <td>0.012720</td>\n",
       "      <td>0.017196</td>\n",
       "      <td>0.013917</td>\n",
       "      <td>1.000000</td>\n",
       "      <td>0.011917</td>\n",
       "      <td>-0.030411</td>\n",
       "    </tr>\n",
       "    <tr>\n",
       "      <td>wifi</td>\n",
       "      <td>-0.008343</td>\n",
       "      <td>-0.021863</td>\n",
       "      <td>-0.024471</td>\n",
       "      <td>0.022740</td>\n",
       "      <td>0.020085</td>\n",
       "      <td>-0.017620</td>\n",
       "      <td>0.006993</td>\n",
       "      <td>-0.028353</td>\n",
       "      <td>-0.000409</td>\n",
       "      <td>-0.009964</td>\n",
       "      <td>...</td>\n",
       "      <td>0.051695</td>\n",
       "      <td>0.030319</td>\n",
       "      <td>0.022669</td>\n",
       "      <td>0.025929</td>\n",
       "      <td>0.035423</td>\n",
       "      <td>-0.029504</td>\n",
       "      <td>0.004316</td>\n",
       "      <td>0.011917</td>\n",
       "      <td>1.000000</td>\n",
       "      <td>0.018785</td>\n",
       "    </tr>\n",
       "    <tr>\n",
       "      <td>price_range</td>\n",
       "      <td>0.200723</td>\n",
       "      <td>0.020573</td>\n",
       "      <td>-0.006606</td>\n",
       "      <td>0.017444</td>\n",
       "      <td>0.021998</td>\n",
       "      <td>0.014772</td>\n",
       "      <td>0.044435</td>\n",
       "      <td>0.000853</td>\n",
       "      <td>-0.030302</td>\n",
       "      <td>0.004399</td>\n",
       "      <td>...</td>\n",
       "      <td>0.152206</td>\n",
       "      <td>0.165818</td>\n",
       "      <td>0.917046</td>\n",
       "      <td>0.022986</td>\n",
       "      <td>0.038711</td>\n",
       "      <td>0.021859</td>\n",
       "      <td>0.023611</td>\n",
       "      <td>-0.030411</td>\n",
       "      <td>0.018785</td>\n",
       "      <td>1.000000</td>\n",
       "    </tr>\n",
       "  </tbody>\n",
       "</table>\n",
       "<p>21 rows × 21 columns</p>\n",
       "</div>"
      ],
      "text/plain": [
       "               battery_power      blue  clock_speed  dual_sim        fc  \\\n",
       "battery_power       1.000000  0.011252     0.011482 -0.041847  0.033334   \n",
       "blue                0.011252  1.000000     0.021419  0.035198  0.003593   \n",
       "clock_speed         0.011482  0.021419     1.000000 -0.001315 -0.000434   \n",
       "dual_sim           -0.041847  0.035198    -0.001315  1.000000 -0.029123   \n",
       "fc                  0.033334  0.003593    -0.000434 -0.029123  1.000000   \n",
       "four_g              0.015665  0.013443    -0.043073  0.003187 -0.016560   \n",
       "int_memory         -0.004004  0.041177     0.006545 -0.015679 -0.029133   \n",
       "m_dep               0.034085  0.004049    -0.014364 -0.022142 -0.001791   \n",
       "mobile_wt           0.001844 -0.008605     0.012350 -0.008979  0.023618   \n",
       "n_cores            -0.029727  0.036161    -0.005724 -0.024658 -0.013356   \n",
       "pc                  0.029165 -0.023896    -0.001192 -0.020339  0.637348   \n",
       "px_height           0.017185 -0.005568    -0.017244 -0.018372 -0.006322   \n",
       "px_width           -0.008402 -0.041533    -0.009476  0.014291 -0.005176   \n",
       "ram                -0.000653  0.026351     0.003443  0.041072  0.015099   \n",
       "sc_h               -0.029959 -0.002952    -0.029078 -0.011949 -0.011014   \n",
       "sc_w               -0.021421  0.000613    -0.007378 -0.016666 -0.012373   \n",
       "talk_time           0.052510  0.013934    -0.011432 -0.039404 -0.006829   \n",
       "three_g             0.011522 -0.030236    -0.046433 -0.014008  0.001793   \n",
       "touch_screen       -0.010516  0.010061     0.019756 -0.017117 -0.014828   \n",
       "wifi               -0.008343 -0.021863    -0.024471  0.022740  0.020085   \n",
       "price_range         0.200723  0.020573    -0.006606  0.017444  0.021998   \n",
       "\n",
       "                 four_g  int_memory     m_dep  mobile_wt   n_cores  ...  \\\n",
       "battery_power  0.015665   -0.004004  0.034085   0.001844 -0.029727  ...   \n",
       "blue           0.013443    0.041177  0.004049  -0.008605  0.036161  ...   \n",
       "clock_speed   -0.043073    0.006545 -0.014364   0.012350 -0.005724  ...   \n",
       "dual_sim       0.003187   -0.015679 -0.022142  -0.008979 -0.024658  ...   \n",
       "fc            -0.016560   -0.029133 -0.001791   0.023618 -0.013356  ...   \n",
       "four_g         1.000000    0.008690 -0.001823  -0.016537 -0.029706  ...   \n",
       "int_memory     0.008690    1.000000  0.006886  -0.034214 -0.028310  ...   \n",
       "m_dep         -0.001823    0.006886  1.000000   0.021756 -0.003504  ...   \n",
       "mobile_wt     -0.016537   -0.034214  0.021756   1.000000 -0.018989  ...   \n",
       "n_cores       -0.029706   -0.028310 -0.003504  -0.018989  1.000000  ...   \n",
       "pc            -0.000226   -0.035234  0.033499   0.012597  0.004369  ...   \n",
       "px_height     -0.015827    0.009138  0.024794   0.000876 -0.005603  ...   \n",
       "px_width       0.007448   -0.008335  0.023566   0.000090  0.024480  ...   \n",
       "ram            0.007313    0.032813 -0.009434  -0.002581  0.004868  ...   \n",
       "sc_h           0.027166    0.037771 -0.025348  -0.033855 -0.000315  ...   \n",
       "sc_w           0.037005    0.011731 -0.018388  -0.020761  0.025826  ...   \n",
       "talk_time     -0.046628   -0.002790  0.017003   0.006209  0.013148  ...   \n",
       "three_g        0.584246   -0.009366 -0.012065   0.001551 -0.014733  ...   \n",
       "touch_screen   0.016758   -0.026999 -0.002638  -0.014368  0.023774  ...   \n",
       "wifi          -0.017620    0.006993 -0.028353  -0.000409 -0.009964  ...   \n",
       "price_range    0.014772    0.044435  0.000853  -0.030302  0.004399  ...   \n",
       "\n",
       "               px_height  px_width       ram      sc_h      sc_w  talk_time  \\\n",
       "battery_power   0.017185 -0.008402 -0.000653 -0.029959 -0.021421   0.052510   \n",
       "blue           -0.005568 -0.041533  0.026351 -0.002952  0.000613   0.013934   \n",
       "clock_speed    -0.017244 -0.009476  0.003443 -0.029078 -0.007378  -0.011432   \n",
       "dual_sim       -0.018372  0.014291  0.041072 -0.011949 -0.016666  -0.039404   \n",
       "fc             -0.006322 -0.005176  0.015099 -0.011014 -0.012373  -0.006829   \n",
       "four_g         -0.015827  0.007448  0.007313  0.027166  0.037005  -0.046628   \n",
       "int_memory      0.009138 -0.008335  0.032813  0.037771  0.011731  -0.002790   \n",
       "m_dep           0.024794  0.023566 -0.009434 -0.025348 -0.018388   0.017003   \n",
       "mobile_wt       0.000876  0.000090 -0.002581 -0.033855 -0.020761   0.006209   \n",
       "n_cores        -0.005603  0.024480  0.004868 -0.000315  0.025826   0.013148   \n",
       "pc             -0.021903  0.009914  0.031632 -0.000751 -0.024371   0.011695   \n",
       "px_height       1.000000  0.510447 -0.017722  0.061015  0.041000  -0.007820   \n",
       "px_width        0.510447  1.000000  0.004105  0.021599  0.034699   0.006720   \n",
       "ram            -0.017722  0.004105  1.000000  0.015996  0.035576   0.010820   \n",
       "sc_h            0.061015  0.021599  0.015996  1.000000  0.506144  -0.017335   \n",
       "sc_w            0.041000  0.034699  0.035576  0.506144  1.000000  -0.022821   \n",
       "talk_time      -0.007820  0.006720  0.010820 -0.017335 -0.022821   1.000000   \n",
       "three_g        -0.032708  0.000350  0.015795  0.012033  0.030941  -0.042688   \n",
       "touch_screen    0.020196 -0.001628 -0.030455 -0.020023  0.012720   0.017196   \n",
       "wifi            0.051695  0.030319  0.022669  0.025929  0.035423  -0.029504   \n",
       "price_range     0.152206  0.165818  0.917046  0.022986  0.038711   0.021859   \n",
       "\n",
       "                three_g  touch_screen      wifi  price_range  \n",
       "battery_power  0.011522     -0.010516 -0.008343     0.200723  \n",
       "blue          -0.030236      0.010061 -0.021863     0.020573  \n",
       "clock_speed   -0.046433      0.019756 -0.024471    -0.006606  \n",
       "dual_sim      -0.014008     -0.017117  0.022740     0.017444  \n",
       "fc             0.001793     -0.014828  0.020085     0.021998  \n",
       "four_g         0.584246      0.016758 -0.017620     0.014772  \n",
       "int_memory    -0.009366     -0.026999  0.006993     0.044435  \n",
       "m_dep         -0.012065     -0.002638 -0.028353     0.000853  \n",
       "mobile_wt      0.001551     -0.014368 -0.000409    -0.030302  \n",
       "n_cores       -0.014733      0.023774 -0.009964     0.004399  \n",
       "pc             0.002423      0.002502  0.003230     0.034910  \n",
       "px_height     -0.032708      0.020196  0.051695     0.152206  \n",
       "px_width       0.000350     -0.001628  0.030319     0.165818  \n",
       "ram            0.015795     -0.030455  0.022669     0.917046  \n",
       "sc_h           0.012033     -0.020023  0.025929     0.022986  \n",
       "sc_w           0.030941      0.012720  0.035423     0.038711  \n",
       "talk_time     -0.042688      0.017196 -0.029504     0.021859  \n",
       "three_g        1.000000      0.013917  0.004316     0.023611  \n",
       "touch_screen   0.013917      1.000000  0.011917    -0.030411  \n",
       "wifi           0.004316      0.011917  1.000000     0.018785  \n",
       "price_range    0.023611     -0.030411  0.018785     1.000000  \n",
       "\n",
       "[21 rows x 21 columns]"
      ]
     },
     "execution_count": 6,
     "metadata": {},
     "output_type": "execute_result"
    }
   ],
   "source": [
    "a"
   ]
  },
  {
   "cell_type": "markdown",
   "metadata": {},
   "source": [
    "#### Imputing the null values with the median of the column"
   ]
  },
  {
   "cell_type": "code",
   "execution_count": 7,
   "metadata": {
    "scrolled": true
   },
   "outputs": [
    {
     "data": {
      "text/plain": [
       "battery_power      0\n",
       "blue               0\n",
       "clock_speed        0\n",
       "dual_sim           0\n",
       "fc                 0\n",
       "four_g             0\n",
       "int_memory         0\n",
       "m_dep              0\n",
       "mobile_wt          0\n",
       "n_cores            0\n",
       "pc               102\n",
       "px_height         20\n",
       "px_width           0\n",
       "ram                0\n",
       "sc_h               0\n",
       "sc_w               0\n",
       "talk_time          0\n",
       "three_g            0\n",
       "touch_screen       0\n",
       "wifi               0\n",
       "price_range        0\n",
       "dtype: int64"
      ]
     },
     "execution_count": 7,
     "metadata": {},
     "output_type": "execute_result"
    }
   ],
   "source": [
    "mb.isna().sum()"
   ]
  },
  {
   "cell_type": "code",
   "execution_count": 8,
   "metadata": {},
   "outputs": [],
   "source": [
    "mb['pc'].fillna(mb['pc'].median(), inplace = True) "
   ]
  },
  {
   "cell_type": "code",
   "execution_count": 9,
   "metadata": {},
   "outputs": [],
   "source": [
    "mb['px_height'].fillna(mb['px_height'].median(), inplace = True) "
   ]
  },
  {
   "cell_type": "code",
   "execution_count": 10,
   "metadata": {},
   "outputs": [
    {
     "name": "stdout",
     "output_type": "stream",
     "text": [
      "<class 'pandas.core.frame.DataFrame'>\n",
      "RangeIndex: 2000 entries, 0 to 1999\n",
      "Data columns (total 21 columns):\n",
      "battery_power    2000 non-null int64\n",
      "blue             2000 non-null int64\n",
      "clock_speed      2000 non-null float64\n",
      "dual_sim         2000 non-null int64\n",
      "fc               2000 non-null int64\n",
      "four_g           2000 non-null int64\n",
      "int_memory       2000 non-null int64\n",
      "m_dep            2000 non-null float64\n",
      "mobile_wt        2000 non-null int64\n",
      "n_cores          2000 non-null int64\n",
      "pc               2000 non-null float64\n",
      "px_height        2000 non-null float64\n",
      "px_width         2000 non-null int64\n",
      "ram              2000 non-null int64\n",
      "sc_h             2000 non-null int64\n",
      "sc_w             2000 non-null int64\n",
      "talk_time        2000 non-null int64\n",
      "three_g          2000 non-null int64\n",
      "touch_screen     2000 non-null int64\n",
      "wifi             2000 non-null int64\n",
      "price_range      2000 non-null int64\n",
      "dtypes: float64(4), int64(17)\n",
      "memory usage: 328.2 KB\n"
     ]
    }
   ],
   "source": [
    "mb.info()"
   ]
  },
  {
   "cell_type": "markdown",
   "metadata": {},
   "source": [
    "#### Splitting the datset into train and test"
   ]
  },
  {
   "cell_type": "code",
   "execution_count": 11,
   "metadata": {},
   "outputs": [],
   "source": [
    "from sklearn.model_selection import train_test_split\n",
    "X = mb.drop('price_range',axis=1)\n",
    "y = mb['price_range']\n",
    "X_train, X_test, y_train, y_test = train_test_split(X, y, test_size = 0.20, random_state = 5)"
   ]
  },
  {
   "cell_type": "markdown",
   "metadata": {},
   "source": [
    "##### Using Scaled data, the algorithm gave us the perfect model(Train Score:1.00, Test Score:1.00). \n",
    "It was difficult for us to study the model and do some analyze. So we used the unscaled data. "
   ]
  },
  {
   "cell_type": "markdown",
   "metadata": {},
   "source": [
    "### 1) KNN Classifier"
   ]
  },
  {
   "cell_type": "code",
   "execution_count": 12,
   "metadata": {},
   "outputs": [
    {
     "name": "stdout",
     "output_type": "stream",
     "text": [
      "Train score: 0.9550\n",
      "Test score: 0.9225\n",
      "r_square: 0.9385 \n"
     ]
    }
   ],
   "source": [
    "from sklearn.neighbors import KNeighborsClassifier\n",
    "from sklearn import metrics\n",
    "knn = KNeighborsClassifier()\n",
    "knn.fit(X_train, y_train)\n",
    "prediction = knn.predict(X_test)\n",
    "print('Train score: {:.4f}'.format(knn.score(X_train, y_train)))\n",
    "print('Test score: {:.4f}'.format(knn.score(X_test, y_test)))\n",
    "print(\"r_square: {:.4f} \".format(metrics.r2_score(prediction,y_test)))"
   ]
  },
  {
   "cell_type": "markdown",
   "metadata": {},
   "source": [
    "#### Grid Search for KNN"
   ]
  },
  {
   "cell_type": "code",
   "execution_count": 13,
   "metadata": {},
   "outputs": [
    {
     "data": {
      "text/plain": [
       "{'algorithm': 'auto', 'leaf_size': 1, 'n_jobs': -1, 'n_neighbors': 11}"
      ]
     },
     "execution_count": 13,
     "metadata": {},
     "output_type": "execute_result"
    }
   ],
   "source": [
    "from sklearn.model_selection import GridSearchCV\n",
    "knn = KNeighborsClassifier()\n",
    "\n",
    "parameters = {'n_neighbors':[2,3,4,5,6,7,8,9,10,11,12,13,14,15,16,17,18,19,20],\n",
    "              'leaf_size':[1,3,5],\n",
    "              'algorithm':['auto', 'kd_tree'],\n",
    "              'n_jobs':[-1]}\n",
    "\n",
    "knn = GridSearchCV(knn, param_grid=parameters)\n",
    "knn = knn.fit(X_train, y_train)\n",
    "knn.best_params_"
   ]
  },
  {
   "cell_type": "code",
   "execution_count": 36,
   "metadata": {},
   "outputs": [
    {
     "name": "stdout",
     "output_type": "stream",
     "text": [
      "Train score: 0.9469\n",
      "Test score: 0.9400\n",
      "r_square: 0.9527 \n"
     ]
    }
   ],
   "source": [
    "prediction = knn.predict(X_test)\n",
    "print('Train score: {:.4f}'.format(knn.score(X_train, y_train)))\n",
    "print('Test score: {:.4f}'.format(knn.score(X_test, y_test)))\n",
    "print(\"r_square: {:.4f} \".format(metrics.r2_score(prediction,y_test)))"
   ]
  },
  {
   "cell_type": "markdown",
   "metadata": {},
   "source": [
    "#### Fitting the model with best parameters"
   ]
  },
  {
   "cell_type": "code",
   "execution_count": 14,
   "metadata": {},
   "outputs": [
    {
     "name": "stdout",
     "output_type": "stream",
     "text": [
      "Train score: 0.9513\n",
      "Test score: 0.9450\n",
      "r_square: 0.9563 \n"
     ]
    }
   ],
   "source": [
    "from sklearn.neighbors import KNeighborsClassifier\n",
    "\n",
    "knn = KNeighborsClassifier(algorithm= 'auto', leaf_size = 1, n_jobs = -1, n_neighbors = 11)\n",
    "knn.fit(X_train, y_train)\n",
    "prediction = knn.predict(X_test)\n",
    "print('Train score: {:.4f}'.format(knn.score(X_train, y_train)))\n",
    "print('Test score: {:.4f}'.format(knn.score(X_test, y_test)))\n",
    "print(\"r_square: {:.4f} \".format(metrics.r2_score(prediction,y_test)))"
   ]
  },
  {
   "cell_type": "markdown",
   "metadata": {},
   "source": [
    "#### Cross validation of KNN Model"
   ]
  },
  {
   "cell_type": "code",
   "execution_count": 15,
   "metadata": {},
   "outputs": [
    {
     "name": "stdout",
     "output_type": "stream",
     "text": [
      "Avg Train Score:0.9319\n",
      "Avg Test Score:0.9150\n"
     ]
    }
   ],
   "source": [
    "from sklearn.model_selection import cross_val_score\n",
    "train_score_list = cross_val_score(knn,X_train,y_train,cv=5)\n",
    "test_score_list = cross_val_score(knn,X_test,y_test,cv=5)\n",
    "print(\"Avg Train Score:%.4f\"%train_score_list.mean())\n",
    "print(\"Avg Test Score:%.4f\"%test_score_list.mean())"
   ]
  },
  {
   "cell_type": "markdown",
   "metadata": {},
   "source": [
    "#### KNN Visualization"
   ]
  },
  {
   "cell_type": "code",
   "execution_count": 16,
   "metadata": {},
   "outputs": [],
   "source": [
    "from sklearn.neighbors import KNeighborsClassifier\n",
    "\n",
    "train_score_array = []\n",
    "test_score_array = []\n",
    "\n",
    "for k in range(1,20):\n",
    "    knn = KNeighborsClassifier(k)\n",
    "    knn.fit(X_train, y_train)\n",
    "    train_score_array.append(knn.score(X_train, y_train))\n",
    "    test_score_array.append(knn.score(X_test, y_test))"
   ]
  },
  {
   "cell_type": "code",
   "execution_count": 17,
   "metadata": {},
   "outputs": [
    {
     "data": {
      "text/plain": [
       "<matplotlib.legend.Legend at 0x24ca93ff708>"
      ]
     },
     "execution_count": 17,
     "metadata": {},
     "output_type": "execute_result"
    },
    {
     "data": {
      "image/png": "[encoded data removed]",
      "text/plain": [
       "<Figure size 432x288 with 1 Axes>"
      ]
     },
     "metadata": {
      "needs_background": "light"
     },
     "output_type": "display_data"
    }
   ],
   "source": [
    "x_axis = range(1,20)\n",
    "%matplotlib inline\n",
    "plt.plot(x_axis, train_score_array, label = 'Train Score', c = 'g')\n",
    "plt.plot(x_axis, test_score_array, label = 'Test Score', c='b')\n",
    "plt.xlabel('k')\n",
    "plt.ylabel('Accuracy')\n",
    "plt.legend()"
   ]
  },
  {
   "cell_type": "markdown",
   "metadata": {},
   "source": [
    "### 2) Linear SVC"
   ]
  },
  {
   "cell_type": "code",
   "execution_count": 18,
   "metadata": {},
   "outputs": [
    {
     "name": "stdout",
     "output_type": "stream",
     "text": [
      "Train score: 0.8075\n",
      "Test score: 0.7900\n",
      "r_square: 0.8484 \n"
     ]
    }
   ],
   "source": [
    "from sklearn.svm import LinearSVC\n",
    "\n",
    "linearsvc = LinearSVC(dual = False)\n",
    "linearsvc.fit(X_train,y_train)\n",
    "print('Train score: {:.4f}'.format(linearsvc.score(X_train, y_train)))\n",
    "print('Test score: {:.4f}'.format(linearsvc.score(X_test, y_test)))\n",
    "prediction = linearsvc.predict(X_test)\n",
    "print(\"r_square: {:.4f} \".format(metrics.r2_score(prediction,y_test)))"
   ]
  },
  {
   "cell_type": "markdown",
   "metadata": {},
   "source": [
    "#### Grid Search for LinearSVC"
   ]
  },
  {
   "cell_type": "code",
   "execution_count": 19,
   "metadata": {},
   "outputs": [
    {
     "data": {
      "text/plain": [
       "{'C': 10, 'penalty': 'l1'}"
      ]
     },
     "execution_count": 19,
     "metadata": {},
     "output_type": "execute_result"
    }
   ],
   "source": [
    "from sklearn.model_selection import GridSearchCV\n",
    "parameters = [{'C': [0.001, 0.01, 0.1, 1, 10, 100], 'penalty': ['l1','l2']}]\n",
    "grid_search = GridSearchCV(estimator = linearsvc,\n",
    "                           param_grid = parameters,\n",
    "                           scoring = 'accuracy')\n",
    "grid_search = grid_search.fit(X_train, y_train)\n",
    "grid_search.best_params_"
   ]
  },
  {
   "cell_type": "markdown",
   "metadata": {},
   "source": [
    "#### Fitting the model with best parameters"
   ]
  },
  {
   "cell_type": "code",
   "execution_count": 20,
   "metadata": {},
   "outputs": [
    {
     "name": "stdout",
     "output_type": "stream",
     "text": [
      "Train score: 0.8731\n",
      "Test score: 0.8275\n",
      "r_square: 0.8722 \n"
     ]
    }
   ],
   "source": [
    "from sklearn.svm import LinearSVC\n",
    "\n",
    "linearsvc = LinearSVC(penalty = 'l1', C= 10, dual=False)\n",
    "linearsvc.fit(X_train,y_train)\n",
    "print('Train score: {:.4f}'.format(linearsvc.score(X_train, y_train)))\n",
    "print('Test score: {:.4f}'.format(linearsvc.score(X_test, y_test)))\n",
    "prediction = linearsvc.predict(X_test)\n",
    "print(\"r_square: {:.4f} \".format(metrics.r2_score(prediction,y_test)))"
   ]
  },
  {
   "cell_type": "markdown",
   "metadata": {},
   "source": [
    "#### Cross Validation for linearSVC"
   ]
  },
  {
   "cell_type": "code",
   "execution_count": 21,
   "metadata": {},
   "outputs": [
    {
     "name": "stdout",
     "output_type": "stream",
     "text": [
      "Avg Train Score:0.8400\n",
      "Avg Test Score:0.7571\n"
     ]
    }
   ],
   "source": [
    "from sklearn.model_selection import cross_val_score\n",
    "train_score_list = cross_val_score(linearsvc,X_train,y_train,cv=5)\n",
    "test_score_list = cross_val_score(linearsvc,X_test,y_test,cv=5)\n",
    "print(\"Avg Train Score:%.4f\"%train_score_list.mean())\n",
    "print(\"Avg Test Score:%.4f\"%test_score_list.mean())"
   ]
  },
  {
   "cell_type": "markdown",
   "metadata": {},
   "source": [
    "### 3) Logistic Regression"
   ]
  },
  {
   "cell_type": "code",
   "execution_count": 22,
   "metadata": {},
   "outputs": [
    {
     "name": "stdout",
     "output_type": "stream",
     "text": [
      "Train score: 0.7994\n",
      "Test score: 0.7750\n",
      "r_square: 0.8345 \n"
     ]
    }
   ],
   "source": [
    "# Fitting logistic regression to the Training set\n",
    "from sklearn.linear_model import LogisticRegression\n",
    "Log = LogisticRegression()\n",
    "Log.fit(X_train, y_train)\n",
    "print('Train score: {:.4f}'.format(Log.score(X_train, y_train)))\n",
    "print('Test score: {:.4f}'.format(Log.score(X_test, y_test)))\n",
    "prediction = Log.predict(X_test)\n",
    "print(\"r_square: {:.4f} \".format(metrics.r2_score(prediction,y_test)))"
   ]
  },
  {
   "cell_type": "markdown",
   "metadata": {},
   "source": [
    "#### Grid Search for logistic Regression"
   ]
  },
  {
   "cell_type": "code",
   "execution_count": 23,
   "metadata": {},
   "outputs": [
    {
     "data": {
      "text/plain": [
       "{'C': 100, 'penalty': 'l1'}"
      ]
     },
     "execution_count": 23,
     "metadata": {},
     "output_type": "execute_result"
    }
   ],
   "source": [
    "from sklearn.model_selection import GridSearchCV\n",
    "parameters = [{'C': [0.001, 0.01, 0.1, 1, 10, 100,1000], 'penalty': ['l2','l1']}]\n",
    "grid_search = GridSearchCV(estimator = Log,\n",
    "                           param_grid = parameters,\n",
    "                           scoring = 'accuracy', cv=5, n_jobs = -1)\n",
    "grid_search = grid_search.fit(X_train, y_train)\n",
    "grid_search.best_params_"
   ]
  },
  {
   "cell_type": "markdown",
   "metadata": {},
   "source": [
    "#### Fitting model with best parameters"
   ]
  },
  {
   "cell_type": "code",
   "execution_count": 24,
   "metadata": {},
   "outputs": [
    {
     "name": "stdout",
     "output_type": "stream",
     "text": [
      "Train score: 0.8900\n",
      "Test score: 0.8400\n",
      "r_square: 0.8769 \n"
     ]
    }
   ],
   "source": [
    "from sklearn.linear_model import LogisticRegression\n",
    "Log = LogisticRegression(penalty = 'l1', C = 100)\n",
    "Log.fit(X_train, y_train)\n",
    "print('Train score: {:.4f}'.format(Log.score(X_train, y_train)))\n",
    "print('Test score: {:.4f}'.format(Log.score(X_test, y_test)))\n",
    "prediction = Log.predict(X_test)\n",
    "print(\"r_square: {:.4f} \".format(metrics.r2_score(prediction,y_test)))"
   ]
  },
  {
   "cell_type": "markdown",
   "metadata": {},
   "source": [
    "#### Cross Validation for logistic Regression"
   ]
  },
  {
   "cell_type": "code",
   "execution_count": 25,
   "metadata": {},
   "outputs": [
    {
     "name": "stdout",
     "output_type": "stream",
     "text": [
      "Avg Train Score:0.8587\n",
      "Avg Test Score:0.7973\n"
     ]
    }
   ],
   "source": [
    "from sklearn.model_selection import cross_val_score\n",
    "train_score_list = cross_val_score(Log,X_train,y_train,cv=5)\n",
    "test_score_list = cross_val_score(Log,X_test,y_test,cv=5)\n",
    "print(\"Avg Train Score:%.4f\"%train_score_list.mean())\n",
    "print(\"Avg Test Score:%.4f\"%test_score_list.mean())"
   ]
  },
  {
   "cell_type": "markdown",
   "metadata": {},
   "source": [
    "#### Logistic Visualization"
   ]
  },
  {
   "cell_type": "code",
   "execution_count": 26,
   "metadata": {},
   "outputs": [],
   "source": [
    "from sklearn.linear_model import LogisticRegression\n",
    "\n",
    "c_range = [0.001, 0.01, 0.1, 1, 10, 100, 1000]\n",
    "train_score_l1 = []\n",
    "train_score_l2 = []\n",
    "test_score_l1 = []\n",
    "test_score_l2 = []\n",
    "\n",
    "for c in c_range:\n",
    "    log_l1 = LogisticRegression(penalty = 'l1', C = c)\n",
    "    log_l2 = LogisticRegression(penalty = 'l2', C = c)\n",
    "    log_l1.fit(X_train, y_train)\n",
    "    log_l2.fit(X_train, y_train)\n",
    "    train_score_l1.append(log_l1.score(X_train, y_train))\n",
    "    train_score_l2.append(log_l2.score(X_train, y_train))\n",
    "    test_score_l1.append(log_l1.score(X_test, y_test))\n",
    "    test_score_l2.append(log_l2.score(X_test, y_test))"
   ]
  },
  {
   "cell_type": "code",
   "execution_count": 27,
   "metadata": {},
   "outputs": [
    {
     "data": {
      "image/png": "[encoded data removed]",
      "text/plain": [
       "<Figure size 432x288 with 1 Axes>"
      ]
     },
     "metadata": {
      "needs_background": "light"
     },
     "output_type": "display_data"
    }
   ],
   "source": [
    "import matplotlib.pyplot as plt\n",
    "%matplotlib inline\n",
    "\n",
    "plt.plot(c_range, train_score_l1, label = 'Train score, penalty = l1')\n",
    "plt.plot(c_range, test_score_l1, label = 'Test score, penalty = l1')\n",
    "plt.plot(c_range, train_score_l2, label = 'Train score, penalty = l2')\n",
    "plt.plot(c_range, test_score_l2, label = 'Test score, penalty = l2')\n",
    "plt.legend()\n",
    "plt.xlabel('Regularization parameter: C')\n",
    "plt.ylabel('Accuracy')\n",
    "plt.xscale('log')"
   ]
  },
  {
   "cell_type": "markdown",
   "metadata": {},
   "source": [
    "### 4) SVC"
   ]
  },
  {
   "cell_type": "code",
   "execution_count": 28,
   "metadata": {},
   "outputs": [
    {
     "name": "stdout",
     "output_type": "stream",
     "text": [
      "Train score: 1.0000\n",
      "Test score: 0.2300\n",
      "r_square: 0.0000 \n"
     ]
    }
   ],
   "source": [
    "from sklearn.svm import SVC\n",
    "svc = SVC()\n",
    "svc.fit(X_train, y_train)\n",
    "print('Train score: {:.4f}'.format(svc.score(X_train, y_train)))\n",
    "print('Test score: {:.4f}'.format(svc.score(X_test, y_test)))\n",
    "prediction = svc.predict(X_test)\n",
    "print(\"r_square: {:.4f} \".format(metrics.r2_score(prediction,y_test)))"
   ]
  },
  {
   "cell_type": "markdown",
   "metadata": {},
   "source": [
    "Perfect train score with the lower test score shows that the model is highly overfitting and not suitable for this dataset"
   ]
  },
  {
   "cell_type": "markdown",
   "metadata": {},
   "source": [
    "#### GridSearch for SVC"
   ]
  },
  {
   "cell_type": "code",
   "execution_count": 29,
   "metadata": {},
   "outputs": [
    {
     "data": {
      "text/plain": [
       "{'C': 1, 'kernel': 'linear'}"
      ]
     },
     "execution_count": 29,
     "metadata": {},
     "output_type": "execute_result"
    }
   ],
   "source": [
    "from sklearn.model_selection import GridSearchCV\n",
    "parameters = [{'C': [1, 10, 100], 'kernel': ['linear']},\n",
    "              {'C': [1, 10, 100], 'kernel': ['rbf'], 'gamma': [0.1, 0.2, 0.3, 0.4, 0.5, 0.6, 0.7, 0.8, 0.9]},\n",
    "            {'C': [1, 10, 100], 'kernel': ['poly'], 'degree': [0, 1, 2, 3, 4, 5, 6]}]\n",
    "grid_search = GridSearchCV(estimator = svc,\n",
    "                           param_grid = parameters,\n",
    "                           scoring = 'accuracy')\n",
    "grid_search = grid_search.fit(X_train, y_train)\n",
    "grid_search.best_params_"
   ]
  },
  {
   "cell_type": "markdown",
   "metadata": {},
   "source": [
    "#### Fitting the model with best parameters"
   ]
  },
  {
   "cell_type": "code",
   "execution_count": 30,
   "metadata": {},
   "outputs": [
    {
     "name": "stdout",
     "output_type": "stream",
     "text": [
      "Train score: 0.9881\n",
      "Test score: 0.9850\n",
      "r_square: 0.9882 \n"
     ]
    }
   ],
   "source": [
    "from sklearn.svm import SVC\n",
    "svc = SVC(kernel = 'linear', C = 1)\n",
    "svc.fit(X_train, y_train)\n",
    "print('Train score: {:.4f}'.format(svc.score(X_train, y_train)))\n",
    "print('Test score: {:.4f}'.format(svc.score(X_test, y_test)))\n",
    "prediction = svc.predict(X_test)\n",
    "print(\"r_square: {:.4f} \".format(metrics.r2_score(prediction,y_test)))"
   ]
  },
  {
   "cell_type": "markdown",
   "metadata": {},
   "source": [
    "#### Cross Validation for SVC"
   ]
  },
  {
   "cell_type": "code",
   "execution_count": 31,
   "metadata": {},
   "outputs": [
    {
     "name": "stdout",
     "output_type": "stream",
     "text": [
      "Avg Train Score:0.9706\n",
      "Avg Test Score:0.9675\n"
     ]
    }
   ],
   "source": [
    "from sklearn.model_selection import cross_val_score\n",
    "train_score_list = cross_val_score(svc,X_train,y_train,cv=5)\n",
    "test_score_list = cross_val_score(svc,X_test,y_test,cv=5)\n",
    "print(\"Avg Train Score:%.4f\"%train_score_list.mean())\n",
    "print(\"Avg Test Score:%.4f\"%test_score_list.mean())\n"
   ]
  },
  {
   "cell_type": "markdown",
   "metadata": {},
   "source": [
    "### 5) Decision Tree"
   ]
  },
  {
   "cell_type": "code",
   "execution_count": 32,
   "metadata": {},
   "outputs": [
    {
     "name": "stdout",
     "output_type": "stream",
     "text": [
      "Train score: 1.0000\n",
      "Test score: 0.8550\n",
      "r_square: 0.8872 \n"
     ]
    }
   ],
   "source": [
    "from sklearn.tree import DecisionTreeClassifier\n",
    "decisiontree = DecisionTreeClassifier()\n",
    "decisiontree.fit(X_train, y_train)\n",
    "print('Train score: {:.4f}'.format(decisiontree.score(X_train, y_train)))\n",
    "print('Test score: {:.4f}'.format(decisiontree.score(X_test, y_test)))\n",
    "prediction = decisiontree.predict(X_test)\n",
    "print(\"r_square: {:.4f} \".format(metrics.r2_score(prediction,y_test)))"
   ]
  },
  {
   "cell_type": "markdown",
   "metadata": {},
   "source": [
    "This model seems overfitting"
   ]
  },
  {
   "cell_type": "markdown",
   "metadata": {},
   "source": [
    "#### Grid Search for Decision Tree"
   ]
  },
  {
   "cell_type": "code",
   "execution_count": 33,
   "metadata": {},
   "outputs": [
    {
     "data": {
      "text/plain": [
       "{'criterion': 'entropy', 'max_depth': 7}"
      ]
     },
     "execution_count": 33,
     "metadata": {},
     "output_type": "execute_result"
    }
   ],
   "source": [
    "from sklearn.model_selection import GridSearchCV\n",
    "parameters = [{\"max_depth\": [1,2,3,4,5,6,7], \"criterion\": [\"gini\", \"entropy\"]}]\n",
    "grid_search = GridSearchCV(estimator = decisiontree,\n",
    "                           param_grid = parameters,\n",
    "                           scoring = 'accuracy')\n",
    "grid_search = grid_search.fit(X_train, y_train)\n",
    "grid_search.best_params_"
   ]
  },
  {
   "cell_type": "markdown",
   "metadata": {},
   "source": [
    "#### Fitting the model with best parameters"
   ]
  },
  {
   "cell_type": "code",
   "execution_count": 34,
   "metadata": {},
   "outputs": [
    {
     "name": "stdout",
     "output_type": "stream",
     "text": [
      "Train score: 0.9563\n",
      "Test score: 0.8900\n",
      "r_square: 0.9163 \n"
     ]
    }
   ],
   "source": [
    "from sklearn.tree import DecisionTreeClassifier\n",
    "decisiontree = DecisionTreeClassifier(criterion = 'entropy', max_depth = 7)\n",
    "decisiontree.fit(X_train, y_train)\n",
    "print('Train score: {:.4f}'.format(decisiontree.score(X_train, y_train)))\n",
    "print('Test score: {:.4f}'.format(decisiontree.score(X_test, y_test)))\n",
    "prediction = decisiontree.predict(X_test)\n",
    "print(\"r_square: {:.4f} \".format(metrics.r2_score(prediction,y_test)))"
   ]
  },
  {
   "cell_type": "markdown",
   "metadata": {},
   "source": [
    "#### Cross Validation for Decision Tree"
   ]
  },
  {
   "cell_type": "code",
   "execution_count": 35,
   "metadata": {},
   "outputs": [
    {
     "name": "stdout",
     "output_type": "stream",
     "text": [
      "Avg Train Score:0.8313\n",
      "Avg Test Score:0.7904\n"
     ]
    }
   ],
   "source": [
    "from sklearn.model_selection import cross_val_score\n",
    "train_score_list = cross_val_score(decisiontree,X_train,y_train,cv=5)\n",
    "test_score_list = cross_val_score(decisiontree,X_test,y_test,cv=5)\n",
    "print(\"Avg Train Score:%.4f\"%train_score_list.mean())\n",
    "print(\"Avg Test Score:%.4f\"%test_score_list.mean())"
   ]
  },
  {
   "cell_type": "markdown",
   "metadata": {},
   "source": [
    "### Conclusion:\n",
    "The best model for classification dataset is the Support Vector Classifier with linear Kernel and C value as 1."
   ]
  },
  {
   "cell_type": "code",
   "execution_count": null,
   "metadata": {},
   "outputs": [],
   "source": []
  }
 ],
 "metadata": {
  "kernelspec": {
   "display_name": "Python 3",
   "language": "python",
   "name": "python3"
  },
  "language_info": {
   "codemirror_mode": {
    "name": "ipython",
    "version": 3
   },
   "file_extension": ".py",
   "mimetype": "text/x-python",
   "name": "python",
   "nbconvert_exporter": "python",
   "pygments_lexer": "ipython3",
   "version": "3.7.4"
  }
 },
 "nbformat": 4,
 "nbformat_minor": 2
}
